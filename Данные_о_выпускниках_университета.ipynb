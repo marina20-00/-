{
  "cells": [
    {
      "cell_type": "markdown",
      "metadata": {
        "id": "wiWSSkaFSbXy"
      },
      "source": [
        "# Анализ данных выпускников университета\n",
        "\n",
        "Цель работы: проанализировать данные о выпускниках университета, описать поведение выпускников на рынке труда и определить их особенности (в частности, для настройки таргета и для рекламы)"
      ]
    },
    {
      "cell_type": "markdown",
      "source": [
        "## План работы**:**\n",
        "- Открыть файл с данными, изучить общую информацию, описать полученный датасет\n",
        "- Провести предобработку данных (проверка на пропуски, дубли, типы данных в столбцах)\n",
        "- Провести исследовательский анализ данных, построить графики:\n",
        "\n",
        "  1) определить, после какого срока работы выпускники чаще меняют рабочее место (управленцам, которых тоже обучают в университете, нужно знать \"опасные\" периоды, когда вероятность потерять сотрудника выше);\n",
        "\n",
        "  2) выяснить, есть ли связь между полом выпускника и выбранной им ведущей дисциплиной (есть ли смысл рекламировать какое-то направление больше среди женщин или мужчин);\n",
        "\n",
        "  3) выявить, в каких городах находится больше выпускников (во-первых, найти конкретные города, на которые стоит настраивать таргет, во-вторых, на основе индекса развития города спрогнозировать, насколько его жители заинтересованы в высшем образовании);\n",
        "\n",
        "  4) получить информацию о профессиональном успехе учеников (если она положительная, её можно использовать в рекламе университета);\n",
        "\n",
        "  5) обучить модель для прогнозирования значения таргет.\n",
        "- Проанализировать датасет и описать выводы;"
      ],
      "metadata": {
        "id": "luLoDsX-J5jM"
      }
    },
    {
      "cell_type": "markdown",
      "metadata": {
        "id": "KF7_X4UwSbX0"
      },
      "source": [
        "### 1. Откройте файл с данными и изучите общую информацию. "
      ]
    },
    {
      "cell_type": "code",
      "source": [
        "import numpy as np #для анализа\n",
        "import pandas as pd\n",
        "import re\n",
        "import plotly.express as px #для визуализации\n",
        "import plotly.graph_objects as go\n",
        "from plotly.subplots import make_subplots\n",
        "import sklearn #для ml\n",
        "from sklearn import preprocessing\n",
        "from sklearn import model_selection\n",
        "from sklearn import neighbors"
      ],
      "metadata": {
        "id": "o6hPRDyaP8Qu"
      },
      "execution_count": null,
      "outputs": []
    },
    {
      "cell_type": "code",
      "source": [
        "%%bash\n",
        "git clone https://github.com/vlad-kalambet/dbi.git  # Клонирование репозитория\n",
        "mv ./dbi/* ./                                       # Перемещение всех файлов из папки dbi в рабочую директорию для удобного взаимодействия\n",
        "rm -rf ./dbi                                        # Удаление пустой папки "
      ],
      "metadata": {
        "colab": {
          "base_uri": "https://localhost:8080/"
        },
        "id": "BM0l0JhBTr9B",
        "outputId": "a499a1eb-2642-4124-ab47-966be53b7b62"
      },
      "execution_count": null,
      "outputs": [
        {
          "output_type": "stream",
          "name": "stderr",
          "text": [
            "Cloning into 'dbi'...\n"
          ]
        }
      ]
    },
    {
      "cell_type": "code",
      "source": [
        "data = pd.read_csv('Данные о выпускниках университета.csv')"
      ],
      "metadata": {
        "id": "O4pF9vwOLfsZ"
      },
      "execution_count": null,
      "outputs": []
    },
    {
      "cell_type": "code",
      "source": [
        "data #рассматриваем head и tail таблицы"
      ],
      "metadata": {
        "colab": {
          "base_uri": "https://localhost:8080/",
          "height": 574
        },
        "id": "NdiTfVu4SNkw",
        "outputId": "d65faa67-6096-43ca-9056-80c2a3b6e5e0"
      },
      "execution_count": null,
      "outputs": [
        {
          "output_type": "execute_result",
          "data": {
            "text/plain": [
              "       enrollee_id      city  city_development_index gender  \\\n",
              "0             8949  city_103                   0.920   Male   \n",
              "1            29725   city_40                   0.776   Male   \n",
              "2            11561   city_21                   0.624    NaN   \n",
              "3            33241  city_115                   0.789    NaN   \n",
              "4              666  city_162                   0.767   Male   \n",
              "...            ...       ...                     ...    ...   \n",
              "19153         7386  city_173                   0.878   Male   \n",
              "19154        31398  city_103                   0.920   Male   \n",
              "19155        24576  city_103                   0.920   Male   \n",
              "19156         5756   city_65                   0.802   Male   \n",
              "19157        23834   city_67                   0.855    NaN   \n",
              "\n",
              "           relevent_experience enrolled_university education_level  \\\n",
              "0      Has relevent experience       no_enrollment        Graduate   \n",
              "1       No relevent experience       no_enrollment        Graduate   \n",
              "2       No relevent experience    Full time course        Graduate   \n",
              "3       No relevent experience                 NaN        Graduate   \n",
              "4      Has relevent experience       no_enrollment         Masters   \n",
              "...                        ...                 ...             ...   \n",
              "19153   No relevent experience       no_enrollment        Graduate   \n",
              "19154  Has relevent experience       no_enrollment        Graduate   \n",
              "19155  Has relevent experience       no_enrollment        Graduate   \n",
              "19156  Has relevent experience       no_enrollment     High School   \n",
              "19157   No relevent experience       no_enrollment  Primary School   \n",
              "\n",
              "      major_discipline experience company_size    company_type last_new_job  \\\n",
              "0                 STEM        >20          NaN             NaN            1   \n",
              "1                 STEM         15        50-99         Pvt Ltd           >4   \n",
              "2                 STEM          5          NaN             NaN        never   \n",
              "3      Business Degree         <1          NaN         Pvt Ltd        never   \n",
              "4                 STEM        >20        50-99  Funded Startup            4   \n",
              "...                ...        ...          ...             ...          ...   \n",
              "19153       Humanities         14          NaN             NaN            1   \n",
              "19154             STEM         14          NaN             NaN            4   \n",
              "19155             STEM        >20        50-99         Pvt Ltd            4   \n",
              "19156              NaN         <1      500-999         Pvt Ltd            2   \n",
              "19157              NaN          2          NaN             NaN            1   \n",
              "\n",
              "       training_hours  target  \n",
              "0                  36     1.0  \n",
              "1                  47     0.0  \n",
              "2                  83     0.0  \n",
              "3                  52     1.0  \n",
              "4                   8     0.0  \n",
              "...               ...     ...  \n",
              "19153              42     1.0  \n",
              "19154              52     1.0  \n",
              "19155              44     0.0  \n",
              "19156              97     0.0  \n",
              "19157             127     0.0  \n",
              "\n",
              "[19158 rows x 14 columns]"
            ],
            "text/html": [
              "\n",
              "  <div id=\"df-4289a00d-44b2-49b2-822c-2c6f428ccfdf\">\n",
              "    <div class=\"colab-df-container\">\n",
              "      <div>\n",
              "<style scoped>\n",
              "    .dataframe tbody tr th:only-of-type {\n",
              "        vertical-align: middle;\n",
              "    }\n",
              "\n",
              "    .dataframe tbody tr th {\n",
              "        vertical-align: top;\n",
              "    }\n",
              "\n",
              "    .dataframe thead th {\n",
              "        text-align: right;\n",
              "    }\n",
              "</style>\n",
              "<table border=\"1\" class=\"dataframe\">\n",
              "  <thead>\n",
              "    <tr style=\"text-align: right;\">\n",
              "      <th></th>\n",
              "      <th>enrollee_id</th>\n",
              "      <th>city</th>\n",
              "      <th>city_development_index</th>\n",
              "      <th>gender</th>\n",
              "      <th>relevent_experience</th>\n",
              "      <th>enrolled_university</th>\n",
              "      <th>education_level</th>\n",
              "      <th>major_discipline</th>\n",
              "      <th>experience</th>\n",
              "      <th>company_size</th>\n",
              "      <th>company_type</th>\n",
              "      <th>last_new_job</th>\n",
              "      <th>training_hours</th>\n",
              "      <th>target</th>\n",
              "    </tr>\n",
              "  </thead>\n",
              "  <tbody>\n",
              "    <tr>\n",
              "      <th>0</th>\n",
              "      <td>8949</td>\n",
              "      <td>city_103</td>\n",
              "      <td>0.920</td>\n",
              "      <td>Male</td>\n",
              "      <td>Has relevent experience</td>\n",
              "      <td>no_enrollment</td>\n",
              "      <td>Graduate</td>\n",
              "      <td>STEM</td>\n",
              "      <td>&gt;20</td>\n",
              "      <td>NaN</td>\n",
              "      <td>NaN</td>\n",
              "      <td>1</td>\n",
              "      <td>36</td>\n",
              "      <td>1.0</td>\n",
              "    </tr>\n",
              "    <tr>\n",
              "      <th>1</th>\n",
              "      <td>29725</td>\n",
              "      <td>city_40</td>\n",
              "      <td>0.776</td>\n",
              "      <td>Male</td>\n",
              "      <td>No relevent experience</td>\n",
              "      <td>no_enrollment</td>\n",
              "      <td>Graduate</td>\n",
              "      <td>STEM</td>\n",
              "      <td>15</td>\n",
              "      <td>50-99</td>\n",
              "      <td>Pvt Ltd</td>\n",
              "      <td>&gt;4</td>\n",
              "      <td>47</td>\n",
              "      <td>0.0</td>\n",
              "    </tr>\n",
              "    <tr>\n",
              "      <th>2</th>\n",
              "      <td>11561</td>\n",
              "      <td>city_21</td>\n",
              "      <td>0.624</td>\n",
              "      <td>NaN</td>\n",
              "      <td>No relevent experience</td>\n",
              "      <td>Full time course</td>\n",
              "      <td>Graduate</td>\n",
              "      <td>STEM</td>\n",
              "      <td>5</td>\n",
              "      <td>NaN</td>\n",
              "      <td>NaN</td>\n",
              "      <td>never</td>\n",
              "      <td>83</td>\n",
              "      <td>0.0</td>\n",
              "    </tr>\n",
              "    <tr>\n",
              "      <th>3</th>\n",
              "      <td>33241</td>\n",
              "      <td>city_115</td>\n",
              "      <td>0.789</td>\n",
              "      <td>NaN</td>\n",
              "      <td>No relevent experience</td>\n",
              "      <td>NaN</td>\n",
              "      <td>Graduate</td>\n",
              "      <td>Business Degree</td>\n",
              "      <td>&lt;1</td>\n",
              "      <td>NaN</td>\n",
              "      <td>Pvt Ltd</td>\n",
              "      <td>never</td>\n",
              "      <td>52</td>\n",
              "      <td>1.0</td>\n",
              "    </tr>\n",
              "    <tr>\n",
              "      <th>4</th>\n",
              "      <td>666</td>\n",
              "      <td>city_162</td>\n",
              "      <td>0.767</td>\n",
              "      <td>Male</td>\n",
              "      <td>Has relevent experience</td>\n",
              "      <td>no_enrollment</td>\n",
              "      <td>Masters</td>\n",
              "      <td>STEM</td>\n",
              "      <td>&gt;20</td>\n",
              "      <td>50-99</td>\n",
              "      <td>Funded Startup</td>\n",
              "      <td>4</td>\n",
              "      <td>8</td>\n",
              "      <td>0.0</td>\n",
              "    </tr>\n",
              "    <tr>\n",
              "      <th>...</th>\n",
              "      <td>...</td>\n",
              "      <td>...</td>\n",
              "      <td>...</td>\n",
              "      <td>...</td>\n",
              "      <td>...</td>\n",
              "      <td>...</td>\n",
              "      <td>...</td>\n",
              "      <td>...</td>\n",
              "      <td>...</td>\n",
              "      <td>...</td>\n",
              "      <td>...</td>\n",
              "      <td>...</td>\n",
              "      <td>...</td>\n",
              "      <td>...</td>\n",
              "    </tr>\n",
              "    <tr>\n",
              "      <th>19153</th>\n",
              "      <td>7386</td>\n",
              "      <td>city_173</td>\n",
              "      <td>0.878</td>\n",
              "      <td>Male</td>\n",
              "      <td>No relevent experience</td>\n",
              "      <td>no_enrollment</td>\n",
              "      <td>Graduate</td>\n",
              "      <td>Humanities</td>\n",
              "      <td>14</td>\n",
              "      <td>NaN</td>\n",
              "      <td>NaN</td>\n",
              "      <td>1</td>\n",
              "      <td>42</td>\n",
              "      <td>1.0</td>\n",
              "    </tr>\n",
              "    <tr>\n",
              "      <th>19154</th>\n",
              "      <td>31398</td>\n",
              "      <td>city_103</td>\n",
              "      <td>0.920</td>\n",
              "      <td>Male</td>\n",
              "      <td>Has relevent experience</td>\n",
              "      <td>no_enrollment</td>\n",
              "      <td>Graduate</td>\n",
              "      <td>STEM</td>\n",
              "      <td>14</td>\n",
              "      <td>NaN</td>\n",
              "      <td>NaN</td>\n",
              "      <td>4</td>\n",
              "      <td>52</td>\n",
              "      <td>1.0</td>\n",
              "    </tr>\n",
              "    <tr>\n",
              "      <th>19155</th>\n",
              "      <td>24576</td>\n",
              "      <td>city_103</td>\n",
              "      <td>0.920</td>\n",
              "      <td>Male</td>\n",
              "      <td>Has relevent experience</td>\n",
              "      <td>no_enrollment</td>\n",
              "      <td>Graduate</td>\n",
              "      <td>STEM</td>\n",
              "      <td>&gt;20</td>\n",
              "      <td>50-99</td>\n",
              "      <td>Pvt Ltd</td>\n",
              "      <td>4</td>\n",
              "      <td>44</td>\n",
              "      <td>0.0</td>\n",
              "    </tr>\n",
              "    <tr>\n",
              "      <th>19156</th>\n",
              "      <td>5756</td>\n",
              "      <td>city_65</td>\n",
              "      <td>0.802</td>\n",
              "      <td>Male</td>\n",
              "      <td>Has relevent experience</td>\n",
              "      <td>no_enrollment</td>\n",
              "      <td>High School</td>\n",
              "      <td>NaN</td>\n",
              "      <td>&lt;1</td>\n",
              "      <td>500-999</td>\n",
              "      <td>Pvt Ltd</td>\n",
              "      <td>2</td>\n",
              "      <td>97</td>\n",
              "      <td>0.0</td>\n",
              "    </tr>\n",
              "    <tr>\n",
              "      <th>19157</th>\n",
              "      <td>23834</td>\n",
              "      <td>city_67</td>\n",
              "      <td>0.855</td>\n",
              "      <td>NaN</td>\n",
              "      <td>No relevent experience</td>\n",
              "      <td>no_enrollment</td>\n",
              "      <td>Primary School</td>\n",
              "      <td>NaN</td>\n",
              "      <td>2</td>\n",
              "      <td>NaN</td>\n",
              "      <td>NaN</td>\n",
              "      <td>1</td>\n",
              "      <td>127</td>\n",
              "      <td>0.0</td>\n",
              "    </tr>\n",
              "  </tbody>\n",
              "</table>\n",
              "<p>19158 rows × 14 columns</p>\n",
              "</div>\n",
              "      <button class=\"colab-df-convert\" onclick=\"convertToInteractive('df-4289a00d-44b2-49b2-822c-2c6f428ccfdf')\"\n",
              "              title=\"Convert this dataframe to an interactive table.\"\n",
              "              style=\"display:none;\">\n",
              "        \n",
              "  <svg xmlns=\"http://www.w3.org/2000/svg\" height=\"24px\"viewBox=\"0 0 24 24\"\n",
              "       width=\"24px\">\n",
              "    <path d=\"M0 0h24v24H0V0z\" fill=\"none\"/>\n",
              "    <path d=\"M18.56 5.44l.94 2.06.94-2.06 2.06-.94-2.06-.94-.94-2.06-.94 2.06-2.06.94zm-11 1L8.5 8.5l.94-2.06 2.06-.94-2.06-.94L8.5 2.5l-.94 2.06-2.06.94zm10 10l.94 2.06.94-2.06 2.06-.94-2.06-.94-.94-2.06-.94 2.06-2.06.94z\"/><path d=\"M17.41 7.96l-1.37-1.37c-.4-.4-.92-.59-1.43-.59-.52 0-1.04.2-1.43.59L10.3 9.45l-7.72 7.72c-.78.78-.78 2.05 0 2.83L4 21.41c.39.39.9.59 1.41.59.51 0 1.02-.2 1.41-.59l7.78-7.78 2.81-2.81c.8-.78.8-2.07 0-2.86zM5.41 20L4 18.59l7.72-7.72 1.47 1.35L5.41 20z\"/>\n",
              "  </svg>\n",
              "      </button>\n",
              "      \n",
              "  <style>\n",
              "    .colab-df-container {\n",
              "      display:flex;\n",
              "      flex-wrap:wrap;\n",
              "      gap: 12px;\n",
              "    }\n",
              "\n",
              "    .colab-df-convert {\n",
              "      background-color: #E8F0FE;\n",
              "      border: none;\n",
              "      border-radius: 50%;\n",
              "      cursor: pointer;\n",
              "      display: none;\n",
              "      fill: #1967D2;\n",
              "      height: 32px;\n",
              "      padding: 0 0 0 0;\n",
              "      width: 32px;\n",
              "    }\n",
              "\n",
              "    .colab-df-convert:hover {\n",
              "      background-color: #E2EBFA;\n",
              "      box-shadow: 0px 1px 2px rgba(60, 64, 67, 0.3), 0px 1px 3px 1px rgba(60, 64, 67, 0.15);\n",
              "      fill: #174EA6;\n",
              "    }\n",
              "\n",
              "    [theme=dark] .colab-df-convert {\n",
              "      background-color: #3B4455;\n",
              "      fill: #D2E3FC;\n",
              "    }\n",
              "\n",
              "    [theme=dark] .colab-df-convert:hover {\n",
              "      background-color: #434B5C;\n",
              "      box-shadow: 0px 1px 3px 1px rgba(0, 0, 0, 0.15);\n",
              "      filter: drop-shadow(0px 1px 2px rgba(0, 0, 0, 0.3));\n",
              "      fill: #FFFFFF;\n",
              "    }\n",
              "  </style>\n",
              "\n",
              "      <script>\n",
              "        const buttonEl =\n",
              "          document.querySelector('#df-4289a00d-44b2-49b2-822c-2c6f428ccfdf button.colab-df-convert');\n",
              "        buttonEl.style.display =\n",
              "          google.colab.kernel.accessAllowed ? 'block' : 'none';\n",
              "\n",
              "        async function convertToInteractive(key) {\n",
              "          const element = document.querySelector('#df-4289a00d-44b2-49b2-822c-2c6f428ccfdf');\n",
              "          const dataTable =\n",
              "            await google.colab.kernel.invokeFunction('convertToInteractive',\n",
              "                                                     [key], {});\n",
              "          if (!dataTable) return;\n",
              "\n",
              "          const docLinkHtml = 'Like what you see? Visit the ' +\n",
              "            '<a target=\"_blank\" href=https://colab.research.google.com/notebooks/data_table.ipynb>data table notebook</a>'\n",
              "            + ' to learn more about interactive tables.';\n",
              "          element.innerHTML = '';\n",
              "          dataTable['output_type'] = 'display_data';\n",
              "          await google.colab.output.renderOutput(dataTable, element);\n",
              "          const docLink = document.createElement('div');\n",
              "          docLink.innerHTML = docLinkHtml;\n",
              "          element.appendChild(docLink);\n",
              "        }\n",
              "      </script>\n",
              "    </div>\n",
              "  </div>\n",
              "  "
            ]
          },
          "metadata": {},
          "execution_count": 4
        }
      ]
    },
    {
      "cell_type": "code",
      "source": [
        "data.info() #общая информация: присутствуют значения nan, некоторые типы данных не соответствуют реальности (обозначены как object, должны быть int)"
      ],
      "metadata": {
        "colab": {
          "base_uri": "https://localhost:8080/"
        },
        "id": "SGGR90fla0O3",
        "outputId": "9e73eb09-3bca-402d-d757-4c2a6e7fa85d"
      },
      "execution_count": null,
      "outputs": [
        {
          "output_type": "stream",
          "name": "stdout",
          "text": [
            "<class 'pandas.core.frame.DataFrame'>\n",
            "RangeIndex: 19158 entries, 0 to 19157\n",
            "Data columns (total 14 columns):\n",
            " #   Column                  Non-Null Count  Dtype  \n",
            "---  ------                  --------------  -----  \n",
            " 0   enrollee_id             19158 non-null  int64  \n",
            " 1   city                    19158 non-null  object \n",
            " 2   city_development_index  19158 non-null  float64\n",
            " 3   gender                  14650 non-null  object \n",
            " 4   relevent_experience     19158 non-null  object \n",
            " 5   enrolled_university     18772 non-null  object \n",
            " 6   education_level         18698 non-null  object \n",
            " 7   major_discipline        16345 non-null  object \n",
            " 8   experience              19093 non-null  object \n",
            " 9   company_size            13220 non-null  object \n",
            " 10  company_type            13018 non-null  object \n",
            " 11  last_new_job            18735 non-null  object \n",
            " 12  training_hours          19158 non-null  int64  \n",
            " 13  target                  19158 non-null  float64\n",
            "dtypes: float64(2), int64(2), object(10)\n",
            "memory usage: 2.0+ MB\n"
          ]
        }
      ]
    },
    {
      "cell_type": "markdown",
      "source": [
        "###Подробные данные о столбцах"
      ],
      "metadata": {
        "id": "BDrdq-Dy5eL1"
      }
    },
    {
      "cell_type": "code",
      "source": [
        "data.columns[data.isna().any()] #столбцы, в которых есть хотя бы 1 значение nan"
      ],
      "metadata": {
        "colab": {
          "base_uri": "https://localhost:8080/"
        },
        "id": "yLiWJfb4gBS6",
        "outputId": "db836186-5a56-4d0e-b459-0c7932aa2dfc"
      },
      "execution_count": null,
      "outputs": [
        {
          "output_type": "execute_result",
          "data": {
            "text/plain": [
              "Index(['gender', 'enrolled_university', 'education_level', 'major_discipline',\n",
              "       'experience', 'company_size', 'company_type', 'last_new_job'],\n",
              "      dtype='object')"
            ]
          },
          "metadata": {},
          "execution_count": 6
        }
      ]
    },
    {
      "cell_type": "code",
      "source": [
        "columns_to_look_at = ['gender', 'relevent_experience', 'enrolled_university', 'education_level',\n",
        "                      'major_discipline', 'experience', 'company_size', 'company_type', 'last_new_job', 'target']\n",
        "\n",
        "for col in columns_to_look_at: #смотрим на уникальные значения в выбранных столбцах\n",
        "  print(col, data[col].unique(), sep=': ', end='\\n')"
      ],
      "metadata": {
        "colab": {
          "base_uri": "https://localhost:8080/"
        },
        "id": "WLdJ2bg6FBG2",
        "outputId": "63c248b9-1433-4f6e-a7a0-2d042e15ffb7"
      },
      "execution_count": null,
      "outputs": [
        {
          "output_type": "stream",
          "name": "stdout",
          "text": [
            "gender: ['Male' nan 'Female' 'Other']\n",
            "relevent_experience: ['Has relevent experience' 'No relevent experience']\n",
            "enrolled_university: ['no_enrollment' 'Full time course' nan 'Part time course']\n",
            "education_level: ['Graduate' 'Masters' 'High School' nan 'Phd' 'Primary School']\n",
            "major_discipline: ['STEM' 'Business Degree' nan 'Arts' 'Humanities' 'No Major' 'Other']\n",
            "experience: ['>20' '15' '5' '<1' '11' '13' '7' '17' '2' '16' '1' '4' '10' '14' '18'\n",
            " '19' '12' '3' '6' '9' '8' '20' nan]\n",
            "company_size: [nan '50-99' '<10' '10000+' '5000-9999' '1000-4999' '10/49' '100-500'\n",
            " '500-999']\n",
            "company_type: [nan 'Pvt Ltd' 'Funded Startup' 'Early Stage Startup' 'Other'\n",
            " 'Public Sector' 'NGO']\n",
            "last_new_job: ['1' '>4' 'never' '4' '3' '2' nan]\n",
            "target: [1. 0.]\n"
          ]
        }
      ]
    },
    {
      "cell_type": "code",
      "source": [
        "len(data['enrollee_id'].unique()) == len(data) #проверяем, все ли номера выпускников уникальные - да, дублей нет"
      ],
      "metadata": {
        "colab": {
          "base_uri": "https://localhost:8080/"
        },
        "id": "CnHi4wXMjuhB",
        "outputId": "95ac9b9f-eb12-4860-bb68-7512588b5600"
      },
      "execution_count": null,
      "outputs": [
        {
          "output_type": "execute_result",
          "data": {
            "text/plain": [
              "True"
            ]
          },
          "metadata": {},
          "execution_count": 8
        }
      ]
    },
    {
      "cell_type": "code",
      "source": [
        "len(data['city'].unique()) #данные по скольким городам присутствуют в таблице - 123"
      ],
      "metadata": {
        "colab": {
          "base_uri": "https://localhost:8080/"
        },
        "id": "SrDVDa_xoUh8",
        "outputId": "afb09123-6cac-4a7e-99a7-beefd8c5b41f"
      },
      "execution_count": null,
      "outputs": [
        {
          "output_type": "execute_result",
          "data": {
            "text/plain": [
              "123"
            ]
          },
          "metadata": {},
          "execution_count": 9
        }
      ]
    },
    {
      "cell_type": "code",
      "source": [
        "data.describe() #сводка по столбцам с числовыми значениями"
      ],
      "metadata": {
        "colab": {
          "base_uri": "https://localhost:8080/"
        },
        "id": "Iocuc5cTdSm-",
        "outputId": "438d13e6-4455-4c45-d113-c1a77fe873d8"
      },
      "execution_count": null,
      "outputs": [
        {
          "output_type": "execute_result",
          "data": {
            "text/plain": [
              "        enrollee_id  city_development_index  training_hours        target\n",
              "count  19158.000000            19158.000000    19158.000000  19158.000000\n",
              "mean   16875.358179                0.828848       65.366896      0.249348\n",
              "std     9616.292592                0.123362       60.058462      0.432647\n",
              "min        1.000000                0.448000        1.000000      0.000000\n",
              "25%     8554.250000                0.740000       23.000000      0.000000\n",
              "50%    16982.500000                0.903000       47.000000      0.000000\n",
              "75%    25169.750000                0.920000       88.000000      0.000000\n",
              "max    33380.000000                0.949000      336.000000      1.000000"
            ],
            "text/html": [
              "\n",
              "  <div id=\"df-63e7a33c-ccac-4824-9fda-c8934d30abad\">\n",
              "    <div class=\"colab-df-container\">\n",
              "      <div>\n",
              "<style scoped>\n",
              "    .dataframe tbody tr th:only-of-type {\n",
              "        vertical-align: middle;\n",
              "    }\n",
              "\n",
              "    .dataframe tbody tr th {\n",
              "        vertical-align: top;\n",
              "    }\n",
              "\n",
              "    .dataframe thead th {\n",
              "        text-align: right;\n",
              "    }\n",
              "</style>\n",
              "<table border=\"1\" class=\"dataframe\">\n",
              "  <thead>\n",
              "    <tr style=\"text-align: right;\">\n",
              "      <th></th>\n",
              "      <th>enrollee_id</th>\n",
              "      <th>city_development_index</th>\n",
              "      <th>training_hours</th>\n",
              "      <th>target</th>\n",
              "    </tr>\n",
              "  </thead>\n",
              "  <tbody>\n",
              "    <tr>\n",
              "      <th>count</th>\n",
              "      <td>19158.000000</td>\n",
              "      <td>19158.000000</td>\n",
              "      <td>19158.000000</td>\n",
              "      <td>19158.000000</td>\n",
              "    </tr>\n",
              "    <tr>\n",
              "      <th>mean</th>\n",
              "      <td>16875.358179</td>\n",
              "      <td>0.828848</td>\n",
              "      <td>65.366896</td>\n",
              "      <td>0.249348</td>\n",
              "    </tr>\n",
              "    <tr>\n",
              "      <th>std</th>\n",
              "      <td>9616.292592</td>\n",
              "      <td>0.123362</td>\n",
              "      <td>60.058462</td>\n",
              "      <td>0.432647</td>\n",
              "    </tr>\n",
              "    <tr>\n",
              "      <th>min</th>\n",
              "      <td>1.000000</td>\n",
              "      <td>0.448000</td>\n",
              "      <td>1.000000</td>\n",
              "      <td>0.000000</td>\n",
              "    </tr>\n",
              "    <tr>\n",
              "      <th>25%</th>\n",
              "      <td>8554.250000</td>\n",
              "      <td>0.740000</td>\n",
              "      <td>23.000000</td>\n",
              "      <td>0.000000</td>\n",
              "    </tr>\n",
              "    <tr>\n",
              "      <th>50%</th>\n",
              "      <td>16982.500000</td>\n",
              "      <td>0.903000</td>\n",
              "      <td>47.000000</td>\n",
              "      <td>0.000000</td>\n",
              "    </tr>\n",
              "    <tr>\n",
              "      <th>75%</th>\n",
              "      <td>25169.750000</td>\n",
              "      <td>0.920000</td>\n",
              "      <td>88.000000</td>\n",
              "      <td>0.000000</td>\n",
              "    </tr>\n",
              "    <tr>\n",
              "      <th>max</th>\n",
              "      <td>33380.000000</td>\n",
              "      <td>0.949000</td>\n",
              "      <td>336.000000</td>\n",
              "      <td>1.000000</td>\n",
              "    </tr>\n",
              "  </tbody>\n",
              "</table>\n",
              "</div>\n",
              "      <button class=\"colab-df-convert\" onclick=\"convertToInteractive('df-63e7a33c-ccac-4824-9fda-c8934d30abad')\"\n",
              "              title=\"Convert this dataframe to an interactive table.\"\n",
              "              style=\"display:none;\">\n",
              "        \n",
              "  <svg xmlns=\"http://www.w3.org/2000/svg\" height=\"24px\"viewBox=\"0 0 24 24\"\n",
              "       width=\"24px\">\n",
              "    <path d=\"M0 0h24v24H0V0z\" fill=\"none\"/>\n",
              "    <path d=\"M18.56 5.44l.94 2.06.94-2.06 2.06-.94-2.06-.94-.94-2.06-.94 2.06-2.06.94zm-11 1L8.5 8.5l.94-2.06 2.06-.94-2.06-.94L8.5 2.5l-.94 2.06-2.06.94zm10 10l.94 2.06.94-2.06 2.06-.94-2.06-.94-.94-2.06-.94 2.06-2.06.94z\"/><path d=\"M17.41 7.96l-1.37-1.37c-.4-.4-.92-.59-1.43-.59-.52 0-1.04.2-1.43.59L10.3 9.45l-7.72 7.72c-.78.78-.78 2.05 0 2.83L4 21.41c.39.39.9.59 1.41.59.51 0 1.02-.2 1.41-.59l7.78-7.78 2.81-2.81c.8-.78.8-2.07 0-2.86zM5.41 20L4 18.59l7.72-7.72 1.47 1.35L5.41 20z\"/>\n",
              "  </svg>\n",
              "      </button>\n",
              "      \n",
              "  <style>\n",
              "    .colab-df-container {\n",
              "      display:flex;\n",
              "      flex-wrap:wrap;\n",
              "      gap: 12px;\n",
              "    }\n",
              "\n",
              "    .colab-df-convert {\n",
              "      background-color: #E8F0FE;\n",
              "      border: none;\n",
              "      border-radius: 50%;\n",
              "      cursor: pointer;\n",
              "      display: none;\n",
              "      fill: #1967D2;\n",
              "      height: 32px;\n",
              "      padding: 0 0 0 0;\n",
              "      width: 32px;\n",
              "    }\n",
              "\n",
              "    .colab-df-convert:hover {\n",
              "      background-color: #E2EBFA;\n",
              "      box-shadow: 0px 1px 2px rgba(60, 64, 67, 0.3), 0px 1px 3px 1px rgba(60, 64, 67, 0.15);\n",
              "      fill: #174EA6;\n",
              "    }\n",
              "\n",
              "    [theme=dark] .colab-df-convert {\n",
              "      background-color: #3B4455;\n",
              "      fill: #D2E3FC;\n",
              "    }\n",
              "\n",
              "    [theme=dark] .colab-df-convert:hover {\n",
              "      background-color: #434B5C;\n",
              "      box-shadow: 0px 1px 3px 1px rgba(0, 0, 0, 0.15);\n",
              "      filter: drop-shadow(0px 1px 2px rgba(0, 0, 0, 0.3));\n",
              "      fill: #FFFFFF;\n",
              "    }\n",
              "  </style>\n",
              "\n",
              "      <script>\n",
              "        const buttonEl =\n",
              "          document.querySelector('#df-63e7a33c-ccac-4824-9fda-c8934d30abad button.colab-df-convert');\n",
              "        buttonEl.style.display =\n",
              "          google.colab.kernel.accessAllowed ? 'block' : 'none';\n",
              "\n",
              "        async function convertToInteractive(key) {\n",
              "          const element = document.querySelector('#df-63e7a33c-ccac-4824-9fda-c8934d30abad');\n",
              "          const dataTable =\n",
              "            await google.colab.kernel.invokeFunction('convertToInteractive',\n",
              "                                                     [key], {});\n",
              "          if (!dataTable) return;\n",
              "\n",
              "          const docLinkHtml = 'Like what you see? Visit the ' +\n",
              "            '<a target=\"_blank\" href=https://colab.research.google.com/notebooks/data_table.ipynb>data table notebook</a>'\n",
              "            + ' to learn more about interactive tables.';\n",
              "          element.innerHTML = '';\n",
              "          dataTable['output_type'] = 'display_data';\n",
              "          await google.colab.output.renderOutput(dataTable, element);\n",
              "          const docLink = document.createElement('div');\n",
              "          docLink.innerHTML = docLinkHtml;\n",
              "          element.appendChild(docLink);\n",
              "        }\n",
              "      </script>\n",
              "    </div>\n",
              "  </div>\n",
              "  "
            ]
          },
          "metadata": {},
          "execution_count": 10
        }
      ]
    },
    {
      "cell_type": "markdown",
      "metadata": {
        "id": "fk5IAB2RSbX1"
      },
      "source": [
        "### Вывод"
      ]
    },
    {
      "cell_type": "markdown",
      "source": [
        "*   Присутствуют значения NaN в столбцах, записанных в список columns_with_nan: gender, enrolled_university, education_level, major_discipline, experience, company_size, company_type, last_new_job\n",
        "*   Мы не будем удалять строки со значениями NaN по всей таблице, так как потеряем слишком много данных. Поскольку в большинстве случаев мы будем рассматривать отдельные избранные столбцы, мы будем избавляться от пустых значений в них, чтобы сохранить как можно больше информации\n",
        "*   Столбцы experience, company_size, last_new_job, city содержат числовые значения, но записаны как object, требуют обработки на следующем шаге\n",
        "*   Все остальные столбцы не содержат аномалий и готовы к работе"
      ],
      "metadata": {
        "id": "JEveqIJffb3y"
      }
    },
    {
      "cell_type": "markdown",
      "metadata": {
        "id": "Tk6XnGuySbX2"
      },
      "source": [
        "### Шаг 2. Предобработка данных"
      ]
    },
    {
      "cell_type": "markdown",
      "source": [
        "**Обработка столбца experience**. Переводу в int мешают знаки < (в сочетании '< 1') и > (в сочетании '> 20'). Поскольку мы не знаем точно опыт работы выпускников с такими показателями, но при анализе опыт работы должен быть отсортирован, заменяем <1 на условный 0, а >20 на 21. NaN пока оставляем"
      ],
      "metadata": {
        "id": "bok9fwKZvMNH"
      }
    },
    {
      "cell_type": "code",
      "source": [
        "data.experience[data['experience'] == '>20'] = 21 #замена >20 на 21\n",
        "data.experience[data['experience'] == '<1'] = 0 #замена <1 на 0\n",
        "data.experience = data.experience.apply(lambda x: int(x) if str(x).isdigit() else x) #преобразуем в числа всё, что возможно"
      ],
      "metadata": {
        "colab": {
          "base_uri": "https://localhost:8080/"
        },
        "id": "crIklTTz7A6j",
        "outputId": "aff19894-658e-49bc-d523-c1661fb6f13e"
      },
      "execution_count": null,
      "outputs": [
        {
          "output_type": "stream",
          "name": "stderr",
          "text": [
            "<ipython-input-11-49ffc5bd3043>:1: SettingWithCopyWarning: \n",
            "A value is trying to be set on a copy of a slice from a DataFrame\n",
            "\n",
            "See the caveats in the documentation: https://pandas.pydata.org/pandas-docs/stable/user_guide/indexing.html#returning-a-view-versus-a-copy\n",
            "  data.experience[data['experience'] == '>20'] = 21 #замена >20 на 21\n",
            "<ipython-input-11-49ffc5bd3043>:2: SettingWithCopyWarning: \n",
            "A value is trying to be set on a copy of a slice from a DataFrame\n",
            "\n",
            "See the caveats in the documentation: https://pandas.pydata.org/pandas-docs/stable/user_guide/indexing.html#returning-a-view-versus-a-copy\n",
            "  data.experience[data['experience'] == '<1'] = 0 #замена <1 на 0\n"
          ]
        }
      ]
    },
    {
      "cell_type": "code",
      "source": [
        "data['experience'].unique() #значения nan сохранились"
      ],
      "metadata": {
        "colab": {
          "base_uri": "https://localhost:8080/"
        },
        "id": "VUpl6QmX02Eb",
        "outputId": "2c4e7d51-51ca-4777-ea91-f78f779c6aa1"
      },
      "execution_count": null,
      "outputs": [
        {
          "output_type": "execute_result",
          "data": {
            "text/plain": [
              "array([21., 15.,  5.,  0., 11., 13.,  7., 17.,  2., 16.,  1.,  4., 10.,\n",
              "       14., 18., 19., 12.,  3.,  6.,  9.,  8., 20., nan])"
            ]
          },
          "metadata": {},
          "execution_count": 12
        }
      ]
    },
    {
      "cell_type": "markdown",
      "source": [
        "**Обработка столбца company_size**. Значения состоят из промежутков с количеством работников: <10, 10/49 (должно быть 10-49), 50-99, 100-500 (должно быть 100-499), 500-999, 1000-4999, 5000-9999, 10000+\n",
        "\n",
        "Ранжировать эти значения и использовать в графиках в таком виде будет неудобно, поэтому мы обозначим каждую группу минимальным числом: 1 для группы <10, 10 для группы 10-49 и так далее"
      ],
      "metadata": {
        "id": "j1OSfR_mMUGK"
      }
    },
    {
      "cell_type": "code",
      "source": [
        "data.company_size[data['company_size'] == '<10'] = 1 #меняем промежутки на цифры - нижнюю границу промежутка\n",
        "data.company_size[data['company_size'] == '10/49'] = 10\n",
        "data.company_size[data['company_size'] == '50-99'] = 50\n",
        "data.company_size[data['company_size'] == '100-500'] = 100\n",
        "data.company_size[data['company_size'] == '500-999'] = 500\n",
        "data.company_size[data['company_size'] == '1000-4999'] = 1000\n",
        "data.company_size[data['company_size'] == '5000-9999'] = 5000\n",
        "data.company_size[data['company_size'] == '10000+'] = 10000\n",
        "data.company_size = data.company_size.astype(pd.Int64Dtype(), errors='ignore') #переводим всё в int"
      ],
      "metadata": {
        "id": "nqlkeZd7Lhm5",
        "colab": {
          "base_uri": "https://localhost:8080/"
        },
        "outputId": "47d01d8a-c832-40bc-8a1b-966b43567bf0"
      },
      "execution_count": null,
      "outputs": [
        {
          "output_type": "stream",
          "name": "stderr",
          "text": [
            "<ipython-input-13-546c4f1b3ccd>:1: SettingWithCopyWarning: \n",
            "A value is trying to be set on a copy of a slice from a DataFrame\n",
            "\n",
            "See the caveats in the documentation: https://pandas.pydata.org/pandas-docs/stable/user_guide/indexing.html#returning-a-view-versus-a-copy\n",
            "  data.company_size[data['company_size'] == '<10'] = 1 #меняем промежутки на цифры - нижнюю границу промежутка\n",
            "<ipython-input-13-546c4f1b3ccd>:2: SettingWithCopyWarning: \n",
            "A value is trying to be set on a copy of a slice from a DataFrame\n",
            "\n",
            "See the caveats in the documentation: https://pandas.pydata.org/pandas-docs/stable/user_guide/indexing.html#returning-a-view-versus-a-copy\n",
            "  data.company_size[data['company_size'] == '10/49'] = 10\n",
            "<ipython-input-13-546c4f1b3ccd>:3: SettingWithCopyWarning: \n",
            "A value is trying to be set on a copy of a slice from a DataFrame\n",
            "\n",
            "See the caveats in the documentation: https://pandas.pydata.org/pandas-docs/stable/user_guide/indexing.html#returning-a-view-versus-a-copy\n",
            "  data.company_size[data['company_size'] == '50-99'] = 50\n",
            "<ipython-input-13-546c4f1b3ccd>:4: SettingWithCopyWarning: \n",
            "A value is trying to be set on a copy of a slice from a DataFrame\n",
            "\n",
            "See the caveats in the documentation: https://pandas.pydata.org/pandas-docs/stable/user_guide/indexing.html#returning-a-view-versus-a-copy\n",
            "  data.company_size[data['company_size'] == '100-500'] = 100\n",
            "<ipython-input-13-546c4f1b3ccd>:5: SettingWithCopyWarning: \n",
            "A value is trying to be set on a copy of a slice from a DataFrame\n",
            "\n",
            "See the caveats in the documentation: https://pandas.pydata.org/pandas-docs/stable/user_guide/indexing.html#returning-a-view-versus-a-copy\n",
            "  data.company_size[data['company_size'] == '500-999'] = 500\n",
            "<ipython-input-13-546c4f1b3ccd>:6: SettingWithCopyWarning: \n",
            "A value is trying to be set on a copy of a slice from a DataFrame\n",
            "\n",
            "See the caveats in the documentation: https://pandas.pydata.org/pandas-docs/stable/user_guide/indexing.html#returning-a-view-versus-a-copy\n",
            "  data.company_size[data['company_size'] == '1000-4999'] = 1000\n",
            "<ipython-input-13-546c4f1b3ccd>:7: SettingWithCopyWarning: \n",
            "A value is trying to be set on a copy of a slice from a DataFrame\n",
            "\n",
            "See the caveats in the documentation: https://pandas.pydata.org/pandas-docs/stable/user_guide/indexing.html#returning-a-view-versus-a-copy\n",
            "  data.company_size[data['company_size'] == '5000-9999'] = 5000\n",
            "<ipython-input-13-546c4f1b3ccd>:8: SettingWithCopyWarning: \n",
            "A value is trying to be set on a copy of a slice from a DataFrame\n",
            "\n",
            "See the caveats in the documentation: https://pandas.pydata.org/pandas-docs/stable/user_guide/indexing.html#returning-a-view-versus-a-copy\n",
            "  data.company_size[data['company_size'] == '10000+'] = 10000\n"
          ]
        }
      ]
    },
    {
      "cell_type": "code",
      "source": [
        "data['company_size'].unique() #значения изменились, nan сохранились"
      ],
      "metadata": {
        "colab": {
          "base_uri": "https://localhost:8080/"
        },
        "id": "0NF5LeuHJUHA",
        "outputId": "adb63415-a1e5-4cbc-cb98-e0a5319e6e03"
      },
      "execution_count": null,
      "outputs": [
        {
          "output_type": "execute_result",
          "data": {
            "text/plain": [
              "<IntegerArray>\n",
              "[<NA>, 50, 1, 10000, 5000, 1000, 10, 100, 500]\n",
              "Length: 9, dtype: Int64"
            ]
          },
          "metadata": {},
          "execution_count": 14
        }
      ]
    },
    {
      "cell_type": "markdown",
      "source": [
        "**Обработка столбца *last_new_job***. Чтобы использовать значения в исследовании понадобится их сортировать: значения 'never' и '>4' мешают это сделать.\n",
        "\n",
        "Столбец *last_new_job* показывает сколько (скорее всего лет) выпускник работает в текущей компании. Следовательно, never можно заменить на 0 (если не было новой работы, то нет и лет, проведенных в текущей компании).\n",
        "\n",
        "'>4' оставляем неизменным, так как знак > при сортировке в любом случае будет помещен на последнее место. Перевод в целочисленные значения не обязателен, так как числа не дискретные, они будут использоваться как категории"
      ],
      "metadata": {
        "id": "VXaCkokpMUh6"
      }
    },
    {
      "cell_type": "code",
      "source": [
        "data.last_new_job[data['last_new_job'] == 'never'] = '0' #меняем never на 0"
      ],
      "metadata": {
        "colab": {
          "base_uri": "https://localhost:8080/"
        },
        "id": "7ZEtQ3PKL4NW",
        "outputId": "f584c4e0-2528-4639-978f-3bd75d5279da"
      },
      "execution_count": null,
      "outputs": [
        {
          "output_type": "stream",
          "name": "stderr",
          "text": [
            "<ipython-input-15-bd81fd2a8722>:1: SettingWithCopyWarning: \n",
            "A value is trying to be set on a copy of a slice from a DataFrame\n",
            "\n",
            "See the caveats in the documentation: https://pandas.pydata.org/pandas-docs/stable/user_guide/indexing.html#returning-a-view-versus-a-copy\n",
            "  data.last_new_job[data['last_new_job'] == 'never'] = '0' #меняем never на 0\n"
          ]
        }
      ]
    },
    {
      "cell_type": "code",
      "source": [
        "data['last_new_job'].unique() #значения изменились, nan сохранились"
      ],
      "metadata": {
        "colab": {
          "base_uri": "https://localhost:8080/"
        },
        "id": "MzgfzRQbNLih",
        "outputId": "0655cd65-4e60-4769-dea8-d8f72be5b0d5"
      },
      "execution_count": null,
      "outputs": [
        {
          "output_type": "execute_result",
          "data": {
            "text/plain": [
              "array(['1', '>4', '0', '4', '3', '2', nan], dtype=object)"
            ]
          },
          "metadata": {},
          "execution_count": 16
        }
      ]
    },
    {
      "cell_type": "markdown",
      "source": [
        "**Обработка столбца city**. Поскольку все города представлены числами, а не реальными названиями, мы можем заменить их на целочисленные значения, которые затем удобно будет сортировать"
      ],
      "metadata": {
        "id": "JkHDjjx0o_6Z"
      }
    },
    {
      "cell_type": "code",
      "source": [
        "pattern = r'\\d+' #с помощью регулярных выражений выбираем номера городов и переводим их в int\n",
        "data.city = data.city.apply(lambda x: int(re.search(pattern, x).group()))"
      ],
      "metadata": {
        "id": "oNYf9i3jpPAY"
      },
      "execution_count": null,
      "outputs": []
    },
    {
      "cell_type": "code",
      "source": [
        "data.city.unique() #проверяем: значения изменились и стали int"
      ],
      "metadata": {
        "colab": {
          "base_uri": "https://localhost:8080/"
        },
        "id": "67PmEV7psLRG",
        "outputId": "524dc991-aafc-47dc-c04f-382dc61a2549"
      },
      "execution_count": null,
      "outputs": [
        {
          "output_type": "execute_result",
          "data": {
            "text/plain": [
              "array([103,  40,  21, 115, 162, 176, 160,  46,  61, 114,  13, 159, 102,\n",
              "        67, 100,  16,  71, 104,  64, 101,  83, 105,  73,  75,  41,  11,\n",
              "        93,  90,  36,  20,  57, 152,  19,  65,  74, 173, 136,  98,  97,\n",
              "        50, 138,  82, 157,  89, 150,  70, 175,  94,  28,  59, 165, 145,\n",
              "       142,  26,  12,  37,  43, 116,  23,  99, 149,  10,  45,  80, 128,\n",
              "       158, 123,   7,  72, 106, 143,  78, 109,  24, 134,  48, 144,  91,\n",
              "       146, 133, 126, 118,   9, 167,  27,  84,  54,  39,  79,  76,  77,\n",
              "        81, 131,  44, 117, 155,  33, 141, 127,  62,  53,  25,   2,  69,\n",
              "       120, 111,  30,   1, 140, 179,  55,  14,  42, 107,  18, 139, 180,\n",
              "       166, 121, 129,   8,  31, 171])"
            ]
          },
          "metadata": {},
          "execution_count": 18
        }
      ]
    },
    {
      "cell_type": "code",
      "source": [
        "data #таблица после преобразований"
      ],
      "metadata": {
        "colab": {
          "base_uri": "https://localhost:8080/"
        },
        "id": "Aba5AL3WNRQd",
        "outputId": "d83d768f-36f3-4232-f8ec-1edf3d6e6925"
      },
      "execution_count": null,
      "outputs": [
        {
          "output_type": "execute_result",
          "data": {
            "text/plain": [
              "       enrollee_id  city  city_development_index gender  \\\n",
              "0             8949   103                   0.920   Male   \n",
              "1            29725    40                   0.776   Male   \n",
              "2            11561    21                   0.624    NaN   \n",
              "3            33241   115                   0.789    NaN   \n",
              "4              666   162                   0.767   Male   \n",
              "...            ...   ...                     ...    ...   \n",
              "19153         7386   173                   0.878   Male   \n",
              "19154        31398   103                   0.920   Male   \n",
              "19155        24576   103                   0.920   Male   \n",
              "19156         5756    65                   0.802   Male   \n",
              "19157        23834    67                   0.855    NaN   \n",
              "\n",
              "           relevent_experience enrolled_university education_level  \\\n",
              "0      Has relevent experience       no_enrollment        Graduate   \n",
              "1       No relevent experience       no_enrollment        Graduate   \n",
              "2       No relevent experience    Full time course        Graduate   \n",
              "3       No relevent experience                 NaN        Graduate   \n",
              "4      Has relevent experience       no_enrollment         Masters   \n",
              "...                        ...                 ...             ...   \n",
              "19153   No relevent experience       no_enrollment        Graduate   \n",
              "19154  Has relevent experience       no_enrollment        Graduate   \n",
              "19155  Has relevent experience       no_enrollment        Graduate   \n",
              "19156  Has relevent experience       no_enrollment     High School   \n",
              "19157   No relevent experience       no_enrollment  Primary School   \n",
              "\n",
              "      major_discipline  experience  company_size    company_type last_new_job  \\\n",
              "0                 STEM        21.0          <NA>             NaN            1   \n",
              "1                 STEM        15.0            50         Pvt Ltd           >4   \n",
              "2                 STEM         5.0          <NA>             NaN            0   \n",
              "3      Business Degree         0.0          <NA>         Pvt Ltd            0   \n",
              "4                 STEM        21.0            50  Funded Startup            4   \n",
              "...                ...         ...           ...             ...          ...   \n",
              "19153       Humanities        14.0          <NA>             NaN            1   \n",
              "19154             STEM        14.0          <NA>             NaN            4   \n",
              "19155             STEM        21.0            50         Pvt Ltd            4   \n",
              "19156              NaN         0.0           500         Pvt Ltd            2   \n",
              "19157              NaN         2.0          <NA>             NaN            1   \n",
              "\n",
              "       training_hours  target  \n",
              "0                  36     1.0  \n",
              "1                  47     0.0  \n",
              "2                  83     0.0  \n",
              "3                  52     1.0  \n",
              "4                   8     0.0  \n",
              "...               ...     ...  \n",
              "19153              42     1.0  \n",
              "19154              52     1.0  \n",
              "19155              44     0.0  \n",
              "19156              97     0.0  \n",
              "19157             127     0.0  \n",
              "\n",
              "[19158 rows x 14 columns]"
            ],
            "text/html": [
              "\n",
              "  <div id=\"df-25aa3274-9a30-4569-b245-67ebaebd0dff\">\n",
              "    <div class=\"colab-df-container\">\n",
              "      <div>\n",
              "<style scoped>\n",
              "    .dataframe tbody tr th:only-of-type {\n",
              "        vertical-align: middle;\n",
              "    }\n",
              "\n",
              "    .dataframe tbody tr th {\n",
              "        vertical-align: top;\n",
              "    }\n",
              "\n",
              "    .dataframe thead th {\n",
              "        text-align: right;\n",
              "    }\n",
              "</style>\n",
              "<table border=\"1\" class=\"dataframe\">\n",
              "  <thead>\n",
              "    <tr style=\"text-align: right;\">\n",
              "      <th></th>\n",
              "      <th>enrollee_id</th>\n",
              "      <th>city</th>\n",
              "      <th>city_development_index</th>\n",
              "      <th>gender</th>\n",
              "      <th>relevent_experience</th>\n",
              "      <th>enrolled_university</th>\n",
              "      <th>education_level</th>\n",
              "      <th>major_discipline</th>\n",
              "      <th>experience</th>\n",
              "      <th>company_size</th>\n",
              "      <th>company_type</th>\n",
              "      <th>last_new_job</th>\n",
              "      <th>training_hours</th>\n",
              "      <th>target</th>\n",
              "    </tr>\n",
              "  </thead>\n",
              "  <tbody>\n",
              "    <tr>\n",
              "      <th>0</th>\n",
              "      <td>8949</td>\n",
              "      <td>103</td>\n",
              "      <td>0.920</td>\n",
              "      <td>Male</td>\n",
              "      <td>Has relevent experience</td>\n",
              "      <td>no_enrollment</td>\n",
              "      <td>Graduate</td>\n",
              "      <td>STEM</td>\n",
              "      <td>21.0</td>\n",
              "      <td>&lt;NA&gt;</td>\n",
              "      <td>NaN</td>\n",
              "      <td>1</td>\n",
              "      <td>36</td>\n",
              "      <td>1.0</td>\n",
              "    </tr>\n",
              "    <tr>\n",
              "      <th>1</th>\n",
              "      <td>29725</td>\n",
              "      <td>40</td>\n",
              "      <td>0.776</td>\n",
              "      <td>Male</td>\n",
              "      <td>No relevent experience</td>\n",
              "      <td>no_enrollment</td>\n",
              "      <td>Graduate</td>\n",
              "      <td>STEM</td>\n",
              "      <td>15.0</td>\n",
              "      <td>50</td>\n",
              "      <td>Pvt Ltd</td>\n",
              "      <td>&gt;4</td>\n",
              "      <td>47</td>\n",
              "      <td>0.0</td>\n",
              "    </tr>\n",
              "    <tr>\n",
              "      <th>2</th>\n",
              "      <td>11561</td>\n",
              "      <td>21</td>\n",
              "      <td>0.624</td>\n",
              "      <td>NaN</td>\n",
              "      <td>No relevent experience</td>\n",
              "      <td>Full time course</td>\n",
              "      <td>Graduate</td>\n",
              "      <td>STEM</td>\n",
              "      <td>5.0</td>\n",
              "      <td>&lt;NA&gt;</td>\n",
              "      <td>NaN</td>\n",
              "      <td>0</td>\n",
              "      <td>83</td>\n",
              "      <td>0.0</td>\n",
              "    </tr>\n",
              "    <tr>\n",
              "      <th>3</th>\n",
              "      <td>33241</td>\n",
              "      <td>115</td>\n",
              "      <td>0.789</td>\n",
              "      <td>NaN</td>\n",
              "      <td>No relevent experience</td>\n",
              "      <td>NaN</td>\n",
              "      <td>Graduate</td>\n",
              "      <td>Business Degree</td>\n",
              "      <td>0.0</td>\n",
              "      <td>&lt;NA&gt;</td>\n",
              "      <td>Pvt Ltd</td>\n",
              "      <td>0</td>\n",
              "      <td>52</td>\n",
              "      <td>1.0</td>\n",
              "    </tr>\n",
              "    <tr>\n",
              "      <th>4</th>\n",
              "      <td>666</td>\n",
              "      <td>162</td>\n",
              "      <td>0.767</td>\n",
              "      <td>Male</td>\n",
              "      <td>Has relevent experience</td>\n",
              "      <td>no_enrollment</td>\n",
              "      <td>Masters</td>\n",
              "      <td>STEM</td>\n",
              "      <td>21.0</td>\n",
              "      <td>50</td>\n",
              "      <td>Funded Startup</td>\n",
              "      <td>4</td>\n",
              "      <td>8</td>\n",
              "      <td>0.0</td>\n",
              "    </tr>\n",
              "    <tr>\n",
              "      <th>...</th>\n",
              "      <td>...</td>\n",
              "      <td>...</td>\n",
              "      <td>...</td>\n",
              "      <td>...</td>\n",
              "      <td>...</td>\n",
              "      <td>...</td>\n",
              "      <td>...</td>\n",
              "      <td>...</td>\n",
              "      <td>...</td>\n",
              "      <td>...</td>\n",
              "      <td>...</td>\n",
              "      <td>...</td>\n",
              "      <td>...</td>\n",
              "      <td>...</td>\n",
              "    </tr>\n",
              "    <tr>\n",
              "      <th>19153</th>\n",
              "      <td>7386</td>\n",
              "      <td>173</td>\n",
              "      <td>0.878</td>\n",
              "      <td>Male</td>\n",
              "      <td>No relevent experience</td>\n",
              "      <td>no_enrollment</td>\n",
              "      <td>Graduate</td>\n",
              "      <td>Humanities</td>\n",
              "      <td>14.0</td>\n",
              "      <td>&lt;NA&gt;</td>\n",
              "      <td>NaN</td>\n",
              "      <td>1</td>\n",
              "      <td>42</td>\n",
              "      <td>1.0</td>\n",
              "    </tr>\n",
              "    <tr>\n",
              "      <th>19154</th>\n",
              "      <td>31398</td>\n",
              "      <td>103</td>\n",
              "      <td>0.920</td>\n",
              "      <td>Male</td>\n",
              "      <td>Has relevent experience</td>\n",
              "      <td>no_enrollment</td>\n",
              "      <td>Graduate</td>\n",
              "      <td>STEM</td>\n",
              "      <td>14.0</td>\n",
              "      <td>&lt;NA&gt;</td>\n",
              "      <td>NaN</td>\n",
              "      <td>4</td>\n",
              "      <td>52</td>\n",
              "      <td>1.0</td>\n",
              "    </tr>\n",
              "    <tr>\n",
              "      <th>19155</th>\n",
              "      <td>24576</td>\n",
              "      <td>103</td>\n",
              "      <td>0.920</td>\n",
              "      <td>Male</td>\n",
              "      <td>Has relevent experience</td>\n",
              "      <td>no_enrollment</td>\n",
              "      <td>Graduate</td>\n",
              "      <td>STEM</td>\n",
              "      <td>21.0</td>\n",
              "      <td>50</td>\n",
              "      <td>Pvt Ltd</td>\n",
              "      <td>4</td>\n",
              "      <td>44</td>\n",
              "      <td>0.0</td>\n",
              "    </tr>\n",
              "    <tr>\n",
              "      <th>19156</th>\n",
              "      <td>5756</td>\n",
              "      <td>65</td>\n",
              "      <td>0.802</td>\n",
              "      <td>Male</td>\n",
              "      <td>Has relevent experience</td>\n",
              "      <td>no_enrollment</td>\n",
              "      <td>High School</td>\n",
              "      <td>NaN</td>\n",
              "      <td>0.0</td>\n",
              "      <td>500</td>\n",
              "      <td>Pvt Ltd</td>\n",
              "      <td>2</td>\n",
              "      <td>97</td>\n",
              "      <td>0.0</td>\n",
              "    </tr>\n",
              "    <tr>\n",
              "      <th>19157</th>\n",
              "      <td>23834</td>\n",
              "      <td>67</td>\n",
              "      <td>0.855</td>\n",
              "      <td>NaN</td>\n",
              "      <td>No relevent experience</td>\n",
              "      <td>no_enrollment</td>\n",
              "      <td>Primary School</td>\n",
              "      <td>NaN</td>\n",
              "      <td>2.0</td>\n",
              "      <td>&lt;NA&gt;</td>\n",
              "      <td>NaN</td>\n",
              "      <td>1</td>\n",
              "      <td>127</td>\n",
              "      <td>0.0</td>\n",
              "    </tr>\n",
              "  </tbody>\n",
              "</table>\n",
              "<p>19158 rows × 14 columns</p>\n",
              "</div>\n",
              "      <button class=\"colab-df-convert\" onclick=\"convertToInteractive('df-25aa3274-9a30-4569-b245-67ebaebd0dff')\"\n",
              "              title=\"Convert this dataframe to an interactive table.\"\n",
              "              style=\"display:none;\">\n",
              "        \n",
              "  <svg xmlns=\"http://www.w3.org/2000/svg\" height=\"24px\"viewBox=\"0 0 24 24\"\n",
              "       width=\"24px\">\n",
              "    <path d=\"M0 0h24v24H0V0z\" fill=\"none\"/>\n",
              "    <path d=\"M18.56 5.44l.94 2.06.94-2.06 2.06-.94-2.06-.94-.94-2.06-.94 2.06-2.06.94zm-11 1L8.5 8.5l.94-2.06 2.06-.94-2.06-.94L8.5 2.5l-.94 2.06-2.06.94zm10 10l.94 2.06.94-2.06 2.06-.94-2.06-.94-.94-2.06-.94 2.06-2.06.94z\"/><path d=\"M17.41 7.96l-1.37-1.37c-.4-.4-.92-.59-1.43-.59-.52 0-1.04.2-1.43.59L10.3 9.45l-7.72 7.72c-.78.78-.78 2.05 0 2.83L4 21.41c.39.39.9.59 1.41.59.51 0 1.02-.2 1.41-.59l7.78-7.78 2.81-2.81c.8-.78.8-2.07 0-2.86zM5.41 20L4 18.59l7.72-7.72 1.47 1.35L5.41 20z\"/>\n",
              "  </svg>\n",
              "      </button>\n",
              "      \n",
              "  <style>\n",
              "    .colab-df-container {\n",
              "      display:flex;\n",
              "      flex-wrap:wrap;\n",
              "      gap: 12px;\n",
              "    }\n",
              "\n",
              "    .colab-df-convert {\n",
              "      background-color: #E8F0FE;\n",
              "      border: none;\n",
              "      border-radius: 50%;\n",
              "      cursor: pointer;\n",
              "      display: none;\n",
              "      fill: #1967D2;\n",
              "      height: 32px;\n",
              "      padding: 0 0 0 0;\n",
              "      width: 32px;\n",
              "    }\n",
              "\n",
              "    .colab-df-convert:hover {\n",
              "      background-color: #E2EBFA;\n",
              "      box-shadow: 0px 1px 2px rgba(60, 64, 67, 0.3), 0px 1px 3px 1px rgba(60, 64, 67, 0.15);\n",
              "      fill: #174EA6;\n",
              "    }\n",
              "\n",
              "    [theme=dark] .colab-df-convert {\n",
              "      background-color: #3B4455;\n",
              "      fill: #D2E3FC;\n",
              "    }\n",
              "\n",
              "    [theme=dark] .colab-df-convert:hover {\n",
              "      background-color: #434B5C;\n",
              "      box-shadow: 0px 1px 3px 1px rgba(0, 0, 0, 0.15);\n",
              "      filter: drop-shadow(0px 1px 2px rgba(0, 0, 0, 0.3));\n",
              "      fill: #FFFFFF;\n",
              "    }\n",
              "  </style>\n",
              "\n",
              "      <script>\n",
              "        const buttonEl =\n",
              "          document.querySelector('#df-25aa3274-9a30-4569-b245-67ebaebd0dff button.colab-df-convert');\n",
              "        buttonEl.style.display =\n",
              "          google.colab.kernel.accessAllowed ? 'block' : 'none';\n",
              "\n",
              "        async function convertToInteractive(key) {\n",
              "          const element = document.querySelector('#df-25aa3274-9a30-4569-b245-67ebaebd0dff');\n",
              "          const dataTable =\n",
              "            await google.colab.kernel.invokeFunction('convertToInteractive',\n",
              "                                                     [key], {});\n",
              "          if (!dataTable) return;\n",
              "\n",
              "          const docLinkHtml = 'Like what you see? Visit the ' +\n",
              "            '<a target=\"_blank\" href=https://colab.research.google.com/notebooks/data_table.ipynb>data table notebook</a>'\n",
              "            + ' to learn more about interactive tables.';\n",
              "          element.innerHTML = '';\n",
              "          dataTable['output_type'] = 'display_data';\n",
              "          await google.colab.output.renderOutput(dataTable, element);\n",
              "          const docLink = document.createElement('div');\n",
              "          docLink.innerHTML = docLinkHtml;\n",
              "          element.appendChild(docLink);\n",
              "        }\n",
              "      </script>\n",
              "    </div>\n",
              "  </div>\n",
              "  "
            ]
          },
          "metadata": {},
          "execution_count": 19
        }
      ]
    },
    {
      "cell_type": "code",
      "source": [
        "data.info() #измененный тип данных в столбцах city, experience, company_size"
      ],
      "metadata": {
        "colab": {
          "base_uri": "https://localhost:8080/"
        },
        "id": "JfnsvdrQblcU",
        "outputId": "e2d4f908-28b7-4e3b-fc8a-e6184b3ddddb"
      },
      "execution_count": null,
      "outputs": [
        {
          "output_type": "stream",
          "name": "stdout",
          "text": [
            "<class 'pandas.core.frame.DataFrame'>\n",
            "RangeIndex: 19158 entries, 0 to 19157\n",
            "Data columns (total 14 columns):\n",
            " #   Column                  Non-Null Count  Dtype  \n",
            "---  ------                  --------------  -----  \n",
            " 0   enrollee_id             19158 non-null  int64  \n",
            " 1   city                    19158 non-null  int64  \n",
            " 2   city_development_index  19158 non-null  float64\n",
            " 3   gender                  14650 non-null  object \n",
            " 4   relevent_experience     19158 non-null  object \n",
            " 5   enrolled_university     18772 non-null  object \n",
            " 6   education_level         18698 non-null  object \n",
            " 7   major_discipline        16345 non-null  object \n",
            " 8   experience              19093 non-null  float64\n",
            " 9   company_size            13220 non-null  Int64  \n",
            " 10  company_type            13018 non-null  object \n",
            " 11  last_new_job            18735 non-null  object \n",
            " 12  training_hours          19158 non-null  int64  \n",
            " 13  target                  19158 non-null  float64\n",
            "dtypes: Int64(1), float64(3), int64(3), object(7)\n",
            "memory usage: 2.1+ MB\n"
          ]
        }
      ]
    },
    {
      "cell_type": "markdown",
      "source": [
        "### Вывод\n",
        "Данные предобработаны:\n",
        "- столбец *city* обращён в числовые значения\n",
        "- в столбце *experience* значения *\\<1* и *>20* переведены в условные *0* и *21*; при анализе стоит учитывать, что эти показатели не реальны, а взяты только для удобства обработки\n",
        "- в столбце *company_size* интервалы приведены к нижней границе\n",
        "- в столбце *last_new_job* значение *\\<1* преобразовано в *0*; все значения хранятся в строковом виде и могут быть отсортированы в нём"
      ],
      "metadata": {
        "id": "XHgXu0n0Lhx2"
      }
    },
    {
      "cell_type": "markdown",
      "metadata": {
        "id": "1UVGa1WzSbX2"
      },
      "source": [
        "### 3. Исследовательский анализ данных."
      ]
    },
    {
      "cell_type": "markdown",
      "source": [
        "###Задача 1. Как часто выпускники меняют работу (на основе данных по последней работе)?"
      ],
      "metadata": {
        "id": "Vsk8nVQoMZDJ"
      }
    },
    {
      "cell_type": "code",
      "source": [
        "fig = px.histogram(data_frame=data.last_new_job) #строим гистограмму на основе столбца last_new_job\n",
        "fig.update_layout(title=\"Как часто выпускники меняют работу\",\n",
        "                  xaxis_title=\"годы на последней работе\",\n",
        "                  yaxis_title=\"количество выпускников\")\n",
        "fig.update_xaxes(type='category', categoryorder='category ascending') #названия столбцов рассматриваем как категории, чтобы сохранить название >4\n",
        "fig.show(bbox_inches='tight')"
      ],
      "metadata": {
        "colab": {
          "base_uri": "https://localhost:8080/",
          "height": 542
        },
        "id": "G19uT_0dRXkA",
        "outputId": "04364f54-b502-4b67-d705-e2d9791d4c84"
      },
      "execution_count": null,
      "outputs": [
        {
          "output_type": "display_data",
          "data": {
            "text/html": [
              "<html>\n",
              "<head><meta charset=\"utf-8\" /></head>\n",
              "<body>\n",
              "    <div>            <script src=\"https://cdnjs.cloudflare.com/ajax/libs/mathjax/2.7.5/MathJax.js?config=TeX-AMS-MML_SVG\"></script><script type=\"text/javascript\">if (window.MathJax && window.MathJax.Hub && window.MathJax.Hub.Config) {window.MathJax.Hub.Config({SVG: {font: \"STIX-Web\"}});}</script>                <script type=\"text/javascript\">window.PlotlyConfig = {MathJaxConfig: 'local'};</script>\n",
              "        <script src=\"https://cdn.plot.ly/plotly-2.18.2.min.js\"></script>                <div id=\"4b523c1d-ee3a-460e-9c60-c7fadc8959c9\" class=\"plotly-graph-div\" style=\"height:525px; width:100%;\"></div>            <script type=\"text/javascript\">                                    window.PLOTLYENV=window.PLOTLYENV || {};                                    if (document.getElementById(\"4b523c1d-ee3a-460e-9c60-c7fadc8959c9\")) {                    Plotly.newPlot(                        \"4b523c1d-ee3a-460e-9c60-c7fadc8959c9\",                        [{\"alignmentgroup\":\"True\",\"bingroup\":\"x\",\"hovertemplate\":\"variable=last_new_job<br>value=%{x}<br>count=%{y}<extra></extra>\",\"legendgroup\":\"last_new_job\",\"marker\":{\"color\":\"#636efa\",\"pattern\":{\"shape\":\"\"}},\"name\":\"last_new_job\",\"offsetgroup\":\"last_new_job\",\"orientation\":\"v\",\"showlegend\":true,\"x\":[\"1\",\">4\",\"0\",\"0\",\"4\",\"1\",\"1\",\">4\",\"1\",\">4\",\"0\",\"1\",\"3\",\"0\",\"0\",\">4\",\"0\",\"2\",\"0\",\"1\",\"1\",\"2\",\"1\",\"1\",\"1\",\"0\",\"1\",\"2\",\"1\",\"2\",\"3\",\">4\",\"1\",\">4\",\"3\",\"2\",\"1\",\"4\",\"4\",\"0\",\"2\",\"2\",\"1\",\"0\",\"3\",\"0\",\"0\",\"4\",\">4\",\"1\",\"1\",\"2\",\">4\",\"2\",\"1\",\"1\",\"2\",\"2\",null,\">4\",\"1\",\"3\",\"1\",\">4\",null,\"2\",\"4\",\">4\",\"1\",\"0\",\"4\",\"0\",\"1\",\"1\",\"0\",\"2\",\"2\",\"1\",\"3\",\"1\",\">4\",\"2\",\"1\",\"1\",\"1\",\"1\",\"2\",\"3\",\"2\",\"1\",null,\"0\",\"1\",\"2\",\"1\",\"1\",\"1\",\"1\",\"2\",\"2\",\"1\",\"1\",\">4\",\"1\",\"1\",\"2\",\"2\",\"2\",\">4\",\"4\",\"1\",\"1\",\"1\",\"2\",\"1\",\">4\",\"2\",\"1\",\"4\",\"1\",\">4\",\"2\",\"2\",\"1\",\"1\",\"2\",\"1\",\">4\",\"1\",\"3\",\">4\",\">4\",\"3\",\"4\",\"0\",null,\"1\",\"1\",\"1\",\"1\",\"4\",\"2\",\"2\",\">4\",\">4\",\"0\",\">4\",\"2\",\"0\",\"0\",\"4\",\"1\",\">4\",\"1\",\">4\",\"4\",\">4\",\"3\",\"0\",\"1\",\"1\",\"0\",\"2\",\">4\",\"1\",\">4\",\">4\",\">4\",\"1\",\">4\",\"4\",\">4\",\"1\",\"1\",\"1\",\"4\",\"1\",\"1\",\"1\",\"1\",null,\"1\",\"0\",\">4\",\"0\",\"1\",\">4\",\">4\",\">4\",\"1\",\"1\",\"0\",\"3\",\"1\",\"0\",\"2\",\"1\",\"0\",\"0\",\"2\",\"1\",\"1\",\"1\",\"1\",\"1\",null,\"1\",\">4\",\">4\",\"0\",\"1\",\"1\",\"0\",\"0\",\"1\",\"4\",\"1\",\"0\",\">4\",\"1\",\">4\",\">4\",\"1\",\"1\",\"1\",\"0\",\">4\",\"2\",\"0\",\"2\",\"1\",\">4\",\"2\",\"2\",\">4\",\"4\",\"1\",\"2\",\"1\",\">4\",\"1\",\"1\",\">4\",\"1\",\">4\",\"0\",\">4\",\"2\",\"1\",\"3\",\">4\",\">4\",\"1\",\"0\",\"1\",\"1\",\"1\",\"1\",\"1\",\">4\",\"1\",\">4\",\"1\",\"1\",\"3\",\"0\",\"0\",\"1\",\"3\",\"0\",\"1\",\"0\",\"2\",\"2\",\">4\",\">4\",\"1\",\"2\",\"1\",\"4\",\"1\",\"0\",\"2\",\"1\",\"1\",\"1\",\"1\",\"1\",\"2\",\"2\",\"1\",\"1\",\"1\",\">4\",\"1\",\"2\",\"1\",\"2\",\">4\",\"1\",\"0\",\"1\",\"1\",\"1\",\"1\",\"0\",\"1\",\"1\",\">4\",\"1\",\"1\",\"1\",\">4\",\">4\",\">4\",\"0\",\"0\",\">4\",\"1\",\"2\",\"4\",\">4\",\">4\",\">4\",\"1\",\"0\",\"1\",\"1\",\"2\",\"1\",\"1\",\"0\",\"2\",\"1\",\"4\",\"1\",\"0\",\">4\",\"2\",\"1\",\"1\",\"4\",\"1\",\"1\",\"1\",\"2\",\"4\",\"2\",\"2\",\"1\",\">4\",\"0\",\"1\",\"4\",\"0\",\"1\",\"1\",\">4\",\"1\",\">4\",\">4\",\"2\",\"3\",\">4\",\"2\",\"1\",\"0\",\"1\",\"2\",\">4\",\">4\",\">4\",\"0\",\"0\",\">4\",\"0\",\"2\",\"1\",\"4\",\"1\",\">4\",\"1\",\"4\",\">4\",\"1\",\">4\",\"2\",\"1\",\"1\",\">4\",\"0\",null,\"1\",\"1\",\"2\",\"1\",\"0\",\"1\",\"0\",\"0\",\"3\",\"1\",\"1\",\"1\",\"4\",\"2\",\"1\",\"1\",\">4\",\"3\",\"0\",\"1\",\"1\",\"1\",\"0\",\"1\",\"1\",\"1\",\"0\",\">4\",\"1\",\"1\",\"2\",\"0\",\"1\",\"1\",\"1\",\"1\",\"2\",\"1\",\"1\",\">4\",\"1\",\"1\",\">4\",\"1\",\"2\",\"1\",\"2\",\"0\",\"1\",\"1\",\"4\",\"1\",\"1\",\"2\",\"3\",\"1\",\"1\",\">4\",\">4\",\"1\",\">4\",\"1\",\">4\",\"1\",\"1\",\"1\",null,\">4\",\">4\",\"0\",\"1\",\"0\",\"1\",\"0\",\"1\",\">4\",\"1\",\"1\",\"1\",\"1\",\"2\",\"1\",\"2\",\"2\",\"2\",\">4\",\"1\",\"0\",\">4\",\"1\",\"1\",\"2\",\">4\",\"1\",\">4\",\"2\",\">4\",\"3\",\"0\",\"2\",\"4\",\"1\",\"1\",\"3\",\">4\",\"1\",\"3\",\"1\",\"2\",\">4\",\"1\",\"2\",\"1\",\"0\",\"0\",\"2\",\"2\",\"0\",\">4\",\"1\",\"1\",\"1\",\">4\",\">4\",\">4\",\"4\",\"0\",\"1\",\"2\",\"1\",\">4\",\"1\",\"2\",\"1\",\"1\",\"1\",\"1\",\"2\",\"1\",\"2\",\"1\",\"2\",\"1\",\"1\",\"1\",\"1\",\"0\",\"1\",\"4\",\"2\",\"1\",\">4\",\"2\",\"3\",\"1\",\"4\",\"0\",\"1\",\">4\",\"3\",\">4\",\"1\",\">4\",\"1\",\"2\",\">4\",\"1\",\"1\",\"1\",\"1\",\"0\",\">4\",\"1\",\"2\",\"3\",\"2\",\">4\",\"2\",\"1\",\"1\",\"1\",\"2\",\"1\",null,\"2\",\"1\",\"1\",\">4\",\">4\",\"1\",\"3\",\">4\",\"1\",\"1\",\"1\",\"1\",\"1\",\"0\",\"1\",\"0\",\">4\",null,\"2\",\"1\",\">4\",\"1\",\"4\",\"1\",\"1\",\">4\",\">4\",\"3\",\"3\",\"1\",\"2\",\"1\",\"1\",\"2\",\"1\",\"2\",\"3\",\"4\",\"1\",\"1\",\"2\",\"2\",\"1\",\"1\",\"2\",\"2\",\"4\",\"0\",\">4\",\"2\",\"4\",\"0\",\">4\",\">4\",\"1\",\"1\",\"1\",\"1\",\"1\",\"2\",\"2\",\"1\",\">4\",\"1\",\"4\",\"2\",\"4\",\"1\",\">4\",\"1\",\"1\",\"1\",\"3\",\"3\",\"3\",\"1\",\"0\",\"1\",\"3\",\"2\",\"1\",\"2\",\"0\",\">4\",\"1\",\"0\",\">4\",\"4\",\"1\",\"1\",\"2\",\"2\",\"1\",\"1\",\"0\",\"1\",\">4\",\"1\",\"1\",\">4\",\"0\",\"3\",\"4\",\"1\",\"1\",\"2\",\"1\",\"1\",\">4\",\"1\",\"1\",\"1\",\">4\",\">4\",\"0\",\">4\",\"1\",\"2\",\"1\",\"1\",\"4\",\"1\",\"1\",\">4\",\"2\",\"2\",\"1\",\"1\",\"1\",\"1\",\"1\",\"1\",\">4\",\"2\",\"4\",\"1\",\"1\",\"1\",\"2\",\">4\",\"4\",\"2\",\"0\",null,\"0\",\"2\",\"0\",\"4\",\"1\",\"0\",\"0\",\"2\",\"1\",\"1\",\"4\",\"1\",\"1\",\"1\",\"1\",\"1\",\"0\",\"1\",\"0\",\"1\",\">4\",\"1\",\"0\",\"1\",\"0\",\"4\",\">4\",\"1\",\">4\",\"1\",\"1\",\"1\",\"1\",\"0\",\"0\",\"1\",\"2\",\"4\",\"1\",\"1\",\"0\",\"3\",\"1\",\"2\",\">4\",\">4\",\"1\",\"1\",\"3\",\"1\",null,\"1\",\">4\",\"0\",\"0\",\"3\",\"3\",\"2\",\"2\",\">4\",\"1\",\"2\",\"1\",\"2\",\"4\",\"2\",\"1\",\"2\",\"2\",\">4\",\"3\",\">4\",\">4\",\">4\",\"1\",\">4\",\"0\",\"1\",\"1\",\"1\",\"0\",\"1\",\"1\",\"1\",\"1\",\">4\",\">4\",\"1\",\"0\",\"1\",\"0\",\"3\",\"1\",\"2\",\"1\",\"2\",\"0\",\"2\",\"2\",\"1\",\"1\",\"2\",\"0\",\">4\",\"1\",\"1\",\"4\",\"1\",\">4\",\"2\",\"1\",\"3\",\">4\",\"1\",\"0\",\"1\",\"1\",\">4\",\"1\",\"1\",\"3\",\"1\",\"0\",\">4\",\"0\",\">4\",\"4\",\"0\",\"1\",\"1\",\"3\",\"2\",\"4\",\"0\",\"3\",\">4\",\"1\",\"2\",\"1\",\"1\",\"0\",\"1\",\"1\",\"1\",\"0\",\"1\",\">4\",\"1\",\">4\",\"4\",\"0\",\"1\",\"0\",\"1\",\"1\",\">4\",\"1\",\">4\",\"1\",\"1\",\"1\",\"4\",\"0\",\"1\",\"0\",\"1\",\"3\",\"1\",\"1\",\"2\",\">4\",null,\">4\",\"2\",\"1\",\"1\",\"0\",\">4\",\"1\",\"1\",\">4\",\"2\",null,\"1\",\"1\",\"0\",\"1\",\"1\",\"1\",null,\"1\",\"4\",\"0\",\"1\",\"0\",\"0\",\"4\",\">4\",\"1\",\"1\",\"1\",\"0\",\"1\",\"1\",\"1\",\"1\",\"2\",\"3\",\"3\",\"1\",\">4\",\">4\",\"1\",\"1\",\"1\",\"1\",\"0\",\"2\",\">4\",\"2\",\"2\",\"2\",\"2\",\"1\",\"2\",\"1\",\"4\",\"0\",\"3\",\"3\",\"0\",\">4\",\"1\",\"3\",\">4\",\"0\",\"0\",\"1\",\"1\",\"4\",\"1\",\"3\",\"1\",\"1\",\"1\",\"0\",\"1\",\">4\",\">4\",\">4\",\"0\",\"2\",\"0\",\"2\",\"2\",\">4\",\"0\",null,\">4\",\"1\",\"2\",\"2\",\">4\",\"0\",\"1\",\"1\",\"1\",\"0\",\">4\",\"4\",\"1\",\"2\",\"0\",\"3\",null,\"1\",\"4\",\"1\",\"1\",\"1\",\"0\",\"4\",\"1\",\"2\",\"1\",\"2\",\"1\",\"1\",\"1\",\"1\",\"1\",\"2\",\"0\",\">4\",\"1\",\"2\",\"1\",\"2\",\"1\",\">4\",\"2\",\"1\",\"0\",\">4\",\">4\",\"1\",\"2\",\"0\",\"2\",\"1\",\"2\",\">4\",\"1\",\"1\",\"1\",\">4\",\"0\",\"1\",\"0\",\"2\",\">4\",\"2\",\"3\",\">4\",\"3\",\"2\",\"1\",null,\"2\",\"1\",\"2\",\">4\",\"4\",\"2\",\"1\",\"2\",\"2\",\"1\",\">4\",\"1\",\"0\",\"1\",\"1\",\"1\",\"0\",\"2\",\"1\",\"1\",\"1\",\">4\",\"1\",\"0\",\"1\",\"0\",\"1\",\"1\",\"0\",\"0\",\">4\",\"1\",\">4\",\"4\",\">4\",\"1\",\"1\",\"4\",\"1\",\"1\",\">4\",\"1\",\"1\",\"0\",\"1\",\"1\",\"0\",\"0\",\"1\",\"0\",\"0\",\"4\",\"1\",\"0\",\"1\",\"1\",\"1\",\">4\",\"0\",\"3\",\"1\",\"1\",\"2\",\"3\",\"1\",\">4\",\">4\",\"4\",\"1\",\"1\",\"1\",\"2\",\"1\",\"3\",\"1\",\"4\",\"1\",\"2\",\"4\",\">4\",\"1\",\"1\",\"1\",\"2\",\"1\",\">4\",\"1\",\">4\",\">4\",\"1\",\"0\",\"2\",\">4\",\"4\",\"1\",\"2\",\"1\",\"0\",\"1\",\"1\",\"0\",\"1\",\"1\",\"1\",\">4\",\"1\",\"2\",\"3\",\"1\",\"2\",\"1\",\"1\",\"4\",\"1\",\"1\",\"3\",\"0\",\"1\",null,\"1\",\"1\",\">4\",\"0\",\"0\",\"1\",\"1\",\">4\",\"1\",\"1\",\"1\",\"0\",\">4\",\"1\",\"0\",\"1\",\"0\",\"0\",\"2\",\"1\",null,\"0\",\"0\",\"0\",\"0\",\"4\",\"3\",\"1\",\"1\",\"0\",\"2\",\"1\",\">4\",null,\"2\",\">4\",\"2\",\">4\",\">4\",\"2\",\"2\",\"0\",\"0\",\"1\",\"0\",\"1\",\"1\",\">4\",\"1\",\"1\",\"1\",\"1\",\"0\",\"2\",\"0\",\">4\",\"1\",\">4\",\"1\",\"3\",\"1\",\"4\",\"1\",\"0\",\"2\",\"0\",\"1\",\">4\",\"0\",\"1\",\"0\",\"0\",\"1\",\"0\",\"0\",\"1\",\"1\",\">4\",\"1\",\"0\",\">4\",\">4\",\"1\",\"1\",\">4\",\"2\",\"0\",\"1\",\"1\",\"1\",\"1\",\"2\",\"1\",\"1\",\"1\",\">4\",\"0\",\"1\",\"0\",\"1\",\"0\",\"0\",\">4\",\"1\",\"1\",\"1\",\"1\",\"4\",\"1\",\"0\",\"1\",\"2\",\"2\",\"4\",\">4\",\"4\",\"2\",\">4\",\"2\",\">4\",\"1\",\"2\",\"1\",\">4\",\"1\",\"2\",\"0\",\">4\",\"0\",\"1\",\"1\",\"2\",\"1\",\"1\",\"2\",\"1\",\"3\",\"1\",\"2\",\"1\",\"1\",\"1\",\"0\",\"2\",\">4\",\"1\",\"1\",\"3\",\">4\",\">4\",\"2\",\"0\",\">4\",\">4\",\"1\",\"1\",null,\"1\",\">4\",\"1\",\"1\",\"4\",\"0\",\"2\",\"0\",\"3\",\"2\",\"2\",\"0\",\">4\",\"1\",\"1\",\">4\",\"0\",\">4\",\"1\",\"1\",\"2\",\"2\",\"0\",\"1\",\"2\",\">4\",\">4\",\"2\",\"2\",\">4\",\"2\",\"1\",\"0\",\"4\",\"2\",\"2\",\">4\",\"1\",\"2\",\"1\",\">4\",\"1\",\">4\",\"2\",\">4\",\"0\",\"1\",\">4\",null,\"3\",\"1\",\"1\",null,\">4\",\"0\",\"0\",\"2\",\"1\",\"4\",\"0\",\"1\",\"1\",\"1\",\"1\",null,\"1\",\"0\",\"2\",\"1\",\"1\",\"2\",\"0\",\"0\",\"4\",\"3\",\"0\",\"2\",\">4\",\">4\",\"3\",\"4\",\"1\",\"4\",\"3\",\"2\",\"0\",\">4\",\">4\",\"1\",\"0\",\"2\",\"4\",\"1\",\"1\",\"2\",\"1\",\"2\",\">4\",\"1\",\"2\",\"2\",\"1\",\"1\",\"2\",\"3\",\"0\",\"1\",\"2\",\"1\",\"1\",\"0\",\"1\",\"0\",\">4\",\"1\",\"0\",\"1\",null,null,\"1\",\">4\",null,\"3\",\"1\",\"1\",\"1\",\"1\",\"1\",\"1\",\"0\",\">4\",\"1\",\"1\",\"0\",\"2\",\"1\",\"1\",\"1\",\"1\",\"2\",\"1\",\">4\",\"0\",\"1\",\"2\",\"1\",\"1\",\"2\",\">4\",\"0\",\"1\",\">4\",\">4\",\"2\",\"0\",\"1\",\"1\",\"2\",\"1\",\"1\",\">4\",\"0\",\"2\",\">4\",\"1\",\"1\",\">4\",\"4\",null,\"1\",\"1\",\">4\",\"1\",\"3\",\"2\",\"3\",\"2\",\"1\",\"4\",\"1\",\">4\",\">4\",\"4\",\"0\",\"1\",\"0\",\"1\",\"1\",\"1\",null,\"4\",\"1\",\">4\",\"1\",\"2\",\"2\",\"1\",\"2\",\"4\",\">4\",\"0\",\"3\",\">4\",\"4\",\"2\",\"2\",\"0\",\">4\",\"3\",\"0\",\"1\",\"3\",\"0\",\"1\",\"2\",\"1\",\"0\",\"1\",\">4\",\"2\",\">4\",\">4\",\"0\",\"0\",\"1\",\"4\",\"1\",\"1\",\"1\",\"4\",\"2\",\"2\",\"1\",\"1\",\"1\",\"1\",\">4\",\"1\",\">4\",\"1\",\"2\",\">4\",\"1\",\"1\",\"1\",\"1\",\"1\",\"1\",\"1\",\"1\",\"1\",\"1\",\"1\",\"3\",\"0\",\"1\",\"1\",\"2\",\"2\",\">4\",\"0\",null,\"1\",\"1\",\"1\",\"0\",\"1\",\"0\",\"2\",\">4\",\"2\",\"1\",\">4\",\">4\",\"1\",\"2\",\"2\",\"1\",\"0\",\"2\",\"1\",\"1\",\"1\",\"2\",\"3\",\"2\",\">4\",\"1\",\"0\",\"1\",\"1\",\"2\",\"0\",\"3\",\"2\",\"2\",\"1\",\"1\",\"1\",\"4\",\"2\",\"3\",\"0\",null,\"1\",\"2\",\"0\",\"1\",null,\"1\",\"3\",\">4\",\"4\",\"0\",\"2\",\">4\",\"2\",\"1\",\"3\",\"3\",\"2\",\">4\",\"1\",\"2\",\"2\",\"3\",\"1\",\"2\",\"1\",\"1\",\"1\",\"1\",\"2\",\"0\",\"4\",\"1\",\"4\",\">4\",\"1\",\"2\",\"1\",\"1\",\"2\",\"2\",\">4\",\"0\",\"0\",\"1\",\"1\",\"1\",\"4\",\">4\",\"3\",\">4\",\"2\",\"1\",\"2\",\"1\",\"1\",null,\">4\",\"1\",\"1\",\">4\",\"3\",\"1\",\">4\",\"2\",\"0\",\">4\",\"2\",\"1\",\"1\",\"2\",\"0\",\"1\",\"3\",\"2\",\">4\",\">4\",\"2\",null,\">4\",\"0\",\"1\",\"4\",\">4\",\">4\",\">4\",\"1\",\"1\",\"0\",\"1\",\"4\",\"1\",\"1\",\"3\",\"0\",\"1\",\"1\",\"1\",\"2\",null,\"4\",\"4\",\"1\",\"3\",\"4\",\"1\",\"1\",null,\"1\",\">4\",\"2\",\">4\",\"3\",\">4\",\"1\",null,\">4\",\"2\",\"3\",\"1\",\"0\",\">4\",\">4\",\">4\",\"2\",\"2\",\">4\",\"1\",\"1\",\"1\",\">4\",\"2\",\"1\",\"2\",\"3\",\"2\",\"1\",\"0\",\"2\",\"1\",\"1\",\"1\",\"3\",\"1\",\">4\",\"2\",\"1\",\"1\",\">4\",\"0\",\"0\",\"1\",\"1\",\"1\",\"3\",\"1\",\"3\",\"2\",\"1\",\"2\",\">4\",\"3\",\"1\",\"3\",\"1\",\"4\",\"1\",\"0\",\"2\",\"1\",\"1\",\"1\",\"1\",\"1\",\"1\",\"1\",\"0\",null,\"1\",\"3\",\"1\",\">4\",\"1\",\"1\",\"3\",\"2\",\"2\",\"1\",\"2\",\"1\",\"2\",\"0\",\"3\",\"1\",\"2\",\"3\",\"0\",\"2\",\"1\",\"1\",\">4\",\"0\",\"1\",\"0\",\"1\",\"2\",\"2\",\">4\",\"1\",\"0\",\">4\",\">4\",\"0\",\"1\",\"1\",\"1\",\"1\",\"1\",\"0\",\"4\",\"0\",\"1\",\"3\",\"1\",\"1\",\"1\",\"1\",\">4\",\"1\",\"1\",\">4\",\"0\",\"1\",\"2\",\"0\",\">4\",\"1\",\"1\",\">4\",\"1\",\"4\",\"0\",\"2\",\"1\",\">4\",\"1\",\"0\",\"1\",\">4\",\"1\",\"1\",\"0\",\"1\",\">4\",\"1\",\"0\",\"0\",\"2\",\"1\",\">4\",\"1\",\"1\",null,\"1\",\"0\",\"1\",\"1\",\"2\",\"1\",\"2\",\"2\",\">4\",\"0\",\"2\",\"0\",\"2\",\"1\",\"2\",\"0\",\"1\",\"1\",\">4\",\"1\",\"4\",\"1\",\"1\",\"1\",\"1\",\"0\",\">4\",\"1\",\">4\",\">4\",\">4\",\">4\",\"1\",\"2\",\"1\",\"1\",\">4\",\"1\",\"1\",\"1\",\"1\",\"1\",\"1\",\"1\",\"0\",\"0\",\">4\",\"2\",\"0\",\">4\",\"4\",\"1\",\"2\",\"3\",\"1\",\"0\",\"0\",\">4\",\"1\",\">4\",\"1\",\"1\",\">4\",\"0\",\"1\",\"3\",\"1\",\"1\",\"1\",\"1\",\"1\",\"1\",\"1\",\"2\",null,\"1\",\"1\",\"1\",\">4\",\"3\",\"1\",\">4\",\"2\",\"2\",\"1\",\"1\",\"4\",\"2\",\"1\",\"0\",\"1\",\"1\",\"1\",null,\"2\",\"4\",\"1\",\"1\",\"0\",\"0\",\"1\",\"1\",\"1\",\">4\",\">4\",\"1\",\"0\",\"1\",\"1\",\">4\",\">4\",\"2\",\"1\",\"3\",\"1\",\">4\",\"4\",null,\"2\",\">4\",\"3\",\"4\",\"3\",\">4\",\"1\",\"1\",\">4\",\"2\",\"1\",\">4\",\"0\",\"1\",\">4\",\"1\",\">4\",\"2\",\"3\",\"3\",\"1\",\">4\",\"3\",\"3\",\"4\",\"4\",\"1\",\"2\",\"4\",null,\"1\",\"0\",\"1\",\"4\",\"4\",\"2\",\"0\",\"3\",\"1\",\"1\",\"1\",\"1\",\"1\",\"2\",\"0\",\"2\",\"1\",\"1\",\"1\",\"3\",\"1\",\"0\",null,\"4\",\">4\",\"0\",\">4\",\"2\",\"1\",\"1\",\"4\",\"0\",\">4\",\"1\",\"2\",\">4\",\"1\",\"4\",\"0\",\"1\",\"4\",\"1\",\"1\",\"1\",\">4\",\"1\",\">4\",\"4\",\"0\",\"1\",\"1\",\"1\",\"0\",\">4\",\">4\",\"1\",\"4\",\">4\",\"3\",\">4\",\"1\",\"3\",\">4\",\"1\",\"2\",\"2\",\"1\",\">4\",null,\"1\",\"3\",\"3\",\"1\",\"1\",\"0\",\"3\",\"0\",\"0\",\"1\",\"2\",null,\">4\",\"0\",\"1\",\"1\",\"1\",\"0\",\"1\",\"1\",\"1\",\"3\",\">4\",\"1\",\"0\",\"1\",\"1\",\">4\",\"2\",\"4\",\"1\",\"1\",\"0\",\"1\",\"1\",\"2\",\"1\",\">4\",\"1\",\"1\",\"1\",\"1\",\"0\",\"2\",\">4\",\"1\",\"1\",\"0\",\"1\",\"1\",\"1\",\"3\",\"1\",\"1\",\"1\",\"3\",\"2\",\">4\",\"3\",\"2\",\"0\",\"1\",\"0\",\">4\",\">4\",\"1\",\"2\",\"1\",\"1\",\"1\",\">4\",\"0\",\">4\",\">4\",\"1\",\">4\",\"1\",\"4\",\"2\",\"0\",\"1\",\">4\",\"3\",\"0\",null,\">4\",\"2\",\"4\",\"1\",\"1\",\"0\",\"1\",\"2\",null,\"1\",\"0\",\"1\",\"1\",\"1\",\"0\",\"1\",\"1\",\"1\",\"0\",\"1\",\"1\",\"2\",\"1\",\"1\",\"1\",\"2\",\"3\",\"1\",\"0\",\"1\",\"2\",\"3\",\">4\",\">4\",\"4\",\">4\",\"1\",\"1\",\">4\",\">4\",\"0\",\"4\",\"4\",\">4\",\"3\",\"4\",\"1\",\"2\",\"1\",\"1\",\"1\",\">4\",\"3\",\"1\",\"3\",\"1\",\"1\",\"2\",\"2\",\"0\",\"1\",\"1\",\">4\",\">4\",\"1\",\">4\",\"1\",\">4\",\"2\",\"1\",\"4\",\">4\",\"2\",\"1\",\"1\",\"3\",\">4\",\"4\",\"1\",\"1\",\"2\",\"2\",\"2\",\"1\",\"1\",\"2\",\"2\",\"2\",\"0\",\">4\",\"1\",\">4\",\"3\",\"0\",\">4\",\">4\",\"1\",\"4\",\"1\",\"3\",\"1\",\"1\",\">4\",\"2\",\"1\",\"4\",\">4\",\"2\",\">4\",\">4\",\"1\",\"1\",\"2\",\"1\",\"3\",\"2\",\"2\",\"2\",\"0\",\"1\",\"0\",\"1\",\"1\",\"1\",\"1\",\"4\",\"2\",\"4\",\">4\",\">4\",\"1\",\"0\",\">4\",\"1\",\"3\",\"1\",\"1\",\"0\",\">4\",\"1\",\"1\",\"2\",\"0\",\"1\",\"1\",\"1\",\"2\",\"1\",\">4\",\"1\",\"1\",\"1\",\">4\",\"4\",\">4\",\"1\",\">4\",\">4\",\"1\",\"0\",\"1\",\">4\",\"2\",null,\">4\",\"3\",\"1\",\"1\",\"0\",\"1\",\"1\",\"1\",\"1\",\">4\",\"1\",\"4\",\"1\",\"3\",\"2\",\"1\",\"2\",\"0\",\"0\",\"3\",\"3\",\"0\",\"1\",\"1\",\"0\",\"0\",\">4\",\"1\",\"1\",\"1\",\"4\",\"0\",\"0\",\"1\",\">4\",\"0\",\"1\",\"2\",\"1\",\"2\",\">4\",\"1\",\"0\",\">4\",\"1\",\"1\",null,\"3\",null,null,\"0\",\"0\",\"4\",\">4\",\"1\",\"2\",\"1\",\"1\",\"1\",\"1\",\"2\",\"1\",\"1\",\"0\",\">4\",\"1\",\"0\",\">4\",\"1\",\">4\",null,\"4\",\"1\",\">4\",\"1\",\"1\",\"4\",\"1\",\"0\",\"1\",\"3\",\">4\",\"1\",\"4\",\"4\",\"2\",\"0\",\"1\",\"1\",\"1\",\"1\",\"1\",\"3\",\"1\",\"1\",\"4\",\"1\",\"1\",\"1\",\"1\",\">4\",\"0\",\"0\",\">4\",\">4\",\">4\",\">4\",\"2\",\"3\",\"1\",\"1\",\"1\",\"1\",\"1\",\">4\",\"1\",\"1\",\"0\",\"1\",\"0\",\"0\",\">4\",\"1\",\"1\",\"3\",\"2\",\"1\",\"1\",\"2\",null,\"2\",\"1\",\">4\",null,\"1\",\"1\",\"0\",\"0\",\"2\",\"1\",\"2\",\"1\",\"1\",\"1\",\">4\",\"1\",\"1\",\">4\",\"1\",\">4\",\"4\",\">4\",\"2\",\"1\",\">4\",\"1\",\"1\",\"1\",\"1\",\"2\",\"2\",\"2\",null,\">4\",\"2\",\"1\",\">4\",\"2\",\"1\",\"1\",\">4\",\"2\",\"1\",\"1\",\"0\",\">4\",\"2\",\"1\",\">4\",\"2\",\"4\",\"1\",\">4\",\"1\",\"1\",\"1\",\"2\",\">4\",\"1\",\"2\",\"2\",\"1\",\">4\",\"1\",\"1\",\"1\",null,\"2\",\"1\",\"0\",\"1\",\">4\",\">4\",\"1\",\"1\",\"1\",\"2\",\"0\",\"0\",\"4\",\"2\",\"1\",\"2\",\"0\",\"1\",\">4\",\"1\",\">4\",\"1\",\"1\",\"2\",\"0\",\"0\",\">4\",\"0\",\"0\",\"1\",\">4\",\"4\",\"1\",\"4\",\">4\",\">4\",\"2\",\"2\",\"1\",\"2\",\"2\",\"1\",\"1\",\"3\",\">4\",\"0\",\"2\",\">4\",\"1\",\"1\",\"1\",\"4\",\"1\",\">4\",\"4\",\"3\",\"0\",\"0\",\"1\",\"1\",\"1\",\">4\",\">4\",\"2\",\">4\",\"1\",\"2\",\"1\",\">4\",\"1\",\"1\",\"1\",\"2\",\"1\",\"2\",\"1\",\"2\",\"4\",\"1\",\"0\",\"1\",\"0\",\"1\",\"1\",\"1\",\"1\",\"0\",\"1\",\"2\",\"1\",\"1\",\"1\",\"2\",\"2\",\"0\",\"2\",\"2\",\"1\",\"2\",\"1\",\"0\",\"1\",\"1\",\"2\",\"0\",\">4\",\"1\",\"0\",\"2\",\">4\",\"0\",\"1\",\"3\",\"1\",\"1\",\">4\",\"2\",\"2\",\">4\",\"1\",\">4\",\"2\",\"1\",\"4\",\"1\",\"1\",\"3\",\"3\",\"4\",\"1\",\"1\",\"1\",\"2\",\"3\",\"1\",\"2\",\"1\",\"2\",\"3\",\">4\",\">4\",\"1\",\"1\",\"4\",\"1\",\"2\",\"1\",\"1\",\"0\",\"2\",\"1\",\"1\",\"2\",\"2\",\"1\",\"1\",\"1\",\"1\",\"1\",\"1\",\">4\",\"2\",\"3\",\"3\",\"0\",\"1\",\">4\",\"1\",\"2\",\"1\",\"0\",\"1\",\"4\",\"0\",null,\"1\",null,\">4\",\"0\",\"1\",null,\"0\",\"4\",\"0\",\">4\",\"0\",\"1\",\"1\",\"1\",\"2\",\"0\",\"0\",\"1\",\"4\",\"1\",\"1\",\"4\",\">4\",null,\"1\",\"0\",\"3\",\"1\",\"1\",\">4\",\"1\",\"1\",\">4\",\"2\",\"1\",\"2\",\"1\",\"1\",\">4\",null,\"0\",\">4\",\">4\",\"1\",\"3\",\"2\",\">4\",\"1\",\">4\",\"1\",\"0\",\">4\",\"3\",null,\"1\",\"1\",\"0\",\"1\",\">4\",\">4\",\">4\",\">4\",\"1\",\"2\",\"0\",\"1\",\"2\",\"1\",\"2\",\"0\",\">4\",\"1\",\"1\",\"0\",\"3\",\"3\",\">4\",\">4\",\"0\",\">4\",\">4\",\"0\",\">4\",\">4\",\"1\",\">4\",\"1\",\"2\",\"1\",\"1\",\"2\",\"3\",\">4\",\"1\",\"3\",\"1\",\">4\",\"1\",\"2\",\"1\",\"1\",\"1\",\"2\",\"0\",\"0\",\">4\",\">4\",\"0\",\">4\",\"1\",\"1\",\"1\",\"1\",\"4\",\">4\",\">4\",null,\"0\",\">4\",\">4\",\"1\",\"2\",\"1\",\"1\",\"1\",\"2\",\">4\",\"0\",\"2\",\"3\",\"1\",\"1\",\">4\",\">4\",\">4\",\"1\",\"1\",\"1\",\"4\",\"0\",\">4\",\"0\",\"3\",\"1\",\"1\",\">4\",\"1\",\"4\",\"2\",\"2\",\"2\",\"0\",\">4\",\"1\",\"2\",\"3\",\"1\",\"1\",\">4\",\"1\",\"1\",\">4\",\">4\",\"1\",\"4\",null,\"1\",\">4\",\"1\",\"2\",\"3\",\"0\",\"1\",\"1\",\">4\",\"0\",\">4\",\"0\",\"0\",\"1\",\"1\",\">4\",\"2\",\"0\",\"0\",\"1\",\">4\",\"2\",\"0\",\"1\",\">4\",\">4\",\"1\",\"0\",\"2\",\"1\",\"1\",\"2\",\"1\",\"1\",\"1\",\"2\",\">4\",\"1\",\"2\",\"2\",\"2\",\"1\",\"1\",\">4\",\"1\",\"2\",\"2\",\"3\",\"1\",\"4\",\">4\",\"1\",\">4\",\">4\",\"0\",\"2\",\"1\",\"2\",\"2\",\"1\",\">4\",\"0\",\">4\",\"1\",\"0\",\"1\",\"0\",null,\"2\",\"3\",\">4\",\"1\",\"1\",\"2\",\"1\",\"1\",\"0\",\"1\",\"1\",\"1\",\">4\",\"1\",\"2\",\">4\",\"1\",\">4\",\"0\",\"1\",\">4\",\"1\",\"1\",\"1\",\"0\",\">4\",\">4\",\"2\",\"1\",\"1\",\"2\",\">4\",\"1\",\"1\",\"3\",\"1\",\"3\",\"1\",\"2\",\">4\",\"1\",\"1\",\"2\",\">4\",\"2\",\"0\",\">4\",\"0\",\"2\",\"3\",\"1\",\"1\",\">4\",\"0\",\">4\",\"3\",\">4\",\"4\",\"0\",\"2\",\"1\",\"3\",\"2\",\"1\",\">4\",\"2\",\"1\",\"1\",\"2\",\"0\",\"1\",\"1\",\"1\",\"0\",\"2\",\"4\",\"2\",\"1\",\"1\",\"0\",\"2\",\"1\",\"1\",\"4\",\"2\",\"0\",\">4\",\"1\",\">4\",\"1\",\"3\",\">4\",\"1\",\">4\",\"2\",\"1\",\">4\",\"2\",\"1\",\">4\",\"1\",\"1\",\"4\",\"0\",\">4\",\"1\",\"0\",\"1\",\"4\",\"4\",\"2\",\"0\",\"1\",\">4\",\"0\",\"1\",\">4\",\"2\",\"1\",\">4\",\"0\",\">4\",null,\"2\",null,\">4\",\">4\",\">4\",\"1\",\"1\",\"1\",\"1\",null,\"1\",\"2\",\"1\",\"0\",\">4\",\">4\",\">4\",\"0\",\"1\",\"1\",\">4\",\"2\",\"2\",\"1\",\">4\",\"2\",\"0\",\"0\",\"1\",\"1\",\"1\",\"0\",\"3\",\"1\",\"4\",\"2\",\"2\",\"1\",\"3\",\"0\",\"3\",\"1\",\"2\",null,\"1\",\"1\",\"0\",\"1\",\"1\",\"1\",\"3\",\"1\",\"1\",\"1\",\"2\",\"0\",\"1\",\"0\",\"0\",\"3\",\"1\",\"1\",\"1\",\"0\",\"1\",\"2\",\"2\",\"1\",\"4\",\"0\",\"1\",\"1\",\"1\",\">4\",\"3\",\">4\",\"1\",\"1\",\"0\",\"1\",\"0\",\"1\",\"1\",\"1\",\"0\",\"2\",\"2\",\"4\",\"4\",\"2\",\"1\",\"0\",\"4\",\"1\",\"1\",\"2\",\"1\",\"1\",\">4\",\">4\",\"1\",\">4\",\"2\",\"1\",\">4\",\"4\",\"2\",\">4\",\"2\",\"3\",\"1\",\"1\",\"1\",\"2\",\"1\",\"1\",\"2\",\"2\",\"2\",\"4\",\"1\",\"1\",\"1\",\"1\",\"2\",\"1\",\">4\",\"2\",\"1\",null,\"1\",null,\"1\",\"1\",\"1\",\"2\",\"4\",\"1\",\"2\",\"2\",\"0\",\"2\",\"4\",\"2\",\">4\",\"2\",\"1\",\"0\",\"4\",\">4\",\"1\",\"1\",\"1\",\"0\",\"1\",\">4\",\"1\",\"1\",\"0\",\"1\",\"2\",\"1\",\"1\",\"1\",\">4\",\"0\",\"1\",\"1\",\"0\",\"1\",\"1\",\"4\",\"1\",\">4\",\"4\",\"0\",\"0\",\"1\",\"0\",\">4\",\"0\",\"3\",\"2\",\"4\",\"2\",\">4\",\"0\",\"0\",\"1\",\"1\",\"1\",\"1\",\"2\",\"1\",\"0\",\"1\",\">4\",\"2\",\"1\",\"1\",\"1\",\"2\",\">4\",\"2\",\"1\",\"2\",\"1\",\"1\",\"1\",\"1\",\"2\",\">4\",\"2\",\">4\",\"2\",\">4\",\"0\",\"1\",\"1\",\"1\",\"1\",\"1\",\">4\",\"1\",\"0\",\"2\",\"0\",\">4\",\"1\",\"1\",\"1\",\">4\",\"4\",\"1\",\"2\",\"0\",\"2\",\">4\",\"1\",\"1\",\">4\",\">4\",\"2\",\"1\",\"3\",\">4\",\">4\",\"2\",\">4\",\">4\",\"2\",\"1\",\"1\",\"1\",\"2\",\"1\",\"0\",\"1\",\"3\",\"2\",\">4\",\"1\",\"0\",\"0\",\"3\",\"2\",\"2\",\">4\",\"3\",\"1\",null,\"3\",\"2\",\"1\",\"2\",\">4\",\"2\",\"0\",\">4\",\"0\",\"3\",\"2\",\"1\",\"1\",\"0\",\"1\",\">4\",\">4\",\">4\",\"0\",\"1\",\"1\",\"1\",\"1\",\"0\",\"1\",\"0\",\"2\",\"0\",\"0\",\"1\",\"0\",\"1\",\"1\",\"0\",\"1\",\"1\",\"0\",\"3\",\">4\",\"0\",\"1\",\"2\",\"1\",\"4\",\"2\",\"1\",\"0\",\"2\",\">4\",\"0\",\"1\",\">4\",\">4\",\"1\",\"0\",\"2\",\"0\",\"1\",\"1\",\">4\",\">4\",\"2\",\"4\",\"4\",\">4\",\"1\",\">4\",\"2\",\"0\",\">4\",\"4\",\"1\",\">4\",\"4\",\"1\",\"1\",null,\"1\",\"1\",\"0\",\"0\",\"1\",\"1\",\">4\",\"2\",\">4\",\"1\",\">4\",\"1\",\"2\",\"1\",\"1\",\"1\",\"0\",\"2\",\"1\",\"0\",\"0\",\">4\",\"1\",null,\"1\",\"0\",\"0\",\"0\",\"1\",\"0\",\">4\",\"3\",\"2\",\"1\",\"1\",\"1\",null,\"2\",\"4\",\">4\",\">4\",\"4\",\">4\",\"0\",\"1\",\"1\",\"1\",\"3\",\"4\",\"1\",\"2\",\"3\",\"1\",\"0\",\"0\",\"2\",\">4\",\">4\",\"3\",\"0\",\"1\",\"0\",\"1\",\"0\",\"1\",\"0\",\"1\",\">4\",\"1\",\"2\",\"2\",\"1\",\"1\",\"1\",\"3\",\"2\",\"0\",\"1\",\"1\",\"1\",\">4\",\"3\",\"4\",\">4\",\">4\",\"1\",\">4\",\"2\",\"2\",\">4\",\"1\",\"1\",\"2\",\">4\",\"0\",\"1\",\"2\",\"2\",\">4\",\"2\",\"1\",\"0\",\">4\",\">4\",\">4\",\"1\",\"2\",\"0\",\">4\",\"0\",\"1\",\"3\",\">4\",\"0\",\"1\",\"1\",\">4\",\">4\",\"1\",\"1\",\"1\",\"1\",\"1\",\"1\",\"1\",\"1\",\"1\",\"2\",\"1\",\">4\",\"2\",null,\"2\",\"1\",\"1\",\"1\",\">4\",\">4\",\">4\",\"4\",\"3\",\"1\",\"1\",\"2\",\"1\",\"1\",\"1\",\"2\",\">4\",\"0\",\"1\",\"1\",\"0\",\"3\",\"1\",\"3\",\"3\",\"1\",\"1\",\"2\",\"1\",\"2\",\"1\",\"1\",\"1\",\"3\",\"1\",\">4\",\"2\",\"1\",\"1\",\"4\",\"1\",\"1\",\"3\",\">4\",\"2\",\">4\",\"0\",\"1\",\"1\",\"2\",\"1\",\">4\",\"1\",\"1\",\"2\",\"3\",\"1\",\"2\",\"1\",\"1\",\"1\",\"1\",\"1\",\"0\",\"0\",\"2\",\"0\",\"1\",\"0\",\"1\",\">4\",\"1\",\"2\",null,\"2\",\"2\",\"1\",\"1\",\">4\",\"1\",\">4\",\"1\",\"1\",\"1\",\"0\",\"1\",\">4\",\"2\",\"4\",\"1\",\"2\",\"1\",\"0\",\"1\",\"1\",\"1\",\"1\",\">4\",\"0\",\"3\",\"1\",\"1\",\"1\",\"3\",\"1\",\">4\",\"1\",\">4\",\"1\",\"3\",\"1\",\"1\",\"0\",\"0\",\"1\",\"1\",\"1\",\"2\",\"1\",\"2\",\"1\",\">4\",\"1\",\"2\",\"1\",\">4\",\"2\",\"0\",\"1\",\">4\",\"1\",\"1\",\">4\",\"1\",\">4\",\"1\",\">4\",\"1\",\"1\",\"2\",\"1\",\"1\",\">4\",\">4\",\"0\",\">4\",\">4\",\"4\",\"1\",\"1\",\"1\",\"1\",\"1\",\"1\",null,\"1\",\"2\",\"1\",\"1\",\"1\",\">4\",\"2\",\"0\",\">4\",\"1\",\"0\",\"2\",\"1\",\"0\",\">4\",\">4\",\"1\",\"1\",\"1\",\"1\",\"1\",\"1\",\"0\",\"1\",\"1\",\">4\",\"1\",\">4\",\"2\",\"1\",\"1\",\"2\",\"1\",\"1\",\"1\",\">4\",\"1\",\"0\",\"0\",\">4\",\">4\",\"1\",\"2\",\"2\",\"3\",\"3\",\"3\",\">4\",\">4\",\"2\",\"4\",\"1\",\">4\",\"1\",\"1\",\"1\",\"0\",\"1\",\"0\",\"1\",\"4\",\"1\",\"1\",\"0\",\"2\",\"1\",\"3\",\"1\",\"3\",\"1\",\"4\",\"1\",\"2\",\"2\",\"2\",\"1\",\"1\",\"3\",\"2\",\"2\",\"0\",\">4\",\"1\",\">4\",\"3\",null,\"1\",\"1\",\"1\",\"1\",\"4\",\"3\",\"2\",\"1\",\"1\",\">4\",\"2\",\"3\",\"1\",\"1\",\"0\",\"1\",\"2\",\"0\",\"1\",\"1\",\"1\",\"0\",\"1\",\"1\",\"1\",\">4\",\">4\",\">4\",\"1\",\">4\",\"2\",\">4\",\"4\",\"2\",\"0\",\"1\",\"1\",\"1\",\">4\",null,\"2\",\">4\",\"0\",\"3\",\"2\",\"1\",\"1\",\">4\",\"1\",\"1\",\"1\",\">4\",\">4\",\"1\",\"1\",\"2\",\"1\",\">4\",\"1\",\"2\",\"4\",\"0\",\"1\",\"2\",\"1\",\"1\",\"1\",\"0\",\"2\",\"1\",\"1\",\"2\",\"1\",\"2\",\"2\",\"0\",\"2\",\"3\",\"0\",\"2\",\"0\",\"2\",\">4\",\"1\",\"1\",\"3\",\"2\",\">4\",\"2\",\"1\",\"1\",\"1\",\"2\",\"1\",\">4\",\"1\",\"4\",\">4\",\"0\",\"1\",\"1\",\"3\",\"1\",\"1\",\"0\",\"0\",\"2\",\"1\",\"1\",\">4\",\"1\",\"0\",\"1\",\"0\",\"1\",\"1\",\"0\",null,\">4\",\"4\",\"1\",\">4\",\"1\",\"4\",\"2\",\"1\",\">4\",\"1\",\"1\",\"2\",\"1\",\"1\",\"0\",\"1\",\">4\",\">4\",\"1\",\"1\",\"1\",\">4\",\"1\",\"0\",\"1\",\"2\",\">4\",\"2\",\"1\",\"1\",\"2\",\"1\",\"1\",\"1\",\"2\",\"0\",\"2\",\"1\",\"0\",\"1\",\"1\",\"2\",\"2\",\"1\",\"1\",\"4\",\"2\",\"1\",\"2\",\"1\",\"1\",\">4\",\"1\",\"3\",\">4\",\"1\",\"2\",\"1\",\"3\",\">4\",\">4\",\"2\",\"3\",\"1\",\"2\",\"1\",\"1\",\"1\",\"1\",\"1\",\"2\",\">4\",\"1\",\">4\",\"1\",\">4\",\">4\",\"0\",\"1\",null,\"0\",\">4\",\"4\",\"1\",\"3\",\"1\",\">4\",\"1\",\"1\",\"1\",\">4\",\"1\",\"1\",\"1\",\">4\",\"4\",\">4\",\"1\",null,\"0\",\">4\",\"1\",\"1\",\"0\",\"1\",\"1\",\"1\",\">4\",\"2\",\"1\",\"1\",\">4\",\"1\",\">4\",\">4\",\"3\",\"1\",\"1\",\"1\",\"2\",\"1\",\"0\",\"4\",\"2\",\"1\",\"0\",\"4\",\">4\",\"1\",\"4\",\"1\",\"1\",\"1\",\"2\",\"1\",\"2\",\"2\",\">4\",\">4\",\">4\",\">4\",\"2\",\"2\",\"1\",\"1\",\"4\",\"1\",\"2\",\"1\",\">4\",\"0\",\"2\",\"2\",\"2\",\"1\",\">4\",\"0\",\"1\",\"1\",\"1\",\"1\",\"1\",\"1\",\"4\",\"0\",\"0\",\"1\",\"1\",\"1\",\"1\",\"0\",\">4\",\"1\",\"4\",\"0\",\"1\",\"1\",\"1\",\">4\",\"1\",\"2\",\"0\",\"1\",\">4\",\"1\",\"1\",\"4\",\"1\",\"1\",\"2\",\"1\",null,\"1\",\"1\",\"1\",\"1\",\"4\",\">4\",\"0\",\"1\",\"1\",\"1\",\">4\",\"1\",\">4\",\"1\",\"1\",\">4\",\"2\",\"1\",\"2\",\">4\",\"4\",\"1\",\"0\",\"0\",\"3\",\"1\",\"1\",\"1\",\">4\",\"0\",\"2\",\">4\",\"2\",\"1\",\"2\",\"1\",\"1\",\"1\",\"2\",\"1\",\"0\",\">4\",\">4\",\"1\",\"1\",\"1\",\"2\",\"1\",\">4\",\"1\",null,\"0\",\"1\",\"3\",\"0\",\"0\",\"4\",\"0\",\"3\",\">4\",\"4\",\"0\",\">4\",\"1\",\"1\",\"0\",\"2\",\"1\",\"1\",\">4\",\"2\",\"1\",\"0\",\"1\",\"1\",\"1\",\"2\",\"0\",\"2\",\"2\",\"1\",\"0\",\"1\",\"1\",\">4\",\">4\",\"2\",\"1\",\">4\",\">4\",\"2\",\">4\",\"1\",\"1\",\">4\",\"0\",\"0\",\">4\",\"2\",\"4\",\"2\",\"1\",\"3\",\"1\",\"0\",\"1\",\"2\",\">4\",\"3\",\"1\",\"0\",\"2\",\"1\",\"1\",\"1\",\"2\",\"1\",\"1\",\"0\",\">4\",\">4\",\"0\",\"1\",\"4\",\">4\",\"4\",\"1\",\">4\",\"4\",\"3\",\"1\",\"1\",\"4\",\">4\",\"1\",\"1\",\">4\",\"1\",\">4\",\">4\",\"3\",\"3\",\"3\",\"1\",\"0\",\"1\",\"1\",\"1\",\"2\",\"4\",\"0\",\"2\",\"1\",\"1\",\">4\",\">4\",\"1\",\"2\",\"2\",\"1\",\"1\",\"1\",\"1\",\"1\",\"1\",\">4\",\"1\",\"0\",\"1\",\"3\",\"0\",\"1\",\"1\",\"1\",\">4\",\"0\",\"1\",\"4\",\"2\",\"1\",\"3\",\"4\",\"3\",\"1\",\"1\",\"1\",\">4\",\"1\",\"1\",\"2\",\"1\",\"1\",\"1\",\"2\",\"1\",null,\"3\",\"4\",\"1\",\"1\",\">4\",\"1\",\"4\",\"1\",\"1\",\"1\",\"1\",\"1\",\"2\",\"2\",\">4\",\">4\",\"1\",\"1\",\"2\",\"0\",\"0\",\">4\",\"1\",\"2\",null,\"1\",\"1\",null,\"0\",null,\"1\",\">4\",\"4\",\"1\",\">4\",\"1\",\">4\",\"1\",\"0\",\"0\",\"1\",\"0\",\"1\",\"3\",\"0\",\"2\",\"4\",\"4\",\"4\",\"1\",\"1\",\"1\",\"1\",\"0\",\"1\",\"1\",\">4\",\">4\",\"0\",\">4\",\"3\",\"1\",\"1\",\"2\",\"2\",\"1\",\">4\",\"1\",\">4\",\"1\",\"1\",\"1\",\"1\",\"1\",\">4\",\"4\",\"3\",\">4\",\"3\",\"2\",\"0\",\"3\",\"1\",\"1\",\"2\",\"0\",\">4\",\"2\",\"2\",\"1\",\"0\",\"1\",\"3\",\"0\",\"1\",\">4\",\"1\",\"3\",\"1\",\"1\",\"2\",\"1\",\"1\",null,\"1\",\"2\",\"1\",\"1\",\"0\",\"2\",\"1\",\"1\",\"2\",\"4\",\"2\",\"1\",\"1\",\"1\",\"2\",\"2\",\">4\",\">4\",\">4\",\"4\",\"2\",\">4\",\"2\",\">4\",\">4\",\"1\",\"3\",\">4\",\"0\",\"1\",\">4\",\"1\",\"2\",\"1\",\"1\",\"3\",\"2\",\"1\",\"1\",\"0\",\"2\",\"1\",\"1\",\"0\",\"2\",\"1\",\"1\",\"2\",\"2\",\"1\",\"1\",\"2\",\"0\",\"1\",\"1\",\"4\",\"0\",\"3\",\"1\",\"1\",\">4\",\"0\",\">4\",\"2\",\"2\",\"0\",\"2\",null,\"1\",\">4\",\"1\",null,\">4\",\"2\",\"4\",\"0\",\">4\",\"1\",\"1\",\"1\",\"1\",\"1\",\"0\",\"0\",\"1\",\"1\",\"1\",\"1\",\"0\",\"0\",\"2\",\"2\",\">4\",\"1\",\"0\",\"2\",\"1\",\"1\",\"1\",\"1\",\"4\",\"1\",\">4\",\"1\",\">4\",\"3\",\"1\",\"1\",\"1\",\"4\",\"1\",\"0\",\"2\",\"1\",\"1\",\"1\",\"3\",\">4\",\"0\",\"0\",\">4\",\"1\",\"3\",\">4\",\">4\",\"0\",\"1\",\"0\",\"1\",\"1\",\"1\",\"1\",\"1\",\"2\",\">4\",\"1\",\"1\",\"1\",\"2\",\"1\",\"1\",\"0\",\"1\",\"3\",\"0\",\"1\",\"1\",\">4\",\"0\",\"1\",\">4\",\">4\",null,\"1\",\"2\",\"1\",\"1\",\">4\",\"1\",\"2\",\"0\",\"4\",\"0\",\">4\",\"1\",\"2\",\"1\",\"1\",\"3\",\">4\",\">4\",\"1\",\"1\",\"1\",\">4\",\"1\",\"1\",\"1\",\"1\",\"0\",\"1\",\">4\",\"1\",\"1\",\"1\",\"0\",\"3\",\">4\",\"1\",\"1\",\"3\",\"2\",\"0\",\">4\",\">4\",\"1\",\"1\",\"1\",\"1\",\"1\",\"2\",\"1\",\"0\",\"1\",\"0\",\">4\",\"1\",\"1\",\"1\",\">4\",\"1\",\"1\",\"2\",\">4\",\"1\",\"0\",\"4\",\"4\",\"4\",\"1\",\"3\",\">4\",\">4\",\"0\",\"4\",\"4\",\"1\",\">4\",\"1\",\"1\",\"1\",\"2\",\"1\",\"0\",\"1\",\"0\",\"1\",\"1\",\"1\",\"1\",\"3\",\"3\",\"1\",\"3\",\"1\",\"1\",\">4\",null,\"0\",\"2\",\"3\",\"1\",\"2\",\"1\",\"1\",null,\">4\",\"1\",\"1\",\"0\",\"0\",\"1\",\">4\",\"1\",\"2\",\"0\",\"1\",\"0\",\">4\",\">4\",\">4\",\"4\",\"4\",\"1\",\"1\",\"3\",\"1\",\"1\",\"4\",\">4\",\"4\",\"2\",\"1\",\"2\",\"1\",\"1\",\"2\",\"2\",\"2\",\">4\",\"2\",\"1\",null,\"0\",\"2\",\"1\",\">4\",\"1\",\"1\",\"1\",\"2\",\"1\",\"0\",\"1\",\"3\",\"1\",\"0\",\"1\",\"1\",\"1\",null,\"0\",\">4\",\"1\",\"2\",\"4\",\"1\",null,\"4\",\"1\",\"2\",\">4\",\"1\",null,\"2\",\">4\",\">4\",\"1\",\"0\",\"3\",\"3\",\"0\",\"1\",\"2\",\"4\",\">4\",\"1\",\"0\",\"1\",\"1\",\"2\",\"3\",\"1\",\">4\",\"1\",\"3\",\">4\",\"1\",\">4\",\"1\",\"0\",\"1\",\"2\",null,\"1\",\"1\",\"1\",\"0\",\">4\",\"1\",\"0\",\"1\",\"1\",\"1\",\"1\",\"1\",\"0\",\">4\",\"1\",\"1\",\"0\",\"1\",\"2\",\"3\",\"1\",\">4\",\"1\",\"1\",\"1\",\"1\",\">4\",\"0\",\"2\",\"2\",\"0\",\"3\",\"1\",\"3\",\"0\",\"2\",\"1\",\"1\",\"1\",\">4\",\">4\",\"2\",\"2\",\"1\",\"0\",\"0\",\"1\",\"0\",\">4\",\"2\",\">4\",\"1\",\"1\",\"1\",\"1\",\"0\",\">4\",\"2\",\"4\",\"4\",\"1\",\"1\",\"1\",\"2\",\"1\",\"4\",\"2\",\"2\",\"2\",\"1\",\">4\",\"0\",\"1\",\">4\",\"2\",\"4\",\"1\",\"4\",\"1\",\"1\",\"2\",null,\">4\",\"1\",\"2\",\">4\",\"1\",\"3\",\"1\",\">4\",\"2\",\"3\",\"1\",\"1\",\"0\",\"1\",\">4\",\">4\",\"4\",\"1\",\">4\",\"1\",\">4\",\"1\",\"1\",\">4\",\"2\",\"2\",\"1\",\"1\",\">4\",\"1\",\">4\",\"0\",\"1\",\"1\",\"0\",\"0\",\"2\",\"1\",\"1\",\"2\",\"1\",\"1\",\"1\",\"0\",\"0\",\">4\",\"1\",\">4\",\"4\",\">4\",\"1\",\"2\",\"2\",\"0\",\">4\",\"1\",\"1\",\"0\",\"2\",\"0\",\"2\",\"1\",\">4\",\"1\",\"1\",\"2\",\"3\",\"1\",\"1\",\">4\",\"1\",\"0\",\"0\",\"1\",\"1\",\"1\",null,\"1\",\"0\",\"1\",\"3\",\"1\",\"0\",\"2\",\"1\",\"1\",\"2\",\"1\",\"0\",\"1\",\">4\",\"1\",\"1\",\"1\",\"1\",\"1\",\"1\",\"0\",\"1\",\"3\",\"1\",\"1\",\"1\",\"2\",\"1\",\">4\",\"4\",\"4\",\"1\",\">4\",\"1\",\">4\",\">4\",\"1\",\"2\",\"2\",\">4\",\"2\",\"0\",\"1\",\"4\",\"1\",\"1\",\"1\",\"2\",\"1\",\"1\",\"4\",\"1\",\"0\",\">4\",\"3\",\"3\",\"2\",\"1\",\"3\",\"0\",\"1\",\"0\",\"2\",\"0\",\"2\",\"0\",\"1\",\"1\",\">4\",\">4\",\"2\",\"4\",\"1\",\"1\",\"0\",\">4\",\"1\",\">4\",\"1\",\"2\",\"4\",\"0\",\">4\",\"1\",\"1\",\"1\",\"1\",\"2\",\"1\",\"2\",\"2\",\">4\",\"1\",\"1\",\"1\",\">4\",\"1\",\"2\",\"1\",\"1\",\"1\",\">4\",\"0\",\"1\",\">4\",\"1\",\"0\",\"1\",\"1\",\">4\",\"1\",\">4\",\">4\",\"1\",\"1\",\"1\",\"1\",\">4\",\">4\",\">4\",\">4\",\"1\",null,\"4\",null,\"4\",\"1\",\"1\",\"4\",\">4\",\"2\",\"3\",\"1\",\"1\",null,\"0\",\"4\",\"3\",\"1\",\"4\",\"1\",null,\"4\",\"0\",\"2\",\"4\",\"1\",\"1\",\"1\",\">4\",\"1\",\"1\",\"1\",\"3\",\"1\",\"1\",\"1\",\"2\",\"4\",\"1\",\"1\",\"1\",\"1\",\"0\",\"1\",\">4\",\"0\",\"3\",\"1\",\"1\",\"1\",\"2\",\"3\",null,\"3\",\"1\",\"1\",null,\"0\",\"1\",\"1\",\"2\",\"1\",\"0\",\"3\",\">4\",\"2\",\">4\",\">4\",\"1\",\"1\",\"0\",\"3\",\"0\",\"1\",\"4\",\"1\",\"0\",\"1\",\"1\",\"1\",\"1\",\"1\",\"2\",\">4\",\"0\",\"1\",\"1\",\"1\",\"1\",\">4\",\"1\",\"1\",\">4\",\"2\",\"0\",\">4\",\"1\",\"2\",\"0\",\"1\",null,\"1\",\"1\",\">4\",\">4\",\">4\",\"1\",\"2\",null,\"3\",\">4\",\"3\",\"2\",\"0\",\"1\",\"2\",\"1\",\"1\",\"0\",\"1\",\"1\",\"2\",\"1\",\"2\",\"2\",\"3\",\"2\",\">4\",\"0\",\"3\",\"4\",\"1\",\">4\",\"1\",\"4\",\"1\",\"4\",\"3\",null,\">4\",null,\">4\",\"0\",\"2\",\">4\",\">4\",\"2\",\"0\",\"1\",\"4\",\"3\",\"2\",\"1\",\">4\",null,\"0\",\">4\",\"2\",\"0\",\">4\",\">4\",\">4\",\"0\",\"4\",\"2\",\"4\",\">4\",\"1\",\"1\",\"3\",\"2\",\"0\",\"1\",\"1\",\"1\",\"1\",\"1\",\"2\",\"0\",\"1\",\"1\",\"2\",\"0\",\"4\",\">4\",\"1\",\"1\",\">4\",\"1\",\"1\",\">4\",\"1\",\"3\",\"1\",\">4\",\"2\",\"1\",\"2\",\"1\",\">4\",\"1\",\"1\",null,\"1\",\"1\",\"1\",\">4\",\"4\",\"3\",\"1\",\"3\",\"1\",\">4\",\"1\",\"1\",\"0\",\"3\",\"2\",\"1\",\"4\",\"4\",\"1\",\">4\",\"1\",\"2\",\">4\",\"3\",\"1\",\">4\",\"1\",null,\"1\",\"3\",\"1\",\"2\",\"1\",\">4\",\"3\",\"1\",\"1\",\"3\",\"0\",\"1\",\"1\",\">4\",\"0\",\"0\",\">4\",\"1\",\"2\",\"2\",\"0\",\"1\",\">4\",\">4\",\">4\",\"1\",\"1\",\"1\",\">4\",\"1\",\"1\",\"1\",\"0\",\"1\",\"2\",\">4\",\"1\",\"2\",\"2\",\"2\",\"3\",\"0\",\"1\",\"3\",\"1\",\">4\",\"1\",\"1\",\"2\",\">4\",\">4\",\"2\",\"1\",\"1\",\"2\",\"1\",\"1\",\"0\",\"1\",\"0\",\"1\",\"0\",\"0\",\">4\",\"0\",\"1\",\"0\",\"4\",\"4\",\"1\",\"0\",\"4\",\"4\",\"1\",\"2\",null,\">4\",\"1\",\">4\",\"1\",\"1\",\"0\",\"2\",\"1\",\"4\",\"1\",\">4\",\"2\",\"4\",\"0\",\"0\",\"2\",\"1\",\"0\",\"2\",\"1\",\"0\",\">4\",\"0\",\"1\",\"0\",\"1\",\"4\",\"1\",\"2\",\"1\",\"1\",\"0\",\"1\",\"2\",\"0\",\"1\",\">4\",\"2\",\"0\",\"1\",\"1\",\"0\",\"3\",\"1\",\"2\",\"1\",\"1\",\"1\",\"1\",\"1\",\"1\",\"2\",\"0\",\"1\",\">4\",\"1\",\"1\",null,\"1\",\"0\",\"2\",\"1\",\"1\",\"1\",\">4\",\"2\",\">4\",\"1\",\"1\",\"1\",\"0\",\"2\",\">4\",\"1\",\">4\",\"0\",\"1\",\"1\",\">4\",\"0\",\"0\",\"1\",\">4\",\"1\",\"1\",\"2\",\"0\",\"1\",\"4\",\"3\",\"1\",\"1\",\"2\",\"2\",\"2\",\"1\",\"1\",\"0\",\">4\",\"1\",\"2\",\">4\",\"0\",\"4\",\"1\",\"1\",\"1\",\"2\",\">4\",\"1\",\">4\",\"1\",\"3\",\">4\",\"0\",\"1\",\"1\",\"1\",\"4\",\"2\",\"1\",\"1\",\"1\",\"1\",\">4\",\"2\",\">4\",\"2\",\">4\",\"1\",\"1\",\"1\",\"0\",\"1\",\"1\",\">4\",\"4\",\"1\",\"1\",\"1\",\">4\",\"0\",\"1\",\"1\",\"1\",\"1\",\"2\",\"2\",\"2\",\"4\",\">4\",\"1\",\">4\",\"4\",\"2\",\"1\",\"2\",\"1\",\"1\",\">4\",\"2\",\">4\",\"0\",\">4\",\"1\",\"2\",\"4\",\"1\",\">4\",\">4\",\"1\",\"2\",\"1\",\"2\",\"0\",\"2\",\">4\",\"0\",\"1\",\"1\",\"2\",\"0\",\"1\",\"2\",\">4\",\">4\",\"1\",\"2\",\">4\",\">4\",\"1\",\">4\",\"1\",\">4\",\"0\",\"1\",\"0\",\"1\",\"2\",\"1\",\"4\",\"0\",\"1\",\">4\",\"1\",\"2\",\">4\",\"1\",\"3\",\">4\",\"1\",\">4\",\"1\",\"1\",\"3\",\"4\",\"1\",\"1\",\"0\",\"3\",\">4\",\"1\",\">4\",\"0\",\"1\",\"2\",\">4\",\"4\",\"1\",\"2\",\"1\",\"1\",\"1\",\"1\",\">4\",\"1\",\">4\",\"1\",\"1\",\"1\",\">4\",\">4\",\">4\",null,\"0\",\">4\",\">4\",\"1\",\"0\",\"2\",\"2\",\"1\",\"3\",\"1\",\"1\",\"1\",\"2\",\">4\",\"1\",\"1\",\"1\",\"3\",\"2\",\"0\",\"0\",\"1\",\"1\",\"2\",\"2\",\"1\",\"1\",\"1\",\"2\",\"1\",\"1\",\"1\",\"1\",\"0\",\"1\",\">4\",\"4\",\"0\",\"1\",\">4\",\"0\",\"2\",\"4\",\"1\",\"1\",\"1\",\"1\",\">4\",\"2\",\"2\",\"1\",\"1\",\">4\",\"1\",\"4\",\"1\",\"3\",\">4\",\"4\",\"1\",\"1\",\"1\",\"1\",\">4\",\"0\",\">4\",\"1\",\"1\",\"0\",null,\"1\",\"0\",\"1\",\"2\",\"1\",\"2\",\"1\",\"1\",\">4\",\"1\",\"2\",\">4\",\"1\",\"1\",\"1\",\">4\",\"1\",\"1\",\"1\",\"2\",\"1\",\"2\",\"1\",\"1\",\"1\",\"1\",\"3\",\"3\",\"2\",\"3\",\"1\",\"2\",\"1\",\"1\",\"1\",\"1\",\"1\",\"2\",\"0\",\"2\",\"1\",\">4\",\"1\",\"1\",null,\"1\",\"4\",\"1\",\"0\",\"1\",\">4\",\"1\",\"3\",\"2\",\"1\",\">4\",\"1\",\"2\",null,\"1\",\"2\",\"1\",\"1\",\"0\",\"4\",\"1\",\"4\",\">4\",\">4\",\">4\",\"0\",\"3\",\"1\",\"2\",\"0\",\"1\",\"4\",\"3\",\"2\",\"0\",\"0\",\">4\",\"2\",\"3\",\"4\",\"1\",null,\"4\",\"0\",\">4\",\"2\",\"1\",\"2\",\"1\",\"1\",\"2\",\"1\",\"0\",\"0\",\"2\",\"3\",\"2\",\"0\",\"1\",\">4\",\"0\",\"2\",\"3\",\"2\",\"2\",\"2\",\"3\",\"4\",\"1\",\"0\",null,\"2\",\"1\",\">4\",\"1\",\"0\",\"1\",null,\">4\",\"2\",\">4\",\"4\",\"0\",\"1\",\"4\",\"3\",\"2\",\"0\",\">4\",\"1\",\"1\",\"1\",\">4\",null,\"1\",\"1\",null,\"0\",\"1\",\"1\",\"1\",null,\">4\",\">4\",\"2\",\"3\",\"2\",\"1\",\"1\",\"1\",\">4\",\"2\",\"2\",\"1\",\"2\",\"3\",\"1\",\">4\",\"0\",\"1\",\"2\",\"0\",\"0\",\"1\",\"1\",\">4\",\"3\",\"0\",\"0\",\"1\",\">4\",\"1\",\"2\",\">4\",\">4\",\">4\",\"0\",\"1\",\"1\",\"0\",\"0\",\"2\",\"0\",\">4\",\">4\",\"1\",\"1\",\"2\",\"1\",\"3\",\"0\",\"4\",\"1\",\"2\",\"1\",\">4\",\"1\",\"2\",\"2\",\"0\",\"3\",\"1\",\"0\",\"1\",\"0\",\"1\",\"1\",\"0\",\"1\",\"1\",null,\"0\",\"1\",\"1\",\"3\",\">4\",\">4\",\"1\",\"1\",\"2\",\"4\",\"1\",\"0\",\"0\",\"2\",\"1\",\"1\",\">4\",\"2\",\"1\",\"1\",\">4\",\"1\",\"1\",\"1\",\"1\",\">4\",\"1\",\"3\",\"2\",\"1\",\"1\",\"2\",\"4\",\"1\",\"3\",\"0\",\"1\",\"1\",\">4\",\">4\",\">4\",\"1\",\"2\",\"1\",\"1\",\"1\",\"1\",\"1\",\"2\",\"4\",\"1\",\"1\",\"0\",\"1\",\"1\",\">4\",\"1\",\"0\",\"1\",\">4\",\"2\",\">4\",\">4\",\"1\",null,\"1\",\"1\",\">4\",\">4\",\"1\",\"0\",\">4\",\"2\",\"1\",\"2\",\"1\",\"2\",\"1\",\"1\",\"1\",\"2\",\"2\",\"2\",\"1\",\"1\",\"1\",\">4\",\"1\",\">4\",\"1\",\"1\",\"2\",\"1\",\"0\",\">4\",\"1\",\"0\",\">4\",\"1\",\">4\",\"1\",\"1\",\"1\",\"4\",\"4\",null,\"3\",\"4\",\"4\",\"1\",\"1\",\"1\",\"1\",\"3\",\"1\",\"4\",\"1\",\"4\",\"2\",\"2\",\"2\",\">4\",\">4\",\"1\",\"1\",\"1\",\"1\",\"1\",\"4\",\"1\",\"0\",\">4\",\"1\",\"1\",\"4\",\"3\",\"1\",\"1\",\"2\",\"1\",\"1\",\"1\",\"1\",\"0\",\">4\",\"0\",null,\"1\",\"0\",\"0\",\"1\",\"4\",\"1\",\">4\",\"3\",\"2\",\"1\",\"1\",\"1\",\"1\",\"1\",\"1\",\"1\",\"1\",\">4\",\">4\",\"2\",\"2\",\">4\",\"1\",\"0\",\"1\",\"2\",\"1\",\"1\",\"2\",\">4\",null,\"2\",\"2\",\"1\",\"4\",\"1\",\"2\",\">4\",\"0\",\"1\",\">4\",\"3\",\">4\",\"1\",\"1\",\"2\",\"1\",\"0\",\">4\",\"1\",\"4\",\"2\",\"1\",\"1\",\"1\",\"0\",\"4\",\"0\",\"1\",\"1\",\"3\",\"1\",\"3\",\"1\",\"1\",\"4\",\"1\",\"1\",\"2\",\"2\",\"1\",\"1\",\"1\",\"1\",\"2\",\"1\",\"1\",\"4\",null,\"1\",\"1\",\"1\",\">4\",\"1\",\"2\",\"1\",\"1\",\"0\",\">4\",\"0\",\"1\",\"1\",\"2\",\"4\",\"1\",\"3\",\"0\",\"1\",\"2\",\"1\",\"1\",\"2\",\"2\",\">4\",\"0\",\"0\",\"1\",\"3\",\"1\",\"4\",\"2\",\"1\",\"3\",\"1\",\"1\",\"1\",\"3\",\"2\",\"1\",\"1\",\"1\",\"0\",\"3\",\"1\",\"1\",\"1\",\"1\",\"1\",\"2\",\">4\",\"1\",\"1\",\">4\",\">4\",\"1\",\">4\",\"3\",\"2\",\"0\",\">4\",\"1\",\"3\",\"3\",\"0\",\"2\",\"1\",\">4\",\"2\",\"4\",\"1\",\">4\",\"1\",\"1\",\"1\",\">4\",\"0\",\"2\",\"1\",\"1\",\">4\",\"1\",\"2\",\"1\",\"1\",\"1\",\">4\",\"1\",\"3\",\"2\",\">4\",\"0\",null,\">4\",null,\"1\",\"2\",\"4\",\"1\",\"2\",\"1\",\"0\",\"0\",\">4\",\"1\",\">4\",\"0\",\"1\",\"4\",\"0\",\"4\",\">4\",\"0\",\"1\",\"1\",\"1\",\"2\",\"0\",\"1\",\">4\",\"1\",\"2\",\">4\",\"1\",\"1\",\"2\",\"1\",\"1\",\"2\",\"1\",\"1\",\"1\",\"1\",\"2\",\"1\",\"1\",\"2\",\">4\",\"1\",\">4\",\"4\",\"1\",\"0\",\">4\",\"1\",\"2\",\"1\",\"1\",\"1\",\"1\",\"3\",\"0\",\"2\",\">4\",\"2\",\"0\",\"0\",\"2\",\"0\",null,\"1\",\"0\",\"2\",\"1\",\"4\",\"3\",\"0\",\"3\",\"1\",\"0\",\">4\",\"1\",\">4\",\"1\",\"1\",\">4\",\"2\",\"1\",\">4\",\">4\",\"4\",\">4\",\"0\",\">4\",\"1\",\">4\",\"3\",\"1\",\"1\",\"2\",\"4\",\"2\",\"2\",\"1\",\"3\",\"0\",\"2\",\">4\",\"1\",\"1\",\"0\",\"4\",\"2\",\"1\",\"1\",\"0\",\"4\",\"0\",\"2\",\"1\",\"2\",\"0\",\"1\",\"2\",\"4\",\"1\",\"1\",\"1\",\"1\",\"0\",\"1\",\"2\",\"2\",\"1\",\"1\",\">4\",\"1\",\">4\",\">4\",\"2\",\"1\",\">4\",\"1\",\"1\",\"2\",\"0\",\"3\",\"0\",\"2\",\"1\",\"1\",\"4\",\"1\",\"1\",\">4\",\"1\",\">4\",\"0\",\"2\",\"4\",\"1\",\"4\",\"1\",\"1\",\">4\",\"1\",\"1\",\"1\",\"1\",\"1\",\"0\",\"0\",\">4\",\"1\",null,\"2\",\"2\",\"1\",\">4\",\">4\",\">4\",\"1\",\"1\",\"1\",\"1\",\"1\",\"1\",\"1\",\"4\",\"3\",\"2\",\"2\",\">4\",\"2\",null,\"1\",\"1\",\"2\",\"1\",\"1\",\">4\",\"1\",\">4\",\"0\",\"1\",\"1\",\"3\",\">4\",\">4\",\"0\",\"1\",\"2\",\"0\",\"1\",\"1\",\"2\",\"0\",\"0\",\"1\",\"1\",\">4\",\"0\",null,\">4\",\"4\",\">4\",\"0\",\"1\",\"1\",\"4\",\">4\",\">4\",\">4\",\"1\",null,\">4\",\"4\",\"2\",\"1\",\">4\",\"0\",\"1\",\"0\",\"0\",\">4\",\"0\",\"4\",\"1\",\"3\",\"1\",\"1\",\"1\",\"1\",\"0\",\"4\",\"1\",\"1\",\"1\",\"2\",\"1\",\"1\",\"0\",\"1\",\"1\",\"2\",\"1\",\"2\",\"0\",\"2\",\"0\",\"2\",\">4\",\"1\",\">4\",\">4\",\"1\",\"0\",null,\"2\",\"1\",\"0\",\"4\",\">4\",\"3\",\"1\",\"3\",\"1\",\"1\",\"3\",\"0\",\"4\",\"1\",\"1\",\"3\",\"1\",\"0\",\"0\",\">4\",\"0\",\"2\",\"1\",\">4\",\"0\",\"1\",\"4\",\"1\",\">4\",\"1\",\"1\",\"0\",\"1\",\"1\",\"0\",\"1\",\"0\",\"2\",\"3\",\"0\",\"2\",\">4\",\"1\",\"1\",\"1\",\"1\",\"3\",\"1\",\"1\",null,\"4\",\"0\",\"2\",\"1\",\">4\",\"1\",\"2\",\"1\",\"2\",\"1\",\"1\",\"1\",\"1\",\">4\",\"2\",\"2\",\"2\",\"1\",\"0\",\">4\",\"1\",\"1\",\"0\",null,\"3\",\"0\",\"1\",\"0\",\"1\",\">4\",\"1\",\"4\",\"1\",\"1\",\"0\",\"2\",\"2\",\"1\",\"2\",\"3\",\">4\",\"1\",\"0\",\"1\",\"2\",\">4\",\"2\",\"2\",\"0\",\"1\",\"2\",\">4\",null,\"2\",\"2\",\"2\",null,\"1\",\"1\",\"0\",\"2\",\"1\",\"2\",\">4\",\"1\",\"0\",\"2\",\"1\",\"1\",null,\"1\",\">4\",\"1\",\">4\",\">4\",\"0\",\"1\",\"2\",\">4\",\"1\",\"1\",\"1\",\"1\",\"1\",\"1\",\"1\",\"1\",\"1\",\"4\",\"1\",\"0\",\">4\",\"1\",\"0\",\"0\",\"1\",\"2\",\"3\",\"1\",\"1\",\"1\",\"3\",\"1\",\"2\",\"0\",\"2\",\"2\",\"1\",\">4\",\"1\",\"1\",\">4\",\"0\",\"1\",\">4\",\"4\",\"3\",\"2\",\"1\",\"1\",\">4\",\"0\",\">4\",\"1\",\"0\",\"2\",\"1\",\"3\",\"1\",\"0\",\"1\",\"3\",\"1\",\"1\",\"0\",null,\"2\",\"1\",\">4\",\"2\",\"0\",\"1\",\"1\",\"0\",\"1\",\">4\",\"1\",\"1\",\"1\",null,\"1\",\">4\",\"1\",\"2\",\">4\",\"2\",\"0\",\"1\",\"2\",null,\"4\",\"1\",\"4\",\"1\",\"0\",\"1\",\"1\",\">4\",\"2\",\"4\",\"1\",\"1\",\"1\",\"1\",\"2\",\"1\",\"1\",\">4\",\"1\",\"1\",null,\"1\",\"2\",\"4\",\"1\",\"0\",\">4\",\"1\",\"1\",\"2\",\"1\",\"1\",\"1\",\"1\",\"1\",\"0\",\"1\",\"1\",\">4\",\"3\",\"1\",\"0\",\"4\",\"1\",\">4\",\"1\",\"3\",\"1\",\"1\",\"1\",\"3\",\"1\",\"2\",\">4\",\"0\",\"0\",\"4\",\"2\",\"2\",\"2\",\"1\",\"2\",\"1\",\"0\",\"3\",\"1\",\"1\",\"0\",\"0\",\"1\",\"2\",\"0\",\">4\",\">4\",\"1\",\"1\",\"3\",\">4\",\"0\",\"1\",\"1\",\">4\",\"2\",\"1\",\"0\",\">4\",\"4\",\"1\",\">4\",\"3\",\"1\",\"0\",\"0\",\"1\",\"1\",\"2\",\"1\",\"2\",\"1\",\"3\",\">4\",null,\"4\",\"1\",\"2\",\"1\",\">4\",\"1\",\"3\",\"1\",\"3\",\"3\",\"4\",\"1\",\"1\",\"1\",\"1\",\">4\",\">4\",\">4\",\"0\",\">4\",\">4\",\"3\",\">4\",\"3\",\"4\",\"1\",\"1\",\"1\",\">4\",\">4\",\"3\",\"2\",\">4\",\">4\",\"1\",\"1\",\"2\",\"1\",\"0\",\"0\",\"0\",\"3\",\"0\",\"1\",\">4\",\"1\",\">4\",\"1\",\">4\",\"1\",\"4\",\"1\",\"2\",\"1\",\">4\",\"1\",\"0\",\"1\",\"3\",\">4\",null,\"1\",\"1\",\"2\",\"1\",\"4\",\">4\",\"1\",\"2\",\"1\",\"1\",\"1\",\">4\",\"1\",\"1\",\"1\",\">4\",\"1\",\"3\",\"1\",\"0\",\"1\",\"1\",\"4\",\">4\",\"1\",\"4\",\">4\",\">4\",\">4\",\"1\",\"3\",\"2\",\"1\",\"4\",\"1\",\"1\",\"0\",\">4\",\"0\",\"1\",\"1\",\">4\",\"2\",null,\"3\",\">4\",\"1\",\"1\",\"1\",\"0\",\"0\",\"1\",\"2\",\"2\",\"2\",\"1\",\"4\",\"4\",\"1\",\"1\",\"2\",\"1\",\">4\",\"4\",\"2\",\"1\",\"2\",\"1\",\"3\",null,\"1\",\"1\",\"1\",\"4\",\"1\",\"2\",\"4\",\"1\",\"2\",\"2\",\"4\",\"4\",\"1\",\"3\",\"1\",\"1\",\"1\",\"1\",\"1\",\"1\",\"1\",\"2\",\"0\",\"2\",\"0\",\"1\",\"1\",\">4\",\"0\",\"2\",\"1\",\">4\",\"2\",\"3\",\">4\",\"2\",\">4\",\"0\",\"4\",null,\"2\",\"4\",\"0\",\"0\",\"1\",\"3\",\"1\",\"2\",\"1\",\"2\",\">4\",\"4\",\"1\",\"0\",\">4\",\"1\",\"0\",\"2\",\"2\",\">4\",\"1\",\"1\",\"2\",\"3\",\"2\",\">4\",\">4\",null,\"1\",\"1\",\"3\",\"2\",\"2\",\"1\",\"1\",\"3\",\"2\",\"3\",\"4\",\">4\",\"2\",\"3\",\"1\",\"2\",\"0\",\"1\",\"1\",\"0\",\"0\",\"1\",\"1\",\">4\",\"1\",\"1\",\"2\",\"2\",\"0\",\"1\",\"1\",\"1\",\"1\",\"2\",\"1\",\"1\",\"2\",\"2\",\">4\",\"2\",\"1\",\"1\",\">4\",\"1\",\"1\",\"1\",\"1\",\"1\",\"0\",\"1\",\"0\",\"1\",\"1\",\"4\",\"0\",\"1\",\">4\",\"1\",\">4\",\"3\",\"1\",\"1\",\"1\",\"2\",\"4\",\"1\",\"2\",\"1\",\"1\",\"1\",\"1\",\">4\",\"1\",\">4\",\">4\",\">4\",\"0\",\"1\",\"2\",\"2\",\">4\",\"2\",\"1\",\"1\",\"1\",\">4\",\"1\",\"1\",\"1\",\">4\",\"0\",\"3\",\"0\",\"2\",\">4\",\"1\",\"1\",\"0\",\"0\",\"1\",\"1\",\"0\",\"2\",\"1\",\"1\",\"2\",\"3\",\">4\",\"1\",\">4\",\">4\",\"1\",\">4\",\"2\",\"1\",\">4\",\"0\",\">4\",\"1\",\"1\",null,\"0\",\"1\",\"1\",\"2\",\"2\",\"1\",\"4\",\"2\",\"2\",null,\"1\",\">4\",\"1\",\"4\",\"1\",\"3\",\"1\",\"1\",\"1\",\">4\",\"0\",\"4\",\"2\",\"4\",\"1\",\"1\",\">4\",\"0\",\">4\",\">4\",\"4\",\"1\",\"0\",\">4\",\">4\",\"2\",\"1\",\"2\",\"2\",\"1\",\"1\",\"2\",\"1\",\"3\",\"1\",\"3\",\"0\",\"1\",\"1\",\"3\",null,\"0\",\"1\",\">4\",\">4\",\"1\",\"4\",\"1\",\"0\",\"1\",null,\"1\",\"2\",\"2\",\">4\",\"1\",\">4\",\"1\",\"4\",\">4\",\"1\",\"3\",\"1\",\"4\",\"2\",\"1\",\">4\",\"2\",\"1\",\"1\",\"4\",\"1\",\"0\",\"1\",\"3\",\"1\",\"3\",\"1\",\"2\",\"1\",\">4\",\">4\",\"1\",\">4\",\"1\",\"1\",\">4\",\"1\",\">4\",\">4\",\"2\",\"1\",\">4\",\"1\",\"2\",\"1\",\"1\",\"2\",\"1\",\"0\",\"4\",null,\"3\",\"2\",\"1\",\"1\",\"1\",\"1\",\"0\",\">4\",\"2\",\"1\",\"0\",\"1\",\"1\",\">4\",\"0\",\"0\",\"1\",null,\"0\",\"0\",\"0\",\">4\",\"2\",\"1\",\"2\",\"1\",\">4\",\"2\",\">4\",\">4\",\"3\",\">4\",\"0\",\"1\",\"1\",\"1\",\">4\",\"1\",\"0\",\"2\",\"2\",\">4\",\"1\",\"1\",\">4\",\"2\",\"1\",\"1\",\"2\",\"3\",\"0\",\"1\",\"1\",\"0\",\"1\",\"0\",\"1\",\">4\",\"1\",\"1\",\"1\",\">4\",\"3\",\"4\",\"1\",\">4\",\"1\",\"3\",\">4\",\"1\",\"1\",\"1\",\"4\",\"1\",\"2\",\"1\",\"1\",\"1\",\"3\",\"2\",\"3\",\">4\",null,\"2\",\"1\",\"4\",\"0\",\"2\",\">4\",\"0\",\">4\",\"1\",\"1\",\"1\",\">4\",\"0\",\">4\",\"0\",\"1\",\"1\",\"1\",\"0\",\"2\",\"1\",\"1\",null,\"0\",\">4\",\"1\",\"1\",\"2\",\"2\",\"0\",\"1\",\"0\",\">4\",\"0\",\"1\",\"0\",\"2\",\"1\",\"0\",\"1\",\"1\",\"1\",\"0\",\"2\",\"1\",\"2\",\"1\",\"1\",\"4\",null,\"2\",\"0\",\"3\",\"1\",\"0\",\"0\",\">4\",\"0\",\"0\",\"0\",\"4\",\"2\",\">4\",\"1\",\">4\",\"1\",\"0\",\"2\",\">4\",\"1\",\"1\",\"1\",\">4\",\"1\",\"1\",\"1\",\"1\",\">4\",\"1\",\"0\",\"1\",\">4\",\">4\",\"2\",\">4\",\">4\",\"1\",\"0\",\"0\",\">4\",\"0\",\"2\",\">4\",\"2\",\">4\",\">4\",\"1\",\"0\",\"0\",\"1\",\">4\",\"1\",\"1\",\"2\",\"1\",\"2\",\"0\",\"2\",\"1\",\"1\",\"2\",\"1\",\">4\",\"4\",\"0\",\">4\",\"2\",\"1\",\"2\",\"1\",\"1\",\"2\",\"0\",\"1\",\"2\",\"1\",\">4\",\"1\",\"0\",\">4\",\">4\",null,\"1\",\"1\",\"2\",\"1\",\"1\",\"2\",\"1\",\"1\",\">4\",\"1\",\"2\",\"1\",\"1\",\"3\",\"0\",\">4\",\"3\",\"1\",\"1\",\">4\",\"1\",\"2\",\"2\",\">4\",\"1\",\"1\",\"4\",\"0\",\"4\",\"1\",\"0\",\">4\",\"1\",\"3\",\"0\",\"1\",\"1\",\"1\",\"1\",\"1\",\"1\",\"2\",\"1\",null,\"2\",\"1\",\"2\",\"1\",\"1\",\"1\",\"1\",\"1\",\"1\",\">4\",\"1\",\"1\",\"0\",\"1\",\">4\",\"2\",\"3\",\">4\",\"1\",\">4\",\"3\",\"1\",\"1\",\"0\",\"1\",\"1\",\"1\",\"1\",\">4\",\"1\",\"1\",\"0\",\"1\",\"2\",\"1\",\"1\",\">4\",\"1\",\"4\",\"1\",\"3\",\"1\",\"1\",\"0\",\"2\",\"4\",\"0\",\"2\",\"1\",\"0\",\"1\",\"4\",\"1\",\">4\",\"2\",\"0\",\"0\",\"4\",\"0\",\"1\",\">4\",\"4\",\"1\",\"2\",\"2\",\"4\",\"1\",\">4\",\"1\",\"2\",\"1\",\"3\",\"1\",\"1\",\"0\",\"2\",\"4\",\"1\",\"1\",\"2\",\"1\",\">4\",\"1\",\"1\",\"0\",\"1\",\"1\",\"1\",\"1\",\"0\",\">4\",\">4\",\"2\",\"1\",\">4\",\"4\",\"1\",\"4\",\"1\",\"1\",\"0\",\"4\",\"4\",\"2\",\"1\",\">4\",\"2\",\">4\",\"4\",\"1\",\"1\",\"2\",\"2\",\">4\",\"3\",\">4\",\"1\",\"1\",\"1\",\"0\",\"0\",\"3\",\"3\",\"0\",null,\"1\",\">4\",\">4\",\">4\",\"3\",\">4\",\"1\",\"1\",\">4\",\"1\",\"4\",\"1\",null,\"2\",\"1\",\"1\",\"2\",\">4\",\"2\",\"0\",\"1\",\">4\",\"0\",\"0\",\"1\",\"2\",\"1\",\"1\",\"1\",\">4\",\"2\",\"1\",\"4\",\"2\",\"1\",\"2\",\">4\",\"2\",\">4\",\"1\",\"3\",\"1\",\"1\",\"0\",\"0\",\"0\",\"1\",\"1\",\"2\",\"1\",\"3\",\"1\",\"4\",\"1\",\">4\",\"1\",\"1\",\"1\",\"1\",\">4\",\"2\",null,\"1\",\"1\",\"1\",\"2\",\">4\",\"1\",\">4\",\"0\",\">4\",\"1\",\"2\",\"1\",\"2\",\"3\",\"0\",\"1\",\"2\",\">4\",\"1\",\">4\",\"1\",\"0\",\"1\",\"0\",\"0\",\"2\",\"1\",\"0\",\"0\",\"1\",\"0\",\"2\",\"1\",\">4\",\"1\",\"4\",\"0\",\"1\",\"0\",\"0\",\">4\",\"1\",\"1\",\"1\",\"1\",\"1\",\"2\",\"2\",\"1\",\"0\",\"0\",\"1\",\">4\",\"1\",\"2\",\"4\",\"1\",\"1\",\"3\",\"1\",\">4\",\"2\",\"1\",\"1\",\"1\",\"0\",\">4\",\"2\",\"2\",\"1\",\"2\",\">4\",\"0\",\"2\",\"1\",null,\"1\",\"1\",\"4\",\"2\",\"1\",\"1\",\"2\",\"0\",\"0\",\"1\",\">4\",\">4\",\"2\",\"0\",\"1\",\">4\",\"3\",\"2\",\">4\",\"3\",\"0\",\"1\",\"1\",\"3\",\"1\",\"2\",\"1\",\"3\",\"1\",\"1\",\"3\",\"1\",\">4\",\"4\",\"1\",\">4\",\"1\",\"1\",\"1\",\">4\",\"4\",\"0\",\"1\",\"2\",null,\"0\",\"1\",\">4\",\"1\",\"1\",\"4\",\">4\",\"1\",\"1\",\">4\",\"1\",\"2\",\"1\",\"1\",\"2\",\"1\",\"4\",\">4\",\"3\",\">4\",\"2\",\"2\",\"3\",\">4\",\"3\",\"1\",\"2\",\"4\",\"1\",\"1\",\"1\",\"2\",\"2\",\">4\",\">4\",\">4\",\"0\",\">4\",\"2\",\">4\",\"1\",\"0\",\">4\",\"1\",null,\"1\",null,\"1\",\"1\",\">4\",\"3\",\"0\",\"0\",\"0\",\"1\",null,\"1\",\"1\",\">4\",\">4\",\"1\",\"1\",\"0\",\"1\",\"1\",\"1\",\"2\",\"2\",\">4\",\"1\",\"1\",\"3\",\">4\",\"1\",\"2\",\"2\",\"1\",\"1\",\">4\",\">4\",\"1\",\"3\",\"0\",\"1\",\"2\",\"1\",\"1\",\"2\",\">4\",\"1\",\"1\",\"1\",\"2\",\"1\",\"3\",\"1\",\">4\",\">4\",\"1\",\"1\",\"1\",\"1\",\"0\",\"2\",\"0\",\"0\",\"1\",\"2\",\"0\",\"1\",\"1\",\"3\",\"1\",\"1\",\"2\",\"1\",\">4\",\"1\",\"1\",\"1\",\"1\",\"2\",\">4\",\"1\",\"1\",\"1\",\">4\",\"4\",\"0\",\"0\",\"0\",\"1\",\"1\",\"1\",\"4\",\"1\",\"0\",\">4\",\"1\",\">4\",\"2\",\"0\",\"1\",\">4\",\"1\",\"2\",\"1\",\"4\",null,\"0\",\"4\",\">4\",\">4\",\"0\",\"1\",\"1\",\"1\",\"0\",\"3\",\"3\",\">4\",\"1\",\"1\",\"1\",\"0\",\"4\",\"1\",\"3\",\"0\",\"1\",\"1\",\"0\",\"1\",\"3\",\"1\",\">4\",\"1\",\">4\",\"0\",\"2\",\"2\",\"1\",\"1\",\"1\",\"3\",\"2\",\"2\",\"2\",\"0\",\">4\",\"2\",\">4\",\"1\",\"1\",\"2\",\"4\",\"0\",\"1\",\"0\",\"2\",\"1\",\"0\",\"0\",\"1\",\"2\",\"4\",\"2\",\">4\",\"2\",\"1\",\"2\",\"1\",\"1\",\"1\",\"2\",\"1\",\"4\",\">4\",\"1\",\">4\",\"0\",\"0\",\"1\",\">4\",\">4\",\"3\",\"1\",\"0\",\"2\",\"1\",\"0\",\"4\",\"0\",\"4\",\"3\",\"3\",\"1\",\">4\",\"1\",\">4\",\"1\",\"0\",null,\"1\",\"1\",\"1\",\"1\",\"1\",\"1\",\">4\",\"0\",\"1\",\">4\",\"1\",\"0\",\"4\",\"1\",\"1\",\"3\",\"1\",\"0\",\">4\",\"1\",\"0\",\">4\",\"1\",\"3\",\"1\",\">4\",\"1\",\"2\",\"1\",\">4\",\"4\",\"2\",\"1\",null,\"1\",\"1\",\">4\",\"2\",\"0\",\"1\",\"1\",\">4\",\"1\",\">4\",\"3\",\"1\",\"0\",\"0\",\">4\",\"1\",\"1\",\">4\",\"0\",\"1\",\"0\",\">4\",\"0\",\"1\",\"1\",\"1\",\"2\",\"2\",\"1\",\"1\",\">4\",\">4\",\"3\",\"1\",\"1\",\"1\",\"1\",\"1\",\"2\",null,\"1\",\"1\",\"3\",\">4\",\"1\",\"2\",\"1\",\"3\",\"1\",\">4\",null,\"0\",\"1\",\"1\",\"1\",null,\"1\",\"1\",\"2\",\"1\",\"0\",\"1\",\"4\",\"1\",\"1\",\"1\",\"1\",\"1\",\"1\",\"4\",\"1\",\">4\",\"1\",\"2\",\">4\",\"1\",null,\"4\",\"1\",\">4\",\"3\",\"1\",\">4\",\">4\",\">4\",\"2\",\"4\",\"2\",\"2\",\"0\",\"0\",\"1\",\"3\",\"1\",\"1\",\"0\",\"1\",\"1\",\"2\",\"2\",\">4\",\"1\",\"1\",\"1\",\"1\",\"1\",\"1\",\"2\",\"1\",\"4\",\"0\",\"2\",\"1\",\"1\",\"2\",\">4\",\"1\",\"1\",\"0\",\"2\",\"4\",\"1\",\">4\",\"3\",\">4\",\"1\",\"1\",\"4\",\"3\",\"2\",\">4\",\"0\",\"0\",\"1\",\"0\",\"4\",\"1\",\"2\",\"0\",\"2\",\">4\",\"2\",\"0\",\"1\",\"2\",\"1\",\"0\",\">4\",\"1\",\"2\",\"1\",\"1\",\"1\",\"2\",\">4\",\"0\",\"2\",\"2\",\"2\",\"0\",\"1\",\"1\",\"1\",\"1\",\"1\",\"1\",\"0\",\">4\",\"2\",\"1\",\"2\",\"0\",\"1\",\">4\",\"0\",\"3\",\"1\",\"1\",\"1\",\"1\",\"1\",\"2\",\"1\",\"0\",\"1\",\">4\",\"1\",\"1\",\"0\",\"0\",\"3\",\"1\",\"1\",\">4\",\"2\",\"1\",\"2\",\"4\",\"1\",\"4\",\">4\",\">4\",\"3\",\"0\",\"3\",\"2\",\"2\",\"1\",\"2\",\">4\",\">4\",\"2\",\"1\",\"1\",\"2\",\"2\",\">4\",\"2\",\">4\",\"2\",\"1\",\"1\",\"0\",\"1\",\"1\",\"1\",\"4\",\"1\",\">4\",\"0\",\"1\",\"2\",\"1\",\"0\",\"1\",\"1\",\"2\",\"4\",\">4\",\"4\",\"1\",\"2\",\">4\",\"1\",\"2\",\">4\",\"2\",\"1\",\"2\",\"2\",\"1\",\"1\",\"2\",\"1\",\"1\",\"1\",\"1\",\"1\",\"1\",\">4\",\">4\",\"1\",\"0\",\"1\",\">4\",\"1\",\">4\",\"2\",\"3\",\"1\",\"1\",\"1\",\"0\",\"4\",\"2\",\"1\",null,\"2\",\"1\",\"1\",\"1\",\">4\",\"0\",\"1\",\"2\",\"1\",\"1\",\"2\",\"0\",\"1\",\"2\",\"2\",\"1\",\"4\",\">4\",\">4\",\"2\",\"2\",\"1\",\"2\",\"2\",\"0\",\"1\",\"0\",\"1\",\"1\",\"1\",\"1\",\"1\",\">4\",\"2\",\"0\",\"3\",\"4\",\"1\",\"1\",\">4\",null,\"1\",\"0\",\"1\",\"1\",\"0\",\"0\",\"1\",\"1\",\"3\",\">4\",\"1\",\"1\",\"1\",\">4\",null,\"2\",\">4\",\"2\",\"1\",\"2\",\">4\",\"1\",\"2\",\"1\",null,\">4\",\"2\",\">4\",\"0\",\"1\",\"1\",\"0\",\"4\",\"3\",\">4\",\"2\",\">4\",\"1\",\">4\",\"2\",\"1\",\"1\",\"0\",\"3\",\"1\",\"1\",\"1\",\"4\",\"1\",\"1\",\"1\",\"1\",\"1\",\">4\",\"1\",\"0\",\"0\",\"1\",\"2\",\"2\",\"1\",\"3\",\"1\",\">4\",\">4\",\"0\",null,\"1\",\">4\",\">4\",\"3\",\"1\",\"0\",\"4\",\"0\",\"0\",\"1\",null,\"1\",\"1\",\"1\",\"2\",\"0\",\"2\",\"1\",\"4\",\"1\",\"2\",\"2\",\"2\",\"3\",\"1\",\">4\",\"4\",\"1\",\"1\",\"1\",\"4\",\"0\",\"0\",\"1\",\"2\",\"2\",\"1\",\">4\",\"2\",\"2\",\"3\",\"0\",\"2\",\"1\",\"2\",\"1\",\"1\",\"1\",\"4\",\"1\",\"1\",\"1\",\"2\",\"0\",\"1\",null,\">4\",\"1\",\"1\",\">4\",\"1\",\">4\",\">4\",\"1\",\"2\",\">4\",\"1\",\"3\",\"1\",\"0\",\"1\",\"1\",null,\"1\",\"3\",\">4\",\"0\",\"2\",\"1\",\"0\",null,\"0\",\">4\",\"0\",null,\"1\",\"0\",\"2\",\"0\",\"1\",null,\"0\",\"1\",\">4\",\"2\",\"0\",\"1\",\"1\",null,\">4\",\">4\",\">4\",\"3\",\"3\",\"1\",\"4\",\"2\",\">4\",\">4\",\"3\",\"1\",\"1\",\"2\",\"1\",\"1\",\"1\",null,\"2\",\"3\",\"1\",\"0\",\">4\",\"2\",\"0\",\"1\",\">4\",\"2\",\"0\",\"2\",\">4\",\"1\",\"1\",\"1\",null,\">4\",\">4\",\"1\",\"1\",\"1\",\"3\",\">4\",\"2\",\"1\",\"4\",\"1\",\"1\",\"2\",\"0\",\"0\",\"3\",\">4\",\"2\",\"1\",\"1\",\"1\",\"1\",\"1\",null,\"1\",\">4\",\"4\",\"1\",\"2\",\"4\",\">4\",\"1\",\">4\",\"2\",\"3\",\">4\",\"1\",\"1\",\"2\",\">4\",\"1\",\">4\",\"2\",\"1\",\"1\",\"1\",\"3\",\">4\",\">4\",\">4\",\"3\",\"3\",\"2\",\"1\",\"2\",\"4\",\"3\",\">4\",\"2\",\"0\",\">4\",\">4\",\"2\",\"0\",\"2\",\"1\",\"1\",\"3\",\"2\",\">4\",\">4\",\"0\",\">4\",\"4\",\"3\",\">4\",\"1\",\"1\",\"1\",\"3\",\">4\",\"1\",\"0\",\"2\",\"1\",\"0\",\"0\",\"1\",\"1\",\">4\",\"0\",\"1\",\"1\",\"2\",\"1\",\"4\",\"2\",\"0\",\"2\",\">4\",\"1\",\"2\",\"2\",\"3\",\"1\",\"1\",\"0\",\"1\",\"1\",\">4\",\"1\",\"1\",\">4\",\"4\",\"0\",\"1\",\"0\",\"1\",\">4\",\"1\",\"1\",\"2\",\"4\",\"3\",\"1\",\">4\",null,\">4\",\">4\",\"0\",\">4\",\"1\",\"1\",\">4\",\"1\",\"1\",\"1\",\"3\",\"0\",\"4\",\"2\",\"3\",\"1\",\">4\",\">4\",\"2\",\"2\",\"0\",\"2\",\">4\",\">4\",\"2\",\">4\",\"0\",\"1\",\"1\",\"3\",\"1\",\">4\",\"1\",\"2\",\">4\",\"1\",\"2\",\">4\",\"0\",\"1\",\"1\",\"3\",\"0\",\"0\",\">4\",\"1\",\"2\",null,\"2\",\"2\",null,\"1\",\"1\",\"2\",\"1\",\">4\",\"2\",\"0\",\"0\",\">4\",\">4\",\">4\",\"2\",\"0\",\"1\",\"1\",\"2\",\"1\",\"2\",\"1\",\"0\",\"3\",\"0\",\"1\",\"2\",\"1\",\"2\",\">4\",\"1\",\"2\",\">4\",\"0\",\"1\",\"4\",\"1\",\"3\",\"1\",\">4\",\">4\",\">4\",\">4\",\">4\",\"2\",\"1\",\">4\",\"1\",\">4\",\">4\",\"0\",\"2\",\"0\",\"0\",\"4\",\"1\",\"3\",\"1\",\">4\",\">4\",\"2\",\"2\",\"1\",\">4\",\"1\",\"2\",\">4\",\"2\",\"1\",\"0\",\">4\",\"1\",\">4\",\"0\",\"1\",\">4\",\"1\",\"1\",\"0\",\"3\",\"1\",\"1\",\">4\",\"2\",\"2\",\"1\",\">4\",\"1\",\"1\",\"4\",\"1\",\"0\",\"0\",\"3\",\"1\",\"0\",\"4\",\">4\",\"1\",\"4\",\">4\",\"1\",\"2\",\">4\",\"1\",\"3\",\"1\",\"1\",\"2\",\"1\",\"2\",\"1\",\">4\",\"2\",\">4\",\"1\",\"1\",\"1\",\"1\",\"1\",\">4\",\">4\",\"2\",\">4\",\"1\",\"2\",\">4\",\"1\",\"4\",\"3\",\"2\",\"1\",\"2\",\"1\",\"2\",\"2\",\">4\",\"1\",\"0\",\">4\",\">4\",\"1\",null,\"2\",\">4\",\"2\",\"2\",null,\">4\",\"0\",\"4\",\"0\",\"4\",\"3\",\"0\",\"2\",\"1\",\"2\",\"2\",null,\"1\",\">4\",\"0\",\">4\",\">4\",\">4\",\"0\",\"1\",\"0\",\"2\",\"1\",\"1\",\"2\",\"1\",\"0\",\"1\",null,\"1\",\"1\",\">4\",\"1\",\"1\",\">4\",\"4\",\"2\",\"4\",\"4\",\">4\",\">4\",\"2\",\"1\",\"1\",\"1\",\"4\",\"1\",\">4\",\"1\",\"1\",\"0\",\"1\",\"4\",\">4\",\"2\",null,\"3\",\"3\",\"2\",\">4\",\"1\",\"0\",\"1\",\"0\",\"0\",\"3\",\"0\",\"1\",\"1\",\">4\",\"1\",\"2\",\"1\",\"1\",\"1\",\"1\",\"1\",\"1\",\"3\",\"3\",\">4\",\"1\",\"0\",\">4\",\"1\",\"1\",\"1\",\">4\",\"1\",\"1\",\">4\",\"4\",\"3\",\"2\",\"2\",\"1\",\"3\",\"1\",\"2\",\">4\",\"1\",\"0\",\"1\",\"1\",\"1\",\">4\",\"4\",\">4\",\"1\",\">4\",\"2\",\"3\",\"2\",\">4\",\"1\",\"2\",\"1\",\"1\",\"4\",\"3\",\"0\",null,\">4\",\"4\",\">4\",\"2\",\">4\",\"1\",\">4\",\">4\",\">4\",\">4\",\">4\",\"1\",\"1\",\">4\",\"1\",\">4\",\"1\",\"4\",\"1\",\"1\",\">4\",\"1\",\"1\",\"1\",\"0\",\"1\",\">4\",\"1\",\"2\",\"1\",\"4\",\"0\",\"1\",\">4\",\"1\",\"1\",\"4\",\"1\",\"1\",\"1\",\"2\",\"2\",\"1\",\"3\",\"3\",\"1\",\">4\",\">4\",\"2\",\"2\",\"2\",\"1\",\"1\",\"2\",\">4\",\"3\",\">4\",\"1\",\"1\",\">4\",\"1\",\">4\",\"1\",\"2\",\"1\",\"3\",\"0\",\"4\",\"1\",\"2\",\"1\",\"1\",\"4\",\"1\",\"1\",\"3\",\"0\",\"1\",\"1\",\"1\",\"2\",\"1\",\">4\",\"0\",\"1\",\">4\",\"1\",\">4\",\"1\",\"1\",\"1\",\">4\",\"1\",\"1\",\"1\",\"1\",\">4\",\"3\",\"3\",\"0\",\"2\",\"1\",\">4\",\"2\",\"1\",\"1\",\"1\",\"1\",\"1\",\">4\",\">4\",\"3\",\"1\",\"0\",\"1\",\"4\",\"0\",\"2\",\"1\",\"1\",\"1\",\"3\",\"2\",\"4\",\"4\",\">4\",\"1\",\"3\",\"1\",\"2\",null,\"1\",\"1\",\"1\",\"1\",\"4\",\"1\",\"1\",\"0\",\"0\",\"1\",\"0\",\"0\",null,\"1\",\"2\",\"1\",\">4\",\"4\",\"2\",\"0\",\">4\",\"0\",\"1\",\">4\",\"1\",\"1\",\"1\",\"1\",\"1\",\"1\",\"1\",\"1\",\"1\",\">4\",\"1\",\">4\",\"1\",\"1\",\"1\",\"0\",\"1\",\">4\",null,\"2\",\"1\",\">4\",\"1\",\"1\",\">4\",\"1\",\"1\",\"1\",\"1\",\"3\",\"2\",\"1\",\"2\",\"1\",\"1\",\"1\",\"2\",\">4\",\">4\",\"1\",\"1\",\"3\",\"2\",\">4\",\"2\",\"1\",\"3\",\"0\",\"1\",\"0\",\"1\",\"4\",\"1\",\">4\",\"2\",\"1\",\"0\",\"2\",\">4\",\">4\",\">4\",\"1\",\">4\",\"1\",\"1\",\">4\",\"2\",\"4\",\"0\",\"1\",\"4\",\"1\",\"0\",\"1\",\"1\",\"2\",\"3\",\"1\",\"2\",\"1\",\"2\",\"1\",\"0\",\"1\",\"1\",\">4\",\"1\",\">4\",\"1\",\"1\",\"0\",\"2\",\"1\",\"1\",\">4\",\">4\",\"1\",\"1\",null,\"1\",\"1\",\">4\",\"1\",\"2\",\">4\",\">4\",\"1\",\"1\",\"4\",\"2\",\">4\",\"1\",\"0\",\"2\",\"1\",\"1\",\"0\",\"2\",\"1\",\"1\",\"2\",\"1\",\"1\",\"4\",\"2\",\"1\",\"1\",\"2\",\"3\",\">4\",\"1\",\"1\",\"0\",\"1\",\"1\",\"2\",\"0\",\">4\",\"2\",\"1\",\"1\",\">4\",\"1\",\"4\",\"2\",\">4\",\"1\",\"1\",\"2\",\"1\",\">4\",\"0\",\"2\",\"1\",\">4\",\">4\",\"1\",\"1\",\">4\",\">4\",\"2\",\"3\",\">4\",\"4\",\"2\",\"1\",\"1\",\"0\",\"1\",\"1\",\"0\",\"0\",\"1\",\"4\",\">4\",\"0\",\"0\",\"1\",\">4\",\"4\",\"1\",\"1\",\"0\",\">4\",\">4\",\"2\",\">4\",\">4\",\"2\",\"1\",\"2\",\">4\",\"0\",\"0\",\"1\",\"1\",\"1\",\"0\",\"1\",\"0\",\"0\",\"1\",\">4\",\"1\",\"1\",\"2\",\"3\",\"0\",\"0\",\"1\",\"2\",\"2\",\"4\",\"1\",\"1\",\"4\",\"2\",\"1\",\"1\",\"0\",\"2\",\">4\",\"1\",\"4\",\"1\",\"1\",\"1\",\">4\",\"1\",\">4\",\"0\",\"0\",\">4\",\"1\",\"2\",\"1\",\"1\",\">4\",\"1\",\"1\",\"3\",\"2\",\"2\",\"1\",\"2\",\"0\",\"1\",\"2\",\"1\",\"2\",\"2\",\"1\",\"1\",\">4\",\"0\",\">4\",\"1\",\"1\",\"0\",\"2\",\">4\",\"0\",\">4\",\"4\",\"1\",\">4\",\"1\",\">4\",\">4\",\"1\",\">4\",\"0\",\"0\",\"1\",\"1\",\"2\",\"1\",\"2\",\"2\",\"0\",\"2\",\">4\",\"1\",\"2\",\"1\",\"1\",\"2\",\"1\",\"1\",null,\"1\",\"1\",\"1\",\">4\",\"1\",\"2\",\">4\",\">4\",\"1\",\">4\",\"1\",\"1\",\">4\",\"2\",\">4\",\"3\",\"0\",\"4\",\"4\",\"4\",\"1\",\"1\",\"0\",\"2\",\"0\",\"1\",\"2\",\"0\",\">4\",\"1\",\"3\",\"3\",\"1\",\"1\",\"1\",\"0\",\"1\",\"1\",\"0\",\"2\",\"2\",\"0\",\"4\",\">4\",\"1\",\"2\",\">4\",\">4\",\">4\",\"1\",\"0\",\"4\",\"1\",\"1\",\">4\",\"2\",\"1\",\"1\",\"1\",\"1\",\">4\",\"2\",\"2\",\"1\",\"2\",\"0\",\"2\",\">4\",\"1\",\"1\",\"1\",\"0\",\"4\",\"1\",\"1\",\"0\",\"1\",\"1\",\"4\",\">4\",\"2\",\"1\",\">4\",\"1\",\"1\",\">4\",\"1\",\"1\",\"1\",\">4\",\"0\",\"2\",\"1\",\"2\",\">4\",\">4\",\"1\",\"1\",\"3\",\"1\",\"1\",\"0\",\">4\",\"0\",\"4\",\"1\",\"0\",\"1\",\"4\",\"1\",\">4\",\">4\",\"2\",\"1\",\"1\",\"1\",\"1\",\"1\",\"0\",\"2\",\"2\",\"2\",\"1\",\"2\",\"2\",\">4\",\"1\",\"0\",\"0\",\"0\",\"1\",\"1\",\"2\",\"3\",\"1\",\"0\",\">4\",\"0\",\"0\",null,\"1\",\"1\",\"1\",\"0\",\"1\",\"2\",\">4\",\"3\",\">4\",\"1\",\"3\",\"1\",\"0\",\"1\",\"1\",\"2\",\"0\",\"2\",null,\"1\",\">4\",\">4\",\"2\",\"0\",\">4\",\"1\",\"1\",\"1\",\"2\",\"0\",\">4\",\">4\",\"1\",\"1\",\"2\",\"1\",\"1\",\"1\",\"1\",\"1\",\"2\",\"1\",\"1\",\"1\",\"0\",\"1\",\"0\",\"0\",\"2\",\"1\",\"1\",\"1\",\"1\",\"1\",\"1\",\"0\",\"0\",\"1\",\">4\",\"0\",null,\">4\",\"1\",\">4\",\">4\",\"2\",\"2\",\"1\",\"0\",\"1\",\">4\",\"1\",\"1\",\"1\",\"2\",\"3\",\">4\",\">4\",\"4\",\">4\",\"1\",\">4\",\"1\",\"0\",\"1\",\"1\",\"1\",\"3\",\"3\",\"3\",\"2\",\">4\",\">4\",\">4\",\"1\",\">4\",\"2\",\"0\",\"1\",\"2\",\">4\",\"0\",\"3\",\"0\",\">4\",\"1\",\">4\",\">4\",\"0\",\"1\",\"3\",\"0\",\">4\",\"2\",\"2\",\"2\",\"3\",\">4\",\"1\",\"1\",\"1\",\">4\",\"2\",\"1\",\"3\",\">4\",\"1\",\"1\",\"1\",\"2\",\"1\",\"1\",\"4\",\"4\",\">4\",\">4\",\"2\",\">4\",\"1\",\"4\",\">4\",\"1\",\">4\",\"1\",\"2\",\"1\",\">4\",\"1\",\"1\",\"1\",\"2\",\">4\",\"0\",\"1\",\"1\",\"1\",\"0\",\"2\",\"3\",\">4\",\">4\",\"2\",\">4\",\"1\",\">4\",\">4\",\"1\",\"1\",\"2\",\"4\",\"1\",\"1\",\"2\",\">4\",\"1\",null,\">4\",\"1\",\">4\",\"1\",\"1\",\">4\",\"0\",\"0\",\"1\",\"1\",\"1\",null,\"1\",\">4\",\">4\",\"4\",\"1\",\">4\",\"2\",\">4\",\"0\",\"1\",\"1\",\"3\",\"4\",\"0\",\"1\",\"1\",\"3\",\"1\",\"1\",\"2\",\"2\",\"3\",\">4\",\"1\",\"1\",\"4\",\"1\",\">4\",\"2\",\"1\",\"0\",\"1\",\"1\",\"1\",\"1\",\">4\",\">4\",\">4\",\"0\",\"0\",\"2\",\"1\",\"3\",\">4\",\"1\",\"0\",\"3\",\"1\",\"2\",\"1\",\"1\",\">4\",\"1\",\"0\",\"2\",\"1\",\"4\",\"1\",\"2\",\"1\",null,\">4\",\"1\",\"1\",\">4\",\"1\",\">4\",\"3\",\">4\",null,\"1\",\"1\",\"3\",\"3\",\"1\",\"0\",\">4\",\"1\",\"0\",\"1\",\"0\",\"1\",\"0\",\"0\",\"1\",\">4\",\"4\",\"0\",\"3\",\">4\",\">4\",\"2\",\"0\",\"1\",\">4\",\"1\",\"2\",\"2\",\"1\",\"4\",\"4\",\"1\",\"3\",\"1\",\"2\",\"1\",\"1\",\"1\",\"3\",\"4\",\"1\",\"2\",\"3\",\">4\",\"1\",\"3\",\"1\",\"1\",\"2\",\"2\",\">4\",\">4\",\"1\",\">4\",\"1\",\"0\",\">4\",\"2\",\"1\",\"0\",\"3\",\"1\",\">4\",\"0\",\"2\",\">4\",\">4\",null,\"0\",\"0\",\">4\",\"4\",\"2\",\"3\",\"0\",\"1\",\"4\",\"1\",\"2\",\"1\",\"1\",\"1\",\"0\",null,\"3\",\"1\",\">4\",\"0\",\"2\",\">4\",\"2\",\"1\",\"2\",\"1\",\"1\",\">4\",\"1\",\"1\",null,\"4\",\"2\",\"1\",\"1\",\"2\",\"0\",\"0\",\"1\",\"3\",\">4\",\"2\",\">4\",\"1\",\"2\",\"1\",null,\"1\",\"1\",\"1\",\"1\",\"0\",\"1\",\"1\",\"1\",\"1\",\"0\",\"0\",\"0\",\"1\",\"1\",\"1\",\"1\",\"1\",\">4\",\">4\",\"0\",\"1\",\"0\",\">4\",\"1\",\"0\",\"1\",\"2\",\"0\",\"1\",\">4\",\"2\",\"3\",\">4\",\">4\",\"3\",\"3\",\"1\",\"1\",\"0\",\">4\",\">4\",\"1\",\"1\",\"0\",\"1\",\"1\",\">4\",\"0\",\"4\",\"2\",\"4\",\"0\",\"0\",\"1\",\"2\",\"2\",\"1\",\">4\",\">4\",\"1\",\">4\",\"2\",\"2\",\"1\",\"1\",\"1\",\"2\",\">4\",\"1\",\"2\",\"3\",\"1\",\"2\",\"1\",\"0\",\"1\",\"2\",\"1\",\"1\",\"1\",\"0\",\"1\",\"1\",\"2\",\"2\",\"1\",\"0\",\"1\",\"1\",\">4\",\"4\",\"1\",\">4\",null,\"2\",\"0\",\"0\",\"1\",\"1\",\">4\",\"0\",\">4\",\"2\",\">4\",\">4\",\"1\",\"1\",\"4\",\"2\",null,\"1\",\"1\",\"0\",\"0\",\"0\",\"2\",\">4\",\"3\",\">4\",\"1\",\"1\",\"1\",\"2\",\"0\",\"1\",\"1\",\"1\",\"2\",\"4\",\"1\",\"1\",\"2\",\"1\",\"3\",\"2\",\">4\",\"0\",\"2\",\"2\",\"4\",\"1\",\"1\",\">4\",\"1\",\">4\",\"1\",\"1\",\"2\",\"1\",\"1\",\"1\",\">4\",\"1\",\"1\",\"1\",\"3\",\"1\",\">4\",\"1\",\"2\",\"1\",\"1\",\">4\",\"0\",\"1\",null,\">4\",\"1\",\"0\",\"1\",\"1\",\"1\",\"1\",\"1\",\"0\",\"1\",\"0\",\"0\",\">4\",\"1\",\"3\",\"0\",\"0\",\"1\",\"0\",\"0\",\"2\",\"0\",null,null,\"0\",\">4\",\"1\",\">4\",\"1\",\"0\",\"2\",\"2\",\"1\",\"3\",\"1\",\"1\",\"1\",\"3\",\"0\",\"1\",\"0\",\"1\",\"0\",\"1\",\"1\",\"1\",\"1\",\">4\",\"0\",\"2\",\"2\",\"1\",\"1\",\"0\",\"1\",\"1\",\">4\",\"1\",\"2\",\">4\",\"2\",\"1\",\"0\",\"1\",\"1\",\"1\",\"2\",\"0\",\"1\",\">4\",\"0\",\"0\",\"1\",\"1\",\"0\",\">4\",\"1\",\"0\",\"1\",\"2\",\">4\",\"3\",\"1\",\"1\",\"2\",\"1\",\"1\",\"0\",\"2\",\"0\",\"1\",\"0\",\"3\",\"1\",\"1\",\"2\",\"0\",\"0\",\"0\",\"2\",\"2\",\"1\",\"0\",\"1\",\"2\",\"3\",\"1\",\">4\",\">4\",\"1\",\"1\",\"3\",\"1\",\"0\",\">4\",\">4\",\"2\",\"2\",\"1\",\">4\",\"1\",\">4\",\"2\",\"0\",\">4\",\"1\",\">4\",\"1\",\"2\",\"1\",\"1\",\"1\",\"1\",\"2\",\"0\",\"1\",\"1\",\"1\",\"2\",\"2\",\"0\",\"1\",\"2\",\"0\",\"4\",\"1\",\">4\",\"1\",null,\"2\",\"1\",\"1\",\"0\",\"2\",\"4\",\"2\",\">4\",\"0\",\"3\",\"2\",\"1\",\"2\",\"0\",\"4\",\"1\",\"1\",\">4\",\"2\",\">4\",\">4\",\"1\",\"2\",\">4\",\"0\",\"3\",null,\">4\",\"3\",\"1\",\"1\",null,\">4\",\"1\",\"0\",\"4\",\"0\",\">4\",\"1\",\"0\",\"2\",\"1\",\"3\",\"1\",\"0\",\">4\",\"1\",\"2\",\">4\",\"1\",\"1\",\"2\",\"2\",\"1\",\"1\",\"1\",null,\"1\",\"1\",\">4\",\">4\",\"2\",\">4\",\"1\",\"3\",\"0\",\"1\",\">4\",\"1\",\"2\",\"1\",\"1\",\"4\",\"1\",\"1\",\"1\",\"1\",null,\">4\",\">4\",\"1\",\">4\",\"1\",\"2\",\"3\",\"1\",\"1\",\"3\",\"1\",\"1\",\"1\",\"4\",\"1\",\">4\",\"3\",\"2\",\"2\",\"1\",\"0\",\"1\",\"1\",\"2\",\"1\",\"1\",\"1\",\"2\",\"1\",\"0\",\"1\",\"2\",\"2\",\">4\",null,\"1\",\"2\",\"0\",\"1\",\"1\",\">4\",\">4\",null,\"1\",\"0\",\"0\",\"0\",\"1\",\"1\",\"1\",\"1\",\"1\",\"1\",\"3\",\">4\",\"0\",\"1\",\"0\",\"2\",\"0\",\"3\",\"1\",\"1\",\"0\",\"1\",\"0\",\"1\",\"1\",\"1\",\"1\",\">4\",\">4\",\"2\",\">4\",\">4\",\"3\",\"2\",\"4\",\">4\",\"4\",\"4\",\"2\",\">4\",\"1\",\"3\",\"1\",\"1\",\"2\",\">4\",\"0\",\"1\",\"1\",\"1\",\"1\",null,\"2\",\"1\",\"0\",\"4\",\"1\",\"2\",\">4\",\"1\",\"2\",\"1\",\"2\",\"2\",\"2\",\">4\",\">4\",\"1\",\">4\",\"1\",\">4\",\"1\",\">4\",\"2\",\"4\",\"3\",\"1\",\"0\",\"1\",\">4\",\"1\",\"0\",\"1\",\"0\",\"2\",\"2\",\"1\",\"1\",\"1\",\"2\",\"3\",\">4\",\"2\",\"3\",\"2\",\"1\",\"1\",\">4\",\"1\",\"1\",\"3\",\"2\",\"2\",\">4\",\"0\",\"1\",\"0\",\"2\",\"1\",\"2\",\"2\",\"1\",\">4\",\"1\",\"1\",\"1\",\"1\",\"2\",\"1\",\"1\",\"0\",\"2\",\"1\",\"3\",\"2\",\"1\",\"4\",\"1\",\"1\",\"0\",\"2\",\"2\",\"2\",\"0\",\"0\",\">4\",\"0\",\"0\",\">4\",\"1\",\"0\",\"1\",\"4\",null,\"1\",\"1\",\"2\",\">4\",\"1\",\"1\",\"3\",\"0\",null,\"3\",\"1\",\">4\",\"1\",\">4\",\"1\",\"1\",\"3\",\"2\",\"0\",\"0\",\"1\",\"1\",\"1\",\"1\",\">4\",\"1\",\"1\",\"1\",\"4\",\">4\",\"1\",\"4\",\">4\",\">4\",\"4\",\">4\",\"1\",\"4\",\"2\",\"2\",\"1\",\"2\",\">4\",\"1\",\"0\",\"2\",\"1\",\">4\",\"2\",\"1\",\"3\",\">4\",\">4\",\"2\",\"0\",\"3\",\"1\",\">4\",\"1\",\"1\",\">4\",\"1\",\">4\",\"2\",\"1\",\"4\",\"4\",\">4\",\">4\",\"0\",\"2\",\"1\",\"1\",\"0\",\"1\",\"1\",\"0\",\"4\",\"2\",\"1\",\">4\",null,\"1\",\"1\",\"2\",null,\"1\",\"4\",\"2\",\"4\",\"1\",\"1\",\"1\",\"1\",\"4\",\"1\",\">4\",\"1\",\"1\",\"0\",\"1\",\"1\",\">4\",\">4\",\"2\",\">4\",\"1\",\"1\",\"1\",\"2\",\"2\",\"1\",\">4\",\">4\",\"4\",\">4\",\"1\",\"3\",\"0\",\"1\",\">4\",\"1\",\"2\",\"1\",\"1\",\"3\",\"1\",\"1\",\"1\",\">4\",\"2\",\"2\",\"1\",\"1\",\"1\",\"1\",\"2\",\"1\",\"1\",\"0\",\"1\",\"2\",\">4\",\"4\",\"1\",\"0\",\"3\",\">4\",\">4\",\"1\",\"1\",\">4\",\">4\",\"1\",\"1\",\">4\",\"1\",\"1\",\">4\",\">4\",\"1\",\"1\",\"1\",\"1\",\"1\",\"3\",\"1\",\"2\",\">4\",\"1\",\"4\",\"4\",\"0\",\"1\",\"1\",null,\"0\",\"2\",\">4\",\"1\",\"1\",\"1\",\"1\",\"1\",\"1\",\"1\",\"0\",\"1\",\"0\",\"1\",\"1\",\"1\",\"1\",\">4\",\">4\",\"1\",\"1\",\"0\",\"1\",\">4\",\"1\",\"1\",\"2\",\"2\",\"1\",\"1\",\">4\",\"1\",\"1\",\"0\",\">4\",null,\"1\",\"1\",\"1\",\"2\",\"1\",\"4\",null,\"1\",\"1\",\">4\",\"0\",\"1\",\"1\",\"2\",\"1\",\"1\",\"1\",\"1\",\"1\",\"1\",\"1\",\"1\",\">4\",\"2\",\"0\",\">4\",\"0\",\"1\",\"1\",\">4\",\">4\",\"1\",\">4\",\">4\",\">4\",\">4\",\">4\",\"1\",\"2\",\"1\",\"1\",\"0\",\"1\",\"1\",\"0\",\"1\",\"4\",\">4\",\"1\",\"0\",\"1\",\"0\",\">4\",\"1\",\"2\",\"2\",\"1\",\"0\",\"2\",\"2\",\"4\",\"0\",\"1\",\"1\",\"3\",\"1\",\"0\",\"1\",\"4\",\"1\",null,\"1\",\"4\",\"1\",\"1\",\"4\",\"0\",\"4\",\"0\",\"1\",\"1\",\"2\",\"0\",\">4\",\"1\",\">4\",\"1\",\"1\",\"2\",null,\"2\",\"1\",\">4\",\"1\",\">4\",\"1\",\"0\",\"1\",\">4\",\">4\",\">4\",\">4\",\">4\",\"1\",\"0\",\"2\",\"2\",\"2\",\"0\",\"2\",\"1\",\"1\",\"1\",\"2\",\"1\",\"1\",\">4\",\"1\",\"1\",\"2\",\"1\",\"1\",\"0\",\"1\",\">4\",\"2\",\"1\",\"1\",\">4\",\"1\",\">4\",\"1\",\"2\",\"1\",\"3\",\"2\",\">4\",\"1\",\"1\",\"1\",\"1\",\"0\",\"1\",\"1\",\"2\",\">4\",\"0\",\"1\",\">4\",\"3\",\">4\",\">4\",\">4\",\"2\",\"3\",\"1\",\"1\",\"1\",\"0\",\"1\",\"1\",\"2\",\"1\",\">4\",\"1\",\"4\",\"2\",\">4\",\"1\",\"1\",\">4\",\"0\",\"0\",\"1\",\"0\",\"1\",\">4\",\"2\",null,\">4\",\"1\",\"1\",\"0\",null,\">4\",\">4\",\"4\",\"1\",\"1\",\"2\",\"4\",\">4\",\"2\",\"4\",\"1\",\">4\",\"1\",\"0\",\">4\",\"1\",\"1\",\"4\",\"2\",\"3\",\"0\",\"1\",\"1\",\"0\",\"2\",\"1\",\"1\",\"2\",\"3\",\">4\",\"0\",\">4\",\"0\",\">4\",\">4\",\"2\",\"0\",\"4\",\"1\",\"0\",\"0\",\"1\",\"1\",\"2\",\"1\",\"3\",\"2\",\"3\",\">4\",\"2\",\"0\",\"1\",\"1\",\"1\",\"0\",\"3\",\"4\",\"2\",\">4\",\">4\",\"0\",\"1\",\"3\",\"1\",null,\"1\",\"0\",\"1\",\"0\",\"1\",\"0\",\"1\",\"1\",\"4\",\"0\",\"4\",\"1\",\"0\",\"0\",\">4\",\"1\",\"2\",\"0\",\">4\",\"0\",\"1\",\"1\",\"1\",\"4\",\"0\",\">4\",\"2\",\"0\",\"2\",\"1\",\">4\",\">4\",\"0\",\">4\",\"1\",\"1\",\"3\",\"2\",\"2\",\">4\",\">4\",\"1\",\"1\",\">4\",\">4\",\"1\",\"1\",\"1\",\"3\",\"3\",\"1\",\">4\",\">4\",\"4\",\">4\",\"1\",\"1\",\"4\",\">4\",\"1\",\"3\",\"0\",\"2\",\"1\",\"1\",\"0\",\"1\",\"1\",\"0\",\"1\",\"1\",\"3\",\"2\",\">4\",\"3\",\">4\",\"1\",\"1\",\"1\",\"1\",\"3\",\"1\",\"0\",\"2\",\"0\",\"1\",\"1\",\"1\",\"2\",\"2\",\"0\",\"1\",\"2\",\"0\",\">4\",\"1\",\"1\",\"1\",\"1\",\"1\",\"0\",\">4\",\"2\",\"1\",\"1\",\"1\",\">4\",\"2\",\"1\",\"1\",\">4\",\"0\",\"1\",\"1\",\"2\",\"2\",\">4\",\"1\",\"1\",\"0\",\"1\",\"1\",\"0\",\"4\",\"0\",\">4\",\"4\",\"1\",\">4\",\">4\",\"1\",\"1\",\"1\",\"1\",\"1\",\"1\",\">4\",\"1\",\"1\",\"1\",\"2\",\"3\",\"0\",\">4\",\"2\",\"1\",\"1\",\"1\",\"1\",\"1\",\"2\",\"0\",\">4\",\"2\",\"1\",\">4\",\"2\",\">4\",\"4\",null,\"2\",\"2\",\"1\",\"1\",\"1\",\">4\",\"3\",\"2\",\"1\",\"0\",\">4\",\"3\",\"3\",\"1\",\">4\",\"1\",\"2\",\"4\",\"2\",\"2\",\">4\",\"2\",\">4\",\"2\",\"1\",\"1\",\"2\",\"1\",\"1\",\"4\",\">4\",\">4\",\"4\",\"1\",\"2\",\"1\",\">4\",\"1\",\"3\",\"1\",\"1\",\">4\",\"0\",\"1\",\"1\",\"4\",\"1\",\">4\",\"2\",\"1\",\"1\",\">4\",\">4\",\"1\",\"0\",\"1\",\"2\",\"1\",\"1\",\"1\",\"0\",\"1\",\"1\",\"2\",\"1\",\">4\",\"3\",\"1\",\"4\",\"1\",\">4\",\"1\",\"4\",\">4\",\">4\",\"1\",\"1\",\"1\",\"4\",\">4\",\"1\",\"1\",\">4\",\">4\",\">4\",\"3\",\"1\",\"2\",\"1\",\"1\",\"4\",\"2\",\">4\",\"2\",\"4\",\"1\",\"1\",\"1\",\"1\",\"4\",\"1\",\"1\",\">4\",\"1\",\"1\",\"1\",\"1\",\"1\",\"2\",\"1\",\"3\",\"1\",\">4\",\"0\",\"2\",\"1\",\">4\",\"1\",\"3\",\"1\",\"0\",\">4\",\"1\",\"1\",\"2\",\"0\",\">4\",\"1\",\"1\",\">4\",\">4\",\"0\",\"3\",\"2\",\"0\",\"0\",\"2\",\"4\",\">4\",\"1\",\"1\",\">4\",\"3\",\"1\",\"1\",\"4\",\"0\",\"1\",\">4\",\">4\",\"0\",\"4\",\"1\",\"1\",\"0\",\"0\",\"1\",\"1\",\"1\",\">4\",\"4\",\">4\",\">4\",\"1\",\"0\",\"2\",\"1\",\">4\",\"1\",\"3\",\"1\",\"2\",\"1\",\"0\",\"0\",\"4\",\"3\",\"1\",\"0\",\">4\",\"2\",\"2\",\"2\",\"1\",\"1\",\"1\",\"1\",\"0\",\">4\",\"1\",\"0\",\"2\",\"1\",\"1\",\"1\",\"1\",\"0\",\"2\",\"0\",\"0\",\"1\",\"1\",\"1\",\">4\",\"2\",\"2\",\"1\",\"4\",\"0\",\"2\",\"2\",\">4\",\"1\",\"2\",\"2\",\"2\",\"0\",\"0\",\"1\",\"4\",\"1\",\"1\",\"0\",\"1\",\"1\",\">4\",\">4\",\">4\",\"2\",\"1\",\"2\",\">4\",\"3\",\"2\",\"1\",\"0\",\"1\",\"1\",\"2\",\"0\",\">4\",\"0\",\">4\",\"1\",\"1\",\"1\",\">4\",\"1\",\"1\",\"1\",\">4\",null,\"1\",\"1\",\"0\",\"1\",\"1\",\"1\",\"1\",\"1\",\"2\",\"1\",\"2\",\"0\",\"1\",\"1\",\"1\",\"0\",\"1\",\">4\",\"1\",\"2\",\"1\",\">4\",\"2\",null,\"1\",\">4\",\"1\",\"1\",\"1\",\"0\",\"1\",\"3\",\"1\",\"1\",\"2\",\"2\",\"0\",\"1\",\"4\",\"1\",\"1\",\">4\",\"1\",\"1\",\">4\",\"0\",\"1\",\"2\",\">4\",\">4\",\"1\",\"0\",\"1\",\"3\",\"1\",\"1\",\"1\",\"2\",\"0\",\"1\",\">4\",\"3\",\">4\",\"1\",\"1\",\"2\",\">4\",\"1\",\"0\",\"4\",\">4\",\"0\",\"0\",\"1\",\"1\",\"1\",\"2\",\"1\",\"1\",\"1\",\"4\",\"2\",\">4\",\"1\",\"1\",\">4\",\"3\",\">4\",\">4\",\">4\",\">4\",\"4\",\"1\",\"1\",\"1\",null,\"3\",\">4\",\">4\",\"1\",\"2\",\"0\",\"1\",\"0\",\"1\",\"2\",\"0\",\"3\",\">4\",\"2\",\"0\",\"4\",\"1\",\"0\",\"2\",\"2\",\"2\",\">4\",\"1\",\"0\",\">4\",null,\"1\",\"1\",\"2\",\"2\",\"1\",\">4\",\"1\",\"1\",\"1\",\"2\",\"1\",\">4\",\">4\",\"1\",\"0\",\"0\",\">4\",\"0\",\"1\",\"1\",\">4\",\"0\",\"1\",\"1\",\"2\",\"1\",\"3\",\"1\",\"1\",null,\"1\",\"4\",\"1\",\"0\",\"0\",\"2\",\">4\",\"3\",\"0\",null,\"1\",\"1\",\"0\",\"1\",\"2\",\"1\",\"2\",\">4\",\"1\",\"1\",\"1\",\">4\",\"1\",\"2\",\"1\",\">4\",\"0\",\">4\",\"4\",\"0\",\"1\",\"4\",\"1\",\"1\",\">4\",\"0\",\"4\",\">4\",\"1\",null,\"0\",\"1\",\"2\",\"1\",\"0\",\"0\",\"1\",\"2\",\"4\",\"3\",\"2\",\"1\",\">4\",\"2\",\"2\",\"1\",\"1\",\"1\",\"0\",\"1\",\"1\",\">4\",\"2\",\">4\",\"3\",\"3\",\"1\",\"1\",\"2\",\"0\",\"1\",\">4\",\"1\",\"1\",\"2\",\"1\",\"1\",\"0\",\"2\",\"2\",\"1\",null,\"1\",\">4\",\"1\",\"2\",\"1\",\"3\",\"1\",\"1\",\"1\",\"1\",\"1\",\"0\",\">4\",\"1\",\"1\",\"1\",\">4\",\"0\",\"0\",\"1\",\"2\",\"1\",\"3\",\"1\",\"3\",\"1\",\"1\",\"1\",\"3\",\"2\",\"2\",\"1\",\"1\",\"3\",\"1\",\"1\",\">4\",null,\"2\",\">4\",\"2\",\">4\",\"1\",null,\"2\",\"2\",\">4\",\"1\",\"1\",\"2\",\"2\",\">4\",null,\"3\",\"3\",\"1\",\">4\",\"2\",\"1\",\"1\",\"2\",\"0\",\"1\",\"2\",\"1\",\"1\",\"4\",\"1\",\"0\",\">4\",\"1\",\"0\",\"1\",\"0\",\"0\",\"1\",\">4\",\"2\",\">4\",\"2\",\"2\",\"1\",\"1\",\">4\",\"1\",\"2\",\"0\",null,null,\"0\",\"1\",\"3\",\"2\",\"2\",\"1\",\"0\",\"1\",\"0\",\"2\",\"4\",\"1\",\"1\",\"1\",\"1\",\"1\",\"1\",\"3\",\"1\",null,\"2\",\"2\",null,\"1\",\"0\",\"1\",\"1\",\"2\",\"0\",\"1\",\"2\",\"4\",\"0\",\"4\",\">4\",\"2\",\"4\",\">4\",null,\"1\",\"0\",\"1\",\"1\",\"3\",\"1\",\">4\",\"0\",\"3\",\"2\",\"2\",\"0\",\"2\",\">4\",\"2\",\"1\",\">4\",\"4\",\"1\",\">4\",\"2\",\"1\",\"4\",\"2\",\">4\",\"2\",\"1\",\">4\",\"1\",\"1\",\">4\",\"1\",\"2\",\">4\",\">4\",\"2\",\">4\",\">4\",\"1\",\"1\",\"2\",\"0\",\"1\",\"1\",\"2\",\"1\",\"1\",\">4\",\"4\",\"2\",\"1\",\"0\",\"1\",\"2\",\"0\",\"1\",\"1\",\"4\",\"1\",\"0\",\"4\",\"2\",\"2\",\"2\",\">4\",\"3\",\"1\",\"1\",\"1\",\"0\",\"3\",\"2\",\"1\",\"1\",\"1\",\"3\",\"0\",\"1\",\">4\",\"1\",\"1\",\"1\",\"0\",\"0\",\"1\",\">4\",\"1\",\">4\",\"0\",\"2\",\"4\",\"1\",\"1\",\"2\",\"3\",\"0\",\"0\",\">4\",\"2\",\"1\",\"2\",\"1\",\"1\",\"1\",\"1\",\"4\",\"1\",\"1\",\"2\",\"0\",\"1\",\"0\",\"1\",\"1\",\"2\",\">4\",\"1\",\"2\",\"1\",\"1\",\"4\",\"1\",\"0\",\"1\",\"0\",\">4\",\"1\",\"1\",\"1\",\"1\",\"1\",\"1\",\"2\",\"0\",\"1\",\"0\",\">4\",\"2\",\">4\",\"1\",\"1\",\"0\",\"1\",\">4\",\"4\",\"4\",\"2\",\"1\",\"1\",\"1\",\"1\",\"1\",\"1\",\"1\",\"1\",\">4\",\"4\",\">4\",\"0\",\"4\",\">4\",\"0\",\"1\",\"1\",\"1\",\"2\",\"2\",\"2\",\"1\",\"1\",\">4\",\"1\",\"2\",\"1\",\">4\",\"1\",\"1\",\"1\",\"2\",\">4\",null,\"2\",\"0\",\"4\",\"1\",\"2\",\"1\",\"1\",\"2\",\"1\",\"1\",\">4\",\">4\",\">4\",\"1\",\"1\",\"1\",\"1\",\"1\",\">4\",\"1\",\">4\",\"1\",\"1\",\"2\",\"2\",\"1\",\"2\",\"1\",\"1\",\"1\",\"1\",\">4\",\"1\",\">4\",\"1\",\"1\",\"1\",\"2\",\"2\",\"4\",\"1\",null,\">4\",\"1\",\"1\",\"0\",\">4\",\"4\",null,\">4\",\"0\",\"3\",\"2\",\"3\",\"3\",\"3\",\">4\",\">4\",\"1\",\">4\",\"1\",\">4\",\"1\",\"1\",\"1\",\"4\",\"1\",\"2\",\"1\",\">4\",\"2\",\"2\",\">4\",\">4\",\"2\",\"1\",\"2\",\"1\",\"1\",\"1\",\"1\",\"0\",null,\"3\",\"1\",\"1\",\"1\",\"1\",\"2\",\"2\",\"1\",\">4\",null,\"1\",\"1\",\"2\",\"1\",\"2\",\"1\",\"1\",\"1\",\"3\",\">4\",\"1\",null,\">4\",\"0\",\"1\",\"1\",\"4\",\"3\",\"3\",\"1\",\"1\",\"1\",\">4\",\"2\",\"0\",\">4\",\"1\",\"1\",\"1\",\"0\",\">4\",\"1\",\"1\",\"1\",\"1\",\"0\",\"2\",\"1\",\"2\",null,\">4\",\"1\",\"1\",null,\"1\",\"1\",\"1\",\"1\",\"2\",\"4\",\"2\",\"1\",\"1\",\"4\",\"1\",\"2\",\"4\",\"2\",\"0\",\"0\",\"1\",\"3\",\"2\",\"1\",\"1\",\"1\",\"2\",\">4\",\">4\",\"1\",\"4\",\"1\",\"1\",\"0\",\"1\",\"1\",\"1\",\"0\",\"0\",\">4\",\"3\",\"0\",\"4\",\"2\",\"1\",\"1\",\">4\",\"1\",\"0\",\"0\",\"0\",\"1\",\"2\",\"1\",\">4\",\">4\",\">4\",\">4\",\"2\",\">4\",\"1\",\"1\",\"2\",\"1\",null,\"0\",\">4\",\">4\",\"0\",\"1\",\"1\",\"1\",\"1\",\"2\",\">4\",\"1\",\"1\",\"2\",\">4\",\"2\",\"1\",\"1\",\">4\",\">4\",\">4\",\"3\",\"2\",\"2\",\"1\",\"1\",\"3\",\">4\",\">4\",\"2\",\"1\",\"1\",\"2\",\"4\",\"0\",\">4\",\"1\",\"0\",\"1\",\"2\",\"3\",\">4\",\"1\",\"1\",\">4\",\"1\",\"1\",\">4\",\">4\",\"1\",\"1\",\"2\",\"1\",\"0\",\">4\",\">4\",\"2\",\"1\",\"2\",\"1\",\"1\",\"0\",\">4\",\"2\",\"1\",\"1\",\"1\",\"1\",\"1\",\"1\",\"2\",\"2\",\"1\",\">4\",\"2\",\"1\",\"1\",\"4\",\">4\",\"1\",\"0\",\">4\",\"1\",\"1\",\"1\",\"1\",\"2\",\"1\",\"1\",\"1\",\"4\",\">4\",\"2\",\"4\",\"0\",\"2\",\">4\",\">4\",\"1\",\"3\",\"1\",\"4\",\"1\",\"1\",\"1\",\"2\",\">4\",null,\"1\",\"1\",\"1\",\"2\",\">4\",\"1\",\"2\",\"1\",\"2\",\"1\",\"2\",\"1\",\"1\",\"2\",\"1\",\">4\",\">4\",\"3\",\"2\",\">4\",\"1\",\"3\",\"4\",\">4\",\"4\",\"2\",\"4\",\"4\",\">4\",\"1\",\"3\",\">4\",\"4\",\"1\",\"2\",\">4\",\"1\",\">4\",\"1\",\"3\",\"1\",\"0\",\"1\",\">4\",\"1\",\"2\",\"2\",\"1\",\"2\",\"2\",\"0\",\">4\",\"2\",\"1\",\"2\",\"1\",null,\"1\",\"1\",\"1\",\"1\",\"1\",\"3\",\">4\",\"2\",\"1\",\"2\",\"0\",\"1\",\"1\",null,\"1\",\"0\",\"2\",\"1\",\"1\",\"0\",\"0\",\"0\",\"3\",\"1\",\"1\",\"2\",\">4\",\"4\",\">4\",\"1\",\"3\",\"0\",\"2\",\"2\",\"1\",\"1\",\">4\",null,\"1\",\"1\",null,\"3\",\"1\",\"1\",\">4\",\">4\",null,\"1\",\"3\",\"2\",\"1\",\"3\",\"2\",\">4\",\"1\",\">4\",\"1\",\"1\",\"0\",\"1\",\"1\",\"2\",\">4\",\">4\",null,\"2\",\"0\",\"3\",\"1\",\"2\",\"1\",\"2\",\">4\",\"2\",\"3\",\"2\",\">4\",\"1\",\"0\",\">4\",\"4\",\"1\",\"2\",\"3\",\"0\",\"1\",\">4\",\">4\",\"1\",\"1\",\"2\",\">4\",\"1\",\"0\",\">4\",\"2\",\"0\",\"2\",\"0\",\"1\",\"1\",\"1\",\"3\",\"0\",\"2\",\"1\",\"0\",\">4\",\"2\",\"1\",\"2\",\">4\",\">4\",\"0\",\"1\",\"2\",\"3\",\"2\",\"3\",\"1\",\"1\",\"2\",\"4\",\"1\",\"1\",\"0\",\"1\",\"1\",\"1\",\"0\",\"1\",\"1\",\"1\",\"3\",\"1\",\"1\",\"1\",\"2\",\"1\",\"2\",\"3\",\"2\",\"1\",\"1\",\"1\",\"1\",\"1\",\"1\",\"1\",\"2\",\"1\",\"1\",\"0\",\"1\",\"4\",\"2\",\">4\",\"1\",\"1\",\"1\",\"3\",\"3\",\"1\",\"1\",\"0\",\"2\",\"1\",\"2\",\"0\",\"1\",\"4\",\"3\",\"3\",\"1\",\"1\",\"2\",\">4\",\"0\",null,\"1\",\"1\",\">4\",\"0\",\"1\",\"3\",\"1\",\"1\",\"0\",\"0\",\"1\",\"4\",\"2\",\"1\",\"3\",\"1\",\">4\",\"2\",\"2\",\">4\",\">4\",\"2\",\"1\",\">4\",\"1\",\"1\",\"2\",\"2\",\"0\",\">4\",\"1\",\"1\",\"4\",\"1\",\">4\",\"3\",\"1\",\"2\",\"2\",\"1\",\"2\",\"1\",\"1\",\"1\",\"1\",\">4\",\"1\",\"1\",\"4\",\"2\",\"1\",\"1\",\"0\",\"2\",\">4\",\"2\",\">4\",\"0\",\"0\",\"0\",\">4\",\"1\",\"1\",\">4\",\"2\",\"1\",\"1\",\"1\",\"1\",\">4\",\">4\",\"3\",\"3\",\">4\",\"1\",\">4\",\"1\",\"1\",\"1\",\">4\",\"1\",\"1\",\"4\",\"1\",\"4\",\"2\",\">4\",\"1\",\"2\",\"2\",\"2\",\"4\",\"2\",\"1\",\"1\",\">4\",\"3\",\"3\",null,\"2\",\"0\",\"2\",\"1\",\"1\",\"0\",\"1\",\"2\",\"2\",\"2\",\">4\",\"1\",\"1\",\">4\",\"1\",\">4\",\"1\",\"1\",\"3\",\"1\",\"1\",\"1\",\"1\",\"2\",\"0\",\"0\",\"1\",\">4\",\"1\",\"1\",\">4\",\"1\",\"0\",\"0\",\"2\",\"1\",\"1\",\"3\",\"1\",\"1\",\"2\",\"1\",\"1\",\"2\",\"1\",\"4\",\"3\",\"1\",\"3\",\"1\",\"1\",\"2\",\"1\",\"0\",\"1\",\"2\",\"2\",\"0\",\"1\",\"0\",\">4\",\">4\",\"1\",\"1\",\"1\",\"1\",\"0\",\"1\",\"2\",\"1\",\">4\",\"0\",\"0\",\"1\",\">4\",\">4\",\"1\",\"1\",\">4\",\"2\",\"1\",\"0\",\"0\",\"1\",\">4\",\"2\",\"1\",\"1\",\">4\",\"1\",\"2\",\"0\",\"0\",\"1\",\"1\",\"2\",\"0\",\">4\",\"1\",\"1\",\"0\",\"1\",\"1\",\">4\",\"1\",\"1\",\"2\",\"1\",\"1\",\"0\",\"1\",null,\">4\",\"1\",\">4\",\"1\",\"0\",\">4\",\"4\",\"1\",\"0\",\">4\",\"4\",\">4\",\"2\",\">4\",\">4\",\"1\",\">4\",\">4\",\"1\",\"1\",\"0\",\"0\",\"1\",\"1\",\"1\",\"2\",\"0\",\"1\",\"0\",\"2\",\"1\",\">4\",\">4\",null,\"1\",\"2\",\"2\",\"2\",\">4\",\"3\",\"4\",\"2\",\"1\",\"1\",\"0\",\"1\",\"1\",\"2\",\"1\",\"1\",\"1\",\"2\",\">4\",\"2\",\"1\",\"1\",\">4\",\"1\",\"1\",\"3\",\"1\",\">4\",\"3\",\"3\",\"1\",\"0\",\"1\",\"1\",\"4\",\"1\",\"1\",null,\"2\",\"1\",\"0\",\"2\",\"1\",\"1\",\"0\",\"1\",\"1\",\"2\",\"1\",\"0\",\">4\",\"1\",\"1\",\"1\",\"1\",\"1\",\"1\",\"1\",\"1\",\"1\",\">4\",\"1\",\"2\",\"1\",\"1\",\"4\",\"1\",\"1\",\"1\",\">4\",\"1\",\"1\",\"2\",\">4\",\"2\",\"1\",\"1\",\">4\",\"1\",\"1\",\"3\",\">4\",\"1\",\"1\",\"2\",\"1\",\"0\",\"1\",\"1\",\"2\",\"0\",\"3\",\"1\",\"1\",\"2\",\"1\",\"4\",\"1\",\"0\",\"2\",\"0\",\">4\",\"3\",\"1\",\"1\",\"1\",\"4\",\"1\",\"1\",\"1\",\"1\",\"1\",\"2\",\"1\",\"1\",\"0\",\"1\",\"2\",\"2\",\">4\",\"1\",\"1\",\"1\",\"1\",\"1\",\"1\",\"1\",\"0\",\"2\",\"4\",\"4\",\"4\",\"1\",\"1\",\"1\",\"1\",\"1\",\"1\",\">4\",\"1\",\"1\",null,null,\"4\",\"1\",\"4\",\"1\",null,\"0\",\"2\",\">4\",\"1\",\"0\",\">4\",\"1\",\">4\",\"1\",\"2\",\"1\",\"2\",\"0\",\">4\",\"1\",\"1\",\"1\",\"0\",\"1\",\"1\",\"0\",\"0\",\">4\",\"3\",\"1\",\"2\",\"1\",\"1\",\"2\",\">4\",\">4\",\"2\",\"1\",\"4\",\"1\",\">4\",null,\"1\",\"0\",\"2\",\"1\",null,\"1\",\"0\",\"1\",\"1\",\"1\",\"1\",\"1\",\"2\",null,\"2\",\">4\",\"1\",\">4\",null,\"1\",\"1\",\"1\",\">4\",\"1\",\"3\",\"0\",\"1\",\"2\",\"1\",null,\"1\",\">4\",\">4\",\">4\",\"2\",\">4\",\"0\",\"0\",\"0\",\"1\",\"1\",\"1\",\"0\",\"1\",\"3\",\"1\",\">4\",\"0\",\"1\",\"1\",\"3\",\"0\",\">4\",\">4\",\"1\",\"1\",\"1\",\"2\",\"1\",\"1\",\"1\",\"0\",\"2\",\"2\",\"4\",\"2\",\">4\",\">4\",\"3\",\"1\",\"1\",\"0\",\">4\",\">4\",\"1\",\"4\",\"2\",\"2\",\"0\",\"1\",\"2\",\"1\",\"1\",\"2\",\"1\",\"1\",\"0\",\"0\",\"1\",\"3\",\"1\",\"0\",\"0\",\"1\",\">4\",\"0\",\">4\",\"3\",\"1\",\"2\",\"0\",\"2\",\"2\",\"1\",\"1\",\"0\",\"1\",\"1\",\"1\",\"2\",\"2\",\"1\",\">4\",\"2\",\"1\",\"1\",\">4\",\"0\",\"1\",\"0\",\"1\",\"1\",\">4\",\"0\",\">4\",\">4\",\"2\",\">4\",\"0\",\"0\",\">4\",\">4\",\">4\",\"1\",\"1\",\">4\",\"2\",\">4\",\">4\",\"3\",\"2\",\"0\",\"0\",\"0\",\"2\",\"2\",\">4\",\"1\",\"0\",\"0\",\">4\",\"1\",\"1\",\"0\",\"4\",\">4\",\"1\",null,\">4\",\"1\",\"2\",\"1\",\"1\",\"1\",\"4\",\"1\",\"1\",\"1\",\">4\",\"1\",\"1\",\"1\",\"1\",\"3\",\"0\",\"2\",\"0\",\"1\",\">4\",\">4\",\"1\",\"2\",\"1\",\"1\",\"0\",\"2\",\"4\",\"0\",\">4\",\"1\",\">4\",\">4\",\"4\",\">4\",\"4\",\"1\",\"1\",\">4\",\">4\",\"4\",\"1\",\"1\",\"1\",\"0\",\"3\",\">4\",\"1\",\"1\",\"2\",\"1\",\"1\",\">4\",\"2\",\"1\",\"1\",\"1\",\"1\",\"1\",\"2\",\"2\",null,\"2\",\"2\",\"1\",\"3\",\"1\",\"1\",\"1\",\"2\",\"2\",\"1\",\"1\",\">4\",\"3\",\"1\",\"0\",\"4\",\">4\",\">4\",\">4\",\"1\",\">4\",\"4\",\"1\",\"2\",\"2\",\"4\",\"1\",\"1\",\"4\",null,\"2\",\">4\",\"1\",\"1\",\"2\",\"1\",\"1\",\"1\",\"4\",\"1\",\"1\",\"4\",\"2\",\"3\",\">4\",\"0\",\"3\",\"1\",\"3\",\"1\",\"0\",\"1\",\"1\",\"1\",\">4\",\"1\",\"1\",null,\"1\",\"0\",\"0\",\"1\",\"3\",\">4\",\"0\",null,\"1\",\"2\",\"1\",\">4\",\">4\",\">4\",\"2\",\"1\",\"4\",\">4\",\"1\",\">4\",\"1\",\"1\",\"1\",\"1\",\"3\",\"1\",\">4\",\"1\",\"4\",\"2\",\"1\",\"1\",\"1\",\">4\",\">4\",\"0\",\"1\",\"3\",\"1\",\"1\",\">4\",\"3\",\"0\",\"1\",\"1\",null,\"1\",\"2\",\"1\",\">4\",\"1\",\"1\",\"1\",\"1\",\"3\",\"1\",\">4\",\"2\",\"1\",\"1\",\"2\",\"2\",\"1\",\"0\",\">4\",\"1\",\"1\",\"1\",\"1\",\"2\",\"1\",\"1\",\"4\",\"1\",\"4\",null,\"2\",\">4\",\"0\",\"1\",\"0\",\">4\",\"1\",\"0\",\"1\",\"0\",\"1\",\"1\",\"1\",\"1\",\"0\",\"3\",\">4\",\"0\",\"1\",\"1\",\"1\",\"1\",\"2\",\"1\",\"1\",\"2\",\"1\",\"1\",\"2\",\">4\",\"1\",\"1\",\"2\",\"1\",\"0\",\">4\",\"1\",\">4\",\"3\",\"3\",\"1\",\"1\",\"2\",\">4\",\"1\",\"2\",\"3\",\"1\",\"2\",\"1\",\">4\",\">4\",\"2\",\"1\",\"1\",\">4\",\"1\",\">4\",\">4\",\"2\",\"1\",\">4\",\"1\",\"4\",\"0\",\"1\",\"1\",\"1\",\"1\",\"0\",\">4\",\"0\",\">4\",\">4\",\"1\",\"2\",\">4\",\"0\",\"0\",\"1\",\"3\",\"2\",\"1\",\"2\",\"2\",\">4\",\"0\",\"1\",\"0\",\"1\",\"1\",\">4\",\"1\",\"1\",\"1\",\"3\",\"1\",\">4\",\">4\",\"4\",\"3\",\"1\",\">4\",\">4\",\"0\",\"2\",null,\"1\",\"2\",\"4\",\"1\",\"1\",\"1\",\"1\",\"2\",\"2\",\"3\",\"4\",\"2\",\">4\",\"1\",\"2\",\"4\",\">4\",\"2\",\"0\",\">4\",\"1\",\">4\",\"2\",null,\">4\",\"0\",\"0\",\">4\",\"4\",\"1\",\"1\",\"1\",\">4\",\"0\",\"3\",\"1\",\">4\",\"1\",\"1\",\"1\",\"0\",\"0\",\"1\",\"1\",\"1\",\"1\",\"1\",\"0\",\">4\",\"1\",\">4\",\"1\",\"2\",\"0\",\"1\",\"3\",\"1\",\">4\",\"1\",\"1\",\"2\",\"1\",null,\"1\",\"4\",\"0\",\"1\",\"1\",\"1\",\"1\",\"4\",null,\">4\",\"2\",\"2\",\"0\",\"1\",\">4\",\">4\",\"0\",\"4\",\"1\",\"1\",\"1\",\"4\",\"1\",\"2\",\"1\",\"1\",\"3\",\"1\",\">4\",\"1\",\"1\",\"1\",\"2\",\"1\",\">4\",\"1\",\"1\",\"1\",\"1\",\"1\",\"3\",\"1\",\"1\",\"1\",\"1\",\"1\",null,\"2\",\"1\",\"1\",\">4\",\"4\",\"1\",\"0\",\"0\",\"1\",\"0\",\"3\",\"1\",\"0\",\"4\",\"1\",\"2\",\">4\",\"1\",\"1\",\"2\",\"2\",\"1\",\">4\",\">4\",\"1\",\">4\",\"0\",\"1\",\"1\",\"2\",\"1\",\"1\",\"1\",\"4\",\"4\",\"0\",\"0\",\"2\",\"1\",null,\"1\",\"2\",\"1\",\"1\",\"4\",\"1\",\">4\",\"3\",\"0\",\"3\",\"1\",\">4\",\">4\",\"1\",\">4\",\"1\",\"1\",\">4\",\"1\",\"0\",\"4\",\"0\",\"1\",\"2\",\"2\",\"1\",\"1\",\">4\",\"2\",null,\"0\",\"1\",\"1\",\"2\",\">4\",\">4\",\"0\",\"2\",\"1\",\"3\",\">4\",\"2\",\">4\",\"0\",\"1\",\"1\",\"0\",\"1\",\">4\",\"1\",\"2\",\"1\",\"1\",\"1\",\">4\",\"1\",\">4\",\">4\",\">4\",\"0\",\"4\",\"1\",\"1\",\"1\",\"2\",\"1\",\"2\",\"1\",\"0\",\"3\",\"1\",\"1\",\"0\",\"0\",\"2\",\"2\",\"1\",\">4\",\"0\",\"1\",\"1\",\">4\",\"0\",\"1\",\">4\",\"0\",\"1\",\"4\",\">4\",\">4\",\">4\",\"2\",\"1\",\">4\",\"2\",\">4\",\"2\",\"1\",\"1\",\"2\",\"1\",\">4\",\"0\",\">4\",\"0\",\"1\",\"0\",\">4\",\"4\",\"1\",\"4\",\"1\",null,\">4\",\"1\",\"3\",null,\"1\",\"1\",null,\"0\",\"1\",\"1\",\"4\",\">4\",\"1\",\"2\",\"1\",\">4\",\">4\",\"2\",null,\"2\",\"1\",\"1\",\"0\",\">4\",\"0\",\"1\",\"1\",\"1\",\"0\",\"1\",\"2\",\"1\",\"1\",\"1\",\">4\",\"0\",\"2\",null,\"0\",\"4\",\"4\",\"3\",\"4\",\"1\",\"1\",\"1\",\"1\",\"1\",\"1\",\"1\",\"1\",\"3\",\"1\",\"1\",\"1\",\"0\",\"1\",\">4\",\"3\",\"0\",\"1\",\"0\",\"0\",\"2\",\">4\",\">4\",\">4\",\"2\",\"2\",\"1\",\"1\",\"1\",\"1\",\">4\",\">4\",\">4\",null,\"1\",\"0\",\">4\",\"3\",\"1\",\"1\",\">4\",\"0\",\"1\",\"1\",\">4\",\"1\",null,\"2\",\"1\",\"0\",\"1\",\"2\",\"1\",\"1\",\"1\",\"2\",\"1\",\"1\",\">4\",\">4\",\">4\",\"2\",\">4\",\"2\",\"1\",\"1\",\"2\",\"0\",\"1\",\"4\",\"2\",\"2\",\"1\",\"0\",\"2\",\">4\",\"0\",\"1\",\"2\",\"0\",\"0\",\"1\",\"1\",\"1\",\"2\",\">4\",\"2\",\"1\",\">4\",\"1\",\"1\",\"1\",\"1\",\"3\",\"1\",\"2\",\"1\",\">4\",\">4\",\"1\",\"0\",\">4\",\"1\",\"1\",\"1\",\">4\",\"0\",\"1\",\"1\",\"1\",\">4\",\"1\",\"4\",\"2\",\"1\",\">4\",\"4\",\"1\",\"4\",\"1\",\">4\",\">4\",\"0\",\"1\",\"2\",\"2\",\">4\",\"3\",\"4\",\"2\",null,\"2\",\"2\",\">4\",\"2\",\"2\",null,\"1\",\"4\",\">4\",null,\"1\",\"0\",\">4\",\"1\",\"1\",\"1\",\">4\",\"3\",\"2\",\"1\",\"2\",\"3\",\"2\",\"1\",\"2\",\">4\",\"0\",\"3\",\"1\",\"4\",\"0\",\"1\",\"1\",\"4\",\"1\",\"1\",\"4\",\"1\",\"1\",\">4\",\"1\",\"2\",\"2\",\"0\",\"2\",\"1\",\"4\",\"4\",\"0\",\"1\",\"0\",\"1\",\"2\",\"0\",null,\">4\",\">4\",\"3\",\"1\",\"2\",\"1\",\"1\",\"1\",\">4\",\"1\",\">4\",\"1\",\">4\",\">4\",\"1\",\"1\",\"1\",\"1\",\"1\",\"0\",\"1\",\"1\",\"2\",\"0\",\"1\",\">4\",\"1\",\"0\",\"2\",\"1\",\"1\",\"1\",\"1\",\"0\",\">4\",\"1\",\">4\",\">4\",\"2\",\">4\",\">4\",\">4\",\"0\",\"1\",\"2\",\"1\",\">4\",\"2\",\"2\",\">4\",\"1\",\">4\",\">4\",\">4\",\"1\",\"2\",\"3\",\"2\",\"1\",\"1\",\"2\",\"1\",\"1\",\"1\",\"2\",\"1\",\"4\",\">4\",\"1\",\"1\",\"1\",\"2\",\"1\",\"1\",\"1\",\"1\",\">4\",\"1\",\"2\",\"1\",\">4\",\"1\",\"4\",\">4\",\"0\",\"4\",\">4\",\"1\",\"1\",\"1\",\"4\",\"1\",\"4\",\"1\",\"4\",\"1\",\"1\",\"3\",\">4\",\"2\",\">4\",\"0\",\"3\",\"4\",\"1\",\"2\",\"2\",\"4\",\"1\",\">4\",\">4\",\">4\",\">4\",\"1\",null,\"1\",\"1\",\"1\",\">4\",\"2\",\"2\",\"1\",\"1\",\">4\",\"0\",\"2\",\"1\",\"2\",\">4\",\"1\",\"3\",\"2\",\"1\",\"0\",\"2\",\"1\",\"4\",\"1\",\"2\",\"1\",\"2\",\"1\",\"0\",\">4\",\"0\",\"1\",\"2\",null,\"2\",\">4\",\"1\",\"1\",\">4\",\">4\",\"2\",\"2\",\"4\",\"2\",\"1\",\"1\",\"4\",\"0\",\"4\",\"1\",\">4\",\"4\",\"1\",\"1\",\"1\",\"2\",\"1\",\"2\",\"3\",\"3\",\">4\",\"1\",\"0\",\">4\",\">4\",\"0\",\"2\",\"2\",\"1\",\"1\",\">4\",\">4\",\"4\",\"0\",\">4\",\"1\",\"0\",\"0\",\"4\",\"2\",\"1\",\"1\",\"1\",\"2\",\"1\",\"1\",\"1\",\"1\",\"1\",\"1\",\"2\",\">4\",\"3\",\"1\",\"1\",\"0\",\"1\",\"0\",\"1\",\"4\",null,\"1\",\">4\",\"1\",\"1\",\"2\",\"3\",\"2\",\"1\",\"0\",\"0\",\"0\",\"4\",\"3\",\"0\",\">4\",\">4\",\"1\",\"0\",\"1\",\"2\",\"1\",\"0\",\"0\",\"1\",\"1\",\"1\",\"2\",\"1\",\"1\",\">4\",\"2\",\"1\",\"1\",\"1\",\"2\",\">4\",\"0\",\"4\",\"1\",\"2\",\"1\",\"1\",\">4\",\"1\",\"2\",\"1\",\"3\",\"1\",\"2\",\">4\",\">4\",\"1\",\"2\",\">4\",\"1\",\">4\",\"0\",\"1\",\"1\",\"1\",\">4\",\"1\",\"1\",\">4\",\"4\",\"0\",\"1\",\"1\",\">4\",\"0\",\">4\",\"3\",\"1\",\"1\",\"2\",\"0\",\"1\",\"4\",\"2\",\">4\",\"2\",\"1\",\">4\",\"1\",\">4\",\"1\",\"4\",\">4\",\"1\",\"1\",\"1\",\"0\",\"4\",\"1\",\"1\",\">4\",\"2\",\">4\",\"0\",\">4\",\"1\",\"0\",\">4\",\"1\",\"1\",\"1\",\"2\",\"3\",\"1\",\"1\",\">4\",\"1\",\"0\",\"2\",\"1\",\"3\",\">4\",\">4\",\"1\",\"1\",\"1\",\"1\",\">4\",\"1\",null,\"1\",\"1\",\"1\",\"0\",\"2\",\"1\",\"1\",\"2\",\">4\",\"2\",\"3\",\"4\",\"2\",null,\"1\",\"1\",\"1\",\"0\",\"2\",\"0\",\"0\",\"1\",\"1\",\"2\",\"4\",\"4\",\">4\",\"2\",\"1\",\"3\",\"1\",\"1\",\">4\",\"1\",\"3\",\"1\",\"2\",null,\">4\",\"1\",\"2\",null,\"1\",\"2\",\"1\",\"0\",\">4\",\"1\",\"1\",null,\"3\",\"1\",\"1\",\"1\",\"1\",\"1\",\"1\",\"2\",\"1\",\"1\",\">4\",\">4\",\"1\",\"1\",\">4\",\"2\",\">4\",\">4\",\"2\",\"1\",\"0\",\"3\",\"0\",\"4\",\"0\",\">4\",\"1\",\"3\",\"1\",\"1\",\"3\",\"4\",\"1\",\"1\",\"1\",\"0\",\"4\",\"1\",\"1\",\"1\",\"1\",\"1\",\">4\",\"0\",\"0\",\"3\",\">4\",\"1\",\"1\",\"1\",\"1\",\"1\",\"1\",\"1\",\">4\",\"1\",\"1\",\"1\",\"2\",\"1\",\"1\",\">4\",\"1\",\"1\",\">4\",\"2\",\"1\",\">4\",\"2\",\"4\",\"0\",\"4\",\">4\",\"1\",\">4\",\"2\",\"0\",\"2\",\">4\",\"0\",\"2\",\">4\",\"3\",\"1\",\">4\",null,\"1\",\"1\",\"1\",\"1\",\"3\",\"1\",\"0\",\"1\",\"1\",\"4\",\"1\",\"1\",\"1\",\"1\",\">4\",\"3\",\"4\",\"1\",\"1\",\"3\",\"1\",\">4\",\">4\",\"2\",\"0\",\"1\",\"1\",\"2\",\"0\",\"2\",\"2\",\"1\",\">4\",\">4\",\"1\",\">4\",\">4\",\"2\",\">4\",\">4\",\"1\",\"4\",\"1\",\"2\",\"1\",\"1\",\"2\",\">4\",\"2\",\"2\",\"1\",\"1\",\"4\",\"1\",\">4\",\"1\",\"2\",\"0\",\"2\",\"2\",\"0\",\"4\",\"1\",\"1\",\"0\",\"1\",\"1\",\"1\",null,\">4\",\"1\",\"1\",\">4\",\"2\",\"1\",\"0\",\"1\",\">4\",\"1\",\"4\",\">4\",\"2\",\"1\",\"0\",\"0\",\"1\",\">4\",\"1\",\"1\",\"1\",\"0\",\"1\",\"3\",\"0\",\"0\",\"2\",\">4\",\">4\",\"2\",\"1\",\"1\",\">4\",\"1\",\"1\",null,\"4\",\"1\",\"2\",\"1\",\"0\",\"0\",\"4\",\"3\",\"3\",\"1\",\">4\",\"1\",\"3\",\">4\",\"1\",\"2\",\"4\",\"1\",\"0\",\"2\",\"0\",\"1\",\"1\",\">4\",\"0\",\"2\",\"1\",\">4\",\"1\",\"2\",\"3\",\">4\",\"0\",\"2\",\">4\",\"1\",\"1\",\"1\",\"1\",\">4\",\"0\",\"1\",\"1\",\"1\",\"1\",\">4\",\"1\",\"1\",\"2\",\">4\",\"0\",\"1\",\"3\",\"2\",\"1\",\"1\",\"1\",\"0\",null,\">4\",\"1\",\">4\",\"1\",\"1\",\"3\",\"1\",\"1\",\">4\",\"4\",\"1\",\"1\",\"4\",\"2\",\"1\",\"1\",\">4\",\"0\",\"0\",\"2\",\"1\",\"1\",\"2\",\"2\",\"1\",\"1\",\"1\",\"0\",\"2\",\"3\",\"1\",\"0\",\"1\",\"0\",\"0\",\"1\",\"1\",\">4\",\"2\",\"2\",\"2\",\"4\",\"1\",\"0\",\">4\",\">4\",\"1\",\"1\",\"2\",\"2\",\"1\",\">4\",\"1\",\"1\",\"1\",\">4\",\"1\",\">4\",\">4\",\"2\",\"1\",\"2\",\"0\",\"1\",\"0\",\"0\",\"4\",\"3\",\"1\",\"1\",\"0\",\"3\",\"1\",\"1\",\"2\",\"1\",\"1\",\"4\",\">4\",\"2\",\"0\",\"3\",\"2\",\"2\",\"1\",\">4\",\"1\",\"2\",\"1\",\"1\",\"1\",\"1\",\"0\",\">4\",\"1\",\"1\",null,\"2\",\"1\",\"4\",\"1\",\"4\",\"1\",\"1\",\"2\",\"1\",\">4\",\">4\",\"1\",\"2\",\"1\",\"4\",\"1\",\"2\",\"2\",\"1\",\"0\",\"1\",\"2\",\">4\",\">4\",\"1\",\">4\",\"1\",\">4\",\"2\",\"1\",\"2\",\"2\",\"4\",\"1\",\"0\",\"2\",\"1\",\"1\",\"1\",\"1\",\"1\",\">4\",\"1\",\"1\",\"1\",\"0\",\"1\",\"1\",\"1\",\"1\",\"4\",\"1\",\"1\",\"2\",\"2\",\"0\",\">4\",\"4\",\"1\",\"1\",\"1\",\"4\",\"1\",\"0\",\">4\",\"1\",\"1\",\"0\",\"0\",\"0\",\"2\",\"3\",\"1\",\"2\",\"2\",\"1\",\"1\",\"2\",\"1\",\"1\",\">4\",\"2\",\"2\",\"1\",\"0\",\"3\",\"4\",\"1\",\"0\",\"0\",\">4\",\"1\",\"1\",\"0\",\"2\",\">4\",\"1\",\">4\",\"2\",\">4\",\"1\",\"0\",\"1\",\"3\",\"3\",\"1\",\"1\",\"1\",\"1\",\">4\",\"1\",\"0\",\"1\",\"1\",\"0\",\">4\",\"1\",\"2\",\"2\",\">4\",\"1\",\"1\",\"0\",\"1\",\"1\",\"3\",\"1\",\"1\",\"1\",\"1\",\"2\",\"2\",\"1\",\">4\",\"1\",\"0\",\"2\",\">4\",\"4\",\">4\",\"1\",\"1\",\"1\",\"1\",\">4\",\"1\",\"1\",\"1\",\">4\",\"1\",\">4\",\"1\",\"1\",\"1\",\"1\",\"1\",\"1\",\"1\",\"0\",\"1\",\"0\",\"0\",\"1\",\"0\",\"1\",\">4\",\"2\",\"1\",\"3\",\"1\",\"1\",\">4\",\"3\",\"0\",\"1\",\"1\",\"2\",\"0\",\">4\",\"1\",\"1\",\"1\",\"1\",\">4\",\"1\",\"2\",\"1\",\"1\",\">4\",\"1\",\"1\",\"0\",\"2\",\">4\",\">4\",\"1\",\"1\",\"1\",\"1\",\"1\",\"1\",\"1\",\"1\",\"0\",\"1\",\"1\",\"1\",\"1\",\"1\",\">4\",\"2\",\"3\",\"0\",\"2\",\">4\",\"1\",\"2\",\"1\",\">4\",\"2\",\"1\",\">4\",\">4\",\">4\",\"1\",\">4\",\"1\",\"1\",\"4\",\"4\",\"0\",\"0\",\"1\",\"2\",\"1\",\"1\",\"0\",\"1\",\"1\",\">4\",\">4\",\"1\",\"1\",\">4\",\"1\",\"1\",null,\"4\",\"2\",\"1\",\"1\",\">4\",\"1\",\"1\",\"1\",\">4\",\"2\",\"1\",\"0\",\"1\",\"3\",\"1\",\"1\",\"0\",\"0\",\"2\",\"3\",\"1\",\"1\",\"4\",\">4\",\"1\",\">4\",\"2\",\"0\",\"1\",\">4\",\"2\",\"1\",\"1\",\"1\",\"2\",\"1\",\"1\",\"1\",\"1\",\"1\",\"1\",\"4\",\"2\",\"3\",\"1\",\"2\",\"2\",\"2\",\"0\",\"0\",\"3\",\"1\",\"1\",\"2\",\"1\",\"1\",\"2\",\"2\",\"4\",\"1\",\"1\",\">4\",\"2\",\"1\",\"1\",\"1\",\"1\",\"4\",\"2\",\"2\",\"1\",\"1\",\"1\",\"1\",\">4\",\">4\",\"1\",\">4\",\"3\",\"0\",\"4\",\"2\",\">4\",\"1\",\"1\",\"2\",\"1\",\"4\",\"1\",\"2\",\"2\",\">4\",\"1\",\"2\",\"1\",\"1\",\"0\",\"2\",\">4\",\"1\",\"3\",\"2\",\">4\",\"1\",\"1\",\"1\",\"1\",\">4\",\"1\",\"0\",\"1\",\"1\",\"1\",\"1\",\"4\",\"0\",\">4\",\"0\",\"2\",\"2\",\"0\",\"1\",\"1\",\"1\",\"1\",\">4\",null,\">4\",\"3\",null,\"1\",\"3\",\"2\",\"1\",\"0\",\"0\",\">4\",\"2\",\"3\",\"1\",\"2\",\"1\",\"1\",\"0\",\">4\",\">4\",\"1\",\"1\",\"2\",\"2\",\"1\",\"1\",\"0\",\"2\",\"2\",\"1\",\"0\",\"1\",\"3\",\"1\",\">4\",\"1\",\"1\",\"1\",\"1\",\"0\",\"1\",\"2\",\">4\",\"1\",\"1\",\"1\",\"1\",\"1\",\">4\",\"1\",\"3\",\">4\",\"1\",\"3\",\"1\",\">4\",\"2\",\"1\",\">4\",\">4\",\"1\",\"2\",\"1\",\"1\",\"1\",\"0\",\"0\",\"0\",\"4\",\"1\",\"1\",\"1\",\"2\",\"2\",\"1\",\"2\",null,\"1\",\">4\",\"0\",\">4\",\"1\",\"2\",\"1\",\"2\",\"1\",\"1\",\"1\",\"1\",\"0\",\"1\",\"1\",\"0\",\"2\",\"1\",\"1\",\"1\",\"1\",\"2\",\"1\",\">4\",\"2\",\"1\",\"3\",\"0\",\"1\",\"0\",\"2\",\"1\",\"1\",\"1\",\"0\",\"1\",null,\"1\",\"4\",\"1\",\">4\",\"1\",\"2\",\"1\",\"2\",\"1\",\"3\",\">4\",\"1\",\"0\",\"1\",\">4\",\"1\",\"1\",\"0\",\"0\",\"1\",\"2\",\">4\",\">4\",\"1\",\"4\",\">4\",\">4\",\">4\",\">4\",\">4\",\"1\",\"2\",\">4\",\"0\",\"1\",\"4\",\"1\",\"1\",\">4\",\"0\",\"1\",\"1\",\"1\",\"3\",\"1\",\"1\",\"1\",\"0\",\"3\",\">4\",\"1\",\"0\",\"1\",\"1\",\">4\",\"2\",\">4\",\"1\",\">4\",\"1\",\"4\",\"0\",\"1\",\"2\",\"1\",\"2\",\"1\",\"1\",\"1\",\"4\",\"1\",\">4\",\"2\",\"1\",\"2\",\"1\",\"1\",\"1\",\"1\",\"3\",\"1\",\">4\",\">4\",\"1\",\"3\",\"1\",\"4\",\"1\",\"1\",\"1\",\">4\",\"0\",\">4\",\"1\",\">4\",\"1\",\"3\",\">4\",\">4\",\"2\",\"1\",\"2\",\"1\",\"1\",\"1\",\"0\",\"0\",\"4\",\"1\",\"2\",\"1\",\"0\",\"1\",\"2\",\"2\",\"4\",\">4\",\"0\",\"1\",\"1\",\"0\",\"1\",\"1\",\"1\",\"4\",\"0\",\"1\",\"1\",\"0\",\"1\",\"1\",\"2\",\">4\",\"1\",\"1\",\"1\",\"1\",\"1\",\"2\",\"1\",\"4\",\"0\",\"1\",\"0\",\"4\",\"4\",\"0\",\"2\",\"3\",\"2\",\"1\",\"1\",\">4\",\"4\",\"3\",\">4\",\"2\",\"1\",\">4\",\">4\",\"1\",\">4\",\"1\",\">4\",\"1\",\">4\",\"2\",\">4\",\"0\",\"0\",\"0\",\"0\",\"1\",\"2\",\"0\",\"1\",\"1\",\"0\",\"4\",null,\"0\",\"3\",\"0\",\"0\",\"2\",\">4\",null,\"2\",\"1\",\"1\",\"4\",\"2\",\"1\",\"0\",\"1\",\"0\",\"2\",\"3\",\"1\",\"1\",\"1\",\">4\",\"2\",\">4\",\"0\",\"1\",\"0\",\">4\",\"1\",\"0\",\"1\",\"0\",\"2\",\"0\",\">4\",\"2\",\">4\",\"1\",\"1\",\"1\",\"2\",\"1\",\"0\",\"1\",\"2\",\">4\",\"1\",\"1\",\"2\",\"1\",\"2\",\"1\",null,\"1\",\"2\",\"1\",\"2\",\"1\",\">4\",\"0\",\"1\",null,\"1\",\"1\",\"4\",\"4\",\">4\",\"0\",\">4\",\">4\",\"1\",\"1\",null,\"2\",\"0\",\"4\",\"4\",null,\"1\",\"3\",\"1\",\">4\",\"0\",\"2\",\">4\",\">4\",\"1\",\"1\",\"4\",\">4\",\"1\",\"1\",\"2\",\"1\",\">4\",\"4\",\"0\",\"3\",\"3\",\"1\",\">4\",\"2\",\"4\",\"1\",\"4\",\"2\",\">4\",\">4\",\"0\",\"4\",\">4\",\"2\",\"1\",\"0\",\"1\",\">4\",\">4\",\"1\",\"1\",\"4\",\"3\",\">4\",\"1\",\"1\",\"1\",\"1\",\"3\",\"3\",\">4\",\">4\",\">4\",\">4\",\"0\",\"0\",\"1\",\"3\",\"1\",\">4\",\"2\",\"2\",\"2\",\"1\",\"1\",\"1\",\">4\",\"1\",\"1\",\"1\",\"1\",\"1\",\"2\",\"1\",\"0\",\"1\",\"1\",\"0\",\"1\",\"0\",\"0\",\">4\",\"0\",\"1\",\">4\",\"1\",\"1\",\"0\",\"0\",\"2\",\"1\",\"0\",\"1\",\"2\",\"1\",null,\"1\",\"1\",\"2\",\"2\",\"1\",\"3\",\"1\",\"1\",\"1\",\"1\",\">4\",\"0\",\"1\",\"1\",\"1\",\"1\",\"3\",\"1\",\"2\",\"4\",\"1\",\"2\",\"1\",\">4\",\"2\",\"1\",\"1\",\"1\",\"2\",\">4\",\"2\",\"2\",\"4\",\"1\",\"4\",\"2\",\"2\",\"0\",\"3\",\"1\",\"0\",\"2\",\">4\",\"1\",\"1\",\"1\",\">4\",\"1\",\"4\",\">4\",\">4\",\">4\",\"2\",\"0\",\"1\",\"2\",\">4\",\">4\",\">4\",\"2\",\"1\",\"1\",\"1\",\"2\",\"1\",\"1\",\">4\",\"2\",\"1\",\"0\",\"3\",\"1\",\"0\",\">4\",\"0\",\">4\",\"3\",\"1\",\"1\",\"1\",\"1\",null,\"4\",\"2\",\"2\",\"0\",\"1\",\"1\",\"0\",\"4\",\"0\",\"4\",\"1\",\"1\",\">4\",\">4\",\"0\",\"1\",\"1\",\"1\",\"2\",\"1\",\"0\",\"1\",\"1\",\"2\",\"0\",\"1\",\"1\",\"1\",\"2\",\">4\",\"1\",\"1\",\"2\",\">4\",\"1\",\">4\",\"0\",\"0\",\"1\",\"0\",\"1\",\"2\",\"4\",\"4\",\">4\",\"3\",\">4\",\">4\",\"1\",\"0\",\"2\",\"1\",\"1\",\"2\",\"2\",\"0\",\"1\",\"1\",\"0\",\"1\",\"2\",\"3\",\"4\",\"2\",\"2\",\"4\",\">4\",\"3\",\"2\",\"1\",\"1\",\"1\",\"1\",\"1\",\"1\",\"2\",\"2\",\"0\",\"3\",\"1\",\"4\",\"1\",\"2\",\">4\",\">4\",\"1\",\"2\",\"2\",\"4\",\"1\",\">4\",null,\"3\",\"1\",\"1\",\"1\",\"2\",\"1\",\"1\",null,\"0\",\"0\",\"1\",\"4\",\"0\",\"0\",\"0\",\"2\",\"3\",\"3\",\">4\",\"1\",\"1\",\"4\",\"0\",\"0\",\"4\",null,\"1\",\">4\",\"1\",\"2\",\"2\",\"2\",\"0\",\">4\",\"1\",\">4\",\"1\",\"0\",\"4\",\"1\",\"1\",\"1\",\"3\",\"1\",\"1\",\">4\",\"2\",\"1\",\"1\",\"0\",\"1\",\"1\",\"1\",\"1\",\"1\",\"1\",\"4\",\">4\",\"1\",\"1\",\"2\",\"1\",\"1\",\"3\",\"3\",\"1\",\"1\",\"1\",\">4\",\"4\",\"1\",\"2\",\"1\",\"1\",\"1\",\"2\",\"4\",\"1\",\"3\",\"1\",\"1\",\"1\",\"0\",\">4\",\"3\",\"1\",\"1\",\"1\",\"1\",\"2\",\"1\",\"1\",\"1\",\"1\",\"1\",\">4\",\">4\",\"1\",\"0\",\"1\",null,\"1\",\"2\",\"1\",\"1\",\">4\",\"1\",\"1\",\"1\",\"1\",\"0\",null,\"3\",\"1\",\"1\",\"4\",\"4\",\"0\",\"1\",null,\"3\",\">4\",\"3\",\"0\",\"1\",\"2\",\"4\",\"4\",\"1\",\"1\",\"1\",\">4\",\">4\",\"1\",\">4\",\"1\",\"0\",\"4\",\"1\",\"2\",\"1\",\"4\",\"1\",\"2\",\"3\",\"2\",\"4\",\"0\",\"1\",\"3\",\"0\",\"1\",\"1\",\"1\",\">4\",\"3\",\"2\",\"1\",null,\"1\",\"1\",\"1\",\"2\",\"0\",\"2\",\"1\",\"1\",\"1\",\"1\",\"1\",\"4\",\"1\",\"2\",\"1\",\"2\",\"2\",\"1\",\"1\",\"0\",\"2\",\"1\",\"1\",\"1\",\"4\",\"3\",\"2\",\"1\",\"1\",\">4\",\"1\",\"2\",\"1\",\"2\",\"2\",\"1\",\"1\",\">4\",\"2\",\"2\",\"1\",\">4\",\"1\",\"3\",\"1\",\">4\",\"0\",\">4\",\"4\",\"0\",\"1\",\">4\",null,\"3\",\"1\",\"1\",\"3\",\"0\",\"1\",\">4\",\">4\",\"0\",\">4\",\"1\",\">4\",\"2\",\"1\",\"2\",\"1\",\"1\",\"2\",\"1\",\"1\",\"1\",\"1\",\">4\",\"1\",\"0\",\"1\",\"1\",\"2\",\">4\",\">4\",\"0\",\"1\",\"1\",\"1\",\">4\",\">4\",\"1\",\"0\",\"4\",\"0\",\"3\",\">4\",\"1\",\"1\",\"2\",\"1\",\"2\",\">4\",\"0\",\">4\",\">4\",\"2\",\"1\",\">4\",\">4\",\"0\",\"1\",\"1\",\"3\",\"0\",\"1\",\"1\",\"1\",\"2\",\"2\",\"3\",\"1\",\"1\",\"0\",\">4\",null,\"1\",\"0\",\">4\",\"1\",\"1\",\"4\",\"0\",\"1\",\"0\",\"1\",\"0\",\"1\",\"1\",\"1\",\"0\",\"1\",\">4\",\">4\",\">4\",\"0\",\"1\",\"1\",\"1\",\"3\",\"3\",\"0\",\"4\",\"1\",\"2\",\"1\",\"3\",\"1\",\"0\",\"2\",\">4\",\"2\",\"1\",\"1\",\"1\",\">4\",\">4\",\">4\",\"1\",\"0\",\"2\",\"1\",\"0\",\"0\",\"1\",\"1\",\"0\",\">4\",\"4\",\"1\",\"3\",\"3\",\">4\",\">4\",\">4\",\"4\",\"3\",\"0\",\"1\",\"3\",\"4\",\"1\",\"0\",\">4\",\">4\",\"1\",\">4\",\"3\",\"1\",\"2\",\"0\",\">4\",\"1\",\"1\",\"0\",\"0\",\">4\",\"1\",\"1\",\"4\",\"1\",\"1\",\"1\",\"2\",\"1\",\"4\",\"0\",\"2\",\"0\",\"0\",\"1\",\"1\",\"1\",\"1\",\"1\",\">4\",\"4\",\"1\",\"1\",\"1\",\"2\",\">4\",\"4\",\"4\",\"1\",\"0\",\">4\",\"1\",\"1\",\"1\",\"1\",\"0\",\"1\",\"1\",\"1\",\">4\",\"1\",\"1\",\"1\",\"0\",\"1\",\"1\",\"4\",\"2\",\"1\",\"2\",\"0\",\"2\",\"2\",\"1\",\"4\",\"1\",\"1\",\"2\",\">4\",\">4\",\"2\",\"4\",\"1\",\">4\",\"2\",\">4\",\"0\",\"0\",\">4\",\"0\",\">4\",\">4\",\"4\",\"2\",\"1\",null,\"0\",\">4\",null,\"1\",\"1\",\"0\",\"4\",\">4\",\"1\",\">4\",\"3\",\">4\",\"3\",\"2\",\">4\",\">4\",\"1\",\"1\",\"1\",\"4\",\"1\",\"2\",null,\"1\",\"1\",\"2\",null,\"0\",\"1\",\"1\",\">4\",\"1\",\"1\",\"0\",\"1\",\"2\",\"3\",\"1\",\"1\",\">4\",\"2\",\"1\",\"1\",\"2\",\"1\",\">4\",\"1\",\"0\",\">4\",\"2\",\"2\",\"1\",\"1\",\"1\",\"1\",\">4\",\"2\",\"0\",\"0\",\"1\",\"0\",\"0\",\"0\",\"1\",\"1\",\">4\",\">4\",\"1\",\"0\",\"2\",\">4\",\"2\",\"4\",\">4\",\"1\",\"4\",\"1\",\"2\",\">4\",\"1\",\"1\",\">4\",\"0\",\"1\",\"0\",\"1\",\">4\",\">4\",\"1\",\"1\",\"0\",\"1\",\">4\",\"2\",\"1\",\"1\",\"2\",\"4\",\">4\",\">4\",\"2\",\"1\",\"1\",\"2\",\">4\",\"4\",\"0\",\">4\",\"2\",\"2\",\"1\",\">4\",\"1\",\">4\",\"2\",\">4\",\"2\",\"2\",\">4\",\"3\",\">4\",\"1\",\"0\",\"1\",\">4\",\"2\",\"4\",\"1\",\"0\",\">4\",\"1\",null,\"2\",\"3\",\"2\",\"1\",\">4\",\"2\",\"3\",\"0\",\"3\",\"1\",\"3\",\"2\",\"1\",\"1\",\"1\",\">4\",\"3\",null,\">4\",\"1\",\">4\",\"1\",\">4\",\"1\",\">4\",\"2\",\"0\",\"1\",\">4\",\"2\",\"2\",\"4\",\"1\",\"1\",\"0\",\"0\",\"0\",\"1\",\"1\",\"1\",\"1\",\">4\",\"1\",\">4\",null,\"1\",\"4\",\"2\",\"1\",\"0\",\"1\",\"1\",\">4\",\"2\",\"0\",\"2\",\"1\",\"3\",\"1\",\"0\",\"0\",\"1\",\">4\",\"0\",\">4\",\"4\",\">4\",\"1\",\"1\",\">4\",\"0\",\"1\",\">4\",\"1\",\"1\",\"2\",\"1\",\"1\",\"1\",\"2\",\"0\",\"1\",\">4\",\"1\",\">4\",\"1\",\">4\",\"1\",\"1\",\"1\",\">4\",\">4\",\">4\",\"3\",\">4\",\">4\",\"1\",\"1\",\"1\",\"1\",\">4\",\"0\",\">4\",\"1\",\"3\",\"4\",\"2\",\"1\",\"1\",\">4\",\"1\",\">4\",\"1\",\"0\",\"2\",\"1\",\"1\",\">4\",\"0\",\">4\",\"1\",\"4\",\">4\",\"1\",\"1\",\"0\",\"4\",\"1\",\">4\",\">4\",\"0\",\"2\",\"1\",\"1\",\"1\",\">4\",\"2\",\"1\",\"1\",\"2\",\">4\",\"1\",\"1\",\"0\",\"0\",\"1\",\"4\",\"1\",\"0\",\"3\",\"4\",\"1\",\"1\",\"1\",\"4\",\"2\",\"1\",\"1\",\"2\",\">4\",\"2\",\"4\",\">4\",\"1\",\"1\",\"1\",\"2\",null,\">4\",\"1\",\"1\",\"2\",\"0\",\"1\",\"2\",\"3\",\"2\",\"1\",\"0\",\"4\",\"1\",\"2\",\">4\",\"1\",\"3\",\"2\",\"0\",\"3\",\"1\",\"1\",\"0\",\"1\",\">4\",\">4\",\">4\",\"1\",\">4\",\"1\",\"1\",\"0\",null,\"0\",\">4\",\"2\",\"1\",\"1\",\"1\",\"1\",\"1\",\"1\",\"1\",null,\"1\",\"2\",\"0\",\"1\",\"2\",\"1\",\"1\",\"0\",\"1\",\"1\",\"1\",\"1\",\"1\",\">4\",\"2\",\"0\",\"1\",\"1\",\"3\",\">4\",\">4\",\">4\",\"1\",\"0\",\"1\",\"0\",\"2\",\"0\",\"1\",\"4\",\"1\",\"4\",\"1\",\"1\",\"0\",\"1\",\"1\",\"2\",\"1\",\"2\",\">4\",\"2\",\">4\",\"4\",\"2\",\"1\",\"1\",\"1\",\"2\",\"4\",\"1\",\"3\",\">4\",\"4\",\">4\",\"0\",\"1\",\"1\",\"3\",\"2\",\"0\",\"1\",\"1\",\"1\",\"3\",\"0\",\">4\",\"1\",\"1\",\"1\",\">4\",\"1\",\"0\",\"1\",\"1\",\"1\",\"1\",\"3\",\"1\",\"2\",\"2\",\"0\",\"4\",\"2\",null,\"3\",\">4\",\"2\",\"0\",\"1\",\">4\",\"1\",\"1\",\"1\",null,\"1\",\"1\",\"1\",\">4\",null,\"1\",\"0\",\"1\",\">4\",\"2\",\">4\",\"1\",\"1\",\"1\",\"1\",\">4\",\"1\",\">4\",\"0\",\"1\",\">4\",\"0\",\"0\",\"3\",\"1\",\"1\",\">4\",\"3\",\"1\",\"1\",\">4\",\">4\",\"1\",\"2\",\">4\",\"1\",\"1\",\"2\",\"2\",\"1\",\"1\",\"1\",\"1\",\"3\",\"0\",\"2\",\"1\",\"4\",\"2\",\"3\",\"1\",\"4\",\"4\",\"0\",\">4\",\"2\",\"0\",\"1\",\"1\",\"1\",\"4\",\"1\",\"2\",\"2\",\"1\",\"3\",\"0\",\"1\",\"1\",\">4\",\">4\",\"1\",\"1\",\"1\",\">4\",\"1\",\"1\",\"1\",\"1\",\"1\",\"1\",\"1\",\"3\",\"1\",\"1\",\"0\",\">4\",\"2\",\"0\",\"1\",null,\">4\",\"0\",\"0\",\"4\",\">4\",\"3\",\"0\",\"1\",\"2\",\"1\",\">4\",\"3\",\"2\",\"1\",\"2\",\"1\",\"1\",\"0\",\"1\",\"0\",\"1\",\">4\",\"4\",\">4\",\">4\",\">4\",\"1\",\"1\",\"4\",\"1\",\"2\",\"1\",\"1\",\"1\",\"0\",\"1\",\"2\",\"1\",\"1\",\"1\",\"2\",\"3\",\"0\",\"1\",\"1\",\"1\",\">4\",\">4\",\"4\",null,\"1\",\"3\",\">4\",\"0\",\">4\",\"2\",\"1\",\"1\",\"1\",\"1\",\"1\",\">4\",\"1\",\"1\",\"1\",\"1\",\"1\",\">4\",\"1\",\"4\",\"1\",\"0\",\"1\",\"0\",\"0\",\"0\",\"1\",\"1\",\"4\",\">4\",\"1\",\">4\",\">4\",\"1\",\"1\",\"1\",\"1\",\"1\",\"3\",\"4\",\"3\",\"1\",\"1\",\">4\",\"4\",\"2\",\">4\",\">4\",\"0\",\"2\",\"0\",\"0\",\"1\",\"4\",\">4\",\">4\",\"1\",\"2\",\"2\",\"1\",\"1\",\"1\",\"2\",\"0\",\"1\",\">4\",\"2\",\"2\",\"2\",\"1\",\"0\",\"1\",\"1\",\"1\",null,\"2\",\">4\",\"1\",\"1\",\"0\",\">4\",\"1\",\"1\",\"4\",\"0\",\"1\",\">4\",\">4\",\"0\",\"3\",\"2\",\"1\",\"0\",\"1\",\"1\",\"2\",\"2\",\"3\",\"2\",\"1\",\">4\",\"2\",\"2\",\"2\",\">4\",\"1\",\"1\",\"3\",\"1\",\"2\",\"1\",\">4\",\">4\",\"1\",\"0\",\">4\",\"4\",null,\"1\",\"0\",\"2\",\"2\",\">4\",\"0\",\">4\",\">4\",\"1\",\"0\",\">4\",\">4\",\"1\",\"1\",\"2\",\"3\",\"2\",\"4\",\"3\",\"1\",\"1\",\"1\",\"0\",\"2\",\"4\",\"1\",\"1\",\"1\",\"1\",\"0\",\"1\",\"2\",\"2\",\"2\",\"1\",\"2\",\"2\",\"1\",\"1\",\">4\",\"1\",\"3\",\"1\",\">4\",\"1\",\"1\",\"1\",\">4\",\"1\",\"1\",\"1\",\"1\",\">4\",\"1\",\"1\",\"1\",\"0\",\"1\",\"0\",\"4\",\"0\",\">4\",\">4\",\"4\",\"0\",\">4\",\"4\",\"1\",\"1\",\"2\",\"1\",\">4\",\"1\",\">4\",\"0\",\"1\",\">4\",\"0\",\"1\",\"2\",\"2\",\"2\",\"0\",\"0\",\"3\",\"4\",\"4\",\"1\",\"1\",\"2\",\">4\",\"1\",\">4\",\"0\",\"2\",\"1\",\"1\",\"1\",\">4\",\"1\",\"1\",\"2\",\"0\",\"2\",\">4\",\">4\",\"2\",null,\"2\",\">4\",\">4\",\"3\",\"2\",\"0\",\"1\",\"1\",\">4\",\"0\",\"1\",\"1\",\"2\",\">4\",\"1\",\"2\",\">4\",\">4\",\"0\",\"0\",\"1\",\">4\",\"1\",\"2\",null,\"2\",\"1\",\"0\",\"1\",\"2\",null,\"2\",\"2\",\"1\",\">4\",\"1\",\"1\",\"4\",\"1\",\"1\",\">4\",\"1\",\"2\",\"1\",\"1\",\">4\",\"3\",\"2\",\"1\",\"1\",\"0\",\"4\",null,\"1\",\"4\",\"4\",\"0\",\"2\",\"0\",\"0\",\"0\",\">4\",\"2\",\"1\",\"1\",\"0\",\"2\",\"1\",\"2\",\"0\",\"0\",\"1\",\"2\",\"0\",\">4\",\">4\",\"3\",null,\"1\",\"1\",\"1\",\"1\",\"0\",\"1\",\"1\",\">4\",\">4\",\"2\",\"0\",\"3\",\"1\",\">4\",\"1\",\"1\",\"2\",null,\">4\",\"0\",\"1\",\">4\",\"3\",\"2\",\"1\",\">4\",\"1\",\"1\",\"1\",\"2\",\">4\",null,\"1\",\"1\",\"1\",\"1\",\">4\",\"1\",\"3\",\"0\",\"1\",\"1\",\"1\",\"0\",\"0\",\">4\",null,\"1\",\"1\",\">4\",\"1\",\"3\",\"1\",\">4\",\"1\",\"4\",\"1\",\"0\",\"1\",\"1\",\"1\",\"4\",\"1\",\"1\",\"1\",\"4\",\"1\",\"1\",\"1\",\"1\",\"1\",\">4\",\"1\",\"2\",\"1\",\"0\",\"2\",\"0\",\"0\",\"1\",\"4\",\"1\",\"0\",\">4\",\">4\",\"4\",\"2\",\"0\",\"2\",\"1\",\"0\",null,\"1\",\"4\",\"1\",\"1\",\">4\",\"1\",\">4\",\"2\",\">4\",\"1\",\">4\",null,\"1\",\"0\",null,\"1\",\"1\",\"1\",\"1\",\"1\",\"1\",\"1\",\"2\",\">4\",\"2\",\"1\",\"1\",\"1\",\">4\",\"1\",\">4\",\"1\",\">4\",\"1\",\"1\",\"1\",\"0\",\"2\",\">4\",\"1\",\"1\",\"1\",\"0\",\"2\",\"0\",\"1\",\"1\",\"2\",\"4\",\"0\",\"3\",\"3\",\"2\",\"0\",\"0\",\">4\",\"1\",\"2\",\"1\",\"1\",\"0\",\"2\",\"0\",\"2\",\"1\",\"2\",\"1\",\"0\",\"1\",\"1\",\"2\",\"3\",\">4\",\"2\",\"0\",\"0\",\">4\",\"0\",\"1\",\">4\",\"1\",\"0\",\">4\",null,\"3\",\"1\",\"1\",\"2\",\">4\",\"4\",\"3\",\"1\",\"0\",\"1\",\"4\",\">4\",\"0\",\"1\",\"2\",\"1\",\">4\",\"2\",\"1\",\"1\",\"0\",\"4\",\">4\",\"2\",\"1\",\"1\",\"1\",\"1\",\"1\",\"1\",\"1\",\"0\",\">4\",\"1\",\"1\",\"3\",\"0\",\">4\",\">4\",\"1\",\"2\",\"1\",\"1\",\"1\",\"0\",\">4\",\">4\",\"1\",\"2\",\"1\",\"2\",\"1\",null,\"1\",\"4\",\">4\",\">4\",\"2\",\"1\",\"4\",\"4\",\"4\",\"1\",\">4\",\"0\",\"1\",\"2\",\"2\",\"1\",\">4\",\"1\",\"0\",\"2\",\"1\",\"0\",\">4\",\"1\",\"1\",\"2\",\"1\",\"1\",\"3\",\"0\",\"2\",\"0\",\"0\",\"0\",\"2\",\"4\",\"1\",\">4\",\">4\",\"1\",\"1\",\">4\",\"1\",\"3\",\"1\",\"2\",\">4\",\"1\",\"0\",\">4\",\"1\",\"2\",\">4\",\"1\",\"0\",\"1\",\"1\",\"0\",\"0\",\"4\",\"1\",\"1\",\"1\",\"1\",\"0\",\"3\",\"2\",\"2\",\"2\",\"4\",\">4\",\"0\",\"1\",\"1\",\"2\",\"2\",\"1\",\"1\",\"1\",\"2\",\"1\",\"1\",\"4\",\"0\",\"1\",\"1\",\"3\",\">4\",\"1\",\"2\",\"1\",\"1\",\"2\",\"1\",\"1\",\"0\",\">4\",\"1\",\"3\",\"1\",\"1\",\"2\",null,\"0\",\"3\",\"0\",\"2\",\">4\",\"4\",\"1\",\">4\",\"1\",\"2\",\"1\",\"1\",\"1\",\"1\",\"1\",\"2\",\"1\",\"0\",\"2\",\"1\",\">4\",\"0\",\"1\",\"1\",\"2\",\">4\",\"1\",\"2\",\"0\",\">4\",\"2\",\"1\",\"1\",\"1\",\"2\",\"2\",\">4\",\"1\",\"1\",\"1\",\"4\",\">4\",\"2\",\"4\",\"1\",\"1\",\">4\",\"1\",\"4\",\"0\",\">4\",\">4\",\"1\",\"1\",\">4\",\">4\",\"0\",\"1\",\"4\",\">4\",\"2\",\"1\",\"1\",\"1\",\"2\",\"1\",\"1\",\"1\",\"2\",\"1\",\"1\",\"1\",\"2\",\"1\",\"1\",\"3\",\"0\",\"2\",\"2\",\"0\",\"1\",\"1\",\">4\",\"1\",\"1\",\"1\",\"1\",\">4\",\"1\",\"2\",\"2\",\"2\",\"4\",\"1\",\"1\",\">4\",\"1\",\"1\",\"1\",\">4\",\"1\",\">4\",\"2\",\"1\",\"1\",\"1\",\">4\",\">4\",\"1\",\">4\",\"1\",\"1\",\"1\",\"3\",\"4\",\">4\",\"4\",\"2\",\"0\",\"1\",\"2\",\"3\",\"1\",\">4\",\">4\",\"0\",\"1\",\"4\",\">4\",\"1\",\"1\",\"2\",\"1\",\"2\",null,\"1\",\"3\",\"3\",\"1\",\"1\",\"0\",\"2\",\">4\",\"0\",\"3\",\">4\",\"1\",\"1\",\"1\",\">4\",\"4\",\">4\",\">4\",\"2\",\">4\",\"2\",\"1\",\"2\",\"2\",\"1\",\"1\",\"1\",\">4\",\"4\",\"1\",\"0\",\"3\",\">4\",\"2\",\"1\",\">4\",\"1\",\"2\",\"3\",\"1\",\"1\",\"0\",\"0\",\"4\",\">4\",\"0\",\"1\",\"1\",\"0\",\">4\",\"0\",\"1\",\"1\",\"1\",\">4\",\"2\",\"1\",\"1\",\">4\",\"0\",\"1\",\"1\",\"2\",null,\"1\",\"0\",null,\"1\",\"2\",\"0\",\"1\",\"1\",\"2\",\"0\",\"1\",\"1\",\"1\",\"1\",\"2\",\"1\",\"0\",\"1\",\">4\",\"1\",\">4\",\"1\",\"1\",\">4\",\"4\",\"1\",\">4\",\"1\",\"1\",\"1\",\">4\",\"1\",\"1\",\"1\",\">4\",\"0\",\">4\",\">4\",\"1\",\"0\",\">4\",\"1\",\"0\",\"1\",\"1\",\">4\",\"1\",\"1\",\"1\",\"0\",\"1\",\"1\",\"1\",\"1\",\"2\",\"1\",\">4\",\"1\",\"4\",\"1\",\">4\",\"1\",\"1\",\">4\",\"4\",\"1\",\"3\",\">4\",\"0\",\"1\",\">4\",\"1\",\">4\",\"4\",\"1\",\"3\",\"1\",\">4\",\"1\",\"0\",\"0\",\"1\",\"2\",\"3\",\"2\",\"1\",\"2\",\">4\",\"3\",\"3\",\"1\",\"1\",\"1\",\"0\",null,\">4\",\"1\",\"0\",\"1\",\"0\",\"1\",\">4\",\"1\",\"0\",\"1\",\"1\",\"1\",\"2\",\"1\",\"1\",\">4\",\"1\",\"1\",\"1\",\"1\",\"2\",\">4\",\"1\",\"1\",\"1\",\"3\",\"0\",\"1\",\"1\",\"1\",\"1\",\"1\",\">4\",\">4\",\"0\",\"1\",\"2\",\"1\",\"1\",\">4\",\"1\",\"1\",\">4\",\"0\",\"1\",\"1\",\"2\",\">4\",\">4\",null,\"2\",\"0\",\"1\",\"1\",\"1\",\"4\",\"3\",\"1\",\"2\",\"1\",\"1\",\">4\",\"3\",\"0\",\"2\",\">4\",\"1\",\"4\",\"1\",\"2\",\"0\",\">4\",\"4\",\"1\",\"1\",\"1\",\"4\",\"2\",\"1\",\"3\",\"2\",\"1\",\"2\",\"0\",\"1\",\"3\",\"2\",\"2\",\"1\",\"1\",\"0\",\"1\",\"1\",\">4\",\">4\",\"1\",\"2\",\">4\",\">4\",\"3\",\">4\",\"2\",\"1\",\"0\",\"3\",\">4\",\"1\",\"2\",\"1\",\"1\",\"3\",\"1\",\"2\",\">4\",\"4\",\">4\",\"2\",\"1\",\"2\",\"4\",\"1\",\"0\",\"0\",\">4\",\"1\",\"1\",\">4\",\"1\",\"2\",\"4\",\"4\",\"1\",\"1\",\"1\",\"0\",\">4\",\">4\",\"1\",\">4\",\"1\",\"1\",\"1\",\"2\",\"2\",\"2\",\">4\",\">4\",\"1\",\"3\",\"0\",\"1\",\"3\",\">4\",\"1\",\"0\",\"1\",\"1\",\"1\",\">4\",\"1\",\"2\",null,\"4\",\"0\",\"4\",\">4\",\"1\",\"1\",\"1\",\"4\",\"1\",\"3\",\">4\",\"1\",\"0\",\"2\",\"1\",\"1\",\"4\",null,\"1\",\"2\",\"1\",\">4\",\"2\",\"1\",\"2\",\">4\",\"1\",\">4\",\"1\",\"1\",\"2\",\">4\",\"1\",\">4\",\"1\",\">4\",\"2\",\"0\",\"2\",\">4\",\"1\",\"1\",\">4\",\"0\",\">4\",\"1\",null,\"1\",\"0\",\">4\",\"4\",\"1\",\"1\",\"0\",\"4\",\"4\",\"1\",\"1\",\"4\",\"1\",\"1\",\"1\",\"2\",\"3\",\"0\",\"0\",\"2\",\"2\",\"0\",\"1\",\">4\",\">4\",\"1\",\"1\",\"0\",\"1\",\"1\",\">4\",\">4\",\"1\",\"1\",\"1\",\"1\",\"1\",\">4\",\"0\",\">4\",\"1\",\"0\",\"1\",\"4\",\"1\",\"2\",\"1\",\"0\",\"1\",\"2\",\"1\",\">4\",\"1\",\"1\",\"1\",\"1\",\"1\",\">4\",\">4\",\"1\",\"2\",\">4\",\"1\",\"1\",\"1\",\"0\",\"3\",\"4\",\">4\",null,\"1\",\"3\",\"2\",\"1\",\"1\",\"1\",\"1\",\"2\",\"0\",\"1\",\"4\",\"1\",\"2\",\"1\",\">4\",\"2\",\"2\",\"1\",\"1\",\"1\",\">4\",\"1\",\"3\",\"2\",\"4\",\"1\",\"2\",\">4\",\"1\",\"1\",\"1\",null,\"0\",\"2\",\"0\",\"0\",\">4\",\">4\",\"2\",\"1\",\"1\",\"1\",\"2\",\"1\",\">4\",\"1\",\"4\",\"1\",\"2\",\"1\",\">4\",\"2\",\"0\",\"1\",\">4\",\"4\",\"1\",\">4\",\"0\",\"1\",\"1\",\"0\",\"0\",\"2\",\"1\",\">4\",\"1\",\">4\",\"1\",\"0\",\"1\",\"2\",\">4\",\"1\",\">4\",\"1\",\"1\",\">4\",\"1\",\"1\",\"2\",\"1\",\"1\",\"3\",\"0\",null,\"1\",\"1\",\"1\",\"1\",\">4\",\"1\",\"4\",\">4\",\"4\",\"2\",\"2\",\"1\",\"1\",\"0\",\"1\",\"1\",\"4\",\"1\",null,\">4\",\">4\",\"2\",\"2\",\"1\",\"2\",\"1\",\"2\",\"1\",\">4\",\"1\",\"2\",\"1\",\"2\",\"1\",\"1\",\"1\",\"1\",\"1\",\">4\",\"1\",\"1\",null,\"1\",\"1\",\">4\",\"3\",\"2\",\"0\",null,\"0\",\"0\",\"1\",\"2\",\"2\",null,\">4\",\"3\",\">4\",\"3\",\">4\",\"4\",\"1\",\"1\",\">4\",\">4\",\"1\",\"2\",\"0\",\"0\",\"1\",\"1\",\"2\",\"0\",\"1\",\"3\",\">4\",\"1\",\"1\",\"0\",\"1\",\"1\",\"2\",null,\"1\",\"1\",\"3\",\"1\",null,\">4\",\"1\",\">4\",\"1\",\">4\",\"1\",\"0\",\"1\",\"1\",\">4\",\">4\",\">4\",\">4\",\"2\",\"2\",\"2\",\"0\",\"0\",\"0\",\"0\",\"0\",\"1\",\">4\",\">4\",\"1\",\"3\",\"0\",\"1\",\"1\",\"1\",\">4\",\"1\",\"1\",\"1\",\"0\",\"1\",\"0\",\"1\",\">4\",\"0\",\"0\",\">4\",\"4\",\"1\",\">4\",\">4\",\"1\",\"1\",\"1\",\"1\",\"3\",\"3\",\"1\",\"2\",\"1\",\"1\",null,\"3\",\"1\",\">4\",\"2\",\"1\",\"2\",\"1\",\">4\",\"1\",\"2\",null,\"1\",\"1\",\"1\",\">4\",\"1\",\"3\",\"1\",\"1\",\"0\",null,null,\"1\",\">4\",\">4\",\">4\",\"1\",\">4\",\"2\",\"2\",\"4\",\"2\",\">4\",\"1\",\"2\",\"1\",\"1\",\"0\",\"4\",\"3\",\"1\",\">4\",\"4\",\"4\",\"1\",\"0\",\"1\",\"1\",\"1\",\"1\",\"1\",\"1\",\">4\",\"2\",\"1\",\"1\",\"3\",\"1\",\"3\",\"3\",\"2\",\"1\",\"2\",\"1\",\">4\",\"1\",\"1\",\"0\",\"0\",\"2\",\"0\",\"2\",\"1\",\">4\",\">4\",\"2\",\"1\",\"1\",\"4\",\">4\",\"2\",null,\">4\",\"1\",\"1\",\">4\",\"3\",\"1\",\"1\",\"2\",\"1\",\"2\",\"1\",\"2\",\">4\",\">4\",\"1\",\"1\",\"4\",\">4\",\">4\",\">4\",\"1\",\"3\",\"1\",\"0\",\"2\",\"2\",\">4\",\"4\",\"0\",\"1\",\"1\",\">4\",\"1\",\"3\",\"1\",\"1\",\"1\",\"1\",\"1\",\"4\",\"2\",\"4\",\">4\",\"2\",\">4\",\">4\",\"1\",\">4\",\"1\",\"0\",\">4\",\"1\",\"2\",\"0\",\"0\",\"1\",\"1\",\"3\",\"1\",\"1\",\"1\",\"2\",\">4\",\"2\",\"0\",\"1\",\"1\",\"1\",\">4\",\"1\",\"1\",\"1\",\"3\",\">4\",\"1\",\"2\",\"4\",\"1\",\"1\",\"1\",\">4\",\"0\",\"2\",\">4\",\"1\",\">4\",\"1\",\">4\",\">4\",\"3\",\"2\",\">4\",\"1\",\"1\",\"0\",\">4\",\"0\",null,\">4\",\">4\",\"1\",\"0\",\"1\",\">4\",\"1\",\"2\",\"1\",\"0\",\"3\",\"3\",\"1\",\"0\",\">4\",\"1\",\"1\",\">4\",\"1\",\"1\",\">4\",\"1\",\"4\",\">4\",\"1\",\"1\",\"2\",\"1\",\">4\",\"1\",\"3\",\">4\",\"1\",\"2\",\"0\",\"1\",\"3\",\"0\",\"1\",\">4\",\"0\",\"1\",\"1\",\">4\",\"1\",\"1\",\"1\",\"2\",\"1\",\"1\",\"2\",\"2\",\"1\",\"1\",\"0\",\"2\",\"1\",\"3\",\"0\",\"1\",\"1\",\">4\",\"1\",\"3\",\"1\",\"3\",\"0\",\">4\",\"1\",\">4\",\"1\",\"1\",\"1\",\"1\",\">4\",\">4\",\"1\",\"4\",\">4\",\"2\",\">4\",\"1\",\"0\",\">4\",\"1\",\">4\",\"0\",\"2\",\"0\",\"1\",\"1\",\"1\",\"2\",\"1\",\">4\",\">4\",\"2\",\"0\",\"4\",\"1\",\">4\",\"1\",\"0\",\"4\",\"1\",\"2\",\"1\",\">4\",\">4\",\"3\",\"0\",\"2\",\"1\",\"2\",\"2\",\"0\",\"0\",\"2\",\"1\",\"4\",\"0\",\"2\",\"2\",\"1\",\"1\",\"1\",\">4\",\"1\",\"2\",\"2\",\"1\",\"1\",\"1\",\"2\",\">4\",\"2\",\"1\",\"0\",\"1\",\"4\",\"0\",\">4\",\"1\",null,\"1\",\"0\",\"1\",\"4\",\"0\",\"1\",\"1\",\"1\",\"1\",\"1\",\">4\",\"1\",\">4\",\"1\",\"2\",\"1\",\">4\",\"2\",\"1\",\"4\",\"2\",\"1\",\">4\",\"4\",\">4\",\">4\",null,\"2\",\"0\",\"1\",\"2\",\"1\",\"4\",\">4\",\"2\",\"2\",\"3\",\"1\",\"0\",\"1\",\"2\",\"2\",\"2\",\"1\",\"1\",\"0\",\">4\",\"1\",\"2\",\"1\",\"4\",\">4\",\"1\",\"2\",\"3\",\"1\",\"1\",\"1\",\"2\",\"1\",\"2\",\"2\",\">4\",\"0\",\"0\",\">4\",\"1\",\"1\",\"0\",\"1\",\"1\",\"2\",\">4\",\"0\",\"1\",\"1\",\"3\",\"1\",\"2\",\">4\",\"0\",\"0\",\"1\",\"4\",\"1\",\"3\",\">4\",\"0\",\"2\",\"3\",\">4\",\"2\",\"1\",\"1\",\"1\",\"4\",\"0\",\">4\",\"1\",\">4\",\"2\",\"3\",\"1\",\"1\",\"2\",\"2\",\">4\",\"4\",\">4\",\"3\",null,\"1\",\"1\",\"3\",\"1\",\"1\",\"2\",\"1\",\"1\",\"1\",\">4\",\"0\",\"2\",\"1\",\">4\",\"1\",\"1\",\"2\",\"0\",\"0\",\"1\",\"0\",\"0\",\"1\",\"2\",\"1\",\">4\",\"4\",\"1\",\"2\",\"1\",\"2\",\">4\",\"0\",\"1\",\"1\",\"1\",\"0\",\"1\",\">4\",\"0\",\"0\",\"1\",\"1\",\"2\",\"2\",\"2\",\"3\",\"2\",\"2\",null,\"0\",\"4\",\"1\",\"2\",\"2\",\"2\",\"1\",\"1\",\"1\",\"1\",\">4\",\"1\",\"2\",\">4\",\">4\",\">4\",\"1\",\"0\",\"3\",\">4\",\">4\",\"2\",\"1\",\"2\",\"2\",\"1\",\"1\",\"1\",\"4\",\"3\",\"1\",\"2\",\">4\",\"1\",\">4\",\"0\",\"1\",\"2\",\"1\",\"1\",null,\"0\",\"1\",\"2\",\"3\",\"1\",\"0\",\"1\",\"4\",\">4\",\"3\",\"1\",\">4\",\">4\",\">4\",\"1\",\"2\",\"1\",\"1\",\"1\",\"1\",\"1\",\">4\",\"1\",\">4\",\"1\",\"1\",\"1\",\"0\",\"0\",\"2\",\"3\",\"0\",\">4\",\"2\",\">4\",\"2\",\"2\",\"1\",\"4\",\"0\",\"2\",\"1\",\">4\",\"1\",\"1\",\">4\",\"1\",\"1\",\"0\",\"1\",\"2\",\"1\",\"0\",\">4\",\"0\",\"1\",\"0\",\"1\",\"3\",\"1\",\">4\",\"1\",\"1\",\">4\",\"1\",\"0\",\"0\",\"1\",\"0\",\"2\",\"1\",\"1\",\"2\",\"2\",\"1\",\">4\",\"1\",\"1\",\"4\",\"1\",\">4\",\"1\",\"1\",\"1\",\"4\",\">4\",\"4\",\"1\",\"2\",\"1\",\"3\",\">4\",\">4\",\"2\",\"1\",\"2\",\"1\",\"1\",\"0\",\"0\",\"2\",\"1\",\"2\",\"2\",\"1\",\"0\",\"0\",\"0\",\"1\",\"1\",\"1\",\"0\",\"1\",\"2\",\"0\",\">4\",\"1\",\"2\",\"2\",\"0\",\"2\",\"3\",\"0\",null,\"2\",\"1\",\"1\",\">4\",\"1\",\">4\",\">4\",\"1\",\"0\",\">4\",\"1\",\"2\",\"1\",\"1\",\"3\",\">4\",\"0\",\"1\",\"2\",\"4\",\"1\",\"1\",\"1\",\"1\",\"0\",\"1\",\"1\",\"4\",\"1\",\"1\",\">4\",\"1\",\"0\",\"2\",\">4\",\"1\",\"1\",\"1\",\"4\",\"1\",\"1\",\"1\",\"1\",\"1\",\"1\",\"1\",\"1\",\"0\",\"2\",\"1\",\"2\",\"4\",\"1\",\">4\",\"3\",\"2\",\"2\",\"1\",\"2\",\">4\",\"1\",\">4\",\"0\",\">4\",\"1\",\"1\",\"0\",\"1\",\"0\",\">4\",\"2\",\"2\",\">4\",\">4\",\">4\",\"1\",\"1\",\"0\",\"1\",\"3\",\"3\",\"1\",\"4\",\"1\",\"3\",\"1\",\"1\",\">4\",\"1\",null,null,\">4\",\"1\",\"3\",\"1\",\">4\",\"0\",\"2\",\"0\",\"0\",\"1\",\"2\",\"4\",\"3\",\"0\",\"2\",\"2\",\"1\",\"2\",\"2\",\">4\",\"0\",\"0\",\"1\",null,\"1\",\"2\",\"1\",\">4\",\"1\",\"1\",\"1\",\"1\",\"1\",\">4\",\">4\",\"3\",\"1\",\">4\",\">4\",\"2\",\"2\",\"1\",\"1\",\"3\",\"0\",\"4\",\"4\",\"1\",\"2\",\"1\",\"1\",\"1\",\">4\",\"4\",\"1\",\"1\",\"1\",\"1\",\"1\",\">4\",\"0\",\"2\",\"0\",\"1\",\"2\",\"1\",\"0\",\"1\",\"1\",\">4\",\"1\",\">4\",\"1\",\"1\",\"1\",\"1\",\"1\",\"1\",\">4\",\"2\",null,\"2\",\"1\",\"2\",\"1\",\"2\",\"1\",\"1\",\">4\",\"2\",\"0\",\">4\",\"2\",\"0\",\"1\",\"0\",\"1\",\"1\",\"1\",\"1\",\"2\",\">4\",\"1\",\"1\",\"1\",\">4\",\"0\",\"1\",\"3\",\"1\",\"0\",\"3\",\"1\",\">4\",\"1\",\">4\",\"1\",\"4\",\"1\",\">4\",\">4\",\">4\",\"1\",\"1\",\"4\",\"0\",\"1\",\"3\",\"2\",\">4\",\"2\",\"1\",\"3\",\">4\",\">4\",\"0\",\"1\",\"1\",\"4\",\">4\",\"1\",\"1\",\"1\",\"1\",\"1\",\"1\",\"1\",\"0\",\"1\",\"2\",\"3\",\">4\",\"1\",\">4\",\"2\",\"1\",\"3\",\"2\",\"1\",\"1\",\"1\",\"0\",\">4\",\"0\",\"1\",\"4\",\">4\",\"1\",\"1\",\"1\",\"3\",\"1\",\"0\",\"2\",\"1\",\"1\",\">4\",\">4\",\"1\",null,\"2\",\"1\",\">4\",\"2\",\"1\",\"1\",\"1\",\"0\",\"1\",\"0\",\"1\",\"1\",\"1\",\">4\",\"4\",\"0\",\">4\",\"2\",\">4\",\"1\",\"1\",\"1\",\"1\",\"0\",\"0\",\"0\",\"1\",\">4\",\">4\",\"1\",\">4\",\"1\",\">4\",\"3\",\">4\",\"1\",\"0\",\">4\",\"1\",\">4\",\"1\",\"1\",\"1\",\"4\",\"2\",\"4\",\"2\",\"1\",\"1\",\"1\",\"2\",\"0\",\"1\",\">4\",\"2\",\"1\",\"2\",\"1\",\"0\",\">4\",\"2\",\"1\",null,\"1\",\"3\",\"0\",\"1\",\"1\",\"3\",null,\">4\",\"2\",\"0\",\">4\",\"0\",\"2\",\"2\",\"1\",\"3\",\"2\",\">4\",\"0\",\"1\",\"1\",\">4\",\"1\",\">4\",\"1\",\"1\",\"1\",\">4\",\"2\",\"1\",\">4\",\"1\",null,\"0\",\"3\",\"1\",\">4\",\"0\",\"0\",\"1\",\"1\",\"3\",\"1\",\"3\",\"1\",\"1\",\"1\",\"4\",\"4\",\"2\",\"1\"],\"xaxis\":\"x\",\"yaxis\":\"y\",\"type\":\"histogram\"}],                        {\"template\":{\"data\":{\"histogram2dcontour\":[{\"type\":\"histogram2dcontour\",\"colorbar\":{\"outlinewidth\":0,\"ticks\":\"\"},\"colorscale\":[[0.0,\"#0d0887\"],[0.1111111111111111,\"#46039f\"],[0.2222222222222222,\"#7201a8\"],[0.3333333333333333,\"#9c179e\"],[0.4444444444444444,\"#bd3786\"],[0.5555555555555556,\"#d8576b\"],[0.6666666666666666,\"#ed7953\"],[0.7777777777777778,\"#fb9f3a\"],[0.8888888888888888,\"#fdca26\"],[1.0,\"#f0f921\"]]}],\"choropleth\":[{\"type\":\"choropleth\",\"colorbar\":{\"outlinewidth\":0,\"ticks\":\"\"}}],\"histogram2d\":[{\"type\":\"histogram2d\",\"colorbar\":{\"outlinewidth\":0,\"ticks\":\"\"},\"colorscale\":[[0.0,\"#0d0887\"],[0.1111111111111111,\"#46039f\"],[0.2222222222222222,\"#7201a8\"],[0.3333333333333333,\"#9c179e\"],[0.4444444444444444,\"#bd3786\"],[0.5555555555555556,\"#d8576b\"],[0.6666666666666666,\"#ed7953\"],[0.7777777777777778,\"#fb9f3a\"],[0.8888888888888888,\"#fdca26\"],[1.0,\"#f0f921\"]]}],\"heatmap\":[{\"type\":\"heatmap\",\"colorbar\":{\"outlinewidth\":0,\"ticks\":\"\"},\"colorscale\":[[0.0,\"#0d0887\"],[0.1111111111111111,\"#46039f\"],[0.2222222222222222,\"#7201a8\"],[0.3333333333333333,\"#9c179e\"],[0.4444444444444444,\"#bd3786\"],[0.5555555555555556,\"#d8576b\"],[0.6666666666666666,\"#ed7953\"],[0.7777777777777778,\"#fb9f3a\"],[0.8888888888888888,\"#fdca26\"],[1.0,\"#f0f921\"]]}],\"heatmapgl\":[{\"type\":\"heatmapgl\",\"colorbar\":{\"outlinewidth\":0,\"ticks\":\"\"},\"colorscale\":[[0.0,\"#0d0887\"],[0.1111111111111111,\"#46039f\"],[0.2222222222222222,\"#7201a8\"],[0.3333333333333333,\"#9c179e\"],[0.4444444444444444,\"#bd3786\"],[0.5555555555555556,\"#d8576b\"],[0.6666666666666666,\"#ed7953\"],[0.7777777777777778,\"#fb9f3a\"],[0.8888888888888888,\"#fdca26\"],[1.0,\"#f0f921\"]]}],\"contourcarpet\":[{\"type\":\"contourcarpet\",\"colorbar\":{\"outlinewidth\":0,\"ticks\":\"\"}}],\"contour\":[{\"type\":\"contour\",\"colorbar\":{\"outlinewidth\":0,\"ticks\":\"\"},\"colorscale\":[[0.0,\"#0d0887\"],[0.1111111111111111,\"#46039f\"],[0.2222222222222222,\"#7201a8\"],[0.3333333333333333,\"#9c179e\"],[0.4444444444444444,\"#bd3786\"],[0.5555555555555556,\"#d8576b\"],[0.6666666666666666,\"#ed7953\"],[0.7777777777777778,\"#fb9f3a\"],[0.8888888888888888,\"#fdca26\"],[1.0,\"#f0f921\"]]}],\"surface\":[{\"type\":\"surface\",\"colorbar\":{\"outlinewidth\":0,\"ticks\":\"\"},\"colorscale\":[[0.0,\"#0d0887\"],[0.1111111111111111,\"#46039f\"],[0.2222222222222222,\"#7201a8\"],[0.3333333333333333,\"#9c179e\"],[0.4444444444444444,\"#bd3786\"],[0.5555555555555556,\"#d8576b\"],[0.6666666666666666,\"#ed7953\"],[0.7777777777777778,\"#fb9f3a\"],[0.8888888888888888,\"#fdca26\"],[1.0,\"#f0f921\"]]}],\"mesh3d\":[{\"type\":\"mesh3d\",\"colorbar\":{\"outlinewidth\":0,\"ticks\":\"\"}}],\"scatter\":[{\"fillpattern\":{\"fillmode\":\"overlay\",\"size\":10,\"solidity\":0.2},\"type\":\"scatter\"}],\"parcoords\":[{\"type\":\"parcoords\",\"line\":{\"colorbar\":{\"outlinewidth\":0,\"ticks\":\"\"}}}],\"scatterpolargl\":[{\"type\":\"scatterpolargl\",\"marker\":{\"colorbar\":{\"outlinewidth\":0,\"ticks\":\"\"}}}],\"bar\":[{\"error_x\":{\"color\":\"#2a3f5f\"},\"error_y\":{\"color\":\"#2a3f5f\"},\"marker\":{\"line\":{\"color\":\"#E5ECF6\",\"width\":0.5},\"pattern\":{\"fillmode\":\"overlay\",\"size\":10,\"solidity\":0.2}},\"type\":\"bar\"}],\"scattergeo\":[{\"type\":\"scattergeo\",\"marker\":{\"colorbar\":{\"outlinewidth\":0,\"ticks\":\"\"}}}],\"scatterpolar\":[{\"type\":\"scatterpolar\",\"marker\":{\"colorbar\":{\"outlinewidth\":0,\"ticks\":\"\"}}}],\"histogram\":[{\"marker\":{\"pattern\":{\"fillmode\":\"overlay\",\"size\":10,\"solidity\":0.2}},\"type\":\"histogram\"}],\"scattergl\":[{\"type\":\"scattergl\",\"marker\":{\"colorbar\":{\"outlinewidth\":0,\"ticks\":\"\"}}}],\"scatter3d\":[{\"type\":\"scatter3d\",\"line\":{\"colorbar\":{\"outlinewidth\":0,\"ticks\":\"\"}},\"marker\":{\"colorbar\":{\"outlinewidth\":0,\"ticks\":\"\"}}}],\"scattermapbox\":[{\"type\":\"scattermapbox\",\"marker\":{\"colorbar\":{\"outlinewidth\":0,\"ticks\":\"\"}}}],\"scatterternary\":[{\"type\":\"scatterternary\",\"marker\":{\"colorbar\":{\"outlinewidth\":0,\"ticks\":\"\"}}}],\"scattercarpet\":[{\"type\":\"scattercarpet\",\"marker\":{\"colorbar\":{\"outlinewidth\":0,\"ticks\":\"\"}}}],\"carpet\":[{\"aaxis\":{\"endlinecolor\":\"#2a3f5f\",\"gridcolor\":\"white\",\"linecolor\":\"white\",\"minorgridcolor\":\"white\",\"startlinecolor\":\"#2a3f5f\"},\"baxis\":{\"endlinecolor\":\"#2a3f5f\",\"gridcolor\":\"white\",\"linecolor\":\"white\",\"minorgridcolor\":\"white\",\"startlinecolor\":\"#2a3f5f\"},\"type\":\"carpet\"}],\"table\":[{\"cells\":{\"fill\":{\"color\":\"#EBF0F8\"},\"line\":{\"color\":\"white\"}},\"header\":{\"fill\":{\"color\":\"#C8D4E3\"},\"line\":{\"color\":\"white\"}},\"type\":\"table\"}],\"barpolar\":[{\"marker\":{\"line\":{\"color\":\"#E5ECF6\",\"width\":0.5},\"pattern\":{\"fillmode\":\"overlay\",\"size\":10,\"solidity\":0.2}},\"type\":\"barpolar\"}],\"pie\":[{\"automargin\":true,\"type\":\"pie\"}]},\"layout\":{\"autotypenumbers\":\"strict\",\"colorway\":[\"#636efa\",\"#EF553B\",\"#00cc96\",\"#ab63fa\",\"#FFA15A\",\"#19d3f3\",\"#FF6692\",\"#B6E880\",\"#FF97FF\",\"#FECB52\"],\"font\":{\"color\":\"#2a3f5f\"},\"hovermode\":\"closest\",\"hoverlabel\":{\"align\":\"left\"},\"paper_bgcolor\":\"white\",\"plot_bgcolor\":\"#E5ECF6\",\"polar\":{\"bgcolor\":\"#E5ECF6\",\"angularaxis\":{\"gridcolor\":\"white\",\"linecolor\":\"white\",\"ticks\":\"\"},\"radialaxis\":{\"gridcolor\":\"white\",\"linecolor\":\"white\",\"ticks\":\"\"}},\"ternary\":{\"bgcolor\":\"#E5ECF6\",\"aaxis\":{\"gridcolor\":\"white\",\"linecolor\":\"white\",\"ticks\":\"\"},\"baxis\":{\"gridcolor\":\"white\",\"linecolor\":\"white\",\"ticks\":\"\"},\"caxis\":{\"gridcolor\":\"white\",\"linecolor\":\"white\",\"ticks\":\"\"}},\"coloraxis\":{\"colorbar\":{\"outlinewidth\":0,\"ticks\":\"\"}},\"colorscale\":{\"sequential\":[[0.0,\"#0d0887\"],[0.1111111111111111,\"#46039f\"],[0.2222222222222222,\"#7201a8\"],[0.3333333333333333,\"#9c179e\"],[0.4444444444444444,\"#bd3786\"],[0.5555555555555556,\"#d8576b\"],[0.6666666666666666,\"#ed7953\"],[0.7777777777777778,\"#fb9f3a\"],[0.8888888888888888,\"#fdca26\"],[1.0,\"#f0f921\"]],\"sequentialminus\":[[0.0,\"#0d0887\"],[0.1111111111111111,\"#46039f\"],[0.2222222222222222,\"#7201a8\"],[0.3333333333333333,\"#9c179e\"],[0.4444444444444444,\"#bd3786\"],[0.5555555555555556,\"#d8576b\"],[0.6666666666666666,\"#ed7953\"],[0.7777777777777778,\"#fb9f3a\"],[0.8888888888888888,\"#fdca26\"],[1.0,\"#f0f921\"]],\"diverging\":[[0,\"#8e0152\"],[0.1,\"#c51b7d\"],[0.2,\"#de77ae\"],[0.3,\"#f1b6da\"],[0.4,\"#fde0ef\"],[0.5,\"#f7f7f7\"],[0.6,\"#e6f5d0\"],[0.7,\"#b8e186\"],[0.8,\"#7fbc41\"],[0.9,\"#4d9221\"],[1,\"#276419\"]]},\"xaxis\":{\"gridcolor\":\"white\",\"linecolor\":\"white\",\"ticks\":\"\",\"title\":{\"standoff\":15},\"zerolinecolor\":\"white\",\"automargin\":true,\"zerolinewidth\":2},\"yaxis\":{\"gridcolor\":\"white\",\"linecolor\":\"white\",\"ticks\":\"\",\"title\":{\"standoff\":15},\"zerolinecolor\":\"white\",\"automargin\":true,\"zerolinewidth\":2},\"scene\":{\"xaxis\":{\"backgroundcolor\":\"#E5ECF6\",\"gridcolor\":\"white\",\"linecolor\":\"white\",\"showbackground\":true,\"ticks\":\"\",\"zerolinecolor\":\"white\",\"gridwidth\":2},\"yaxis\":{\"backgroundcolor\":\"#E5ECF6\",\"gridcolor\":\"white\",\"linecolor\":\"white\",\"showbackground\":true,\"ticks\":\"\",\"zerolinecolor\":\"white\",\"gridwidth\":2},\"zaxis\":{\"backgroundcolor\":\"#E5ECF6\",\"gridcolor\":\"white\",\"linecolor\":\"white\",\"showbackground\":true,\"ticks\":\"\",\"zerolinecolor\":\"white\",\"gridwidth\":2}},\"shapedefaults\":{\"line\":{\"color\":\"#2a3f5f\"}},\"annotationdefaults\":{\"arrowcolor\":\"#2a3f5f\",\"arrowhead\":0,\"arrowwidth\":1},\"geo\":{\"bgcolor\":\"white\",\"landcolor\":\"#E5ECF6\",\"subunitcolor\":\"white\",\"showland\":true,\"showlakes\":true,\"lakecolor\":\"white\"},\"title\":{\"x\":0.05},\"mapbox\":{\"style\":\"light\"}}},\"xaxis\":{\"anchor\":\"y\",\"domain\":[0.0,1.0],\"title\":{\"text\":\"\\u0433\\u043e\\u0434\\u044b \\u043d\\u0430 \\u043f\\u043e\\u0441\\u043b\\u0435\\u0434\\u043d\\u0435\\u0439 \\u0440\\u0430\\u0431\\u043e\\u0442\\u0435\"},\"type\":\"category\",\"categoryorder\":\"category ascending\"},\"yaxis\":{\"anchor\":\"x\",\"domain\":[0.0,1.0],\"title\":{\"text\":\"\\u043a\\u043e\\u043b\\u0438\\u0447\\u0435\\u0441\\u0442\\u0432\\u043e \\u0432\\u044b\\u043f\\u0443\\u0441\\u043a\\u043d\\u0438\\u043a\\u043e\\u0432\"}},\"legend\":{\"title\":{\"text\":\"variable\"},\"tracegroupgap\":0},\"margin\":{\"t\":60},\"barmode\":\"relative\",\"title\":{\"text\":\"\\u041a\\u0430\\u043a \\u0447\\u0430\\u0441\\u0442\\u043e \\u0432\\u044b\\u043f\\u0443\\u0441\\u043a\\u043d\\u0438\\u043a\\u0438 \\u043c\\u0435\\u043d\\u044f\\u044e\\u0442 \\u0440\\u0430\\u0431\\u043e\\u0442\\u0443\"}},                        {\"responsive\": true}                    ).then(function(){\n",
              "                            \n",
              "var gd = document.getElementById('4b523c1d-ee3a-460e-9c60-c7fadc8959c9');\n",
              "var x = new MutationObserver(function (mutations, observer) {{\n",
              "        var display = window.getComputedStyle(gd).display;\n",
              "        if (!display || display === 'none') {{\n",
              "            console.log([gd, 'removed!']);\n",
              "            Plotly.purge(gd);\n",
              "            observer.disconnect();\n",
              "        }}\n",
              "}});\n",
              "\n",
              "// Listen for the removal of the full notebook cells\n",
              "var notebookContainer = gd.closest('#notebook-container');\n",
              "if (notebookContainer) {{\n",
              "    x.observe(notebookContainer, {childList: true});\n",
              "}}\n",
              "\n",
              "// Listen for the clearing of the current output cell\n",
              "var outputEl = gd.closest('.output');\n",
              "if (outputEl) {{\n",
              "    x.observe(outputEl, {childList: true});\n",
              "}}\n",
              "\n",
              "                        })                };                            </script>        </div>\n",
              "</body>\n",
              "</html>"
            ]
          },
          "metadata": {}
        }
      ]
    },
    {
      "cell_type": "markdown",
      "source": [
        "Больше половины всех исследованных провели на последнем рабочем месте около года (8040 человек). Вторая по численности группа - те, кто в последний раз находил новую работу больше 4 лет назад (3290 человек). Самые малые группы людей провели на последней работе 3-4 года (1024 и 1029 человек соответственно). 2452 человека вообще никогда не устраивались на работу.\n",
        "\n",
        "Такие результаты могут объясняться как возрастом отобранных выпускников (возможно, это молодые люди, которые просто в силу возраста успели проработать только 1 год), так и общей тенденцией к смене рабочих мест: возможно, люди зачастую переходят на другое место после первого года работы. Чтобы подтвердить или опровергнуть эту гипотезу, рассмотрим гистограмму опыта работы людей, проведших на последнем рабочем месте 1 год."
      ],
      "metadata": {
        "id": "UoJ9G234suBR"
      }
    },
    {
      "cell_type": "code",
      "source": [
        "fig = px.histogram(data_frame=data[data['last_new_job'] == '1'].experience) #гистограмма показывает опыт работы людей, сменивших работу год назад\n",
        "fig.update_layout(title=\"Опыт работы людей, которые сменили работу год назад\",\n",
        "                  xaxis_title=\"опыт работы в годах\",\n",
        "                  yaxis_title=\"количество людей\")\n",
        "fig.update_xaxes(type='category', categoryorder='total descending') #отсортировано по убывающему числу людей с заданным опытом\n",
        "fig.show(bbox_inches='tight')"
      ],
      "metadata": {
        "colab": {
          "base_uri": "https://localhost:8080/",
          "height": 542
        },
        "id": "IJ8LaY-ZxCKs",
        "outputId": "0bb1d603-ceff-4522-e109-0cf1663cd701"
      },
      "execution_count": null,
      "outputs": [
        {
          "output_type": "display_data",
          "data": {
            "text/html": [
              "<html>\n",
              "<head><meta charset=\"utf-8\" /></head>\n",
              "<body>\n",
              "    <div>            <script src=\"https://cdnjs.cloudflare.com/ajax/libs/mathjax/2.7.5/MathJax.js?config=TeX-AMS-MML_SVG\"></script><script type=\"text/javascript\">if (window.MathJax && window.MathJax.Hub && window.MathJax.Hub.Config) {window.MathJax.Hub.Config({SVG: {font: \"STIX-Web\"}});}</script>                <script type=\"text/javascript\">window.PlotlyConfig = {MathJaxConfig: 'local'};</script>\n",
              "        <script src=\"https://cdn.plot.ly/plotly-2.18.2.min.js\"></script>                <div id=\"6eaa96fd-bd83-437d-82cb-a49087e60918\" class=\"plotly-graph-div\" style=\"height:525px; width:100%;\"></div>            <script type=\"text/javascript\">                                    window.PLOTLYENV=window.PLOTLYENV || {};                                    if (document.getElementById(\"6eaa96fd-bd83-437d-82cb-a49087e60918\")) {                    Plotly.newPlot(                        \"6eaa96fd-bd83-437d-82cb-a49087e60918\",                        [{\"alignmentgroup\":\"True\",\"bingroup\":\"x\",\"hovertemplate\":\"variable=experience<br>value=%{x}<br>count=%{y}<extra></extra>\",\"legendgroup\":\"experience\",\"marker\":{\"color\":\"#636efa\",\"pattern\":{\"shape\":\"\"}},\"name\":\"experience\",\"offsetgroup\":\"experience\",\"orientation\":\"v\",\"showlegend\":true,\"x\":[21.0,11.0,5.0,7.0,5.0,4.0,11.0,10.0,0.0,5.0,14.0,11.0,5.0,1.0,6.0,11.0,4.0,4.0,21.0,6.0,13.0,14.0,2.0,5.0,3.0,2.0,21.0,5.0,4.0,15.0,6.0,3.0,10.0,9.0,2.0,2.0,8.0,21.0,5.0,12.0,8.0,10.0,4.0,6.0,7.0,10.0,6.0,7.0,3.0,15.0,3.0,3.0,2.0,10.0,4.0,11.0,13.0,17.0,18.0,21.0,5.0,3.0,2.0,21.0,9.0,21.0,4.0,21.0,4.0,15.0,12.0,1.0,15.0,9.0,2.0,7.0,5.0,3.0,2.0,0.0,4.0,3.0,21.0,6.0,10.0,3.0,6.0,5.0,3.0,21.0,6.0,3.0,9.0,6.0,6.0,3.0,2.0,3.0,14.0,9.0,0.0,11.0,12.0,5.0,0.0,13.0,6.0,7.0,9.0,10.0,9.0,0.0,8.0,2.0,2.0,21.0,4.0,5.0,4.0,4.0,9.0,3.0,10.0,3.0,4.0,2.0,21.0,2.0,2.0,15.0,11.0,10.0,6.0,6.0,14.0,7.0,11.0,3.0,2.0,2.0,9.0,9.0,21.0,9.0,21.0,6.0,7.0,5.0,14.0,4.0,3.0,17.0,21.0,7.0,6.0,18.0,21.0,1.0,16.0,21.0,21.0,8.0,2.0,9.0,21.0,8.0,1.0,21.0,4.0,5.0,8.0,4.0,16.0,10.0,8.0,1.0,6.0,1.0,5.0,5.0,2.0,9.0,4.0,2.0,10.0,10.0,9.0,7.0,4.0,8.0,9.0,6.0,0.0,6.0,2.0,8.0,9.0,15.0,7.0,6.0,9.0,0.0,8.0,6.0,4.0,6.0,12.0,5.0,9.0,7.0,8.0,0.0,3.0,3.0,21.0,4.0,14.0,2.0,7.0,4.0,5.0,10.0,14.0,1.0,8.0,8.0,17.0,7.0,7.0,5.0,21.0,13.0,21.0,9.0,3.0,2.0,11.0,8.0,5.0,12.0,2.0,12.0,5.0,8.0,7.0,5.0,12.0,21.0,21.0,4.0,4.0,5.0,10.0,0.0,3.0,8.0,11.0,6.0,21.0,6.0,7.0,6.0,4.0,3.0,13.0,8.0,1.0,9.0,9.0,3.0,9.0,21.0,21.0,6.0,9.0,10.0,11.0,12.0,8.0,21.0,9.0,4.0,12.0,6.0,12.0,8.0,7.0,21.0,5.0,12.0,4.0,6.0,21.0,2.0,11.0,6.0,10.0,7.0,4.0,13.0,21.0,9.0,5.0,4.0,11.0,15.0,2.0,4.0,10.0,7.0,4.0,2.0,12.0,1.0,3.0,10.0,14.0,2.0,6.0,11.0,2.0,14.0,6.0,1.0,8.0,4.0,5.0,1.0,17.0,12.0,5.0,4.0,18.0,2.0,4.0,3.0,10.0,13.0,7.0,4.0,7.0,5.0,8.0,2.0,20.0,4.0,5.0,8.0,7.0,7.0,2.0,3.0,6.0,4.0,21.0,7.0,6.0,6.0,4.0,2.0,15.0,10.0,21.0,3.0,2.0,9.0,9.0,10.0,2.0,4.0,1.0,7.0,17.0,4.0,16.0,21.0,4.0,8.0,3.0,4.0,5.0,6.0,21.0,16.0,7.0,4.0,12.0,3.0,15.0,5.0,11.0,10.0,9.0,5.0,4.0,5.0,3.0,9.0,10.0,0.0,4.0,4.0,9.0,4.0,7.0,4.0,3.0,9.0,3.0,9.0,21.0,13.0,15.0,21.0,18.0,5.0,0.0,15.0,9.0,21.0,2.0,11.0,21.0,3.0,5.0,15.0,21.0,10.0,6.0,6.0,19.0,3.0,4.0,1.0,3.0,15.0,5.0,12.0,5.0,2.0,1.0,9.0,4.0,12.0,5.0,2.0,4.0,4.0,6.0,21.0,5.0,8.0,16.0,13.0,17.0,14.0,2.0,3.0,5.0,0.0,4.0,5.0,3.0,17.0,21.0,9.0,4.0,20.0,7.0,4.0,4.0,5.0,12.0,14.0,11.0,6.0,3.0,5.0,10.0,6.0,16.0,7.0,9.0,2.0,2.0,6.0,2.0,10.0,13.0,4.0,7.0,1.0,11.0,7.0,8.0,9.0,6.0,5.0,4.0,18.0,21.0,3.0,2.0,3.0,7.0,5.0,9.0,2.0,16.0,7.0,3.0,8.0,21.0,3.0,8.0,11.0,15.0,21.0,9.0,21.0,7.0,4.0,5.0,4.0,16.0,7.0,2.0,21.0,5.0,6.0,7.0,0.0,3.0,4.0,8.0,4.0,8.0,3.0,7.0,5.0,14.0,3.0,21.0,5.0,6.0,4.0,21.0,2.0,16.0,6.0,6.0,5.0,2.0,8.0,20.0,8.0,12.0,5.0,11.0,3.0,3.0,3.0,6.0,2.0,15.0,5.0,5.0,0.0,3.0,2.0,7.0,3.0,11.0,21.0,4.0,9.0,7.0,21.0,4.0,6.0,11.0,21.0,2.0,3.0,4.0,8.0,1.0,11.0,4.0,3.0,9.0,4.0,1.0,2.0,4.0,6.0,9.0,21.0,4.0,9.0,21.0,5.0,1.0,21.0,15.0,4.0,4.0,3.0,6.0,18.0,5.0,11.0,1.0,16.0,5.0,19.0,21.0,6.0,21.0,11.0,5.0,11.0,15.0,12.0,7.0,8.0,0.0,6.0,21.0,9.0,2.0,17.0,3.0,6.0,4.0,2.0,21.0,5.0,4.0,8.0,6.0,5.0,3.0,7.0,3.0,6.0,10.0,9.0,3.0,14.0,3.0,10.0,5.0,4.0,2.0,5.0,16.0,16.0,2.0,10.0,1.0,21.0,0.0,18.0,3.0,15.0,16.0,20.0,11.0,8.0,6.0,3.0,3.0,4.0,15.0,1.0,16.0,1.0,2.0,14.0,10.0,5.0,11.0,8.0,5.0,3.0,5.0,9.0,21.0,8.0,5.0,3.0,16.0,2.0,17.0,7.0,4.0,6.0,0.0,21.0,6.0,4.0,7.0,3.0,21.0,2.0,10.0,21.0,18.0,5.0,7.0,2.0,12.0,2.0,6.0,4.0,21.0,20.0,3.0,5.0,10.0,20.0,3.0,21.0,4.0,3.0,21.0,15.0,17.0,4.0,11.0,2.0,16.0,12.0,3.0,0.0,16.0,0.0,21.0,5.0,3.0,10.0,3.0,11.0,21.0,1.0,2.0,21.0,16.0,1.0,11.0,14.0,21.0,21.0,21.0,9.0,10.0,0.0,11.0,5.0,5.0,9.0,8.0,4.0,7.0,13.0,0.0,9.0,21.0,10.0,1.0,7.0,5.0,9.0,8.0,14.0,6.0,3.0,5.0,1.0,11.0,3.0,8.0,6.0,9.0,4.0,1.0,6.0,9.0,17.0,11.0,6.0,10.0,5.0,9.0,21.0,7.0,6.0,19.0,9.0,12.0,14.0,10.0,5.0,14.0,6.0,6.0,10.0,17.0,16.0,3.0,5.0,3.0,17.0,6.0,6.0,6.0,6.0,14.0,5.0,2.0,5.0,6.0,4.0,11.0,21.0,21.0,5.0,15.0,4.0,4.0,2.0,4.0,13.0,7.0,6.0,1.0,3.0,3.0,4.0,4.0,2.0,5.0,14.0,12.0,2.0,7.0,2.0,4.0,5.0,5.0,3.0,5.0,21.0,9.0,2.0,6.0,21.0,1.0,21.0,6.0,15.0,3.0,6.0,16.0,21.0,21.0,7.0,1.0,2.0,4.0,11.0,2.0,21.0,19.0,5.0,8.0,0.0,11.0,6.0,21.0,4.0,4.0,5.0,21.0,4.0,21.0,5.0,6.0,15.0,4.0,18.0,4.0,19.0,5.0,4.0,11.0,4.0,9.0,8.0,13.0,5.0,4.0,4.0,7.0,21.0,2.0,6.0,11.0,16.0,21.0,15.0,5.0,3.0,6.0,9.0,6.0,5.0,5.0,3.0,0.0,17.0,4.0,14.0,8.0,7.0,9.0,4.0,10.0,21.0,21.0,5.0,21.0,0.0,9.0,5.0,21.0,0.0,5.0,3.0,5.0,8.0,7.0,4.0,21.0,5.0,19.0,5.0,21.0,10.0,16.0,21.0,10.0,10.0,2.0,2.0,5.0,21.0,7.0,21.0,21.0,3.0,3.0,1.0,21.0,9.0,19.0,4.0,1.0,6.0,7.0,11.0,6.0,21.0,14.0,0.0,2.0,7.0,8.0,19.0,5.0,2.0,8.0,17.0,8.0,14.0,8.0,4.0,12.0,8.0,1.0,21.0,9.0,3.0,19.0,19.0,9.0,4.0,12.0,5.0,11.0,5.0,3.0,4.0,3.0,21.0,3.0,19.0,6.0,1.0,10.0,2.0,10.0,3.0,5.0,2.0,2.0,16.0,9.0,3.0,4.0,5.0,4.0,21.0,1.0,4.0,13.0,2.0,16.0,1.0,6.0,10.0,9.0,5.0,8.0,4.0,21.0,4.0,6.0,3.0,12.0,14.0,9.0,21.0,5.0,21.0,15.0,2.0,21.0,1.0,14.0,7.0,21.0,5.0,1.0,2.0,9.0,0.0,0.0,21.0,8.0,6.0,13.0,21.0,10.0,21.0,2.0,10.0,9.0,4.0,2.0,4.0,7.0,0.0,10.0,4.0,3.0,7.0,5.0,21.0,0.0,9.0,3.0,5.0,6.0,9.0,5.0,11.0,21.0,21.0,3.0,7.0,5.0,2.0,16.0,5.0,4.0,1.0,21.0,14.0,2.0,7.0,14.0,6.0,4.0,2.0,9.0,7.0,11.0,4.0,4.0,2.0,21.0,3.0,4.0,4.0,9.0,10.0,7.0,5.0,11.0,5.0,9.0,5.0,1.0,10.0,4.0,5.0,21.0,6.0,14.0,21.0,1.0,4.0,16.0,7.0,12.0,15.0,12.0,1.0,6.0,5.0,2.0,9.0,10.0,0.0,1.0,14.0,21.0,13.0,11.0,5.0,21.0,8.0,4.0,1.0,8.0,20.0,0.0,5.0,6.0,21.0,5.0,21.0,13.0,7.0,9.0,21.0,18.0,21.0,21.0,14.0,21.0,10.0,7.0,6.0,0.0,10.0,1.0,8.0,21.0,null,7.0,0.0,21.0,6.0,0.0,3.0,9.0,8.0,10.0,5.0,1.0,21.0,4.0,4.0,21.0,19.0,5.0,6.0,2.0,21.0,21.0,7.0,16.0,5.0,5.0,3.0,5.0,13.0,5.0,4.0,21.0,11.0,3.0,16.0,21.0,2.0,10.0,2.0,9.0,1.0,21.0,12.0,7.0,14.0,11.0,7.0,15.0,8.0,10.0,3.0,7.0,10.0,21.0,10.0,16.0,4.0,0.0,11.0,12.0,12.0,11.0,13.0,3.0,5.0,11.0,5.0,7.0,9.0,0.0,6.0,7.0,5.0,6.0,13.0,10.0,5.0,0.0,0.0,16.0,11.0,3.0,21.0,8.0,4.0,4.0,5.0,21.0,4.0,14.0,7.0,4.0,5.0,6.0,6.0,2.0,2.0,6.0,18.0,19.0,2.0,18.0,8.0,5.0,4.0,17.0,7.0,21.0,3.0,1.0,1.0,7.0,9.0,3.0,21.0,21.0,18.0,21.0,16.0,3.0,7.0,3.0,2.0,19.0,3.0,19.0,3.0,3.0,3.0,6.0,4.0,0.0,15.0,15.0,2.0,4.0,9.0,5.0,8.0,5.0,7.0,6.0,5.0,7.0,5.0,5.0,2.0,4.0,3.0,6.0,18.0,15.0,9.0,9.0,14.0,1.0,5.0,6.0,4.0,7.0,6.0,11.0,8.0,15.0,4.0,2.0,2.0,10.0,1.0,5.0,3.0,3.0,21.0,12.0,8.0,5.0,11.0,9.0,18.0,0.0,17.0,21.0,0.0,8.0,19.0,9.0,2.0,6.0,11.0,2.0,0.0,2.0,6.0,9.0,19.0,5.0,6.0,6.0,12.0,4.0,3.0,8.0,12.0,6.0,3.0,1.0,14.0,15.0,4.0,9.0,7.0,4.0,4.0,7.0,8.0,4.0,5.0,6.0,6.0,0.0,10.0,15.0,12.0,7.0,9.0,10.0,21.0,19.0,7.0,11.0,8.0,4.0,11.0,3.0,2.0,2.0,8.0,3.0,8.0,3.0,7.0,7.0,21.0,5.0,7.0,5.0,21.0,5.0,16.0,1.0,2.0,4.0,15.0,19.0,1.0,4.0,1.0,3.0,5.0,4.0,5.0,3.0,2.0,10.0,21.0,21.0,7.0,4.0,7.0,9.0,7.0,7.0,4.0,11.0,21.0,15.0,7.0,5.0,5.0,21.0,9.0,9.0,3.0,13.0,7.0,1.0,9.0,10.0,21.0,7.0,6.0,21.0,19.0,1.0,5.0,19.0,9.0,2.0,2.0,18.0,16.0,0.0,7.0,5.0,11.0,5.0,10.0,15.0,5.0,5.0,2.0,9.0,10.0,14.0,5.0,8.0,11.0,6.0,17.0,5.0,1.0,7.0,3.0,6.0,3.0,3.0,8.0,8.0,14.0,14.0,4.0,3.0,7.0,21.0,21.0,11.0,3.0,3.0,11.0,5.0,1.0,5.0,6.0,9.0,6.0,16.0,2.0,21.0,14.0,15.0,8.0,9.0,16.0,2.0,5.0,1.0,0.0,5.0,6.0,10.0,14.0,8.0,16.0,16.0,4.0,11.0,10.0,9.0,13.0,5.0,8.0,7.0,18.0,9.0,16.0,8.0,21.0,21.0,21.0,4.0,5.0,14.0,17.0,14.0,21.0,2.0,16.0,2.0,0.0,7.0,11.0,6.0,6.0,2.0,8.0,21.0,4.0,7.0,8.0,6.0,17.0,5.0,0.0,9.0,3.0,10.0,11.0,6.0,15.0,9.0,5.0,2.0,2.0,21.0,21.0,6.0,2.0,16.0,4.0,7.0,21.0,9.0,19.0,4.0,6.0,15.0,2.0,4.0,6.0,10.0,5.0,5.0,0.0,21.0,4.0,7.0,5.0,9.0,16.0,7.0,12.0,2.0,14.0,5.0,0.0,4.0,7.0,5.0,21.0,8.0,2.0,12.0,2.0,17.0,15.0,21.0,8.0,17.0,4.0,9.0,6.0,15.0,3.0,11.0,3.0,4.0,3.0,5.0,11.0,6.0,11.0,3.0,9.0,12.0,12.0,4.0,13.0,21.0,2.0,12.0,9.0,21.0,2.0,4.0,21.0,2.0,21.0,9.0,3.0,2.0,16.0,2.0,6.0,15.0,4.0,4.0,9.0,18.0,14.0,6.0,7.0,2.0,6.0,9.0,15.0,5.0,2.0,1.0,21.0,10.0,21.0,4.0,10.0,15.0,13.0,5.0,4.0,14.0,7.0,21.0,5.0,11.0,11.0,9.0,1.0,20.0,4.0,4.0,10.0,13.0,21.0,5.0,1.0,2.0,4.0,3.0,9.0,21.0,21.0,14.0,10.0,15.0,6.0,4.0,21.0,8.0,2.0,0.0,7.0,21.0,12.0,21.0,10.0,1.0,6.0,6.0,21.0,6.0,4.0,2.0,4.0,5.0,11.0,9.0,15.0,8.0,2.0,2.0,10.0,6.0,13.0,4.0,7.0,10.0,21.0,1.0,0.0,9.0,6.0,18.0,3.0,21.0,0.0,5.0,3.0,8.0,7.0,21.0,4.0,1.0,1.0,4.0,12.0,1.0,9.0,0.0,9.0,4.0,10.0,6.0,8.0,4.0,2.0,9.0,6.0,11.0,11.0,1.0,4.0,4.0,6.0,6.0,11.0,5.0,14.0,20.0,4.0,12.0,5.0,21.0,14.0,5.0,2.0,14.0,7.0,3.0,3.0,3.0,1.0,2.0,7.0,4.0,9.0,12.0,8.0,14.0,6.0,10.0,9.0,6.0,9.0,14.0,14.0,10.0,7.0,8.0,9.0,3.0,10.0,21.0,17.0,0.0,21.0,18.0,6.0,10.0,9.0,14.0,21.0,21.0,5.0,14.0,15.0,21.0,5.0,6.0,0.0,3.0,6.0,6.0,0.0,12.0,8.0,7.0,2.0,5.0,3.0,13.0,1.0,11.0,1.0,13.0,14.0,2.0,3.0,21.0,0.0,14.0,3.0,1.0,5.0,21.0,5.0,5.0,6.0,3.0,5.0,21.0,6.0,12.0,10.0,7.0,11.0,5.0,4.0,3.0,4.0,4.0,7.0,4.0,4.0,21.0,10.0,2.0,6.0,7.0,11.0,13.0,21.0,4.0,6.0,21.0,10.0,1.0,9.0,4.0,5.0,11.0,16.0,2.0,20.0,7.0,5.0,5.0,5.0,2.0,4.0,21.0,21.0,21.0,7.0,3.0,11.0,7.0,6.0,9.0,6.0,7.0,1.0,8.0,4.0,10.0,6.0,21.0,14.0,15.0,2.0,7.0,1.0,4.0,4.0,2.0,3.0,21.0,7.0,18.0,16.0,2.0,15.0,11.0,4.0,7.0,21.0,10.0,3.0,21.0,3.0,1.0,12.0,2.0,14.0,21.0,8.0,21.0,3.0,8.0,8.0,15.0,5.0,3.0,8.0,8.0,4.0,2.0,21.0,2.0,0.0,3.0,5.0,5.0,4.0,6.0,8.0,19.0,10.0,3.0,6.0,9.0,0.0,16.0,5.0,2.0,7.0,12.0,21.0,9.0,2.0,2.0,5.0,21.0,10.0,4.0,15.0,21.0,0.0,6.0,6.0,12.0,5.0,7.0,0.0,11.0,0.0,6.0,8.0,4.0,4.0,0.0,13.0,12.0,21.0,4.0,21.0,5.0,7.0,3.0,2.0,0.0,7.0,4.0,7.0,4.0,1.0,11.0,16.0,17.0,7.0,15.0,6.0,4.0,10.0,4.0,3.0,14.0,16.0,10.0,5.0,2.0,3.0,21.0,19.0,15.0,21.0,11.0,6.0,14.0,2.0,2.0,9.0,1.0,5.0,19.0,4.0,19.0,7.0,1.0,14.0,15.0,6.0,3.0,5.0,0.0,6.0,17.0,17.0,5.0,5.0,9.0,1.0,6.0,3.0,16.0,2.0,5.0,5.0,2.0,21.0,16.0,10.0,11.0,2.0,3.0,3.0,7.0,21.0,6.0,3.0,7.0,7.0,6.0,13.0,21.0,10.0,6.0,3.0,2.0,21.0,7.0,9.0,4.0,19.0,11.0,4.0,3.0,9.0,null,2.0,7.0,21.0,10.0,15.0,7.0,12.0,9.0,13.0,14.0,6.0,7.0,5.0,9.0,17.0,12.0,3.0,8.0,2.0,0.0,10.0,5.0,6.0,21.0,21.0,10.0,5.0,10.0,1.0,4.0,8.0,11.0,21.0,2.0,15.0,1.0,3.0,6.0,6.0,18.0,18.0,12.0,15.0,4.0,3.0,14.0,10.0,3.0,8.0,14.0,5.0,6.0,5.0,20.0,6.0,3.0,1.0,18.0,17.0,6.0,14.0,10.0,11.0,10.0,4.0,4.0,6.0,3.0,16.0,6.0,9.0,5.0,21.0,3.0,3.0,3.0,2.0,13.0,9.0,1.0,3.0,3.0,0.0,7.0,10.0,3.0,5.0,4.0,2.0,3.0,4.0,12.0,2.0,18.0,19.0,21.0,10.0,7.0,10.0,5.0,5.0,17.0,8.0,9.0,14.0,0.0,4.0,11.0,7.0,10.0,6.0,3.0,7.0,17.0,2.0,2.0,5.0,5.0,10.0,21.0,4.0,3.0,14.0,9.0,10.0,10.0,8.0,8.0,3.0,6.0,1.0,4.0,2.0,11.0,21.0,1.0,6.0,13.0,6.0,21.0,2.0,21.0,5.0,12.0,4.0,3.0,5.0,4.0,8.0,9.0,5.0,8.0,10.0,21.0,4.0,10.0,2.0,2.0,5.0,1.0,8.0,7.0,11.0,3.0,15.0,0.0,4.0,8.0,11.0,1.0,17.0,16.0,10.0,3.0,3.0,3.0,4.0,5.0,21.0,21.0,6.0,6.0,0.0,5.0,5.0,2.0,6.0,4.0,6.0,20.0,11.0,3.0,10.0,14.0,16.0,11.0,10.0,12.0,4.0,2.0,10.0,5.0,19.0,8.0,12.0,5.0,5.0,21.0,4.0,12.0,21.0,21.0,6.0,10.0,9.0,15.0,3.0,4.0,14.0,9.0,11.0,21.0,7.0,5.0,7.0,9.0,6.0,9.0,12.0,3.0,12.0,8.0,4.0,6.0,7.0,4.0,8.0,13.0,10.0,3.0,10.0,8.0,5.0,21.0,2.0,1.0,6.0,5.0,8.0,0.0,2.0,6.0,5.0,1.0,4.0,21.0,21.0,9.0,1.0,4.0,6.0,5.0,15.0,1.0,21.0,16.0,21.0,21.0,14.0,3.0,1.0,7.0,11.0,8.0,3.0,12.0,4.0,0.0,0.0,4.0,4.0,12.0,3.0,13.0,4.0,21.0,7.0,5.0,7.0,9.0,21.0,8.0,15.0,20.0,13.0,9.0,2.0,8.0,2.0,21.0,2.0,14.0,4.0,11.0,4.0,1.0,21.0,17.0,3.0,5.0,5.0,11.0,4.0,5.0,14.0,4.0,9.0,1.0,10.0,15.0,12.0,11.0,16.0,13.0,10.0,5.0,18.0,21.0,7.0,10.0,4.0,5.0,2.0,7.0,16.0,8.0,21.0,17.0,5.0,5.0,6.0,18.0,11.0,1.0,7.0,16.0,7.0,6.0,6.0,4.0,2.0,3.0,2.0,2.0,15.0,7.0,13.0,5.0,6.0,12.0,12.0,11.0,11.0,11.0,1.0,3.0,7.0,21.0,21.0,12.0,10.0,5.0,15.0,2.0,5.0,21.0,2.0,7.0,1.0,14.0,1.0,3.0,21.0,1.0,14.0,5.0,17.0,3.0,0.0,6.0,15.0,9.0,3.0,3.0,3.0,3.0,11.0,5.0,21.0,5.0,5.0,5.0,5.0,15.0,8.0,11.0,4.0,5.0,3.0,5.0,11.0,4.0,19.0,4.0,2.0,3.0,7.0,16.0,8.0,18.0,7.0,0.0,7.0,11.0,1.0,6.0,6.0,3.0,1.0,0.0,5.0,3.0,3.0,16.0,16.0,5.0,20.0,7.0,14.0,5.0,7.0,7.0,20.0,2.0,4.0,1.0,3.0,2.0,14.0,4.0,16.0,5.0,21.0,0.0,7.0,0.0,3.0,14.0,15.0,2.0,5.0,21.0,10.0,10.0,18.0,2.0,2.0,21.0,14.0,21.0,2.0,6.0,21.0,0.0,5.0,3.0,0.0,8.0,21.0,6.0,17.0,4.0,5.0,5.0,1.0,5.0,3.0,1.0,2.0,8.0,20.0,4.0,18.0,15.0,2.0,9.0,19.0,5.0,3.0,5.0,2.0,21.0,12.0,1.0,6.0,11.0,21.0,3.0,9.0,5.0,9.0,1.0,5.0,5.0,2.0,18.0,13.0,19.0,5.0,13.0,21.0,13.0,9.0,6.0,19.0,7.0,3.0,10.0,12.0,4.0,21.0,3.0,4.0,9.0,11.0,19.0,2.0,16.0,5.0,2.0,1.0,21.0,2.0,2.0,21.0,15.0,16.0,7.0,9.0,7.0,5.0,21.0,18.0,1.0,5.0,9.0,2.0,2.0,6.0,1.0,8.0,2.0,7.0,10.0,10.0,2.0,7.0,6.0,3.0,6.0,3.0,10.0,7.0,8.0,21.0,8.0,0.0,10.0,21.0,14.0,3.0,2.0,5.0,5.0,18.0,10.0,3.0,4.0,4.0,6.0,14.0,6.0,2.0,14.0,21.0,10.0,12.0,7.0,5.0,14.0,16.0,3.0,6.0,14.0,21.0,9.0,1.0,7.0,9.0,20.0,17.0,15.0,10.0,9.0,10.0,4.0,5.0,8.0,9.0,3.0,3.0,17.0,6.0,2.0,8.0,18.0,16.0,4.0,4.0,8.0,7.0,21.0,7.0,4.0,4.0,7.0,10.0,2.0,9.0,6.0,2.0,7.0,1.0,10.0,9.0,5.0,13.0,11.0,21.0,9.0,21.0,11.0,2.0,5.0,5.0,21.0,3.0,12.0,5.0,5.0,8.0,10.0,12.0,7.0,10.0,6.0,1.0,10.0,5.0,2.0,9.0,2.0,14.0,1.0,10.0,9.0,12.0,5.0,5.0,11.0,10.0,10.0,4.0,10.0,7.0,19.0,14.0,9.0,21.0,8.0,8.0,13.0,4.0,6.0,10.0,3.0,14.0,2.0,7.0,16.0,2.0,12.0,19.0,0.0,6.0,1.0,6.0,21.0,3.0,10.0,15.0,18.0,8.0,4.0,15.0,15.0,11.0,1.0,8.0,3.0,2.0,13.0,6.0,6.0,13.0,18.0,3.0,17.0,7.0,17.0,2.0,1.0,10.0,5.0,10.0,20.0,17.0,2.0,10.0,21.0,5.0,17.0,18.0,8.0,8.0,3.0,13.0,6.0,2.0,11.0,7.0,9.0,5.0,14.0,19.0,1.0,5.0,3.0,2.0,11.0,0.0,21.0,9.0,0.0,1.0,1.0,9.0,16.0,14.0,6.0,8.0,2.0,17.0,2.0,8.0,6.0,21.0,3.0,4.0,11.0,12.0,10.0,3.0,10.0,3.0,5.0,14.0,21.0,1.0,3.0,8.0,2.0,8.0,12.0,1.0,5.0,2.0,3.0,15.0,21.0,13.0,21.0,2.0,4.0,3.0,7.0,0.0,9.0,11.0,4.0,11.0,3.0,4.0,1.0,4.0,21.0,9.0,10.0,19.0,21.0,13.0,5.0,3.0,2.0,2.0,4.0,1.0,11.0,2.0,5.0,5.0,6.0,4.0,19.0,10.0,7.0,3.0,16.0,5.0,18.0,21.0,8.0,21.0,7.0,0.0,19.0,8.0,3.0,5.0,1.0,2.0,1.0,0.0,15.0,18.0,3.0,5.0,9.0,21.0,17.0,21.0,18.0,2.0,5.0,9.0,4.0,3.0,8.0,6.0,21.0,14.0,15.0,4.0,3.0,4.0,3.0,0.0,9.0,9.0,2.0,6.0,5.0,3.0,10.0,4.0,13.0,2.0,21.0,4.0,3.0,7.0,3.0,0.0,4.0,1.0,6.0,2.0,2.0,4.0,21.0,2.0,7.0,8.0,21.0,21.0,7.0,2.0,5.0,9.0,8.0,12.0,2.0,14.0,21.0,5.0,4.0,4.0,3.0,9.0,9.0,21.0,1.0,5.0,6.0,17.0,20.0,4.0,17.0,4.0,15.0,21.0,10.0,21.0,3.0,2.0,8.0,3.0,3.0,2.0,16.0,7.0,6.0,6.0,4.0,4.0,4.0,6.0,0.0,2.0,7.0,3.0,16.0,11.0,6.0,15.0,21.0,6.0,21.0,21.0,4.0,9.0,3.0,6.0,4.0,21.0,8.0,6.0,21.0,4.0,6.0,11.0,5.0,6.0,3.0,15.0,7.0,1.0,6.0,2.0,0.0,5.0,21.0,4.0,4.0,2.0,10.0,9.0,3.0,21.0,9.0,5.0,14.0,5.0,6.0,5.0,16.0,21.0,0.0,5.0,6.0,5.0,6.0,13.0,2.0,2.0,2.0,1.0,21.0,3.0,10.0,5.0,3.0,21.0,8.0,4.0,3.0,4.0,13.0,5.0,7.0,3.0,9.0,2.0,4.0,8.0,7.0,14.0,3.0,4.0,3.0,7.0,9.0,21.0,21.0,15.0,20.0,6.0,11.0,17.0,3.0,8.0,6.0,21.0,null,6.0,6.0,4.0,4.0,0.0,11.0,9.0,5.0,17.0,21.0,7.0,7.0,9.0,2.0,9.0,21.0,9.0,2.0,3.0,0.0,3.0,4.0,8.0,6.0,5.0,4.0,21.0,21.0,9.0,21.0,2.0,1.0,13.0,6.0,15.0,1.0,3.0,5.0,null,16.0,5.0,16.0,3.0,4.0,16.0,10.0,21.0,21.0,4.0,10.0,2.0,20.0,1.0,1.0,4.0,12.0,4.0,3.0,5.0,6.0,21.0,4.0,6.0,3.0,1.0,7.0,15.0,7.0,9.0,6.0,5.0,4.0,21.0,0.0,21.0,8.0,7.0,21.0,17.0,3.0,3.0,3.0,6.0,14.0,2.0,6.0,3.0,15.0,0.0,21.0,4.0,13.0,21.0,8.0,11.0,4.0,2.0,6.0,6.0,15.0,6.0,3.0,3.0,13.0,21.0,15.0,3.0,5.0,12.0,4.0,14.0,6.0,1.0,10.0,8.0,21.0,3.0,21.0,1.0,4.0,7.0,4.0,10.0,3.0,10.0,8.0,15.0,8.0,4.0,14.0,8.0,5.0,3.0,2.0,11.0,21.0,4.0,1.0,21.0,15.0,1.0,0.0,0.0,7.0,11.0,12.0,12.0,14.0,11.0,2.0,3.0,7.0,10.0,4.0,4.0,21.0,9.0,4.0,21.0,17.0,1.0,1.0,11.0,3.0,15.0,10.0,21.0,7.0,21.0,13.0,4.0,1.0,6.0,7.0,11.0,10.0,19.0,14.0,3.0,9.0,21.0,5.0,5.0,2.0,19.0,10.0,2.0,16.0,2.0,4.0,21.0,3.0,2.0,0.0,21.0,5.0,9.0,9.0,3.0,1.0,21.0,11.0,9.0,4.0,21.0,6.0,1.0,5.0,2.0,5.0,14.0,11.0,1.0,8.0,12.0,7.0,10.0,11.0,5.0,17.0,21.0,3.0,5.0,11.0,5.0,2.0,10.0,7.0,21.0,14.0,15.0,5.0,10.0,14.0,6.0,8.0,12.0,8.0,21.0,12.0,3.0,1.0,6.0,2.0,12.0,18.0,4.0,7.0,4.0,14.0,5.0,21.0,8.0,21.0,8.0,6.0,3.0,6.0,11.0,7.0,0.0,6.0,3.0,9.0,21.0,12.0,19.0,6.0,1.0,14.0,4.0,6.0,9.0,8.0,8.0,3.0,21.0,8.0,18.0,5.0,2.0,6.0,10.0,4.0,2.0,4.0,5.0,2.0,10.0,8.0,10.0,2.0,10.0,5.0,5.0,17.0,5.0,4.0,12.0,21.0,7.0,3.0,0.0,5.0,21.0,5.0,21.0,3.0,3.0,10.0,4.0,12.0,19.0,5.0,4.0,9.0,16.0,5.0,13.0,8.0,3.0,9.0,9.0,5.0,5.0,15.0,15.0,8.0,5.0,11.0,4.0,6.0,3.0,4.0,3.0,13.0,7.0,1.0,2.0,4.0,7.0,2.0,6.0,4.0,7.0,2.0,19.0,1.0,7.0,21.0,16.0,3.0,8.0,21.0,2.0,0.0,5.0,6.0,4.0,13.0,13.0,4.0,4.0,15.0,7.0,15.0,2.0,4.0,1.0,5.0,4.0,21.0,17.0,6.0,3.0,2.0,6.0,21.0,6.0,3.0,2.0,15.0,6.0,7.0,21.0,1.0,9.0,21.0,21.0,8.0,10.0,10.0,2.0,5.0,8.0,4.0,21.0,2.0,9.0,0.0,13.0,3.0,11.0,17.0,2.0,4.0,6.0,9.0,2.0,7.0,4.0,12.0,6.0,4.0,20.0,11.0,8.0,10.0,1.0,4.0,3.0,21.0,13.0,5.0,16.0,6.0,4.0,6.0,6.0,10.0,15.0,1.0,12.0,13.0,15.0,4.0,1.0,4.0,4.0,8.0,5.0,9.0,7.0,21.0,19.0,15.0,4.0,7.0,2.0,10.0,17.0,2.0,5.0,7.0,11.0,21.0,21.0,7.0,0.0,3.0,10.0,8.0,7.0,5.0,21.0,5.0,10.0,2.0,11.0,6.0,10.0,2.0,3.0,3.0,21.0,5.0,21.0,5.0,11.0,2.0,2.0,6.0,5.0,5.0,7.0,8.0,5.0,5.0,6.0,6.0,19.0,3.0,21.0,21.0,3.0,6.0,7.0,12.0,14.0,6.0,3.0,11.0,3.0,3.0,3.0,0.0,8.0,4.0,6.0,6.0,2.0,21.0,11.0,5.0,21.0,6.0,11.0,21.0,9.0,3.0,3.0,11.0,18.0,1.0,9.0,21.0,13.0,18.0,6.0,9.0,3.0,12.0,0.0,12.0,8.0,11.0,9.0,2.0,21.0,3.0,4.0,3.0,21.0,6.0,21.0,9.0,3.0,6.0,7.0,11.0,3.0,4.0,7.0,2.0,8.0,4.0,20.0,0.0,4.0,16.0,21.0,7.0,12.0,5.0,3.0,1.0,3.0,8.0,21.0,5.0,4.0,18.0,11.0,3.0,13.0,21.0,21.0,6.0,1.0,11.0,14.0,7.0,3.0,5.0,5.0,3.0,12.0,4.0,19.0,7.0,11.0,8.0,3.0,14.0,6.0,21.0,13.0,14.0,4.0,3.0,6.0,15.0,7.0,12.0,15.0,21.0,3.0,6.0,1.0,14.0,4.0,21.0,11.0,9.0,10.0,2.0,21.0,16.0,1.0,9.0,15.0,6.0,14.0,10.0,4.0,4.0,4.0,6.0,5.0,21.0,2.0,4.0,17.0,10.0,2.0,2.0,2.0,1.0,7.0,1.0,15.0,4.0,19.0,4.0,8.0,3.0,8.0,2.0,4.0,7.0,21.0,12.0,6.0,5.0,3.0,5.0,5.0,3.0,5.0,2.0,9.0,4.0,10.0,8.0,1.0,21.0,21.0,11.0,3.0,6.0,10.0,3.0,3.0,21.0,6.0,4.0,18.0,6.0,2.0,6.0,21.0,2.0,10.0,1.0,7.0,21.0,3.0,1.0,5.0,11.0,4.0,21.0,2.0,21.0,21.0,2.0,10.0,11.0,4.0,5.0,21.0,3.0,5.0,6.0,11.0,4.0,21.0,2.0,3.0,8.0,2.0,2.0,3.0,17.0,9.0,12.0,15.0,4.0,2.0,21.0,6.0,15.0,21.0,4.0,7.0,21.0,7.0,3.0,11.0,5.0,5.0,21.0,20.0,9.0,0.0,4.0,18.0,4.0,14.0,2.0,7.0,4.0,4.0,0.0,3.0,1.0,6.0,6.0,10.0,4.0,21.0,4.0,3.0,11.0,3.0,11.0,1.0,21.0,1.0,9.0,7.0,6.0,3.0,7.0,5.0,1.0,4.0,10.0,21.0,13.0,3.0,19.0,6.0,11.0,0.0,10.0,6.0,5.0,4.0,5.0,3.0,8.0,6.0,4.0,0.0,2.0,6.0,10.0,13.0,6.0,11.0,10.0,4.0,5.0,21.0,19.0,4.0,4.0,15.0,5.0,2.0,4.0,4.0,8.0,3.0,14.0,21.0,9.0,6.0,21.0,13.0,4.0,4.0,14.0,19.0,7.0,21.0,5.0,2.0,19.0,2.0,9.0,10.0,21.0,4.0,21.0,10.0,3.0,11.0,21.0,15.0,11.0,7.0,6.0,4.0,10.0,1.0,3.0,5.0,21.0,8.0,4.0,14.0,5.0,8.0,21.0,1.0,4.0,21.0,2.0,8.0,6.0,11.0,5.0,18.0,5.0,4.0,13.0,10.0,9.0,4.0,7.0,7.0,16.0,21.0,1.0,10.0,21.0,0.0,6.0,3.0,15.0,4.0,16.0,6.0,11.0,2.0,0.0,16.0,7.0,7.0,5.0,6.0,10.0,2.0,5.0,10.0,8.0,8.0,5.0,3.0,6.0,9.0,5.0,21.0,8.0,14.0,10.0,12.0,10.0,21.0,16.0,1.0,6.0,4.0,14.0,21.0,9.0,8.0,16.0,15.0,4.0,4.0,4.0,14.0,10.0,9.0,21.0,21.0,0.0,7.0,14.0,13.0,9.0,21.0,4.0,2.0,9.0,11.0,21.0,10.0,null,10.0,3.0,2.0,7.0,10.0,10.0,17.0,5.0,17.0,2.0,5.0,7.0,6.0,9.0,4.0,8.0,2.0,0.0,10.0,4.0,14.0,2.0,21.0,7.0,10.0,13.0,1.0,21.0,3.0,17.0,2.0,9.0,14.0,2.0,5.0,4.0,8.0,10.0,5.0,3.0,14.0,4.0,21.0,2.0,5.0,7.0,9.0,0.0,5.0,null,17.0,4.0,2.0,7.0,9.0,21.0,7.0,8.0,7.0,4.0,2.0,0.0,1.0,3.0,5.0,12.0,21.0,8.0,5.0,2.0,13.0,21.0,14.0,4.0,4.0,21.0,5.0,3.0,8.0,16.0,16.0,10.0,14.0,7.0,6.0,6.0,5.0,2.0,0.0,5.0,21.0,3.0,0.0,1.0,18.0,10.0,21.0,21.0,6.0,17.0,21.0,7.0,1.0,12.0,2.0,15.0,12.0,5.0,1.0,21.0,13.0,5.0,2.0,13.0,7.0,5.0,1.0,15.0,8.0,7.0,21.0,9.0,6.0,10.0,5.0,0.0,19.0,21.0,6.0,10.0,5.0,15.0,9.0,11.0,20.0,5.0,14.0,6.0,2.0,8.0,13.0,4.0,4.0,5.0,10.0,5.0,8.0,11.0,0.0,9.0,10.0,11.0,16.0,4.0,5.0,3.0,2.0,21.0,5.0,21.0,16.0,1.0,5.0,10.0,5.0,14.0,21.0,11.0,10.0,11.0,8.0,15.0,5.0,10.0,7.0,4.0,1.0,6.0,2.0,6.0,5.0,6.0,7.0,2.0,2.0,6.0,8.0,21.0,4.0,0.0,13.0,4.0,2.0,12.0,0.0,5.0,1.0,10.0,4.0,13.0,3.0,13.0,11.0,5.0,8.0,18.0,4.0,9.0,6.0,8.0,0.0,6.0,21.0,2.0,7.0,4.0,11.0,5.0,13.0,8.0,2.0,6.0,5.0,6.0,10.0,2.0,4.0,4.0,7.0,10.0,8.0,16.0,0.0,16.0,7.0,13.0,15.0,8.0,9.0,10.0,15.0,10.0,14.0,4.0,6.0,3.0,8.0,5.0,6.0,5.0,2.0,6.0,1.0,5.0,9.0,21.0,3.0,2.0,5.0,1.0,7.0,21.0,4.0,3.0,5.0,14.0,12.0,4.0,17.0,2.0,7.0,1.0,3.0,11.0,19.0,9.0,13.0,2.0,10.0,11.0,11.0,6.0,3.0,14.0,21.0,21.0,5.0,19.0,1.0,21.0,7.0,10.0,17.0,15.0,14.0,11.0,4.0,8.0,21.0,6.0,5.0,2.0,0.0,20.0,0.0,7.0,2.0,10.0,5.0,5.0,4.0,7.0,5.0,6.0,6.0,4.0,5.0,4.0,13.0,1.0,3.0,21.0,6.0,6.0,5.0,18.0,9.0,7.0,8.0,6.0,3.0,10.0,5.0,5.0,17.0,13.0,14.0,21.0,8.0,4.0,0.0,13.0,2.0,7.0,6.0,10.0,5.0,5.0,2.0,11.0,0.0,12.0,4.0,6.0,1.0,9.0,5.0,21.0,4.0,21.0,15.0,6.0,2.0,8.0,4.0,3.0,3.0,1.0,6.0,3.0,8.0,4.0,6.0,16.0,6.0,11.0,14.0,8.0,3.0,3.0,18.0,6.0,6.0,21.0,6.0,11.0,7.0,17.0,6.0,8.0,7.0,9.0,4.0,4.0,2.0,2.0,3.0,9.0,21.0,8.0,1.0,8.0,16.0,21.0,13.0,6.0,21.0,4.0,9.0,9.0,3.0,20.0,21.0,0.0,21.0,15.0,5.0,20.0,6.0,21.0,0.0,6.0,7.0,9.0,2.0,7.0,3.0,8.0,8.0,5.0,4.0,15.0,3.0,21.0,10.0,2.0,14.0,9.0,6.0,21.0,2.0,10.0,5.0,5.0,3.0,9.0,4.0,9.0,10.0,14.0,2.0,4.0,2.0,3.0,11.0,2.0,10.0,7.0,9.0,12.0,5.0,21.0,8.0,21.0,6.0,5.0,21.0,5.0,13.0,16.0,6.0,21.0,0.0,7.0,21.0,3.0,14.0,6.0,18.0,19.0,9.0,13.0,6.0,1.0,11.0,6.0,3.0,12.0,8.0,10.0,5.0,18.0,6.0,21.0,5.0,4.0,14.0,1.0,8.0,9.0,15.0,3.0,6.0,14.0,8.0,16.0,0.0,19.0,0.0,11.0,12.0,5.0,7.0,5.0,17.0,15.0,15.0,3.0,21.0,21.0,4.0,7.0,14.0,5.0,1.0,11.0,6.0,9.0,1.0,15.0,9.0,1.0,5.0,4.0,4.0,11.0,2.0,4.0,21.0,6.0,4.0,2.0,6.0,7.0,21.0,11.0,7.0,3.0,3.0,10.0,4.0,7.0,5.0,5.0,6.0,12.0,16.0,10.0,4.0,21.0,2.0,7.0,10.0,2.0,9.0,8.0,9.0,1.0,2.0,17.0,6.0,6.0,16.0,11.0,2.0,0.0,15.0,8.0,3.0,3.0,21.0,2.0,10.0,5.0,6.0,3.0,8.0,4.0,10.0,6.0,9.0,8.0,17.0,20.0,7.0,5.0,8.0,6.0,8.0,7.0,21.0,3.0,4.0,2.0,6.0,15.0,21.0,15.0,6.0,4.0,8.0,4.0,5.0,10.0,21.0,15.0,20.0,9.0,2.0,14.0,16.0,6.0,21.0,12.0,14.0,4.0,10.0,8.0,3.0,19.0,6.0,3.0,2.0,2.0,5.0,1.0,0.0,12.0,20.0,21.0,9.0,2.0,10.0,3.0,8.0,0.0,21.0,6.0,9.0,6.0,5.0,2.0,3.0,13.0,3.0,5.0,2.0,21.0,1.0,4.0,21.0,3.0,14.0,4.0,0.0,11.0,12.0,21.0,11.0,3.0,4.0,6.0,1.0,21.0,5.0,21.0,5.0,4.0,16.0,17.0,5.0,10.0,9.0,8.0,7.0,15.0,17.0,6.0,4.0,4.0,4.0,5.0,5.0,17.0,7.0,7.0,21.0,4.0,21.0,2.0,7.0,2.0,null,5.0,13.0,7.0,19.0,13.0,5.0,21.0,21.0,11.0,2.0,1.0,7.0,9.0,10.0,13.0,20.0,12.0,4.0,5.0,6.0,4.0,2.0,10.0,5.0,2.0,6.0,2.0,9.0,18.0,7.0,4.0,7.0,0.0,21.0,11.0,11.0,9.0,15.0,1.0,1.0,10.0,10.0,2.0,2.0,0.0,5.0,null,10.0,5.0,2.0,21.0,4.0,3.0,4.0,21.0,6.0,14.0,7.0,2.0,14.0,2.0,0.0,4.0,5.0,3.0,6.0,7.0,7.0,4.0,7.0,12.0,15.0,9.0,21.0,8.0,10.0,12.0,8.0,21.0,18.0,10.0,10.0,14.0,2.0,2.0,13.0,15.0,6.0,6.0,5.0,10.0,5.0,9.0,5.0,3.0,8.0,5.0,6.0,1.0,10.0,2.0,9.0,5.0,11.0,4.0,6.0,0.0,8.0,1.0,15.0,2.0,4.0,21.0,6.0,10.0,6.0,10.0,7.0,12.0,1.0,3.0,17.0,10.0,9.0,21.0,8.0,6.0,8.0,8.0,14.0,4.0,9.0,6.0,21.0,6.0,0.0,5.0,8.0,9.0,3.0,6.0,10.0,6.0,7.0,6.0,8.0,0.0,12.0,14.0,16.0,10.0,15.0,10.0,21.0,2.0,18.0,6.0,17.0,8.0,3.0,10.0,5.0,2.0,9.0,16.0,21.0,11.0,8.0,16.0,11.0,2.0,21.0,2.0,3.0,6.0,11.0,21.0,11.0,14.0,8.0,6.0,2.0,21.0,1.0,13.0,3.0,5.0,2.0,21.0,16.0,15.0,3.0,14.0,7.0,21.0,6.0,3.0,18.0,9.0,8.0,21.0,16.0,4.0,14.0,9.0,4.0,11.0,7.0,13.0,3.0,8.0,9.0,2.0,14.0,10.0,7.0,5.0,14.0,12.0,5.0,16.0,8.0,9.0,4.0,19.0,10.0,3.0,8.0,6.0,7.0,10.0,19.0,2.0,1.0,8.0,2.0,0.0,6.0,0.0,4.0,9.0,12.0,3.0,4.0,3.0,12.0,5.0,10.0,3.0,3.0,12.0,3.0,2.0,12.0,6.0,21.0,12.0,7.0,9.0,21.0,10.0,15.0,5.0,5.0,7.0,16.0,6.0,13.0,6.0,4.0,0.0,6.0,16.0,8.0,17.0,2.0,6.0,16.0,3.0,21.0,10.0,15.0,5.0,5.0,6.0,4.0,9.0,5.0,21.0,1.0,21.0,1.0,11.0,15.0,3.0,14.0,10.0,21.0,17.0,3.0,9.0,9.0,8.0,5.0,6.0,11.0,10.0,18.0,4.0,8.0,0.0,19.0,3.0,4.0,4.0,10.0,2.0,5.0,21.0,12.0,9.0,18.0,15.0,7.0,6.0,5.0,6.0,2.0,15.0,6.0,21.0,5.0,21.0,16.0,6.0,null,9.0,3.0,11.0,9.0,4.0,7.0,5.0,5.0,2.0,16.0,21.0,21.0,4.0,6.0,10.0,2.0,8.0,0.0,1.0,9.0,4.0,15.0,6.0,4.0,4.0,3.0,3.0,14.0,4.0,5.0,21.0,14.0,21.0,6.0,14.0,17.0,20.0,13.0,10.0,2.0,17.0,3.0,3.0,10.0,6.0,0.0,2.0,21.0,9.0,11.0,3.0,10.0,6.0,6.0,8.0,20.0,9.0,4.0,11.0,6.0,21.0,1.0,4.0,13.0,8.0,6.0,15.0,3.0,14.0,7.0,1.0,1.0,6.0,4.0,0.0,5.0,4.0,4.0,21.0,7.0,6.0,9.0,21.0,14.0,21.0,6.0,21.0,9.0,21.0,5.0,9.0,10.0,9.0,4.0,11.0,5.0,3.0,4.0,9.0,11.0,13.0,21.0,10.0,9.0,7.0,6.0,8.0,8.0,1.0,3.0,0.0,5.0,5.0,7.0,18.0,4.0,3.0,16.0,7.0,9.0,5.0,1.0,7.0,21.0,21.0,2.0,9.0,10.0,5.0,5.0,2.0,6.0,2.0,12.0,13.0,5.0,16.0,4.0,4.0,6.0,4.0,2.0,4.0,0.0,3.0,5.0,1.0,7.0,2.0,10.0,3.0,4.0,11.0,8.0,7.0,3.0,4.0,5.0,21.0,5.0,6.0,4.0,0.0,0.0,21.0,5.0,6.0,8.0,3.0,4.0,21.0,1.0,1.0,5.0,21.0,6.0,8.0,3.0,9.0,14.0,10.0,21.0,4.0,2.0,21.0,18.0,7.0,9.0,0.0,15.0,0.0,11.0,3.0,9.0,21.0,7.0,21.0,6.0,2.0,4.0,6.0,5.0,21.0,5.0,11.0,4.0,9.0,4.0,0.0,4.0,7.0,12.0,2.0,2.0,2.0,21.0,5.0,2.0,21.0,8.0,0.0,0.0,21.0,4.0,8.0,21.0,4.0,21.0,5.0,2.0,4.0,21.0,6.0,17.0,3.0,14.0,17.0,21.0,9.0,7.0,1.0,21.0,10.0,1.0,10.0,0.0,21.0,2.0,17.0,5.0,15.0,3.0,6.0,16.0,21.0,10.0,19.0,4.0,15.0,5.0,13.0,11.0,10.0,3.0,3.0,21.0,12.0,12.0,10.0,8.0,7.0,21.0,6.0,2.0,5.0,15.0,5.0,4.0,11.0,15.0,2.0,1.0,1.0,4.0,21.0,8.0,1.0,8.0,3.0,18.0,13.0,1.0,2.0,7.0,6.0,5.0,21.0,16.0,6.0,8.0,3.0,10.0,10.0,11.0,6.0,3.0,6.0,4.0,10.0,7.0,21.0,4.0,4.0,4.0,6.0,10.0,21.0,9.0,7.0,21.0,0.0,1.0,6.0,7.0,7.0,21.0,6.0,17.0,9.0,7.0,2.0,10.0,8.0,0.0,4.0,12.0,3.0,1.0,0.0,7.0,6.0,1.0,19.0,2.0,5.0,21.0,5.0,3.0,4.0,0.0,21.0,9.0,6.0,3.0,3.0,11.0,5.0,8.0,10.0,18.0,21.0,5.0,10.0,9.0,5.0,17.0,3.0,21.0,4.0,5.0,21.0,2.0,7.0,6.0,14.0,3.0,6.0,7.0,17.0,5.0,8.0,15.0,7.0,1.0,5.0,7.0,8.0,4.0,5.0,5.0,2.0,5.0,10.0,4.0,19.0,10.0,16.0,3.0,4.0,12.0,10.0,12.0,13.0,11.0,3.0,21.0,0.0,10.0,7.0,2.0,8.0,2.0,2.0,18.0,6.0,0.0,5.0,9.0,5.0,13.0,3.0,18.0,1.0,3.0,7.0,9.0,3.0,21.0,8.0,4.0,5.0,21.0,5.0,11.0,7.0,10.0,9.0,8.0,21.0,7.0,5.0,10.0,5.0,7.0,1.0,8.0,2.0,10.0,10.0,6.0,5.0,5.0,5.0,2.0,9.0,21.0,5.0,13.0,21.0,6.0,15.0,5.0,12.0,7.0,4.0,3.0,12.0,8.0,13.0,5.0,15.0,4.0,10.0,7.0,19.0,2.0,5.0,9.0,0.0,12.0,12.0,7.0,6.0,0.0,8.0,5.0,9.0,5.0,21.0,5.0,4.0,12.0,14.0,7.0,4.0,6.0,4.0,3.0,8.0,10.0,4.0,7.0,2.0,7.0,5.0,4.0,5.0,21.0,10.0,5.0,1.0,10.0,3.0,21.0,10.0,21.0,5.0,5.0,15.0,5.0,21.0,10.0,5.0,2.0,2.0,14.0,2.0,5.0,8.0,5.0,6.0,0.0,3.0,8.0,14.0,6.0,3.0,2.0,14.0,6.0,7.0,16.0,6.0,4.0,2.0,10.0,1.0,7.0,1.0,2.0,8.0,2.0,6.0,21.0,3.0,15.0,15.0,21.0,13.0,21.0,4.0,0.0,3.0,6.0,2.0,5.0,9.0,2.0,8.0,3.0,17.0,16.0,13.0,2.0,10.0,7.0,4.0,6.0,9.0,18.0,4.0,21.0,7.0,20.0,14.0,3.0,3.0,6.0,5.0,2.0,3.0,11.0,4.0,16.0,15.0,5.0,6.0,11.0,3.0,2.0,5.0,8.0,9.0,21.0,9.0,21.0,21.0,1.0,15.0,5.0,21.0,16.0,9.0,3.0,11.0,4.0,7.0,2.0,11.0,21.0,15.0,6.0,10.0,0.0,21.0,7.0,6.0,1.0,21.0,11.0,1.0,3.0,16.0,9.0,5.0,6.0,21.0,3.0,5.0,1.0,2.0,7.0,0.0,10.0,8.0,9.0,5.0,21.0,7.0,3.0,4.0,10.0,1.0,4.0,11.0,6.0,21.0,9.0,13.0,5.0,6.0,21.0,13.0,11.0,0.0,4.0,21.0,0.0,4.0,14.0,7.0,7.0,6.0,13.0,19.0,20.0,4.0,10.0,5.0,2.0,2.0,15.0,1.0,5.0,4.0,2.0,8.0,2.0,1.0,6.0,11.0,21.0,0.0,21.0,1.0,16.0,4.0,2.0,8.0,5.0,4.0,4.0,21.0,13.0,2.0,9.0,8.0,3.0,15.0,2.0,7.0,6.0,2.0,11.0,3.0,12.0,3.0,8.0,5.0,5.0,2.0,7.0,2.0,3.0,8.0,0.0,14.0,3.0,15.0,16.0,2.0,4.0,21.0,2.0,21.0,17.0,6.0,1.0,6.0,15.0,2.0,16.0,17.0,4.0,5.0,5.0,0.0,10.0,7.0,1.0,5.0,7.0,15.0,3.0,8.0,18.0,4.0,18.0,5.0,9.0,10.0,4.0,8.0,21.0,3.0,2.0,2.0,12.0,4.0,15.0,7.0,9.0,7.0,2.0,null,11.0,21.0,16.0,5.0,3.0,8.0,9.0,15.0,3.0,9.0,7.0,null,21.0,10.0,4.0,0.0,6.0,13.0,3.0,3.0,12.0,3.0,4.0,14.0,12.0,7.0,9.0,10.0,6.0,5.0,11.0,19.0,2.0,6.0,3.0,15.0,7.0,0.0,5.0,10.0,20.0,15.0,8.0,4.0,2.0,8.0,3.0,3.0,9.0,8.0,16.0,3.0,21.0,1.0,8.0,12.0,4.0,12.0,9.0,13.0,10.0,4.0,9.0,3.0,6.0,8.0,10.0,8.0,11.0,21.0,6.0,12.0,7.0,21.0,12.0,7.0,10.0,3.0,2.0,16.0,21.0,6.0,15.0,3.0,12.0,9.0,5.0,5.0,3.0,9.0,9.0,19.0,5.0,11.0,17.0,7.0,3.0,12.0,8.0,11.0,16.0,6.0,3.0,21.0,12.0,5.0,6.0,0.0,21.0,5.0,14.0,6.0,4.0,2.0,5.0,14.0,5.0,0.0,5.0,7.0,16.0,6.0,3.0,14.0,2.0,7.0,16.0,21.0,4.0,12.0,5.0,21.0,2.0,1.0,7.0,5.0,6.0,3.0,6.0,10.0,8.0,8.0,6.0,6.0,9.0,14.0,6.0,6.0,0.0,6.0,14.0,2.0,3.0,5.0,7.0,8.0,21.0,14.0,5.0,4.0,14.0,5.0,8.0,5.0,9.0,2.0,21.0,6.0,1.0,17.0,6.0,3.0,9.0,9.0,1.0,14.0,7.0,12.0,7.0,21.0,5.0,5.0,9.0,10.0,10.0,0.0,1.0,8.0,16.0,3.0,15.0,17.0,7.0,3.0,7.0,0.0,17.0,7.0,5.0,13.0,6.0,1.0,4.0,4.0,15.0,3.0,1.0,4.0,10.0,8.0,9.0,6.0,4.0,11.0,14.0,1.0,6.0,4.0,21.0,0.0,5.0,0.0,0.0,5.0,4.0,4.0,4.0,8.0,5.0,6.0,7.0,3.0,4.0,8.0,2.0,4.0,4.0,6.0,3.0,0.0,12.0,14.0,null,15.0,2.0,5.0,11.0,5.0,21.0,2.0,3.0,4.0,2.0,7.0,12.0,19.0,6.0,12.0,2.0,17.0,12.0,5.0,8.0,9.0,6.0,8.0,3.0,2.0,21.0,6.0,1.0,4.0,4.0,3.0,17.0,2.0,4.0,3.0,15.0,9.0,2.0,14.0,15.0,7.0,6.0,14.0,8.0,21.0,16.0,11.0,10.0,2.0,5.0,12.0,21.0,21.0,21.0,7.0,5.0,3.0,10.0,9.0,7.0,4.0,16.0,3.0,5.0,9.0,9.0,19.0,4.0,11.0,5.0,1.0,1.0,3.0,0.0,21.0,12.0,2.0,2.0,15.0,6.0,14.0,6.0,14.0,7.0,3.0,9.0,3.0,12.0,3.0,10.0,1.0,3.0,16.0,5.0,4.0,4.0,9.0,9.0,5.0,4.0,15.0,21.0,0.0,6.0,8.0,2.0,14.0,21.0,2.0,7.0,4.0,8.0,4.0,3.0,2.0,10.0,3.0,1.0,5.0,6.0,6.0,15.0,3.0,18.0,10.0,10.0,8.0,5.0,2.0,10.0,4.0,7.0,3.0,4.0,17.0,21.0,9.0,5.0,2.0,9.0,21.0,2.0,6.0,9.0,10.0,4.0,11.0,21.0,11.0,21.0,10.0,15.0,6.0,7.0,4.0,6.0,17.0,8.0,8.0,2.0,5.0,9.0,21.0,21.0,2.0,3.0,3.0,21.0,3.0,10.0,3.0,5.0,4.0,1.0,18.0,6.0,6.0,15.0,6.0,7.0,21.0,8.0,2.0,3.0,19.0,12.0,21.0,6.0,21.0,14.0,10.0,2.0,8.0,11.0,2.0,9.0,4.0,2.0,1.0,14.0,16.0,15.0,3.0,6.0,3.0,7.0,10.0,5.0,13.0,5.0,4.0,2.0,15.0,11.0,5.0,9.0,12.0,6.0,10.0,7.0,10.0,5.0,19.0,3.0,7.0,21.0,13.0,3.0,15.0,4.0,14.0,4.0,5.0,14.0,4.0,10.0,5.0,5.0,21.0,0.0,12.0,19.0,21.0,5.0,13.0,11.0,4.0,4.0,21.0,5.0,7.0,6.0,3.0,5.0,10.0,6.0,7.0,7.0,7.0,6.0,20.0,4.0,5.0,0.0,3.0,7.0,9.0,18.0,3.0,8.0,10.0,1.0,19.0,5.0,4.0,5.0,3.0,5.0,7.0,8.0,10.0,4.0,7.0,7.0,5.0,21.0,19.0,16.0,2.0,7.0,5.0,9.0,19.0,3.0,17.0,18.0,21.0,16.0,7.0,10.0,3.0,2.0,18.0,2.0,3.0,0.0,4.0,9.0,2.0,10.0,3.0,3.0,3.0,1.0,6.0,4.0,21.0,3.0,19.0,15.0,5.0,19.0,11.0,6.0,21.0,2.0,6.0,8.0,null,3.0,15.0,21.0,5.0,8.0,21.0,6.0,21.0,4.0,15.0,3.0,3.0,2.0,21.0,21.0,14.0,7.0,17.0,21.0,3.0,8.0,2.0,10.0,7.0,4.0,3.0,5.0,8.0,21.0,10.0,3.0,7.0,18.0,8.0,5.0,11.0,21.0,3.0,9.0,6.0,21.0,9.0,3.0,10.0,2.0,16.0,5.0,15.0,4.0,9.0,7.0,17.0,2.0,5.0,6.0,14.0,10.0,2.0,15.0,7.0,3.0,5.0,9.0,13.0,6.0,4.0,17.0,4.0,6.0,17.0,1.0,1.0,4.0,12.0,21.0,5.0,16.0,7.0,19.0,10.0,21.0,0.0,5.0,21.0,4.0,5.0,7.0,2.0,2.0,0.0,6.0,21.0,5.0,21.0,6.0,1.0,4.0,11.0,2.0,3.0,0.0,4.0,4.0,3.0,6.0,21.0,21.0,14.0,10.0,18.0,18.0,2.0,8.0,14.0,1.0,7.0,3.0,21.0,8.0,4.0,1.0,1.0,9.0,8.0,null,2.0,5.0,6.0,14.0,1.0,18.0,9.0,5.0,13.0,4.0,7.0,4.0,21.0,11.0,15.0,11.0,21.0,2.0,15.0,2.0,6.0,3.0,5.0,7.0,5.0,4.0,5.0,3.0,17.0,15.0,15.0,3.0,16.0,15.0,4.0,13.0,10.0,21.0,3.0,21.0,2.0,11.0,6.0,3.0,3.0,5.0,6.0,15.0,9.0,10.0,5.0,8.0,2.0,21.0,21.0,14.0,21.0,4.0,21.0,10.0,6.0,16.0,14.0,4.0,21.0,4.0,4.0,20.0,3.0,6.0,10.0,7.0,9.0,5.0,10.0,6.0,11.0,10.0,4.0,5.0,6.0,8.0,21.0,14.0,3.0,2.0,2.0,12.0,12.0,21.0,5.0,8.0,6.0,11.0,5.0,5.0,21.0,9.0,3.0,8.0,5.0,21.0,11.0,14.0,8.0,11.0,5.0,9.0,5.0,6.0,0.0,2.0,3.0,6.0,21.0,21.0,7.0,10.0,7.0,0.0,1.0,7.0,21.0,21.0,3.0,3.0,1.0,9.0,6.0,21.0,4.0,8.0,7.0,7.0,9.0,7.0,20.0,5.0,6.0,21.0,0.0,15.0,3.0,null,15.0,5.0,4.0,4.0,7.0,6.0,4.0,2.0,21.0,3.0,10.0,21.0,3.0,21.0,21.0,21.0,6.0,7.0,14.0,3.0,2.0,21.0,6.0,8.0,0.0,0.0,6.0,7.0,0.0,7.0,8.0,7.0,4.0,18.0,10.0,3.0,15.0,0.0,9.0,7.0,11.0,7.0,2.0,14.0,15.0,1.0,4.0,3.0,6.0,19.0,0.0,9.0,20.0,5.0,9.0,11.0,2.0,8.0,0.0,9.0,14.0,0.0,6.0,21.0,1.0,4.0,21.0,3.0,4.0,1.0,2.0,2.0,4.0,4.0,10.0,12.0,3.0,1.0,21.0,11.0,6.0,5.0,4.0,21.0,15.0,2.0,0.0,9.0,3.0,9.0,4.0,5.0,5.0,13.0,2.0,10.0,8.0,4.0,5.0,14.0,3.0,10.0,6.0,21.0,5.0,2.0,10.0,3.0,2.0,3.0,3.0,7.0,8.0,17.0,4.0,12.0,12.0,13.0,0.0,11.0,21.0,4.0,4.0,4.0,8.0,4.0,2.0,6.0,4.0,21.0,15.0,0.0,7.0,6.0,4.0,16.0,2.0,8.0,8.0,3.0,21.0,3.0,21.0,9.0,20.0,10.0,5.0,7.0,5.0,0.0,5.0,5.0,14.0,18.0,9.0,4.0,3.0,21.0,6.0,12.0,0.0,7.0,13.0,14.0,15.0,10.0,21.0,4.0,4.0,5.0,8.0,12.0,21.0,5.0,4.0,7.0,2.0,3.0,11.0,9.0,21.0,12.0,5.0,2.0,4.0,null,10.0,4.0,19.0,1.0,21.0,5.0,5.0,10.0,4.0,4.0,7.0,12.0,4.0,11.0,8.0,14.0,21.0,3.0,3.0,10.0,10.0,6.0,5.0,21.0,10.0,2.0,2.0,4.0,1.0,13.0,2.0,15.0,4.0,4.0,21.0,5.0,1.0,2.0,21.0,21.0,8.0,6.0,19.0,6.0,5.0,10.0,0.0,3.0,5.0,14.0,17.0,16.0,6.0,9.0,2.0,9.0,3.0,8.0,2.0,8.0,3.0,4.0,17.0,5.0,6.0,9.0,8.0,7.0,4.0,21.0,21.0,10.0,21.0,6.0,4.0,6.0,15.0,null,21.0,3.0,5.0,9.0,21.0,3.0,4.0,5.0,7.0,3.0,10.0,6.0,0.0,10.0,7.0,2.0,13.0,5.0,1.0,2.0,13.0,11.0,4.0,18.0,14.0,5.0,1.0,15.0,9.0,21.0,5.0,14.0,18.0,8.0,3.0,2.0,1.0,6.0,6.0,4.0,6.0,1.0,6.0,2.0,7.0,8.0,4.0,3.0,5.0,15.0,7.0,20.0,14.0,3.0,7.0,1.0,3.0,21.0,12.0,9.0,2.0,10.0,1.0,21.0,21.0,2.0,15.0,5.0,21.0,4.0,3.0,9.0,21.0,7.0,14.0,3.0,12.0,2.0,5.0,15.0,5.0,4.0,10.0,21.0,4.0,1.0,16.0,7.0,2.0,17.0,9.0,12.0,11.0,14.0,6.0,13.0,21.0,4.0,3.0,4.0,12.0,15.0,3.0,4.0,5.0,16.0,2.0,8.0,9.0,4.0,4.0,2.0,21.0,3.0,11.0,4.0,4.0,8.0,6.0,9.0,21.0,8.0,11.0,8.0,14.0,21.0,7.0,9.0,4.0,10.0,7.0,3.0,21.0,21.0,8.0,4.0,7.0,21.0,5.0,4.0,4.0,6.0,7.0,14.0,21.0,10.0,2.0,2.0,4.0,3.0,10.0,2.0,7.0,3.0,4.0,5.0,7.0,21.0,3.0,16.0,2.0,1.0,6.0,3.0,2.0,20.0,13.0,2.0,13.0,3.0,21.0,1.0,21.0,19.0,2.0,9.0,2.0,0.0,5.0,17.0,6.0,5.0,21.0,5.0,4.0,19.0,1.0,3.0,6.0,8.0,1.0,4.0,4.0,9.0,3.0,17.0,12.0,4.0,7.0,6.0,15.0,5.0,3.0,19.0,9.0,5.0,15.0,4.0,21.0,9.0,7.0,21.0,6.0,20.0,12.0,21.0,21.0,8.0,3.0,14.0,3.0,14.0,5.0,5.0,7.0,0.0,3.0,2.0,3.0,7.0,4.0,9.0,7.0,4.0,9.0,2.0,17.0,0.0,3.0,6.0,5.0,2.0,10.0,7.0,10.0,21.0,6.0,21.0,4.0,12.0,8.0,3.0,2.0,0.0,0.0,2.0,6.0,11.0,5.0,null,18.0,21.0,2.0,21.0,11.0,21.0,2.0,7.0,3.0,9.0,7.0,4.0,13.0,10.0,9.0,9.0,21.0,4.0,14.0,4.0,11.0,19.0,10.0,15.0,2.0,11.0,7.0,2.0,3.0,9.0,3.0,21.0,4.0,13.0,4.0,1.0,6.0,10.0,15.0,5.0,7.0,13.0,4.0,2.0,3.0,4.0,6.0,9.0,5.0,21.0,5.0,10.0,4.0,3.0,21.0,6.0,9.0,11.0,10.0,1.0,4.0,6.0,3.0,21.0,3.0,7.0,17.0,4.0,14.0,2.0,18.0,7.0,3.0,6.0,10.0,7.0,7.0,3.0,21.0,4.0,2.0,9.0,10.0,5.0,21.0,13.0,5.0,1.0,9.0,5.0,4.0,15.0,5.0,21.0,5.0,19.0,8.0,21.0,7.0,8.0,4.0,4.0,9.0,10.0,13.0,4.0,7.0,15.0,2.0,3.0,16.0,21.0,5.0,21.0,3.0,14.0,3.0,16.0,21.0,10.0,15.0,3.0,19.0,3.0,10.0,10.0,21.0,4.0,18.0,11.0,10.0,16.0,1.0,6.0,5.0,14.0,7.0,21.0,0.0,21.0,3.0,3.0,17.0,12.0,5.0,5.0,4.0,7.0,6.0,12.0,3.0,3.0,9.0,3.0,9.0,9.0,9.0,21.0,10.0,4.0,4.0,20.0,5.0,19.0,21.0,4.0,1.0,5.0,3.0,3.0,3.0,10.0,5.0,16.0,21.0,10.0,14.0,10.0,17.0,11.0,4.0,21.0,1.0,9.0,3.0,4.0,12.0,4.0,3.0,1.0,4.0,21.0,10.0,7.0,0.0,14.0,2.0,15.0,4.0,8.0,4.0,8.0,4.0,11.0,10.0,10.0,21.0,5.0,17.0,15.0,5.0,21.0,2.0,12.0,14.0,15.0,3.0,21.0,4.0,10.0,21.0,10.0,11.0,6.0,10.0,1.0,21.0,5.0,6.0,9.0,16.0,5.0,10.0,3.0,15.0,13.0,9.0,3.0,6.0,8.0,8.0,11.0,21.0,7.0,6.0,13.0,10.0,9.0,5.0,21.0,7.0,2.0,4.0,5.0,21.0,7.0,4.0,2.0,6.0,16.0,16.0,3.0,14.0,11.0,4.0,11.0,15.0,12.0,4.0,6.0,3.0,21.0,21.0,21.0,16.0,3.0,8.0,11.0,9.0,15.0,3.0,11.0,2.0,14.0,5.0,2.0,6.0,21.0,11.0,11.0,3.0,9.0,2.0,15.0,10.0,6.0,5.0,12.0,12.0,6.0,6.0,6.0,3.0,null,21.0,17.0,1.0,6.0,12.0,6.0,null,21.0,18.0,0.0,4.0,10.0,21.0,5.0,8.0,14.0,6.0,4.0,12.0,10.0,14.0,9.0,5.0,4.0,11.0,6.0,17.0,4.0,15.0,2.0,0.0,9.0,4.0,4.0,8.0,11.0,21.0,21.0,6.0,11.0,10.0,4.0,4.0,1.0,21.0,13.0,10.0,17.0,8.0,0.0,6.0,21.0,9.0,3.0,16.0,10.0,15.0,7.0,5.0,3.0,2.0,4.0,9.0,7.0,6.0,10.0,10.0,5.0,8.0,8.0,9.0,21.0,6.0,13.0,17.0,6.0,12.0,0.0,5.0,15.0,17.0,10.0,9.0,4.0,5.0,11.0,6.0,1.0,3.0,3.0,3.0,15.0,16.0,15.0,21.0,1.0,13.0,10.0,12.0,12.0,1.0,0.0,6.0,14.0,21.0,2.0,4.0,10.0,21.0,7.0,5.0,2.0,9.0,19.0,12.0,5.0,14.0,9.0,15.0,11.0,4.0,11.0,2.0,5.0,7.0,9.0,4.0,4.0,5.0,10.0,21.0,8.0,2.0,16.0,7.0,6.0,9.0,3.0,1.0,18.0,3.0,5.0,21.0,4.0,9.0,6.0,3.0,4.0,13.0,8.0,6.0,2.0,11.0,3.0,16.0,12.0,5.0,14.0,5.0,7.0,17.0,11.0,16.0,4.0,16.0,1.0,7.0,14.0,2.0,7.0,11.0,2.0,7.0,21.0,17.0,3.0,6.0,3.0,9.0,8.0,0.0,3.0,15.0,4.0,3.0,11.0,12.0,14.0,5.0,4.0,1.0,21.0,6.0,10.0,4.0,6.0,10.0,8.0,6.0,1.0,4.0,11.0,8.0,11.0,10.0,14.0,0.0,0.0,7.0,5.0,21.0,2.0,6.0,18.0,7.0,10.0,4.0,4.0,15.0,10.0,2.0,21.0,11.0,2.0,9.0,2.0,3.0,3.0,5.0,4.0,5.0,4.0,5.0,2.0,4.0,21.0,8.0,4.0,19.0,4.0,14.0,17.0,8.0,1.0,13.0,10.0,11.0,3.0,9.0,2.0,13.0,13.0,13.0,5.0,5.0,11.0,3.0,3.0,10.0,11.0,7.0,6.0,6.0,12.0,4.0,21.0,0.0,5.0,3.0,3.0,5.0,20.0,11.0,10.0,5.0,3.0,7.0,10.0,9.0,14.0,21.0,10.0,0.0,21.0,16.0,10.0,6.0,4.0,11.0,8.0,5.0,8.0,2.0,14.0,3.0,1.0,8.0,17.0,10.0,2.0,21.0,null,10.0,8.0,2.0,15.0,10.0,6.0,4.0,21.0,8.0,15.0,5.0,4.0,9.0,1.0,19.0,9.0,11.0,16.0,21.0,11.0,15.0,2.0,18.0,5.0,11.0,6.0,5.0,2.0,7.0,2.0,2.0,7.0,5.0,5.0,21.0,17.0,1.0,2.0,3.0,9.0,9.0,8.0,7.0,6.0,4.0,17.0,6.0,21.0,2.0,11.0,12.0,4.0,9.0,4.0,7.0,13.0,7.0,15.0,10.0,6.0,3.0,6.0,21.0,2.0,17.0,3.0,21.0,7.0,13.0,6.0,3.0,6.0,9.0,14.0,7.0,14.0,6.0,21.0,21.0,5.0,1.0,1.0,12.0,21.0,2.0,13.0,4.0,7.0,3.0,10.0,12.0,21.0,7.0,8.0,4.0,2.0,4.0,3.0,10.0,20.0,9.0,8.0,18.0,21.0,5.0,2.0,3.0,2.0,14.0,12.0,16.0,16.0,21.0,20.0,0.0,3.0,7.0,8.0,9.0,2.0,1.0,8.0,6.0,3.0,21.0,5.0,21.0,1.0,21.0,14.0,2.0,21.0,0.0,3.0,10.0,2.0,6.0,9.0,6.0,12.0,10.0,21.0,3.0,6.0,9.0,21.0,6.0,8.0,3.0,8.0,10.0,16.0,6.0,11.0,5.0,5.0,1.0,9.0,2.0,7.0,14.0,2.0],\"xaxis\":\"x\",\"yaxis\":\"y\",\"type\":\"histogram\"}],                        {\"template\":{\"data\":{\"histogram2dcontour\":[{\"type\":\"histogram2dcontour\",\"colorbar\":{\"outlinewidth\":0,\"ticks\":\"\"},\"colorscale\":[[0.0,\"#0d0887\"],[0.1111111111111111,\"#46039f\"],[0.2222222222222222,\"#7201a8\"],[0.3333333333333333,\"#9c179e\"],[0.4444444444444444,\"#bd3786\"],[0.5555555555555556,\"#d8576b\"],[0.6666666666666666,\"#ed7953\"],[0.7777777777777778,\"#fb9f3a\"],[0.8888888888888888,\"#fdca26\"],[1.0,\"#f0f921\"]]}],\"choropleth\":[{\"type\":\"choropleth\",\"colorbar\":{\"outlinewidth\":0,\"ticks\":\"\"}}],\"histogram2d\":[{\"type\":\"histogram2d\",\"colorbar\":{\"outlinewidth\":0,\"ticks\":\"\"},\"colorscale\":[[0.0,\"#0d0887\"],[0.1111111111111111,\"#46039f\"],[0.2222222222222222,\"#7201a8\"],[0.3333333333333333,\"#9c179e\"],[0.4444444444444444,\"#bd3786\"],[0.5555555555555556,\"#d8576b\"],[0.6666666666666666,\"#ed7953\"],[0.7777777777777778,\"#fb9f3a\"],[0.8888888888888888,\"#fdca26\"],[1.0,\"#f0f921\"]]}],\"heatmap\":[{\"type\":\"heatmap\",\"colorbar\":{\"outlinewidth\":0,\"ticks\":\"\"},\"colorscale\":[[0.0,\"#0d0887\"],[0.1111111111111111,\"#46039f\"],[0.2222222222222222,\"#7201a8\"],[0.3333333333333333,\"#9c179e\"],[0.4444444444444444,\"#bd3786\"],[0.5555555555555556,\"#d8576b\"],[0.6666666666666666,\"#ed7953\"],[0.7777777777777778,\"#fb9f3a\"],[0.8888888888888888,\"#fdca26\"],[1.0,\"#f0f921\"]]}],\"heatmapgl\":[{\"type\":\"heatmapgl\",\"colorbar\":{\"outlinewidth\":0,\"ticks\":\"\"},\"colorscale\":[[0.0,\"#0d0887\"],[0.1111111111111111,\"#46039f\"],[0.2222222222222222,\"#7201a8\"],[0.3333333333333333,\"#9c179e\"],[0.4444444444444444,\"#bd3786\"],[0.5555555555555556,\"#d8576b\"],[0.6666666666666666,\"#ed7953\"],[0.7777777777777778,\"#fb9f3a\"],[0.8888888888888888,\"#fdca26\"],[1.0,\"#f0f921\"]]}],\"contourcarpet\":[{\"type\":\"contourcarpet\",\"colorbar\":{\"outlinewidth\":0,\"ticks\":\"\"}}],\"contour\":[{\"type\":\"contour\",\"colorbar\":{\"outlinewidth\":0,\"ticks\":\"\"},\"colorscale\":[[0.0,\"#0d0887\"],[0.1111111111111111,\"#46039f\"],[0.2222222222222222,\"#7201a8\"],[0.3333333333333333,\"#9c179e\"],[0.4444444444444444,\"#bd3786\"],[0.5555555555555556,\"#d8576b\"],[0.6666666666666666,\"#ed7953\"],[0.7777777777777778,\"#fb9f3a\"],[0.8888888888888888,\"#fdca26\"],[1.0,\"#f0f921\"]]}],\"surface\":[{\"type\":\"surface\",\"colorbar\":{\"outlinewidth\":0,\"ticks\":\"\"},\"colorscale\":[[0.0,\"#0d0887\"],[0.1111111111111111,\"#46039f\"],[0.2222222222222222,\"#7201a8\"],[0.3333333333333333,\"#9c179e\"],[0.4444444444444444,\"#bd3786\"],[0.5555555555555556,\"#d8576b\"],[0.6666666666666666,\"#ed7953\"],[0.7777777777777778,\"#fb9f3a\"],[0.8888888888888888,\"#fdca26\"],[1.0,\"#f0f921\"]]}],\"mesh3d\":[{\"type\":\"mesh3d\",\"colorbar\":{\"outlinewidth\":0,\"ticks\":\"\"}}],\"scatter\":[{\"fillpattern\":{\"fillmode\":\"overlay\",\"size\":10,\"solidity\":0.2},\"type\":\"scatter\"}],\"parcoords\":[{\"type\":\"parcoords\",\"line\":{\"colorbar\":{\"outlinewidth\":0,\"ticks\":\"\"}}}],\"scatterpolargl\":[{\"type\":\"scatterpolargl\",\"marker\":{\"colorbar\":{\"outlinewidth\":0,\"ticks\":\"\"}}}],\"bar\":[{\"error_x\":{\"color\":\"#2a3f5f\"},\"error_y\":{\"color\":\"#2a3f5f\"},\"marker\":{\"line\":{\"color\":\"#E5ECF6\",\"width\":0.5},\"pattern\":{\"fillmode\":\"overlay\",\"size\":10,\"solidity\":0.2}},\"type\":\"bar\"}],\"scattergeo\":[{\"type\":\"scattergeo\",\"marker\":{\"colorbar\":{\"outlinewidth\":0,\"ticks\":\"\"}}}],\"scatterpolar\":[{\"type\":\"scatterpolar\",\"marker\":{\"colorbar\":{\"outlinewidth\":0,\"ticks\":\"\"}}}],\"histogram\":[{\"marker\":{\"pattern\":{\"fillmode\":\"overlay\",\"size\":10,\"solidity\":0.2}},\"type\":\"histogram\"}],\"scattergl\":[{\"type\":\"scattergl\",\"marker\":{\"colorbar\":{\"outlinewidth\":0,\"ticks\":\"\"}}}],\"scatter3d\":[{\"type\":\"scatter3d\",\"line\":{\"colorbar\":{\"outlinewidth\":0,\"ticks\":\"\"}},\"marker\":{\"colorbar\":{\"outlinewidth\":0,\"ticks\":\"\"}}}],\"scattermapbox\":[{\"type\":\"scattermapbox\",\"marker\":{\"colorbar\":{\"outlinewidth\":0,\"ticks\":\"\"}}}],\"scatterternary\":[{\"type\":\"scatterternary\",\"marker\":{\"colorbar\":{\"outlinewidth\":0,\"ticks\":\"\"}}}],\"scattercarpet\":[{\"type\":\"scattercarpet\",\"marker\":{\"colorbar\":{\"outlinewidth\":0,\"ticks\":\"\"}}}],\"carpet\":[{\"aaxis\":{\"endlinecolor\":\"#2a3f5f\",\"gridcolor\":\"white\",\"linecolor\":\"white\",\"minorgridcolor\":\"white\",\"startlinecolor\":\"#2a3f5f\"},\"baxis\":{\"endlinecolor\":\"#2a3f5f\",\"gridcolor\":\"white\",\"linecolor\":\"white\",\"minorgridcolor\":\"white\",\"startlinecolor\":\"#2a3f5f\"},\"type\":\"carpet\"}],\"table\":[{\"cells\":{\"fill\":{\"color\":\"#EBF0F8\"},\"line\":{\"color\":\"white\"}},\"header\":{\"fill\":{\"color\":\"#C8D4E3\"},\"line\":{\"color\":\"white\"}},\"type\":\"table\"}],\"barpolar\":[{\"marker\":{\"line\":{\"color\":\"#E5ECF6\",\"width\":0.5},\"pattern\":{\"fillmode\":\"overlay\",\"size\":10,\"solidity\":0.2}},\"type\":\"barpolar\"}],\"pie\":[{\"automargin\":true,\"type\":\"pie\"}]},\"layout\":{\"autotypenumbers\":\"strict\",\"colorway\":[\"#636efa\",\"#EF553B\",\"#00cc96\",\"#ab63fa\",\"#FFA15A\",\"#19d3f3\",\"#FF6692\",\"#B6E880\",\"#FF97FF\",\"#FECB52\"],\"font\":{\"color\":\"#2a3f5f\"},\"hovermode\":\"closest\",\"hoverlabel\":{\"align\":\"left\"},\"paper_bgcolor\":\"white\",\"plot_bgcolor\":\"#E5ECF6\",\"polar\":{\"bgcolor\":\"#E5ECF6\",\"angularaxis\":{\"gridcolor\":\"white\",\"linecolor\":\"white\",\"ticks\":\"\"},\"radialaxis\":{\"gridcolor\":\"white\",\"linecolor\":\"white\",\"ticks\":\"\"}},\"ternary\":{\"bgcolor\":\"#E5ECF6\",\"aaxis\":{\"gridcolor\":\"white\",\"linecolor\":\"white\",\"ticks\":\"\"},\"baxis\":{\"gridcolor\":\"white\",\"linecolor\":\"white\",\"ticks\":\"\"},\"caxis\":{\"gridcolor\":\"white\",\"linecolor\":\"white\",\"ticks\":\"\"}},\"coloraxis\":{\"colorbar\":{\"outlinewidth\":0,\"ticks\":\"\"}},\"colorscale\":{\"sequential\":[[0.0,\"#0d0887\"],[0.1111111111111111,\"#46039f\"],[0.2222222222222222,\"#7201a8\"],[0.3333333333333333,\"#9c179e\"],[0.4444444444444444,\"#bd3786\"],[0.5555555555555556,\"#d8576b\"],[0.6666666666666666,\"#ed7953\"],[0.7777777777777778,\"#fb9f3a\"],[0.8888888888888888,\"#fdca26\"],[1.0,\"#f0f921\"]],\"sequentialminus\":[[0.0,\"#0d0887\"],[0.1111111111111111,\"#46039f\"],[0.2222222222222222,\"#7201a8\"],[0.3333333333333333,\"#9c179e\"],[0.4444444444444444,\"#bd3786\"],[0.5555555555555556,\"#d8576b\"],[0.6666666666666666,\"#ed7953\"],[0.7777777777777778,\"#fb9f3a\"],[0.8888888888888888,\"#fdca26\"],[1.0,\"#f0f921\"]],\"diverging\":[[0,\"#8e0152\"],[0.1,\"#c51b7d\"],[0.2,\"#de77ae\"],[0.3,\"#f1b6da\"],[0.4,\"#fde0ef\"],[0.5,\"#f7f7f7\"],[0.6,\"#e6f5d0\"],[0.7,\"#b8e186\"],[0.8,\"#7fbc41\"],[0.9,\"#4d9221\"],[1,\"#276419\"]]},\"xaxis\":{\"gridcolor\":\"white\",\"linecolor\":\"white\",\"ticks\":\"\",\"title\":{\"standoff\":15},\"zerolinecolor\":\"white\",\"automargin\":true,\"zerolinewidth\":2},\"yaxis\":{\"gridcolor\":\"white\",\"linecolor\":\"white\",\"ticks\":\"\",\"title\":{\"standoff\":15},\"zerolinecolor\":\"white\",\"automargin\":true,\"zerolinewidth\":2},\"scene\":{\"xaxis\":{\"backgroundcolor\":\"#E5ECF6\",\"gridcolor\":\"white\",\"linecolor\":\"white\",\"showbackground\":true,\"ticks\":\"\",\"zerolinecolor\":\"white\",\"gridwidth\":2},\"yaxis\":{\"backgroundcolor\":\"#E5ECF6\",\"gridcolor\":\"white\",\"linecolor\":\"white\",\"showbackground\":true,\"ticks\":\"\",\"zerolinecolor\":\"white\",\"gridwidth\":2},\"zaxis\":{\"backgroundcolor\":\"#E5ECF6\",\"gridcolor\":\"white\",\"linecolor\":\"white\",\"showbackground\":true,\"ticks\":\"\",\"zerolinecolor\":\"white\",\"gridwidth\":2}},\"shapedefaults\":{\"line\":{\"color\":\"#2a3f5f\"}},\"annotationdefaults\":{\"arrowcolor\":\"#2a3f5f\",\"arrowhead\":0,\"arrowwidth\":1},\"geo\":{\"bgcolor\":\"white\",\"landcolor\":\"#E5ECF6\",\"subunitcolor\":\"white\",\"showland\":true,\"showlakes\":true,\"lakecolor\":\"white\"},\"title\":{\"x\":0.05},\"mapbox\":{\"style\":\"light\"}}},\"xaxis\":{\"anchor\":\"y\",\"domain\":[0.0,1.0],\"title\":{\"text\":\"\\u043e\\u043f\\u044b\\u0442 \\u0440\\u0430\\u0431\\u043e\\u0442\\u044b \\u0432 \\u0433\\u043e\\u0434\\u0430\\u0445\"},\"type\":\"category\",\"categoryorder\":\"total descending\"},\"yaxis\":{\"anchor\":\"x\",\"domain\":[0.0,1.0],\"title\":{\"text\":\"\\u043a\\u043e\\u043b\\u0438\\u0447\\u0435\\u0441\\u0442\\u0432\\u043e \\u043b\\u044e\\u0434\\u0435\\u0439\"}},\"legend\":{\"title\":{\"text\":\"variable\"},\"tracegroupgap\":0},\"margin\":{\"t\":60},\"barmode\":\"relative\",\"title\":{\"text\":\"\\u041e\\u043f\\u044b\\u0442 \\u0440\\u0430\\u0431\\u043e\\u0442\\u044b \\u043b\\u044e\\u0434\\u0435\\u0439, \\u043a\\u043e\\u0442\\u043e\\u0440\\u044b\\u0435 \\u0441\\u043c\\u0435\\u043d\\u0438\\u043b\\u0438 \\u0440\\u0430\\u0431\\u043e\\u0442\\u0443 \\u0433\\u043e\\u0434 \\u043d\\u0430\\u0437\\u0430\\u0434\"}},                        {\"responsive\": true}                    ).then(function(){\n",
              "                            \n",
              "var gd = document.getElementById('6eaa96fd-bd83-437d-82cb-a49087e60918');\n",
              "var x = new MutationObserver(function (mutations, observer) {{\n",
              "        var display = window.getComputedStyle(gd).display;\n",
              "        if (!display || display === 'none') {{\n",
              "            console.log([gd, 'removed!']);\n",
              "            Plotly.purge(gd);\n",
              "            observer.disconnect();\n",
              "        }}\n",
              "}});\n",
              "\n",
              "// Listen for the removal of the full notebook cells\n",
              "var notebookContainer = gd.closest('#notebook-container');\n",
              "if (notebookContainer) {{\n",
              "    x.observe(notebookContainer, {childList: true});\n",
              "}}\n",
              "\n",
              "// Listen for the clearing of the current output cell\n",
              "var outputEl = gd.closest('.output');\n",
              "if (outputEl) {{\n",
              "    x.observe(outputEl, {childList: true});\n",
              "}}\n",
              "\n",
              "                        })                };                            </script>        </div>\n",
              "</body>\n",
              "</html>"
            ]
          },
          "metadata": {}
        }
      ]
    },
    {
      "cell_type": "markdown",
      "source": [
        "**Вывод:**\n",
        "\n",
        "Гистограмма показывает, что значительная доля сменивших работу - люди с опытом более 20 лет. За ними следуют группы с опытом работы 4, 5, 3, 6 лет. Выпускники с опытом 1 год находятся на 11 месте, а без опыта - на 14.\n",
        "\n",
        "Такое распределение подтверждает нашу гипотезу: значительная часть описанных выпускников решает сменить место после 1 года работы."
      ],
      "metadata": {
        "id": "IE6xd3D8yPKU"
      }
    },
    {
      "cell_type": "markdown",
      "source": [
        "###Задача 2. Как соотносятся пол и выбор ведущего предмета? Каково соотношение полов среди выпускников?"
      ],
      "metadata": {
        "id": "8av1PTngjm9N"
      }
    },
    {
      "cell_type": "code",
      "source": [
        "subj_gender = pd.concat([data['gender'], data['major_discipline']], axis=1).dropna() #извлекаем нужные столбцы, соединяем их и убираем все строки, где пропущено хотя бы 1 значение\n",
        "subj_gender = subj_gender.groupby(['gender', 'major_discipline'], as_index=False).size() #группируем по полу и дисциплине и подсчитываем сумму"
      ],
      "metadata": {
        "id": "RpCXlQgIx70A"
      },
      "execution_count": null,
      "outputs": []
    },
    {
      "cell_type": "code",
      "source": [
        "fig = make_subplots(rows=1, cols=3,\n",
        "                    specs=[[{\"type\": \"pie\"}, {\"type\": \"pie\"}, {\"type\": \"pie\"}]],\n",
        "                    subplot_titles=(\"Женщины\", \"Мужчины\", \"Другие\")) #строим три круговых диаграммы рядом\n",
        "\n",
        "fig.add_trace(go.Pie(labels = subj_gender[subj_gender['gender'] == 'Female'].major_discipline,\n",
        "             values = subj_gender[subj_gender['gender'] == 'Female'].iloc[:, 2]),\n",
        "\n",
        "             row=1, col=1) #диаграмма по женщинам\n",
        "\n",
        "fig.add_trace(go.Pie(labels = subj_gender[subj_gender['gender'] == 'Male'].major_discipline,\n",
        "             values = subj_gender[subj_gender['gender'] == 'Male'].iloc[:, 2]),\n",
        "\n",
        "             row=1, col=2) #диаграмма по мужчинам\n",
        "\n",
        "fig.add_trace(go.Pie(labels = subj_gender[subj_gender['gender'] == 'Other'].major_discipline,\n",
        "             values = subj_gender[subj_gender['gender'] == 'Other'].iloc[:, 2]),\n",
        "\n",
        "             row=1, col=3) #диаграмма по другим\n",
        "\n",
        "fig.update_layout(height=550, width=1000, title_text=\"Как соотносятся пол и выбор ведущего предмета\")\n",
        "fig.show(bbox_inches='tight')"
      ],
      "metadata": {
        "colab": {
          "base_uri": "https://localhost:8080/",
          "height": 567
        },
        "id": "Z86kMSJ8AKY-",
        "outputId": "77ce70af-95c2-4ed0-d813-50fb41ce06d2"
      },
      "execution_count": null,
      "outputs": [
        {
          "output_type": "display_data",
          "data": {
            "text/html": [
              "<html>\n",
              "<head><meta charset=\"utf-8\" /></head>\n",
              "<body>\n",
              "    <div>            <script src=\"https://cdnjs.cloudflare.com/ajax/libs/mathjax/2.7.5/MathJax.js?config=TeX-AMS-MML_SVG\"></script><script type=\"text/javascript\">if (window.MathJax && window.MathJax.Hub && window.MathJax.Hub.Config) {window.MathJax.Hub.Config({SVG: {font: \"STIX-Web\"}});}</script>                <script type=\"text/javascript\">window.PlotlyConfig = {MathJaxConfig: 'local'};</script>\n",
              "        <script src=\"https://cdn.plot.ly/plotly-2.18.2.min.js\"></script>                <div id=\"6f70f28e-c3b5-4a4d-bcf6-34661407bb25\" class=\"plotly-graph-div\" style=\"height:550px; width:1000px;\"></div>            <script type=\"text/javascript\">                                    window.PLOTLYENV=window.PLOTLYENV || {};                                    if (document.getElementById(\"6f70f28e-c3b5-4a4d-bcf6-34661407bb25\")) {                    Plotly.newPlot(                        \"6f70f28e-c3b5-4a4d-bcf6-34661407bb25\",                        [{\"labels\":[\"Arts\",\"Business Degree\",\"Humanities\",\"No Major\",\"Other\",\"STEM\"],\"values\":[36,25,118,16,36,928],\"type\":\"pie\",\"domain\":{\"x\":[0.0,0.2888888888888889],\"y\":[0.0,1.0]}},{\"labels\":[\"Arts\",\"Business Degree\",\"Humanities\",\"No Major\",\"Other\",\"STEM\"],\"values\":[160,226,429,163,247,10145],\"type\":\"pie\",\"domain\":{\"x\":[0.35555555555555557,0.6444444444444445],\"y\":[0.0,1.0]}},{\"labels\":[\"Arts\",\"Business Degree\",\"Humanities\",\"No Major\",\"Other\",\"STEM\"],\"values\":[7,3,8,3,7,115],\"type\":\"pie\",\"domain\":{\"x\":[0.7111111111111111,1.0],\"y\":[0.0,1.0]}}],                        {\"template\":{\"data\":{\"histogram2dcontour\":[{\"type\":\"histogram2dcontour\",\"colorbar\":{\"outlinewidth\":0,\"ticks\":\"\"},\"colorscale\":[[0.0,\"#0d0887\"],[0.1111111111111111,\"#46039f\"],[0.2222222222222222,\"#7201a8\"],[0.3333333333333333,\"#9c179e\"],[0.4444444444444444,\"#bd3786\"],[0.5555555555555556,\"#d8576b\"],[0.6666666666666666,\"#ed7953\"],[0.7777777777777778,\"#fb9f3a\"],[0.8888888888888888,\"#fdca26\"],[1.0,\"#f0f921\"]]}],\"choropleth\":[{\"type\":\"choropleth\",\"colorbar\":{\"outlinewidth\":0,\"ticks\":\"\"}}],\"histogram2d\":[{\"type\":\"histogram2d\",\"colorbar\":{\"outlinewidth\":0,\"ticks\":\"\"},\"colorscale\":[[0.0,\"#0d0887\"],[0.1111111111111111,\"#46039f\"],[0.2222222222222222,\"#7201a8\"],[0.3333333333333333,\"#9c179e\"],[0.4444444444444444,\"#bd3786\"],[0.5555555555555556,\"#d8576b\"],[0.6666666666666666,\"#ed7953\"],[0.7777777777777778,\"#fb9f3a\"],[0.8888888888888888,\"#fdca26\"],[1.0,\"#f0f921\"]]}],\"heatmap\":[{\"type\":\"heatmap\",\"colorbar\":{\"outlinewidth\":0,\"ticks\":\"\"},\"colorscale\":[[0.0,\"#0d0887\"],[0.1111111111111111,\"#46039f\"],[0.2222222222222222,\"#7201a8\"],[0.3333333333333333,\"#9c179e\"],[0.4444444444444444,\"#bd3786\"],[0.5555555555555556,\"#d8576b\"],[0.6666666666666666,\"#ed7953\"],[0.7777777777777778,\"#fb9f3a\"],[0.8888888888888888,\"#fdca26\"],[1.0,\"#f0f921\"]]}],\"heatmapgl\":[{\"type\":\"heatmapgl\",\"colorbar\":{\"outlinewidth\":0,\"ticks\":\"\"},\"colorscale\":[[0.0,\"#0d0887\"],[0.1111111111111111,\"#46039f\"],[0.2222222222222222,\"#7201a8\"],[0.3333333333333333,\"#9c179e\"],[0.4444444444444444,\"#bd3786\"],[0.5555555555555556,\"#d8576b\"],[0.6666666666666666,\"#ed7953\"],[0.7777777777777778,\"#fb9f3a\"],[0.8888888888888888,\"#fdca26\"],[1.0,\"#f0f921\"]]}],\"contourcarpet\":[{\"type\":\"contourcarpet\",\"colorbar\":{\"outlinewidth\":0,\"ticks\":\"\"}}],\"contour\":[{\"type\":\"contour\",\"colorbar\":{\"outlinewidth\":0,\"ticks\":\"\"},\"colorscale\":[[0.0,\"#0d0887\"],[0.1111111111111111,\"#46039f\"],[0.2222222222222222,\"#7201a8\"],[0.3333333333333333,\"#9c179e\"],[0.4444444444444444,\"#bd3786\"],[0.5555555555555556,\"#d8576b\"],[0.6666666666666666,\"#ed7953\"],[0.7777777777777778,\"#fb9f3a\"],[0.8888888888888888,\"#fdca26\"],[1.0,\"#f0f921\"]]}],\"surface\":[{\"type\":\"surface\",\"colorbar\":{\"outlinewidth\":0,\"ticks\":\"\"},\"colorscale\":[[0.0,\"#0d0887\"],[0.1111111111111111,\"#46039f\"],[0.2222222222222222,\"#7201a8\"],[0.3333333333333333,\"#9c179e\"],[0.4444444444444444,\"#bd3786\"],[0.5555555555555556,\"#d8576b\"],[0.6666666666666666,\"#ed7953\"],[0.7777777777777778,\"#fb9f3a\"],[0.8888888888888888,\"#fdca26\"],[1.0,\"#f0f921\"]]}],\"mesh3d\":[{\"type\":\"mesh3d\",\"colorbar\":{\"outlinewidth\":0,\"ticks\":\"\"}}],\"scatter\":[{\"fillpattern\":{\"fillmode\":\"overlay\",\"size\":10,\"solidity\":0.2},\"type\":\"scatter\"}],\"parcoords\":[{\"type\":\"parcoords\",\"line\":{\"colorbar\":{\"outlinewidth\":0,\"ticks\":\"\"}}}],\"scatterpolargl\":[{\"type\":\"scatterpolargl\",\"marker\":{\"colorbar\":{\"outlinewidth\":0,\"ticks\":\"\"}}}],\"bar\":[{\"error_x\":{\"color\":\"#2a3f5f\"},\"error_y\":{\"color\":\"#2a3f5f\"},\"marker\":{\"line\":{\"color\":\"#E5ECF6\",\"width\":0.5},\"pattern\":{\"fillmode\":\"overlay\",\"size\":10,\"solidity\":0.2}},\"type\":\"bar\"}],\"scattergeo\":[{\"type\":\"scattergeo\",\"marker\":{\"colorbar\":{\"outlinewidth\":0,\"ticks\":\"\"}}}],\"scatterpolar\":[{\"type\":\"scatterpolar\",\"marker\":{\"colorbar\":{\"outlinewidth\":0,\"ticks\":\"\"}}}],\"histogram\":[{\"marker\":{\"pattern\":{\"fillmode\":\"overlay\",\"size\":10,\"solidity\":0.2}},\"type\":\"histogram\"}],\"scattergl\":[{\"type\":\"scattergl\",\"marker\":{\"colorbar\":{\"outlinewidth\":0,\"ticks\":\"\"}}}],\"scatter3d\":[{\"type\":\"scatter3d\",\"line\":{\"colorbar\":{\"outlinewidth\":0,\"ticks\":\"\"}},\"marker\":{\"colorbar\":{\"outlinewidth\":0,\"ticks\":\"\"}}}],\"scattermapbox\":[{\"type\":\"scattermapbox\",\"marker\":{\"colorbar\":{\"outlinewidth\":0,\"ticks\":\"\"}}}],\"scatterternary\":[{\"type\":\"scatterternary\",\"marker\":{\"colorbar\":{\"outlinewidth\":0,\"ticks\":\"\"}}}],\"scattercarpet\":[{\"type\":\"scattercarpet\",\"marker\":{\"colorbar\":{\"outlinewidth\":0,\"ticks\":\"\"}}}],\"carpet\":[{\"aaxis\":{\"endlinecolor\":\"#2a3f5f\",\"gridcolor\":\"white\",\"linecolor\":\"white\",\"minorgridcolor\":\"white\",\"startlinecolor\":\"#2a3f5f\"},\"baxis\":{\"endlinecolor\":\"#2a3f5f\",\"gridcolor\":\"white\",\"linecolor\":\"white\",\"minorgridcolor\":\"white\",\"startlinecolor\":\"#2a3f5f\"},\"type\":\"carpet\"}],\"table\":[{\"cells\":{\"fill\":{\"color\":\"#EBF0F8\"},\"line\":{\"color\":\"white\"}},\"header\":{\"fill\":{\"color\":\"#C8D4E3\"},\"line\":{\"color\":\"white\"}},\"type\":\"table\"}],\"barpolar\":[{\"marker\":{\"line\":{\"color\":\"#E5ECF6\",\"width\":0.5},\"pattern\":{\"fillmode\":\"overlay\",\"size\":10,\"solidity\":0.2}},\"type\":\"barpolar\"}],\"pie\":[{\"automargin\":true,\"type\":\"pie\"}]},\"layout\":{\"autotypenumbers\":\"strict\",\"colorway\":[\"#636efa\",\"#EF553B\",\"#00cc96\",\"#ab63fa\",\"#FFA15A\",\"#19d3f3\",\"#FF6692\",\"#B6E880\",\"#FF97FF\",\"#FECB52\"],\"font\":{\"color\":\"#2a3f5f\"},\"hovermode\":\"closest\",\"hoverlabel\":{\"align\":\"left\"},\"paper_bgcolor\":\"white\",\"plot_bgcolor\":\"#E5ECF6\",\"polar\":{\"bgcolor\":\"#E5ECF6\",\"angularaxis\":{\"gridcolor\":\"white\",\"linecolor\":\"white\",\"ticks\":\"\"},\"radialaxis\":{\"gridcolor\":\"white\",\"linecolor\":\"white\",\"ticks\":\"\"}},\"ternary\":{\"bgcolor\":\"#E5ECF6\",\"aaxis\":{\"gridcolor\":\"white\",\"linecolor\":\"white\",\"ticks\":\"\"},\"baxis\":{\"gridcolor\":\"white\",\"linecolor\":\"white\",\"ticks\":\"\"},\"caxis\":{\"gridcolor\":\"white\",\"linecolor\":\"white\",\"ticks\":\"\"}},\"coloraxis\":{\"colorbar\":{\"outlinewidth\":0,\"ticks\":\"\"}},\"colorscale\":{\"sequential\":[[0.0,\"#0d0887\"],[0.1111111111111111,\"#46039f\"],[0.2222222222222222,\"#7201a8\"],[0.3333333333333333,\"#9c179e\"],[0.4444444444444444,\"#bd3786\"],[0.5555555555555556,\"#d8576b\"],[0.6666666666666666,\"#ed7953\"],[0.7777777777777778,\"#fb9f3a\"],[0.8888888888888888,\"#fdca26\"],[1.0,\"#f0f921\"]],\"sequentialminus\":[[0.0,\"#0d0887\"],[0.1111111111111111,\"#46039f\"],[0.2222222222222222,\"#7201a8\"],[0.3333333333333333,\"#9c179e\"],[0.4444444444444444,\"#bd3786\"],[0.5555555555555556,\"#d8576b\"],[0.6666666666666666,\"#ed7953\"],[0.7777777777777778,\"#fb9f3a\"],[0.8888888888888888,\"#fdca26\"],[1.0,\"#f0f921\"]],\"diverging\":[[0,\"#8e0152\"],[0.1,\"#c51b7d\"],[0.2,\"#de77ae\"],[0.3,\"#f1b6da\"],[0.4,\"#fde0ef\"],[0.5,\"#f7f7f7\"],[0.6,\"#e6f5d0\"],[0.7,\"#b8e186\"],[0.8,\"#7fbc41\"],[0.9,\"#4d9221\"],[1,\"#276419\"]]},\"xaxis\":{\"gridcolor\":\"white\",\"linecolor\":\"white\",\"ticks\":\"\",\"title\":{\"standoff\":15},\"zerolinecolor\":\"white\",\"automargin\":true,\"zerolinewidth\":2},\"yaxis\":{\"gridcolor\":\"white\",\"linecolor\":\"white\",\"ticks\":\"\",\"title\":{\"standoff\":15},\"zerolinecolor\":\"white\",\"automargin\":true,\"zerolinewidth\":2},\"scene\":{\"xaxis\":{\"backgroundcolor\":\"#E5ECF6\",\"gridcolor\":\"white\",\"linecolor\":\"white\",\"showbackground\":true,\"ticks\":\"\",\"zerolinecolor\":\"white\",\"gridwidth\":2},\"yaxis\":{\"backgroundcolor\":\"#E5ECF6\",\"gridcolor\":\"white\",\"linecolor\":\"white\",\"showbackground\":true,\"ticks\":\"\",\"zerolinecolor\":\"white\",\"gridwidth\":2},\"zaxis\":{\"backgroundcolor\":\"#E5ECF6\",\"gridcolor\":\"white\",\"linecolor\":\"white\",\"showbackground\":true,\"ticks\":\"\",\"zerolinecolor\":\"white\",\"gridwidth\":2}},\"shapedefaults\":{\"line\":{\"color\":\"#2a3f5f\"}},\"annotationdefaults\":{\"arrowcolor\":\"#2a3f5f\",\"arrowhead\":0,\"arrowwidth\":1},\"geo\":{\"bgcolor\":\"white\",\"landcolor\":\"#E5ECF6\",\"subunitcolor\":\"white\",\"showland\":true,\"showlakes\":true,\"lakecolor\":\"white\"},\"title\":{\"x\":0.05},\"mapbox\":{\"style\":\"light\"}}},\"annotations\":[{\"font\":{\"size\":16},\"showarrow\":false,\"text\":\"\\u0416\\u0435\\u043d\\u0449\\u0438\\u043d\\u044b\",\"x\":0.14444444444444446,\"xanchor\":\"center\",\"xref\":\"paper\",\"y\":1.0,\"yanchor\":\"bottom\",\"yref\":\"paper\"},{\"font\":{\"size\":16},\"showarrow\":false,\"text\":\"\\u041c\\u0443\\u0436\\u0447\\u0438\\u043d\\u044b\",\"x\":0.5,\"xanchor\":\"center\",\"xref\":\"paper\",\"y\":1.0,\"yanchor\":\"bottom\",\"yref\":\"paper\"},{\"font\":{\"size\":16},\"showarrow\":false,\"text\":\"\\u0414\\u0440\\u0443\\u0433\\u0438\\u0435\",\"x\":0.8555555555555556,\"xanchor\":\"center\",\"xref\":\"paper\",\"y\":1.0,\"yanchor\":\"bottom\",\"yref\":\"paper\"}],\"title\":{\"text\":\"\\u041a\\u0430\\u043a \\u0441\\u043e\\u043e\\u0442\\u043d\\u043e\\u0441\\u044f\\u0442\\u0441\\u044f \\u043f\\u043e\\u043b \\u0438 \\u0432\\u044b\\u0431\\u043e\\u0440 \\u0432\\u0435\\u0434\\u0443\\u0449\\u0435\\u0433\\u043e \\u043f\\u0440\\u0435\\u0434\\u043c\\u0435\\u0442\\u0430\"},\"height\":550,\"width\":1000},                        {\"responsive\": true}                    ).then(function(){\n",
              "                            \n",
              "var gd = document.getElementById('6f70f28e-c3b5-4a4d-bcf6-34661407bb25');\n",
              "var x = new MutationObserver(function (mutations, observer) {{\n",
              "        var display = window.getComputedStyle(gd).display;\n",
              "        if (!display || display === 'none') {{\n",
              "            console.log([gd, 'removed!']);\n",
              "            Plotly.purge(gd);\n",
              "            observer.disconnect();\n",
              "        }}\n",
              "}});\n",
              "\n",
              "// Listen for the removal of the full notebook cells\n",
              "var notebookContainer = gd.closest('#notebook-container');\n",
              "if (notebookContainer) {{\n",
              "    x.observe(notebookContainer, {childList: true});\n",
              "}}\n",
              "\n",
              "// Listen for the clearing of the current output cell\n",
              "var outputEl = gd.closest('.output');\n",
              "if (outputEl) {{\n",
              "    x.observe(outputEl, {childList: true});\n",
              "}}\n",
              "\n",
              "                        })                };                            </script>        </div>\n",
              "</body>\n",
              "</html>"
            ]
          },
          "metadata": {}
        }
      ]
    },
    {
      "cell_type": "code",
      "source": [
        "genders = data.groupby(['gender'], as_index=False).size() #круговая диаграмма показывает соотношение полов\n",
        "\n",
        "fig = px.pie(genders, names='gender', values=genders.iloc[:, 1], title='Соотношение полов выпускников')\n",
        "fig.show(bbox_inches='tight')"
      ],
      "metadata": {
        "colab": {
          "base_uri": "https://localhost:8080/",
          "height": 542
        },
        "id": "cBcjRCd3ccr5",
        "outputId": "b0706c3b-07fe-4d3b-a45a-0de8dca08335"
      },
      "execution_count": null,
      "outputs": [
        {
          "output_type": "display_data",
          "data": {
            "text/html": [
              "<html>\n",
              "<head><meta charset=\"utf-8\" /></head>\n",
              "<body>\n",
              "    <div>            <script src=\"https://cdnjs.cloudflare.com/ajax/libs/mathjax/2.7.5/MathJax.js?config=TeX-AMS-MML_SVG\"></script><script type=\"text/javascript\">if (window.MathJax && window.MathJax.Hub && window.MathJax.Hub.Config) {window.MathJax.Hub.Config({SVG: {font: \"STIX-Web\"}});}</script>                <script type=\"text/javascript\">window.PlotlyConfig = {MathJaxConfig: 'local'};</script>\n",
              "        <script src=\"https://cdn.plot.ly/plotly-2.18.2.min.js\"></script>                <div id=\"cc717841-cb81-4804-b3d9-ffa05269027d\" class=\"plotly-graph-div\" style=\"height:525px; width:100%;\"></div>            <script type=\"text/javascript\">                                    window.PLOTLYENV=window.PLOTLYENV || {};                                    if (document.getElementById(\"cc717841-cb81-4804-b3d9-ffa05269027d\")) {                    Plotly.newPlot(                        \"cc717841-cb81-4804-b3d9-ffa05269027d\",                        [{\"domain\":{\"x\":[0.0,1.0],\"y\":[0.0,1.0]},\"hovertemplate\":\"gender=%{label}<br>value=%{value}<extra></extra>\",\"labels\":[\"Female\",\"Male\",\"Other\"],\"legendgroup\":\"\",\"name\":\"\",\"showlegend\":true,\"values\":[1238,13221,191],\"type\":\"pie\"}],                        {\"template\":{\"data\":{\"histogram2dcontour\":[{\"type\":\"histogram2dcontour\",\"colorbar\":{\"outlinewidth\":0,\"ticks\":\"\"},\"colorscale\":[[0.0,\"#0d0887\"],[0.1111111111111111,\"#46039f\"],[0.2222222222222222,\"#7201a8\"],[0.3333333333333333,\"#9c179e\"],[0.4444444444444444,\"#bd3786\"],[0.5555555555555556,\"#d8576b\"],[0.6666666666666666,\"#ed7953\"],[0.7777777777777778,\"#fb9f3a\"],[0.8888888888888888,\"#fdca26\"],[1.0,\"#f0f921\"]]}],\"choropleth\":[{\"type\":\"choropleth\",\"colorbar\":{\"outlinewidth\":0,\"ticks\":\"\"}}],\"histogram2d\":[{\"type\":\"histogram2d\",\"colorbar\":{\"outlinewidth\":0,\"ticks\":\"\"},\"colorscale\":[[0.0,\"#0d0887\"],[0.1111111111111111,\"#46039f\"],[0.2222222222222222,\"#7201a8\"],[0.3333333333333333,\"#9c179e\"],[0.4444444444444444,\"#bd3786\"],[0.5555555555555556,\"#d8576b\"],[0.6666666666666666,\"#ed7953\"],[0.7777777777777778,\"#fb9f3a\"],[0.8888888888888888,\"#fdca26\"],[1.0,\"#f0f921\"]]}],\"heatmap\":[{\"type\":\"heatmap\",\"colorbar\":{\"outlinewidth\":0,\"ticks\":\"\"},\"colorscale\":[[0.0,\"#0d0887\"],[0.1111111111111111,\"#46039f\"],[0.2222222222222222,\"#7201a8\"],[0.3333333333333333,\"#9c179e\"],[0.4444444444444444,\"#bd3786\"],[0.5555555555555556,\"#d8576b\"],[0.6666666666666666,\"#ed7953\"],[0.7777777777777778,\"#fb9f3a\"],[0.8888888888888888,\"#fdca26\"],[1.0,\"#f0f921\"]]}],\"heatmapgl\":[{\"type\":\"heatmapgl\",\"colorbar\":{\"outlinewidth\":0,\"ticks\":\"\"},\"colorscale\":[[0.0,\"#0d0887\"],[0.1111111111111111,\"#46039f\"],[0.2222222222222222,\"#7201a8\"],[0.3333333333333333,\"#9c179e\"],[0.4444444444444444,\"#bd3786\"],[0.5555555555555556,\"#d8576b\"],[0.6666666666666666,\"#ed7953\"],[0.7777777777777778,\"#fb9f3a\"],[0.8888888888888888,\"#fdca26\"],[1.0,\"#f0f921\"]]}],\"contourcarpet\":[{\"type\":\"contourcarpet\",\"colorbar\":{\"outlinewidth\":0,\"ticks\":\"\"}}],\"contour\":[{\"type\":\"contour\",\"colorbar\":{\"outlinewidth\":0,\"ticks\":\"\"},\"colorscale\":[[0.0,\"#0d0887\"],[0.1111111111111111,\"#46039f\"],[0.2222222222222222,\"#7201a8\"],[0.3333333333333333,\"#9c179e\"],[0.4444444444444444,\"#bd3786\"],[0.5555555555555556,\"#d8576b\"],[0.6666666666666666,\"#ed7953\"],[0.7777777777777778,\"#fb9f3a\"],[0.8888888888888888,\"#fdca26\"],[1.0,\"#f0f921\"]]}],\"surface\":[{\"type\":\"surface\",\"colorbar\":{\"outlinewidth\":0,\"ticks\":\"\"},\"colorscale\":[[0.0,\"#0d0887\"],[0.1111111111111111,\"#46039f\"],[0.2222222222222222,\"#7201a8\"],[0.3333333333333333,\"#9c179e\"],[0.4444444444444444,\"#bd3786\"],[0.5555555555555556,\"#d8576b\"],[0.6666666666666666,\"#ed7953\"],[0.7777777777777778,\"#fb9f3a\"],[0.8888888888888888,\"#fdca26\"],[1.0,\"#f0f921\"]]}],\"mesh3d\":[{\"type\":\"mesh3d\",\"colorbar\":{\"outlinewidth\":0,\"ticks\":\"\"}}],\"scatter\":[{\"fillpattern\":{\"fillmode\":\"overlay\",\"size\":10,\"solidity\":0.2},\"type\":\"scatter\"}],\"parcoords\":[{\"type\":\"parcoords\",\"line\":{\"colorbar\":{\"outlinewidth\":0,\"ticks\":\"\"}}}],\"scatterpolargl\":[{\"type\":\"scatterpolargl\",\"marker\":{\"colorbar\":{\"outlinewidth\":0,\"ticks\":\"\"}}}],\"bar\":[{\"error_x\":{\"color\":\"#2a3f5f\"},\"error_y\":{\"color\":\"#2a3f5f\"},\"marker\":{\"line\":{\"color\":\"#E5ECF6\",\"width\":0.5},\"pattern\":{\"fillmode\":\"overlay\",\"size\":10,\"solidity\":0.2}},\"type\":\"bar\"}],\"scattergeo\":[{\"type\":\"scattergeo\",\"marker\":{\"colorbar\":{\"outlinewidth\":0,\"ticks\":\"\"}}}],\"scatterpolar\":[{\"type\":\"scatterpolar\",\"marker\":{\"colorbar\":{\"outlinewidth\":0,\"ticks\":\"\"}}}],\"histogram\":[{\"marker\":{\"pattern\":{\"fillmode\":\"overlay\",\"size\":10,\"solidity\":0.2}},\"type\":\"histogram\"}],\"scattergl\":[{\"type\":\"scattergl\",\"marker\":{\"colorbar\":{\"outlinewidth\":0,\"ticks\":\"\"}}}],\"scatter3d\":[{\"type\":\"scatter3d\",\"line\":{\"colorbar\":{\"outlinewidth\":0,\"ticks\":\"\"}},\"marker\":{\"colorbar\":{\"outlinewidth\":0,\"ticks\":\"\"}}}],\"scattermapbox\":[{\"type\":\"scattermapbox\",\"marker\":{\"colorbar\":{\"outlinewidth\":0,\"ticks\":\"\"}}}],\"scatterternary\":[{\"type\":\"scatterternary\",\"marker\":{\"colorbar\":{\"outlinewidth\":0,\"ticks\":\"\"}}}],\"scattercarpet\":[{\"type\":\"scattercarpet\",\"marker\":{\"colorbar\":{\"outlinewidth\":0,\"ticks\":\"\"}}}],\"carpet\":[{\"aaxis\":{\"endlinecolor\":\"#2a3f5f\",\"gridcolor\":\"white\",\"linecolor\":\"white\",\"minorgridcolor\":\"white\",\"startlinecolor\":\"#2a3f5f\"},\"baxis\":{\"endlinecolor\":\"#2a3f5f\",\"gridcolor\":\"white\",\"linecolor\":\"white\",\"minorgridcolor\":\"white\",\"startlinecolor\":\"#2a3f5f\"},\"type\":\"carpet\"}],\"table\":[{\"cells\":{\"fill\":{\"color\":\"#EBF0F8\"},\"line\":{\"color\":\"white\"}},\"header\":{\"fill\":{\"color\":\"#C8D4E3\"},\"line\":{\"color\":\"white\"}},\"type\":\"table\"}],\"barpolar\":[{\"marker\":{\"line\":{\"color\":\"#E5ECF6\",\"width\":0.5},\"pattern\":{\"fillmode\":\"overlay\",\"size\":10,\"solidity\":0.2}},\"type\":\"barpolar\"}],\"pie\":[{\"automargin\":true,\"type\":\"pie\"}]},\"layout\":{\"autotypenumbers\":\"strict\",\"colorway\":[\"#636efa\",\"#EF553B\",\"#00cc96\",\"#ab63fa\",\"#FFA15A\",\"#19d3f3\",\"#FF6692\",\"#B6E880\",\"#FF97FF\",\"#FECB52\"],\"font\":{\"color\":\"#2a3f5f\"},\"hovermode\":\"closest\",\"hoverlabel\":{\"align\":\"left\"},\"paper_bgcolor\":\"white\",\"plot_bgcolor\":\"#E5ECF6\",\"polar\":{\"bgcolor\":\"#E5ECF6\",\"angularaxis\":{\"gridcolor\":\"white\",\"linecolor\":\"white\",\"ticks\":\"\"},\"radialaxis\":{\"gridcolor\":\"white\",\"linecolor\":\"white\",\"ticks\":\"\"}},\"ternary\":{\"bgcolor\":\"#E5ECF6\",\"aaxis\":{\"gridcolor\":\"white\",\"linecolor\":\"white\",\"ticks\":\"\"},\"baxis\":{\"gridcolor\":\"white\",\"linecolor\":\"white\",\"ticks\":\"\"},\"caxis\":{\"gridcolor\":\"white\",\"linecolor\":\"white\",\"ticks\":\"\"}},\"coloraxis\":{\"colorbar\":{\"outlinewidth\":0,\"ticks\":\"\"}},\"colorscale\":{\"sequential\":[[0.0,\"#0d0887\"],[0.1111111111111111,\"#46039f\"],[0.2222222222222222,\"#7201a8\"],[0.3333333333333333,\"#9c179e\"],[0.4444444444444444,\"#bd3786\"],[0.5555555555555556,\"#d8576b\"],[0.6666666666666666,\"#ed7953\"],[0.7777777777777778,\"#fb9f3a\"],[0.8888888888888888,\"#fdca26\"],[1.0,\"#f0f921\"]],\"sequentialminus\":[[0.0,\"#0d0887\"],[0.1111111111111111,\"#46039f\"],[0.2222222222222222,\"#7201a8\"],[0.3333333333333333,\"#9c179e\"],[0.4444444444444444,\"#bd3786\"],[0.5555555555555556,\"#d8576b\"],[0.6666666666666666,\"#ed7953\"],[0.7777777777777778,\"#fb9f3a\"],[0.8888888888888888,\"#fdca26\"],[1.0,\"#f0f921\"]],\"diverging\":[[0,\"#8e0152\"],[0.1,\"#c51b7d\"],[0.2,\"#de77ae\"],[0.3,\"#f1b6da\"],[0.4,\"#fde0ef\"],[0.5,\"#f7f7f7\"],[0.6,\"#e6f5d0\"],[0.7,\"#b8e186\"],[0.8,\"#7fbc41\"],[0.9,\"#4d9221\"],[1,\"#276419\"]]},\"xaxis\":{\"gridcolor\":\"white\",\"linecolor\":\"white\",\"ticks\":\"\",\"title\":{\"standoff\":15},\"zerolinecolor\":\"white\",\"automargin\":true,\"zerolinewidth\":2},\"yaxis\":{\"gridcolor\":\"white\",\"linecolor\":\"white\",\"ticks\":\"\",\"title\":{\"standoff\":15},\"zerolinecolor\":\"white\",\"automargin\":true,\"zerolinewidth\":2},\"scene\":{\"xaxis\":{\"backgroundcolor\":\"#E5ECF6\",\"gridcolor\":\"white\",\"linecolor\":\"white\",\"showbackground\":true,\"ticks\":\"\",\"zerolinecolor\":\"white\",\"gridwidth\":2},\"yaxis\":{\"backgroundcolor\":\"#E5ECF6\",\"gridcolor\":\"white\",\"linecolor\":\"white\",\"showbackground\":true,\"ticks\":\"\",\"zerolinecolor\":\"white\",\"gridwidth\":2},\"zaxis\":{\"backgroundcolor\":\"#E5ECF6\",\"gridcolor\":\"white\",\"linecolor\":\"white\",\"showbackground\":true,\"ticks\":\"\",\"zerolinecolor\":\"white\",\"gridwidth\":2}},\"shapedefaults\":{\"line\":{\"color\":\"#2a3f5f\"}},\"annotationdefaults\":{\"arrowcolor\":\"#2a3f5f\",\"arrowhead\":0,\"arrowwidth\":1},\"geo\":{\"bgcolor\":\"white\",\"landcolor\":\"#E5ECF6\",\"subunitcolor\":\"white\",\"showland\":true,\"showlakes\":true,\"lakecolor\":\"white\"},\"title\":{\"x\":0.05},\"mapbox\":{\"style\":\"light\"}}},\"legend\":{\"tracegroupgap\":0},\"title\":{\"text\":\"\\u0421\\u043e\\u043e\\u0442\\u043d\\u043e\\u0448\\u0435\\u043d\\u0438\\u0435 \\u043f\\u043e\\u043b\\u043e\\u0432 \\u0432\\u044b\\u043f\\u0443\\u0441\\u043a\\u043d\\u0438\\u043a\\u043e\\u0432\"}},                        {\"responsive\": true}                    ).then(function(){\n",
              "                            \n",
              "var gd = document.getElementById('cc717841-cb81-4804-b3d9-ffa05269027d');\n",
              "var x = new MutationObserver(function (mutations, observer) {{\n",
              "        var display = window.getComputedStyle(gd).display;\n",
              "        if (!display || display === 'none') {{\n",
              "            console.log([gd, 'removed!']);\n",
              "            Plotly.purge(gd);\n",
              "            observer.disconnect();\n",
              "        }}\n",
              "}});\n",
              "\n",
              "// Listen for the removal of the full notebook cells\n",
              "var notebookContainer = gd.closest('#notebook-container');\n",
              "if (notebookContainer) {{\n",
              "    x.observe(notebookContainer, {childList: true});\n",
              "}}\n",
              "\n",
              "// Listen for the clearing of the current output cell\n",
              "var outputEl = gd.closest('.output');\n",
              "if (outputEl) {{\n",
              "    x.observe(outputEl, {childList: true});\n",
              "}}\n",
              "\n",
              "                        })                };                            </script>        </div>\n",
              "</body>\n",
              "</html>"
            ]
          },
          "metadata": {}
        }
      ]
    },
    {
      "cell_type": "markdown",
      "source": [
        "**Вывод:**\n",
        "\n",
        "Диаграмма показывает, что большая часть выпускников из выборки (вне зависимости от пола) выбирала STEM (естественные науки и технологии) в качестве ведущего предмета. Расхождения заметны только в нескольких процентах: мужчины выбирают эту дисциплину в 89.2% случаев, женщины - 80.1%, другой пол - 80.4%. Таким образом, мужчины выбирают STEM чаще других групп приблизительно на 9%.\n",
        "\n",
        "Женщины предпочитают гуманитарные науки (Humanities) в 10.2% случаев, что больше, чем показатели другого пола (5.59%) и значительно больше, чем показатели мужчин (3.77%).\n",
        "\n",
        "Прочие предметы непопулярны в качестве ведущей дисциплины у всех полов. Выделить среди них можно разве что искусства (Arts) и другие предметы (Other), которые другой пол выбирает чаще (4.9%), чем мужчины и женщины (1.41% - 3.11%).\n",
        "\n",
        "Судя по полученным результатам, мы работаем с данными о выпускниках университета, который специализируется в технических и естественнонаучных предметах.\n",
        "\n",
        "Это предположение привело нас к новому вопросу: каково соотношение полов в выборке. Диаграмма показала, что на 90.2% датасет состоит из информации о мужчинах, на 8.45% - о женщинах и на 1.3% - о представителях другого пола/полов. Это открытие приводит на к следующему выводу: в данный университет, который приоритизирует предметы STEM, в большинстве случаев поступают/подают заявление мужчины."
      ],
      "metadata": {
        "id": "Y92nOUAh_dNV"
      }
    },
    {
      "cell_type": "markdown",
      "source": [
        "###Задача 3. Какие города самые \"образованные\"? Как уровень развития города соотносится с уровнем образования?"
      ],
      "metadata": {
        "id": "ZkwnabbCiMTM"
      }
    },
    {
      "cell_type": "code",
      "execution_count": null,
      "metadata": {
        "id": "KYaRhhU_SbX2"
      },
      "outputs": [],
      "source": [
        "city_educ = pd.concat([data['city'], data['city_development_index'], data['education_level']], axis=1).dropna() #извлекаем нужные столбцы, соединяем их и убираем все строки, где пропущено хотя бы 1 значение\n",
        "city_educ = city_educ.groupby(['city', 'city_development_index', 'education_level'], as_index=False).size()"
      ]
    },
    {
      "cell_type": "code",
      "source": [
        "fig = px.scatter(city_educ, x='city', y=\"city_development_index\", #ось x - названия города, ось y - индекс развития города\n",
        "                 size= city_educ.iloc[:, 3], color=\"education_level\") #цвет бабла - уровень образования, размер бабла - количество людей\n",
        "\n",
        "fig.update_layout(title=\"Уровень образования в разных городах\",\n",
        "                  xaxis_title=\"город\",\n",
        "                  yaxis_title=\"индекс развития города\")\n",
        "\n",
        "fig.show(bbox_inches='tight')"
      ],
      "metadata": {
        "colab": {
          "base_uri": "https://localhost:8080/",
          "height": 542
        },
        "id": "ba2qcd0qiDfj",
        "outputId": "a2a61649-415e-4994-f47b-224a03f3c84e"
      },
      "execution_count": null,
      "outputs": [
        {
          "output_type": "display_data",
          "data": {
            "text/html": [
              "<html>\n",
              "<head><meta charset=\"utf-8\" /></head>\n",
              "<body>\n",
              "    <div>            <script src=\"https://cdnjs.cloudflare.com/ajax/libs/mathjax/2.7.5/MathJax.js?config=TeX-AMS-MML_SVG\"></script><script type=\"text/javascript\">if (window.MathJax && window.MathJax.Hub && window.MathJax.Hub.Config) {window.MathJax.Hub.Config({SVG: {font: \"STIX-Web\"}});}</script>                <script type=\"text/javascript\">window.PlotlyConfig = {MathJaxConfig: 'local'};</script>\n",
              "        <script src=\"https://cdn.plot.ly/plotly-2.18.2.min.js\"></script>                <div id=\"c9d95738-6905-4862-a0d0-43f3ce2c0a83\" class=\"plotly-graph-div\" style=\"height:525px; width:100%;\"></div>            <script type=\"text/javascript\">                                    window.PLOTLYENV=window.PLOTLYENV || {};                                    if (document.getElementById(\"c9d95738-6905-4862-a0d0-43f3ce2c0a83\")) {                    Plotly.newPlot(                        \"c9d95738-6905-4862-a0d0-43f3ce2c0a83\",                        [{\"hovertemplate\":\"education_level=Graduate<br>city=%{x}<br>city_development_index=%{y}<br>size=%{marker.size}<extra></extra>\",\"legendgroup\":\"Graduate\",\"marker\":{\"color\":\"#636efa\",\"size\":[15,4,11,5,36,182,9,20,14,949,4,102,13,1767,119,20,4,11,32,67,15,2,12,76,9,6,40,47,8,11,10,63,90,10,61,20,9,9,53,10,105,4,89,115,187,14,33,140,13,176,78,198,30,16,22,2,9,6,4,76,15,47,119,34,10,19,49,39,64,129,58,144,3109,167,43,5,2,5,2,516,46,48,8,15,4,1,50,8,3,59,1,7,9,11,169,61,3,13,35,28,22,51,7,69,35,31,12,12,40,56,624,79,44,2,7,1,53,12,16,2,6],\"sizemode\":\"area\",\"sizeref\":7.7725,\"symbol\":\"circle\"},\"mode\":\"markers\",\"name\":\"Graduate\",\"orientation\":\"v\",\"showlegend\":true,\"x\":[1,2,7,9,10,11,12,13,14,16,18,19,20,21,23,24,25,26,27,28,30,31,33,36,37,39,40,41,42,43,44,45,46,48,50,53,54,55,57,59,61,62,64,65,67,69,70,71,72,73,74,75,76,77,78,79,80,81,82,83,84,89,90,91,93,94,97,98,99,100,101,102,103,104,105,106,107,109,111,114,115,116,117,118,120,121,123,126,127,128,129,131,133,134,136,138,139,141,142,143,144,145,146,149,150,152,155,157,158,159,160,162,165,166,167,171,173,175,176,179,180],\"xaxis\":\"x\",\"y\":[0.847,0.7879999999999999,0.647,0.743,0.895,0.55,0.64,0.8270000000000001,0.698,0.91,0.8240000000000001,0.682,0.7959999999999999,0.624,0.899,0.698,0.698,0.698,0.848,0.939,0.698,0.807,0.4479999999999999,0.893,0.794,0.898,0.7759999999999999,0.8270000000000001,0.563,0.516,0.725,0.89,0.762,0.493,0.8959999999999999,0.74,0.856,0.7390000000000001,0.866,0.775,0.913,0.645,0.6659999999999999,0.802,0.855,0.856,0.698,0.884,0.795,0.754,0.579,0.939,0.698,0.83,0.579,0.698,0.847,0.73,0.693,0.923,0.698,0.925,0.698,0.691,0.865,0.698,0.925,0.949,0.915,0.887,0.5579999999999999,0.804,0.92,0.924,0.794,0.698,0.518,0.701,0.698,0.926,0.789,0.743,0.698,0.722,0.78,0.7809999999999999,0.738,0.479,0.745,0.527,0.625,0.68,0.742,0.698,0.897,0.836,0.487,0.763,0.727,0.74,0.84,0.555,0.735,0.6890000000000001,0.698,0.698,0.556,0.769,0.7659999999999999,0.843,0.92,0.767,0.903,0.649,0.921,0.664,0.878,0.7759999999999999,0.764,0.512,0.698],\"yaxis\":\"y\",\"type\":\"scatter\"},{\"hovertemplate\":\"education_level=High School<br>city=%{x}<br>city_development_index=%{y}<br>size=%{marker.size}<extra></extra>\",\"legendgroup\":\"High School\",\"marker\":{\"color\":\"#EF553B\",\"size\":[2,1,1,1,1,10,15,3,6,4,157,10,4,221,30,18,6,8,48,3,2,30,2,1,9,20,1,23,9,2,21,1,1,2,11,23,9,24,68,1,5,12,4,53,11,31,2,3,4,1,2,11,3,8,15,6,6,3,7,9,13,73,9,26,235,49,10,1,1,291,3,12,2,7,7,4,1,22,8,19,16,1,5,2,3,1,5,16,8,8,2,4,12,75,17,6,1,2,32,2,1],\"sizemode\":\"area\",\"sizeref\":7.7725,\"symbol\":\"circle\"},\"mode\":\"markers\",\"name\":\"High School\",\"orientation\":\"v\",\"showlegend\":true,\"x\":[1,2,7,8,9,10,11,12,13,14,16,19,20,21,23,24,26,27,28,30,33,36,37,39,40,41,42,45,46,48,50,53,54,55,57,61,64,65,67,69,70,71,72,73,74,75,76,77,78,79,80,83,84,89,90,91,93,94,97,98,99,100,101,102,103,104,105,106,111,114,115,116,117,118,123,126,127,128,134,136,138,140,141,142,143,144,145,149,150,152,157,158,159,160,162,165,166,167,173,176,179],\"xaxis\":\"x\",\"y\":[0.847,0.7879999999999999,0.647,0.698,0.743,0.895,0.55,0.64,0.8270000000000001,0.698,0.91,0.682,0.7959999999999999,0.624,0.899,0.698,0.698,0.848,0.939,0.698,0.4479999999999999,0.893,0.794,0.898,0.7759999999999999,0.8270000000000001,0.563,0.89,0.762,0.493,0.8959999999999999,0.74,0.856,0.7390000000000001,0.866,0.913,0.6659999999999999,0.802,0.855,0.856,0.698,0.884,0.795,0.754,0.579,0.939,0.698,0.83,0.579,0.698,0.847,0.923,0.698,0.925,0.698,0.691,0.865,0.698,0.925,0.949,0.915,0.887,0.5579999999999999,0.804,0.92,0.924,0.794,0.698,0.698,0.926,0.789,0.743,0.698,0.722,0.738,0.479,0.745,0.527,0.698,0.897,0.836,0.856,0.763,0.727,0.74,0.84,0.555,0.6890000000000001,0.698,0.698,0.769,0.7659999999999999,0.843,0.92,0.767,0.903,0.649,0.921,0.878,0.764,0.512],\"yaxis\":\"y\",\"type\":\"scatter\"},{\"hovertemplate\":\"education_level=Masters<br>city=%{x}<br>city_development_index=%{y}<br>size=%{marker.size}<extra></extra>\",\"legendgroup\":\"Masters\",\"marker\":{\"color\":\"#00cc96\",\"size\":[8,2,15,1,8,29,39,1,20,9,314,5,7,620,22,20,5,6,60,2,2,3,46,2,4,17,16,1,7,24,24,49,4,3,3,32,50,1,9,29,153,2,97,2,43,10,45,15,7,2,3,48,6,11,50,3,8,3,33,29,12,56,5,107,745,58,23,2,2,2,442,2,62,1,4,1,2,17,3,5,10,1,2,1,9,347,33,2,9,14,7,4,5,1,5,10,10,2,8,4,22,106,25,22,1,51,1,6,2,1],\"sizemode\":\"area\",\"sizeref\":7.7725,\"symbol\":\"circle\"},\"mode\":\"markers\",\"name\":\"Masters\",\"orientation\":\"v\",\"showlegend\":true,\"x\":[1,2,7,8,9,10,11,12,13,14,16,19,20,21,23,24,26,27,28,30,31,33,36,37,39,40,41,42,44,45,46,50,53,54,55,57,61,62,64,65,67,69,71,72,73,74,75,76,77,78,79,83,84,89,90,91,93,94,97,98,99,100,101,102,103,104,105,106,107,109,114,115,116,117,118,120,121,123,126,127,128,129,131,133,134,136,138,139,141,142,143,144,145,146,149,150,152,155,157,158,159,160,162,165,167,173,175,176,179,180],\"xaxis\":\"x\",\"y\":[0.847,0.7879999999999999,0.647,0.698,0.743,0.895,0.55,0.64,0.8270000000000001,0.698,0.91,0.682,0.7959999999999999,0.624,0.899,0.698,0.698,0.848,0.939,0.698,0.807,0.4479999999999999,0.893,0.794,0.898,0.7759999999999999,0.8270000000000001,0.563,0.725,0.89,0.762,0.8959999999999999,0.74,0.856,0.7390000000000001,0.866,0.913,0.645,0.6659999999999999,0.802,0.855,0.856,0.884,0.795,0.754,0.579,0.939,0.698,0.83,0.579,0.698,0.923,0.698,0.925,0.698,0.691,0.865,0.698,0.925,0.949,0.915,0.887,0.5579999999999999,0.804,0.92,0.924,0.794,0.698,0.518,0.701,0.926,0.789,0.743,0.698,0.722,0.78,0.7809999999999999,0.738,0.479,0.745,0.527,0.625,0.68,0.742,0.698,0.897,0.836,0.487,0.763,0.727,0.74,0.84,0.555,0.735,0.6890000000000001,0.698,0.698,0.556,0.769,0.7659999999999999,0.843,0.92,0.767,0.903,0.921,0.878,0.7759999999999999,0.764,0.512,0.698],\"yaxis\":\"y\",\"type\":\"scatter\"},{\"hovertemplate\":\"education_level=Primary School<br>city=%{x}<br>city_development_index=%{y}<br>size=%{marker.size}<extra></extra>\",\"legendgroup\":\"Primary School\",\"marker\":{\"color\":\"#ab63fa\",\"size\":[3,2,6,1,28,1,4,21,6,1,1,2,4,1,1,3,4,1,7,2,5,1,3,1,12,4,1,1,1,3,1,1,1,6,1,2,1,9,87,6,1,8,1,2,3,3,6,1,5,2,1,1,18,2,1,7],\"sizemode\":\"area\",\"sizeref\":7.7725,\"symbol\":\"circle\"},\"mode\":\"markers\",\"name\":\"Primary School\",\"orientation\":\"v\",\"showlegend\":true,\"x\":[9,10,11,14,16,19,20,21,23,24,26,28,36,44,45,50,61,64,67,70,71,72,73,74,75,77,78,80,81,83,90,91,93,97,99,100,101,102,103,104,109,114,115,116,126,136,138,142,149,150,152,159,160,162,165,173],\"xaxis\":\"x\",\"y\":[0.743,0.895,0.55,0.698,0.91,0.682,0.7959999999999999,0.624,0.899,0.698,0.698,0.939,0.893,0.725,0.89,0.8959999999999999,0.913,0.6659999999999999,0.855,0.698,0.884,0.795,0.754,0.579,0.939,0.83,0.579,0.847,0.73,0.923,0.698,0.691,0.865,0.925,0.915,0.887,0.5579999999999999,0.804,0.92,0.924,0.701,0.926,0.789,0.743,0.479,0.897,0.836,0.727,0.6890000000000001,0.698,0.698,0.843,0.92,0.767,0.903,0.878],\"yaxis\":\"y\",\"type\":\"scatter\"},{\"hovertemplate\":\"education_level=Phd<br>city=%{x}<br>city_development_index=%{y}<br>size=%{marker.size}<extra></extra>\",\"legendgroup\":\"Phd\",\"marker\":{\"color\":\"#FFA15A\",\"size\":[6,1,52,6,1,13,2,2,1,1,3,1,4,1,1,5,10,2,4,8,7,2,12,1,4,1,2,1,5,1,4,9,10,104,11,1,2,46,2,2,1,3,3,1,1,27,2,1,1,4,2,8,1,3,4,1],\"sizemode\":\"area\",\"sizeref\":7.7725,\"symbol\":\"circle\"},\"mode\":\"markers\",\"name\":\"Phd\",\"orientation\":\"v\",\"showlegend\":true,\"x\":[10,13,16,21,24,28,36,41,42,45,46,48,50,53,54,57,61,64,65,67,71,73,75,76,83,89,90,94,97,98,99,100,102,103,104,106,107,114,115,116,117,123,126,127,134,136,138,143,144,150,159,160,162,165,173,175],\"xaxis\":\"x\",\"y\":[0.895,0.8270000000000001,0.91,0.624,0.698,0.939,0.893,0.8270000000000001,0.563,0.89,0.762,0.493,0.8959999999999999,0.74,0.856,0.866,0.913,0.6659999999999999,0.802,0.855,0.884,0.754,0.939,0.698,0.923,0.925,0.698,0.698,0.925,0.949,0.915,0.887,0.804,0.92,0.924,0.698,0.518,0.926,0.789,0.743,0.698,0.738,0.479,0.745,0.698,0.897,0.836,0.74,0.84,0.698,0.843,0.92,0.767,0.903,0.878,0.7759999999999999],\"yaxis\":\"y\",\"type\":\"scatter\"}],                        {\"template\":{\"data\":{\"histogram2dcontour\":[{\"type\":\"histogram2dcontour\",\"colorbar\":{\"outlinewidth\":0,\"ticks\":\"\"},\"colorscale\":[[0.0,\"#0d0887\"],[0.1111111111111111,\"#46039f\"],[0.2222222222222222,\"#7201a8\"],[0.3333333333333333,\"#9c179e\"],[0.4444444444444444,\"#bd3786\"],[0.5555555555555556,\"#d8576b\"],[0.6666666666666666,\"#ed7953\"],[0.7777777777777778,\"#fb9f3a\"],[0.8888888888888888,\"#fdca26\"],[1.0,\"#f0f921\"]]}],\"choropleth\":[{\"type\":\"choropleth\",\"colorbar\":{\"outlinewidth\":0,\"ticks\":\"\"}}],\"histogram2d\":[{\"type\":\"histogram2d\",\"colorbar\":{\"outlinewidth\":0,\"ticks\":\"\"},\"colorscale\":[[0.0,\"#0d0887\"],[0.1111111111111111,\"#46039f\"],[0.2222222222222222,\"#7201a8\"],[0.3333333333333333,\"#9c179e\"],[0.4444444444444444,\"#bd3786\"],[0.5555555555555556,\"#d8576b\"],[0.6666666666666666,\"#ed7953\"],[0.7777777777777778,\"#fb9f3a\"],[0.8888888888888888,\"#fdca26\"],[1.0,\"#f0f921\"]]}],\"heatmap\":[{\"type\":\"heatmap\",\"colorbar\":{\"outlinewidth\":0,\"ticks\":\"\"},\"colorscale\":[[0.0,\"#0d0887\"],[0.1111111111111111,\"#46039f\"],[0.2222222222222222,\"#7201a8\"],[0.3333333333333333,\"#9c179e\"],[0.4444444444444444,\"#bd3786\"],[0.5555555555555556,\"#d8576b\"],[0.6666666666666666,\"#ed7953\"],[0.7777777777777778,\"#fb9f3a\"],[0.8888888888888888,\"#fdca26\"],[1.0,\"#f0f921\"]]}],\"heatmapgl\":[{\"type\":\"heatmapgl\",\"colorbar\":{\"outlinewidth\":0,\"ticks\":\"\"},\"colorscale\":[[0.0,\"#0d0887\"],[0.1111111111111111,\"#46039f\"],[0.2222222222222222,\"#7201a8\"],[0.3333333333333333,\"#9c179e\"],[0.4444444444444444,\"#bd3786\"],[0.5555555555555556,\"#d8576b\"],[0.6666666666666666,\"#ed7953\"],[0.7777777777777778,\"#fb9f3a\"],[0.8888888888888888,\"#fdca26\"],[1.0,\"#f0f921\"]]}],\"contourcarpet\":[{\"type\":\"contourcarpet\",\"colorbar\":{\"outlinewidth\":0,\"ticks\":\"\"}}],\"contour\":[{\"type\":\"contour\",\"colorbar\":{\"outlinewidth\":0,\"ticks\":\"\"},\"colorscale\":[[0.0,\"#0d0887\"],[0.1111111111111111,\"#46039f\"],[0.2222222222222222,\"#7201a8\"],[0.3333333333333333,\"#9c179e\"],[0.4444444444444444,\"#bd3786\"],[0.5555555555555556,\"#d8576b\"],[0.6666666666666666,\"#ed7953\"],[0.7777777777777778,\"#fb9f3a\"],[0.8888888888888888,\"#fdca26\"],[1.0,\"#f0f921\"]]}],\"surface\":[{\"type\":\"surface\",\"colorbar\":{\"outlinewidth\":0,\"ticks\":\"\"},\"colorscale\":[[0.0,\"#0d0887\"],[0.1111111111111111,\"#46039f\"],[0.2222222222222222,\"#7201a8\"],[0.3333333333333333,\"#9c179e\"],[0.4444444444444444,\"#bd3786\"],[0.5555555555555556,\"#d8576b\"],[0.6666666666666666,\"#ed7953\"],[0.7777777777777778,\"#fb9f3a\"],[0.8888888888888888,\"#fdca26\"],[1.0,\"#f0f921\"]]}],\"mesh3d\":[{\"type\":\"mesh3d\",\"colorbar\":{\"outlinewidth\":0,\"ticks\":\"\"}}],\"scatter\":[{\"fillpattern\":{\"fillmode\":\"overlay\",\"size\":10,\"solidity\":0.2},\"type\":\"scatter\"}],\"parcoords\":[{\"type\":\"parcoords\",\"line\":{\"colorbar\":{\"outlinewidth\":0,\"ticks\":\"\"}}}],\"scatterpolargl\":[{\"type\":\"scatterpolargl\",\"marker\":{\"colorbar\":{\"outlinewidth\":0,\"ticks\":\"\"}}}],\"bar\":[{\"error_x\":{\"color\":\"#2a3f5f\"},\"error_y\":{\"color\":\"#2a3f5f\"},\"marker\":{\"line\":{\"color\":\"#E5ECF6\",\"width\":0.5},\"pattern\":{\"fillmode\":\"overlay\",\"size\":10,\"solidity\":0.2}},\"type\":\"bar\"}],\"scattergeo\":[{\"type\":\"scattergeo\",\"marker\":{\"colorbar\":{\"outlinewidth\":0,\"ticks\":\"\"}}}],\"scatterpolar\":[{\"type\":\"scatterpolar\",\"marker\":{\"colorbar\":{\"outlinewidth\":0,\"ticks\":\"\"}}}],\"histogram\":[{\"marker\":{\"pattern\":{\"fillmode\":\"overlay\",\"size\":10,\"solidity\":0.2}},\"type\":\"histogram\"}],\"scattergl\":[{\"type\":\"scattergl\",\"marker\":{\"colorbar\":{\"outlinewidth\":0,\"ticks\":\"\"}}}],\"scatter3d\":[{\"type\":\"scatter3d\",\"line\":{\"colorbar\":{\"outlinewidth\":0,\"ticks\":\"\"}},\"marker\":{\"colorbar\":{\"outlinewidth\":0,\"ticks\":\"\"}}}],\"scattermapbox\":[{\"type\":\"scattermapbox\",\"marker\":{\"colorbar\":{\"outlinewidth\":0,\"ticks\":\"\"}}}],\"scatterternary\":[{\"type\":\"scatterternary\",\"marker\":{\"colorbar\":{\"outlinewidth\":0,\"ticks\":\"\"}}}],\"scattercarpet\":[{\"type\":\"scattercarpet\",\"marker\":{\"colorbar\":{\"outlinewidth\":0,\"ticks\":\"\"}}}],\"carpet\":[{\"aaxis\":{\"endlinecolor\":\"#2a3f5f\",\"gridcolor\":\"white\",\"linecolor\":\"white\",\"minorgridcolor\":\"white\",\"startlinecolor\":\"#2a3f5f\"},\"baxis\":{\"endlinecolor\":\"#2a3f5f\",\"gridcolor\":\"white\",\"linecolor\":\"white\",\"minorgridcolor\":\"white\",\"startlinecolor\":\"#2a3f5f\"},\"type\":\"carpet\"}],\"table\":[{\"cells\":{\"fill\":{\"color\":\"#EBF0F8\"},\"line\":{\"color\":\"white\"}},\"header\":{\"fill\":{\"color\":\"#C8D4E3\"},\"line\":{\"color\":\"white\"}},\"type\":\"table\"}],\"barpolar\":[{\"marker\":{\"line\":{\"color\":\"#E5ECF6\",\"width\":0.5},\"pattern\":{\"fillmode\":\"overlay\",\"size\":10,\"solidity\":0.2}},\"type\":\"barpolar\"}],\"pie\":[{\"automargin\":true,\"type\":\"pie\"}]},\"layout\":{\"autotypenumbers\":\"strict\",\"colorway\":[\"#636efa\",\"#EF553B\",\"#00cc96\",\"#ab63fa\",\"#FFA15A\",\"#19d3f3\",\"#FF6692\",\"#B6E880\",\"#FF97FF\",\"#FECB52\"],\"font\":{\"color\":\"#2a3f5f\"},\"hovermode\":\"closest\",\"hoverlabel\":{\"align\":\"left\"},\"paper_bgcolor\":\"white\",\"plot_bgcolor\":\"#E5ECF6\",\"polar\":{\"bgcolor\":\"#E5ECF6\",\"angularaxis\":{\"gridcolor\":\"white\",\"linecolor\":\"white\",\"ticks\":\"\"},\"radialaxis\":{\"gridcolor\":\"white\",\"linecolor\":\"white\",\"ticks\":\"\"}},\"ternary\":{\"bgcolor\":\"#E5ECF6\",\"aaxis\":{\"gridcolor\":\"white\",\"linecolor\":\"white\",\"ticks\":\"\"},\"baxis\":{\"gridcolor\":\"white\",\"linecolor\":\"white\",\"ticks\":\"\"},\"caxis\":{\"gridcolor\":\"white\",\"linecolor\":\"white\",\"ticks\":\"\"}},\"coloraxis\":{\"colorbar\":{\"outlinewidth\":0,\"ticks\":\"\"}},\"colorscale\":{\"sequential\":[[0.0,\"#0d0887\"],[0.1111111111111111,\"#46039f\"],[0.2222222222222222,\"#7201a8\"],[0.3333333333333333,\"#9c179e\"],[0.4444444444444444,\"#bd3786\"],[0.5555555555555556,\"#d8576b\"],[0.6666666666666666,\"#ed7953\"],[0.7777777777777778,\"#fb9f3a\"],[0.8888888888888888,\"#fdca26\"],[1.0,\"#f0f921\"]],\"sequentialminus\":[[0.0,\"#0d0887\"],[0.1111111111111111,\"#46039f\"],[0.2222222222222222,\"#7201a8\"],[0.3333333333333333,\"#9c179e\"],[0.4444444444444444,\"#bd3786\"],[0.5555555555555556,\"#d8576b\"],[0.6666666666666666,\"#ed7953\"],[0.7777777777777778,\"#fb9f3a\"],[0.8888888888888888,\"#fdca26\"],[1.0,\"#f0f921\"]],\"diverging\":[[0,\"#8e0152\"],[0.1,\"#c51b7d\"],[0.2,\"#de77ae\"],[0.3,\"#f1b6da\"],[0.4,\"#fde0ef\"],[0.5,\"#f7f7f7\"],[0.6,\"#e6f5d0\"],[0.7,\"#b8e186\"],[0.8,\"#7fbc41\"],[0.9,\"#4d9221\"],[1,\"#276419\"]]},\"xaxis\":{\"gridcolor\":\"white\",\"linecolor\":\"white\",\"ticks\":\"\",\"title\":{\"standoff\":15},\"zerolinecolor\":\"white\",\"automargin\":true,\"zerolinewidth\":2},\"yaxis\":{\"gridcolor\":\"white\",\"linecolor\":\"white\",\"ticks\":\"\",\"title\":{\"standoff\":15},\"zerolinecolor\":\"white\",\"automargin\":true,\"zerolinewidth\":2},\"scene\":{\"xaxis\":{\"backgroundcolor\":\"#E5ECF6\",\"gridcolor\":\"white\",\"linecolor\":\"white\",\"showbackground\":true,\"ticks\":\"\",\"zerolinecolor\":\"white\",\"gridwidth\":2},\"yaxis\":{\"backgroundcolor\":\"#E5ECF6\",\"gridcolor\":\"white\",\"linecolor\":\"white\",\"showbackground\":true,\"ticks\":\"\",\"zerolinecolor\":\"white\",\"gridwidth\":2},\"zaxis\":{\"backgroundcolor\":\"#E5ECF6\",\"gridcolor\":\"white\",\"linecolor\":\"white\",\"showbackground\":true,\"ticks\":\"\",\"zerolinecolor\":\"white\",\"gridwidth\":2}},\"shapedefaults\":{\"line\":{\"color\":\"#2a3f5f\"}},\"annotationdefaults\":{\"arrowcolor\":\"#2a3f5f\",\"arrowhead\":0,\"arrowwidth\":1},\"geo\":{\"bgcolor\":\"white\",\"landcolor\":\"#E5ECF6\",\"subunitcolor\":\"white\",\"showland\":true,\"showlakes\":true,\"lakecolor\":\"white\"},\"title\":{\"x\":0.05},\"mapbox\":{\"style\":\"light\"}}},\"xaxis\":{\"anchor\":\"y\",\"domain\":[0.0,1.0],\"title\":{\"text\":\"\\u0433\\u043e\\u0440\\u043e\\u0434\"}},\"yaxis\":{\"anchor\":\"x\",\"domain\":[0.0,1.0],\"title\":{\"text\":\"\\u0438\\u043d\\u0434\\u0435\\u043a\\u0441 \\u0440\\u0430\\u0437\\u0432\\u0438\\u0442\\u0438\\u044f \\u0433\\u043e\\u0440\\u043e\\u0434\\u0430\"}},\"legend\":{\"title\":{\"text\":\"education_level\"},\"tracegroupgap\":0,\"itemsizing\":\"constant\"},\"margin\":{\"t\":60},\"title\":{\"text\":\"\\u0423\\u0440\\u043e\\u0432\\u0435\\u043d\\u044c \\u043e\\u0431\\u0440\\u0430\\u0437\\u043e\\u0432\\u0430\\u043d\\u0438\\u044f \\u0432 \\u0440\\u0430\\u0437\\u043d\\u044b\\u0445 \\u0433\\u043e\\u0440\\u043e\\u0434\\u0430\\u0445\"}},                        {\"responsive\": true}                    ).then(function(){\n",
              "                            \n",
              "var gd = document.getElementById('c9d95738-6905-4862-a0d0-43f3ce2c0a83');\n",
              "var x = new MutationObserver(function (mutations, observer) {{\n",
              "        var display = window.getComputedStyle(gd).display;\n",
              "        if (!display || display === 'none') {{\n",
              "            console.log([gd, 'removed!']);\n",
              "            Plotly.purge(gd);\n",
              "            observer.disconnect();\n",
              "        }}\n",
              "}});\n",
              "\n",
              "// Listen for the removal of the full notebook cells\n",
              "var notebookContainer = gd.closest('#notebook-container');\n",
              "if (notebookContainer) {{\n",
              "    x.observe(notebookContainer, {childList: true});\n",
              "}}\n",
              "\n",
              "// Listen for the clearing of the current output cell\n",
              "var outputEl = gd.closest('.output');\n",
              "if (outputEl) {{\n",
              "    x.observe(outputEl, {childList: true});\n",
              "}}\n",
              "\n",
              "                        })                };                            </script>        </div>\n",
              "</body>\n",
              "</html>"
            ]
          },
          "metadata": {}
        }
      ]
    },
    {
      "cell_type": "markdown",
      "source": [
        "Для первичного анализа была выбрана пузырьковая диаграмма, так как она позволяет посмотреть на данные в нескольких измерениях: продемонстрировать одновременно индекс развития города, его название, уровень образования и количество людей с этим уровнем образования.\n",
        "\n",
        "Однако наша диаграмма проиллюстрировала данные не лучшим образом: значительная часть информации не видна, поскольку города в таблице представлены не равномерно, поэтому мы видим только показатели по городам 16, 21, 103, 160. Тем не менее диаграмма не бесполезна - по ней мы делаем вывод о неравномерности репрезентации городов."
      ],
      "metadata": {
        "id": "Z4PrQf43u0kc"
      }
    },
    {
      "cell_type": "code",
      "source": [
        "fig = px.histogram(city_educ, x=\"city_development_index\", color=\"education_level\", histnorm='percent')\n",
        "\n",
        "fig.update_layout(title=\"Уровень образования и индекс развития города\",\n",
        "                  xaxis_title=\"индекс развития города\",\n",
        "                  yaxis_title=\"процент выпускников\")\n",
        "\n",
        "fig.show(bbox_inches='tight') #ось x - индекс развития города, ось y - процент людей, цвет - уровень образования"
      ],
      "metadata": {
        "colab": {
          "base_uri": "https://localhost:8080/",
          "height": 542
        },
        "id": "eqOTeFDOv6yV",
        "outputId": "14a86718-95c6-4fdd-9834-08ead2037a10"
      },
      "execution_count": null,
      "outputs": [
        {
          "output_type": "display_data",
          "data": {
            "text/html": [
              "<html>\n",
              "<head><meta charset=\"utf-8\" /></head>\n",
              "<body>\n",
              "    <div>            <script src=\"https://cdnjs.cloudflare.com/ajax/libs/mathjax/2.7.5/MathJax.js?config=TeX-AMS-MML_SVG\"></script><script type=\"text/javascript\">if (window.MathJax && window.MathJax.Hub && window.MathJax.Hub.Config) {window.MathJax.Hub.Config({SVG: {font: \"STIX-Web\"}});}</script>                <script type=\"text/javascript\">window.PlotlyConfig = {MathJaxConfig: 'local'};</script>\n",
              "        <script src=\"https://cdn.plot.ly/plotly-2.18.2.min.js\"></script>                <div id=\"561d544d-5a8b-495a-9b8c-c0d80a6f9011\" class=\"plotly-graph-div\" style=\"height:525px; width:100%;\"></div>            <script type=\"text/javascript\">                                    window.PLOTLYENV=window.PLOTLYENV || {};                                    if (document.getElementById(\"561d544d-5a8b-495a-9b8c-c0d80a6f9011\")) {                    Plotly.newPlot(                        \"561d544d-5a8b-495a-9b8c-c0d80a6f9011\",                        [{\"alignmentgroup\":\"True\",\"bingroup\":\"x\",\"histnorm\":\"percent\",\"hovertemplate\":\"education_level=Graduate<br>city_development_index=%{x}<br>percent=%{y}<extra></extra>\",\"legendgroup\":\"Graduate\",\"marker\":{\"color\":\"#636efa\",\"pattern\":{\"shape\":\"\"}},\"name\":\"Graduate\",\"offsetgroup\":\"Graduate\",\"orientation\":\"v\",\"showlegend\":true,\"x\":[0.847,0.7879999999999999,0.647,0.743,0.895,0.55,0.64,0.8270000000000001,0.698,0.91,0.8240000000000001,0.682,0.7959999999999999,0.624,0.899,0.698,0.698,0.698,0.848,0.939,0.698,0.807,0.4479999999999999,0.893,0.794,0.898,0.7759999999999999,0.8270000000000001,0.563,0.516,0.725,0.89,0.762,0.493,0.8959999999999999,0.74,0.856,0.7390000000000001,0.866,0.775,0.913,0.645,0.6659999999999999,0.802,0.855,0.856,0.698,0.884,0.795,0.754,0.579,0.939,0.698,0.83,0.579,0.698,0.847,0.73,0.693,0.923,0.698,0.925,0.698,0.691,0.865,0.698,0.925,0.949,0.915,0.887,0.5579999999999999,0.804,0.92,0.924,0.794,0.698,0.518,0.701,0.698,0.926,0.789,0.743,0.698,0.722,0.78,0.7809999999999999,0.738,0.479,0.745,0.527,0.625,0.68,0.742,0.698,0.897,0.836,0.487,0.763,0.727,0.74,0.84,0.555,0.735,0.6890000000000001,0.698,0.698,0.556,0.769,0.7659999999999999,0.843,0.92,0.767,0.903,0.649,0.921,0.664,0.878,0.7759999999999999,0.764,0.512,0.698],\"xaxis\":\"x\",\"yaxis\":\"y\",\"type\":\"histogram\"},{\"alignmentgroup\":\"True\",\"bingroup\":\"x\",\"histnorm\":\"percent\",\"hovertemplate\":\"education_level=High School<br>city_development_index=%{x}<br>percent=%{y}<extra></extra>\",\"legendgroup\":\"High School\",\"marker\":{\"color\":\"#EF553B\",\"pattern\":{\"shape\":\"\"}},\"name\":\"High School\",\"offsetgroup\":\"High School\",\"orientation\":\"v\",\"showlegend\":true,\"x\":[0.847,0.7879999999999999,0.647,0.698,0.743,0.895,0.55,0.64,0.8270000000000001,0.698,0.91,0.682,0.7959999999999999,0.624,0.899,0.698,0.698,0.848,0.939,0.698,0.4479999999999999,0.893,0.794,0.898,0.7759999999999999,0.8270000000000001,0.563,0.89,0.762,0.493,0.8959999999999999,0.74,0.856,0.7390000000000001,0.866,0.913,0.6659999999999999,0.802,0.855,0.856,0.698,0.884,0.795,0.754,0.579,0.939,0.698,0.83,0.579,0.698,0.847,0.923,0.698,0.925,0.698,0.691,0.865,0.698,0.925,0.949,0.915,0.887,0.5579999999999999,0.804,0.92,0.924,0.794,0.698,0.698,0.926,0.789,0.743,0.698,0.722,0.738,0.479,0.745,0.527,0.698,0.897,0.836,0.856,0.763,0.727,0.74,0.84,0.555,0.6890000000000001,0.698,0.698,0.769,0.7659999999999999,0.843,0.92,0.767,0.903,0.649,0.921,0.878,0.764,0.512],\"xaxis\":\"x\",\"yaxis\":\"y\",\"type\":\"histogram\"},{\"alignmentgroup\":\"True\",\"bingroup\":\"x\",\"histnorm\":\"percent\",\"hovertemplate\":\"education_level=Masters<br>city_development_index=%{x}<br>percent=%{y}<extra></extra>\",\"legendgroup\":\"Masters\",\"marker\":{\"color\":\"#00cc96\",\"pattern\":{\"shape\":\"\"}},\"name\":\"Masters\",\"offsetgroup\":\"Masters\",\"orientation\":\"v\",\"showlegend\":true,\"x\":[0.847,0.7879999999999999,0.647,0.698,0.743,0.895,0.55,0.64,0.8270000000000001,0.698,0.91,0.682,0.7959999999999999,0.624,0.899,0.698,0.698,0.848,0.939,0.698,0.807,0.4479999999999999,0.893,0.794,0.898,0.7759999999999999,0.8270000000000001,0.563,0.725,0.89,0.762,0.8959999999999999,0.74,0.856,0.7390000000000001,0.866,0.913,0.645,0.6659999999999999,0.802,0.855,0.856,0.884,0.795,0.754,0.579,0.939,0.698,0.83,0.579,0.698,0.923,0.698,0.925,0.698,0.691,0.865,0.698,0.925,0.949,0.915,0.887,0.5579999999999999,0.804,0.92,0.924,0.794,0.698,0.518,0.701,0.926,0.789,0.743,0.698,0.722,0.78,0.7809999999999999,0.738,0.479,0.745,0.527,0.625,0.68,0.742,0.698,0.897,0.836,0.487,0.763,0.727,0.74,0.84,0.555,0.735,0.6890000000000001,0.698,0.698,0.556,0.769,0.7659999999999999,0.843,0.92,0.767,0.903,0.921,0.878,0.7759999999999999,0.764,0.512,0.698],\"xaxis\":\"x\",\"yaxis\":\"y\",\"type\":\"histogram\"},{\"alignmentgroup\":\"True\",\"bingroup\":\"x\",\"histnorm\":\"percent\",\"hovertemplate\":\"education_level=Primary School<br>city_development_index=%{x}<br>percent=%{y}<extra></extra>\",\"legendgroup\":\"Primary School\",\"marker\":{\"color\":\"#ab63fa\",\"pattern\":{\"shape\":\"\"}},\"name\":\"Primary School\",\"offsetgroup\":\"Primary School\",\"orientation\":\"v\",\"showlegend\":true,\"x\":[0.743,0.895,0.55,0.698,0.91,0.682,0.7959999999999999,0.624,0.899,0.698,0.698,0.939,0.893,0.725,0.89,0.8959999999999999,0.913,0.6659999999999999,0.855,0.698,0.884,0.795,0.754,0.579,0.939,0.83,0.579,0.847,0.73,0.923,0.698,0.691,0.865,0.925,0.915,0.887,0.5579999999999999,0.804,0.92,0.924,0.701,0.926,0.789,0.743,0.479,0.897,0.836,0.727,0.6890000000000001,0.698,0.698,0.843,0.92,0.767,0.903,0.878],\"xaxis\":\"x\",\"yaxis\":\"y\",\"type\":\"histogram\"},{\"alignmentgroup\":\"True\",\"bingroup\":\"x\",\"histnorm\":\"percent\",\"hovertemplate\":\"education_level=Phd<br>city_development_index=%{x}<br>percent=%{y}<extra></extra>\",\"legendgroup\":\"Phd\",\"marker\":{\"color\":\"#FFA15A\",\"pattern\":{\"shape\":\"\"}},\"name\":\"Phd\",\"offsetgroup\":\"Phd\",\"orientation\":\"v\",\"showlegend\":true,\"x\":[0.895,0.8270000000000001,0.91,0.624,0.698,0.939,0.893,0.8270000000000001,0.563,0.89,0.762,0.493,0.8959999999999999,0.74,0.856,0.866,0.913,0.6659999999999999,0.802,0.855,0.884,0.754,0.939,0.698,0.923,0.925,0.698,0.698,0.925,0.949,0.915,0.887,0.804,0.92,0.924,0.698,0.518,0.926,0.789,0.743,0.698,0.738,0.479,0.745,0.698,0.897,0.836,0.74,0.84,0.698,0.843,0.92,0.767,0.903,0.878,0.7759999999999999],\"xaxis\":\"x\",\"yaxis\":\"y\",\"type\":\"histogram\"}],                        {\"template\":{\"data\":{\"histogram2dcontour\":[{\"type\":\"histogram2dcontour\",\"colorbar\":{\"outlinewidth\":0,\"ticks\":\"\"},\"colorscale\":[[0.0,\"#0d0887\"],[0.1111111111111111,\"#46039f\"],[0.2222222222222222,\"#7201a8\"],[0.3333333333333333,\"#9c179e\"],[0.4444444444444444,\"#bd3786\"],[0.5555555555555556,\"#d8576b\"],[0.6666666666666666,\"#ed7953\"],[0.7777777777777778,\"#fb9f3a\"],[0.8888888888888888,\"#fdca26\"],[1.0,\"#f0f921\"]]}],\"choropleth\":[{\"type\":\"choropleth\",\"colorbar\":{\"outlinewidth\":0,\"ticks\":\"\"}}],\"histogram2d\":[{\"type\":\"histogram2d\",\"colorbar\":{\"outlinewidth\":0,\"ticks\":\"\"},\"colorscale\":[[0.0,\"#0d0887\"],[0.1111111111111111,\"#46039f\"],[0.2222222222222222,\"#7201a8\"],[0.3333333333333333,\"#9c179e\"],[0.4444444444444444,\"#bd3786\"],[0.5555555555555556,\"#d8576b\"],[0.6666666666666666,\"#ed7953\"],[0.7777777777777778,\"#fb9f3a\"],[0.8888888888888888,\"#fdca26\"],[1.0,\"#f0f921\"]]}],\"heatmap\":[{\"type\":\"heatmap\",\"colorbar\":{\"outlinewidth\":0,\"ticks\":\"\"},\"colorscale\":[[0.0,\"#0d0887\"],[0.1111111111111111,\"#46039f\"],[0.2222222222222222,\"#7201a8\"],[0.3333333333333333,\"#9c179e\"],[0.4444444444444444,\"#bd3786\"],[0.5555555555555556,\"#d8576b\"],[0.6666666666666666,\"#ed7953\"],[0.7777777777777778,\"#fb9f3a\"],[0.8888888888888888,\"#fdca26\"],[1.0,\"#f0f921\"]]}],\"heatmapgl\":[{\"type\":\"heatmapgl\",\"colorbar\":{\"outlinewidth\":0,\"ticks\":\"\"},\"colorscale\":[[0.0,\"#0d0887\"],[0.1111111111111111,\"#46039f\"],[0.2222222222222222,\"#7201a8\"],[0.3333333333333333,\"#9c179e\"],[0.4444444444444444,\"#bd3786\"],[0.5555555555555556,\"#d8576b\"],[0.6666666666666666,\"#ed7953\"],[0.7777777777777778,\"#fb9f3a\"],[0.8888888888888888,\"#fdca26\"],[1.0,\"#f0f921\"]]}],\"contourcarpet\":[{\"type\":\"contourcarpet\",\"colorbar\":{\"outlinewidth\":0,\"ticks\":\"\"}}],\"contour\":[{\"type\":\"contour\",\"colorbar\":{\"outlinewidth\":0,\"ticks\":\"\"},\"colorscale\":[[0.0,\"#0d0887\"],[0.1111111111111111,\"#46039f\"],[0.2222222222222222,\"#7201a8\"],[0.3333333333333333,\"#9c179e\"],[0.4444444444444444,\"#bd3786\"],[0.5555555555555556,\"#d8576b\"],[0.6666666666666666,\"#ed7953\"],[0.7777777777777778,\"#fb9f3a\"],[0.8888888888888888,\"#fdca26\"],[1.0,\"#f0f921\"]]}],\"surface\":[{\"type\":\"surface\",\"colorbar\":{\"outlinewidth\":0,\"ticks\":\"\"},\"colorscale\":[[0.0,\"#0d0887\"],[0.1111111111111111,\"#46039f\"],[0.2222222222222222,\"#7201a8\"],[0.3333333333333333,\"#9c179e\"],[0.4444444444444444,\"#bd3786\"],[0.5555555555555556,\"#d8576b\"],[0.6666666666666666,\"#ed7953\"],[0.7777777777777778,\"#fb9f3a\"],[0.8888888888888888,\"#fdca26\"],[1.0,\"#f0f921\"]]}],\"mesh3d\":[{\"type\":\"mesh3d\",\"colorbar\":{\"outlinewidth\":0,\"ticks\":\"\"}}],\"scatter\":[{\"fillpattern\":{\"fillmode\":\"overlay\",\"size\":10,\"solidity\":0.2},\"type\":\"scatter\"}],\"parcoords\":[{\"type\":\"parcoords\",\"line\":{\"colorbar\":{\"outlinewidth\":0,\"ticks\":\"\"}}}],\"scatterpolargl\":[{\"type\":\"scatterpolargl\",\"marker\":{\"colorbar\":{\"outlinewidth\":0,\"ticks\":\"\"}}}],\"bar\":[{\"error_x\":{\"color\":\"#2a3f5f\"},\"error_y\":{\"color\":\"#2a3f5f\"},\"marker\":{\"line\":{\"color\":\"#E5ECF6\",\"width\":0.5},\"pattern\":{\"fillmode\":\"overlay\",\"size\":10,\"solidity\":0.2}},\"type\":\"bar\"}],\"scattergeo\":[{\"type\":\"scattergeo\",\"marker\":{\"colorbar\":{\"outlinewidth\":0,\"ticks\":\"\"}}}],\"scatterpolar\":[{\"type\":\"scatterpolar\",\"marker\":{\"colorbar\":{\"outlinewidth\":0,\"ticks\":\"\"}}}],\"histogram\":[{\"marker\":{\"pattern\":{\"fillmode\":\"overlay\",\"size\":10,\"solidity\":0.2}},\"type\":\"histogram\"}],\"scattergl\":[{\"type\":\"scattergl\",\"marker\":{\"colorbar\":{\"outlinewidth\":0,\"ticks\":\"\"}}}],\"scatter3d\":[{\"type\":\"scatter3d\",\"line\":{\"colorbar\":{\"outlinewidth\":0,\"ticks\":\"\"}},\"marker\":{\"colorbar\":{\"outlinewidth\":0,\"ticks\":\"\"}}}],\"scattermapbox\":[{\"type\":\"scattermapbox\",\"marker\":{\"colorbar\":{\"outlinewidth\":0,\"ticks\":\"\"}}}],\"scatterternary\":[{\"type\":\"scatterternary\",\"marker\":{\"colorbar\":{\"outlinewidth\":0,\"ticks\":\"\"}}}],\"scattercarpet\":[{\"type\":\"scattercarpet\",\"marker\":{\"colorbar\":{\"outlinewidth\":0,\"ticks\":\"\"}}}],\"carpet\":[{\"aaxis\":{\"endlinecolor\":\"#2a3f5f\",\"gridcolor\":\"white\",\"linecolor\":\"white\",\"minorgridcolor\":\"white\",\"startlinecolor\":\"#2a3f5f\"},\"baxis\":{\"endlinecolor\":\"#2a3f5f\",\"gridcolor\":\"white\",\"linecolor\":\"white\",\"minorgridcolor\":\"white\",\"startlinecolor\":\"#2a3f5f\"},\"type\":\"carpet\"}],\"table\":[{\"cells\":{\"fill\":{\"color\":\"#EBF0F8\"},\"line\":{\"color\":\"white\"}},\"header\":{\"fill\":{\"color\":\"#C8D4E3\"},\"line\":{\"color\":\"white\"}},\"type\":\"table\"}],\"barpolar\":[{\"marker\":{\"line\":{\"color\":\"#E5ECF6\",\"width\":0.5},\"pattern\":{\"fillmode\":\"overlay\",\"size\":10,\"solidity\":0.2}},\"type\":\"barpolar\"}],\"pie\":[{\"automargin\":true,\"type\":\"pie\"}]},\"layout\":{\"autotypenumbers\":\"strict\",\"colorway\":[\"#636efa\",\"#EF553B\",\"#00cc96\",\"#ab63fa\",\"#FFA15A\",\"#19d3f3\",\"#FF6692\",\"#B6E880\",\"#FF97FF\",\"#FECB52\"],\"font\":{\"color\":\"#2a3f5f\"},\"hovermode\":\"closest\",\"hoverlabel\":{\"align\":\"left\"},\"paper_bgcolor\":\"white\",\"plot_bgcolor\":\"#E5ECF6\",\"polar\":{\"bgcolor\":\"#E5ECF6\",\"angularaxis\":{\"gridcolor\":\"white\",\"linecolor\":\"white\",\"ticks\":\"\"},\"radialaxis\":{\"gridcolor\":\"white\",\"linecolor\":\"white\",\"ticks\":\"\"}},\"ternary\":{\"bgcolor\":\"#E5ECF6\",\"aaxis\":{\"gridcolor\":\"white\",\"linecolor\":\"white\",\"ticks\":\"\"},\"baxis\":{\"gridcolor\":\"white\",\"linecolor\":\"white\",\"ticks\":\"\"},\"caxis\":{\"gridcolor\":\"white\",\"linecolor\":\"white\",\"ticks\":\"\"}},\"coloraxis\":{\"colorbar\":{\"outlinewidth\":0,\"ticks\":\"\"}},\"colorscale\":{\"sequential\":[[0.0,\"#0d0887\"],[0.1111111111111111,\"#46039f\"],[0.2222222222222222,\"#7201a8\"],[0.3333333333333333,\"#9c179e\"],[0.4444444444444444,\"#bd3786\"],[0.5555555555555556,\"#d8576b\"],[0.6666666666666666,\"#ed7953\"],[0.7777777777777778,\"#fb9f3a\"],[0.8888888888888888,\"#fdca26\"],[1.0,\"#f0f921\"]],\"sequentialminus\":[[0.0,\"#0d0887\"],[0.1111111111111111,\"#46039f\"],[0.2222222222222222,\"#7201a8\"],[0.3333333333333333,\"#9c179e\"],[0.4444444444444444,\"#bd3786\"],[0.5555555555555556,\"#d8576b\"],[0.6666666666666666,\"#ed7953\"],[0.7777777777777778,\"#fb9f3a\"],[0.8888888888888888,\"#fdca26\"],[1.0,\"#f0f921\"]],\"diverging\":[[0,\"#8e0152\"],[0.1,\"#c51b7d\"],[0.2,\"#de77ae\"],[0.3,\"#f1b6da\"],[0.4,\"#fde0ef\"],[0.5,\"#f7f7f7\"],[0.6,\"#e6f5d0\"],[0.7,\"#b8e186\"],[0.8,\"#7fbc41\"],[0.9,\"#4d9221\"],[1,\"#276419\"]]},\"xaxis\":{\"gridcolor\":\"white\",\"linecolor\":\"white\",\"ticks\":\"\",\"title\":{\"standoff\":15},\"zerolinecolor\":\"white\",\"automargin\":true,\"zerolinewidth\":2},\"yaxis\":{\"gridcolor\":\"white\",\"linecolor\":\"white\",\"ticks\":\"\",\"title\":{\"standoff\":15},\"zerolinecolor\":\"white\",\"automargin\":true,\"zerolinewidth\":2},\"scene\":{\"xaxis\":{\"backgroundcolor\":\"#E5ECF6\",\"gridcolor\":\"white\",\"linecolor\":\"white\",\"showbackground\":true,\"ticks\":\"\",\"zerolinecolor\":\"white\",\"gridwidth\":2},\"yaxis\":{\"backgroundcolor\":\"#E5ECF6\",\"gridcolor\":\"white\",\"linecolor\":\"white\",\"showbackground\":true,\"ticks\":\"\",\"zerolinecolor\":\"white\",\"gridwidth\":2},\"zaxis\":{\"backgroundcolor\":\"#E5ECF6\",\"gridcolor\":\"white\",\"linecolor\":\"white\",\"showbackground\":true,\"ticks\":\"\",\"zerolinecolor\":\"white\",\"gridwidth\":2}},\"shapedefaults\":{\"line\":{\"color\":\"#2a3f5f\"}},\"annotationdefaults\":{\"arrowcolor\":\"#2a3f5f\",\"arrowhead\":0,\"arrowwidth\":1},\"geo\":{\"bgcolor\":\"white\",\"landcolor\":\"#E5ECF6\",\"subunitcolor\":\"white\",\"showland\":true,\"showlakes\":true,\"lakecolor\":\"white\"},\"title\":{\"x\":0.05},\"mapbox\":{\"style\":\"light\"}}},\"xaxis\":{\"anchor\":\"y\",\"domain\":[0.0,1.0],\"title\":{\"text\":\"\\u0438\\u043d\\u0434\\u0435\\u043a\\u0441 \\u0440\\u0430\\u0437\\u0432\\u0438\\u0442\\u0438\\u044f \\u0433\\u043e\\u0440\\u043e\\u0434\\u0430\"}},\"yaxis\":{\"anchor\":\"x\",\"domain\":[0.0,1.0],\"title\":{\"text\":\"\\u043f\\u0440\\u043e\\u0446\\u0435\\u043d\\u0442 \\u0432\\u044b\\u043f\\u0443\\u0441\\u043a\\u043d\\u0438\\u043a\\u043e\\u0432\"}},\"legend\":{\"title\":{\"text\":\"education_level\"},\"tracegroupgap\":0},\"margin\":{\"t\":60},\"barmode\":\"relative\",\"title\":{\"text\":\"\\u0423\\u0440\\u043e\\u0432\\u0435\\u043d\\u044c \\u043e\\u0431\\u0440\\u0430\\u0437\\u043e\\u0432\\u0430\\u043d\\u0438\\u044f \\u0438 \\u0438\\u043d\\u0434\\u0435\\u043a\\u0441 \\u0440\\u0430\\u0437\\u0432\\u0438\\u0442\\u0438\\u044f \\u0433\\u043e\\u0440\\u043e\\u0434\\u0430\"}},                        {\"responsive\": true}                    ).then(function(){\n",
              "                            \n",
              "var gd = document.getElementById('561d544d-5a8b-495a-9b8c-c0d80a6f9011');\n",
              "var x = new MutationObserver(function (mutations, observer) {{\n",
              "        var display = window.getComputedStyle(gd).display;\n",
              "        if (!display || display === 'none') {{\n",
              "            console.log([gd, 'removed!']);\n",
              "            Plotly.purge(gd);\n",
              "            observer.disconnect();\n",
              "        }}\n",
              "}});\n",
              "\n",
              "// Listen for the removal of the full notebook cells\n",
              "var notebookContainer = gd.closest('#notebook-container');\n",
              "if (notebookContainer) {{\n",
              "    x.observe(notebookContainer, {childList: true});\n",
              "}}\n",
              "\n",
              "// Listen for the clearing of the current output cell\n",
              "var outputEl = gd.closest('.output');\n",
              "if (outputEl) {{\n",
              "    x.observe(outputEl, {childList: true});\n",
              "}}\n",
              "\n",
              "                        })                };                            </script>        </div>\n",
              "</body>\n",
              "</html>"
            ]
          },
          "metadata": {}
        }
      ]
    },
    {
      "cell_type": "markdown",
      "source": [
        "**Вывод:**\n",
        "\n",
        "Чтобы получить более наглядные результаты мы рассматриваем гистограмму, где горизонтальная ось показывает индекс развития города, а вертикальная - процент разных ступеней образования.\n",
        "\n",
        "Здесь действительно видна взаимосвязь между уровнем развития города и уровнем образования его жителей: в городах с индексом развития больше 0.65 людей, получивших образование больше, в том числе образование высокого уровня (Masters, Phd).\n",
        "\n",
        "Из описанного нельзя делать выводы о зависимости одного показателя от другого (может быть, что в развитом городе больше людей решают получить образование, а может быть, что люди с высоким уровнем образования каким-то образом повышают индекс развития города). Тем не менее мы можем зафиксировать взаимосвязь между двумя показателями."
      ],
      "metadata": {
        "id": "gb4e6Fotyqjr"
      }
    },
    {
      "cell_type": "markdown",
      "source": [
        "### Задача 4. Насколько успешны выпускники?"
      ],
      "metadata": {
        "id": "nyvq-KqgfqgW"
      }
    },
    {
      "cell_type": "markdown",
      "source": [
        "Университет может использовать информацию о профессиональном успехе своих выпускников в рекламе.\n",
        "\n",
        "Поскольку у нас нет данных о нынешней трудоустроенности/зарплате/рейтинге выпускников, судить об их успешности мы можем только по косвенным показателям. Какие столбцы стоит выбрать?\n",
        "\n",
        "- Какие данные не используем:\n",
        "\n",
        "Первое предположение, что можно использовать уровень образования и опыт работы, мы отвергаем. Уровень образования говорит скорее о решении вести академическую карьеру, чем о профессиональном успехе: топовые специалисты в своей сфере не обязательно имеют учёные степени. Опыт работы, во-первых, больше говорит о возрасте выпускника, чем о его заслугах, во-вторых, этот опыт может относится к работе в других профессиональных сферах (а значит, мало связан с полученным в университете образованием).\n",
        "\n",
        "- Какие данные используем:\n",
        "\n",
        "1) релевантный опыт: из таблицы это неочевидно, но мы предполагаем, что здесь рассматривается релевантность полученному образованию. В таком случае, этот столбец говорит о том, работал ли выпускник по специальности. (Даже если наше предположение неверно, релевантный опыт всё равно остаётся показателем, важным для карьерного успеха);\n",
        "\n",
        "2) тип компании: измерять профессиональный успех размером компании или её типом было бы некорректно, поскольку высокоуровневыми и развитыми могут быть как общественные организации, так и коммерческие, государственные или частные. Поэтому мы обратим внимание только на два типа: стартап на раннем этапе (early-stage startup) и финансируемый стартап (funded startup). Второй будем считать более успешным, поскольку его создатели смогли привлечь инвесторов."
      ],
      "metadata": {
        "id": "jbUypc8YfwUA"
      }
    },
    {
      "cell_type": "code",
      "source": [
        "#анализ был проведен с помощью datalens от яндекса. ссылка на полученный дашборд:\n",
        "#https://datalens.yandex.ru/racz5nyi7beeh-uspeh-vypusknikov\n",
        "#полученные результаты дублируем и здесь (на всякий случай)"
      ],
      "metadata": {
        "id": "q_a6ah3lQQjv"
      },
      "execution_count": null,
      "outputs": []
    },
    {
      "cell_type": "code",
      "source": [
        "rel_exp = data.groupby(['relevent_experience'], as_index=False).size()\n",
        "startups = data[(data.company_type == 'Funded Startup') | (data.company_type == 'Early Stage Startup')].groupby(['company_type'], as_index=False).size()"
      ],
      "metadata": {
        "id": "0TKROFuJor74"
      },
      "execution_count": null,
      "outputs": []
    },
    {
      "cell_type": "code",
      "source": [
        "fig = make_subplots(rows=1, cols=2,\n",
        "                    specs=[[{\"type\": \"pie\"}, {\"type\": \"pie\"}]],\n",
        "                    subplot_titles=(\"Наличие релевантного опыта\", \"Финансируемые и начинающие стартапы\")) #строим две круговые диаграммы рядом\n",
        "\n",
        "fig.add_trace(go.Pie(labels = rel_exp.relevent_experience,\n",
        "             values = rel_exp.iloc[:, 1]),\n",
        "\n",
        "             row=1, col=1) #диаграмма по наличию релевантного опыта\n",
        "\n",
        "fig.add_trace(go.Pie(labels = startups.company_type,\n",
        "             values = startups.iloc[:, 1]),\n",
        "\n",
        "             row=1, col=2) #диаграмма по стартапам\n",
        "\n",
        "fig.update_layout(height=550, width=1000, title_text=\"Профессиональный успех выпускников\")\n",
        "fig.show(bbox_inches='tight')"
      ],
      "metadata": {
        "id": "lejW0ipnuPU1",
        "colab": {
          "base_uri": "https://localhost:8080/",
          "height": 567
        },
        "outputId": "ad69fa01-b636-4d05-e4b8-72097184a73d"
      },
      "execution_count": null,
      "outputs": [
        {
          "output_type": "display_data",
          "data": {
            "text/html": [
              "<html>\n",
              "<head><meta charset=\"utf-8\" /></head>\n",
              "<body>\n",
              "    <div>            <script src=\"https://cdnjs.cloudflare.com/ajax/libs/mathjax/2.7.5/MathJax.js?config=TeX-AMS-MML_SVG\"></script><script type=\"text/javascript\">if (window.MathJax && window.MathJax.Hub && window.MathJax.Hub.Config) {window.MathJax.Hub.Config({SVG: {font: \"STIX-Web\"}});}</script>                <script type=\"text/javascript\">window.PlotlyConfig = {MathJaxConfig: 'local'};</script>\n",
              "        <script src=\"https://cdn.plot.ly/plotly-2.18.2.min.js\"></script>                <div id=\"4945fd16-dcb4-44ab-b30d-cf172b18b86a\" class=\"plotly-graph-div\" style=\"height:550px; width:1000px;\"></div>            <script type=\"text/javascript\">                                    window.PLOTLYENV=window.PLOTLYENV || {};                                    if (document.getElementById(\"4945fd16-dcb4-44ab-b30d-cf172b18b86a\")) {                    Plotly.newPlot(                        \"4945fd16-dcb4-44ab-b30d-cf172b18b86a\",                        [{\"labels\":[\"Has relevent experience\",\"No relevent experience\"],\"values\":[13792,5366],\"type\":\"pie\",\"domain\":{\"x\":[0.0,0.45],\"y\":[0.0,1.0]}},{\"labels\":[\"Early Stage Startup\",\"Funded Startup\"],\"values\":[603,1001],\"type\":\"pie\",\"domain\":{\"x\":[0.55,1.0],\"y\":[0.0,1.0]}}],                        {\"template\":{\"data\":{\"histogram2dcontour\":[{\"type\":\"histogram2dcontour\",\"colorbar\":{\"outlinewidth\":0,\"ticks\":\"\"},\"colorscale\":[[0.0,\"#0d0887\"],[0.1111111111111111,\"#46039f\"],[0.2222222222222222,\"#7201a8\"],[0.3333333333333333,\"#9c179e\"],[0.4444444444444444,\"#bd3786\"],[0.5555555555555556,\"#d8576b\"],[0.6666666666666666,\"#ed7953\"],[0.7777777777777778,\"#fb9f3a\"],[0.8888888888888888,\"#fdca26\"],[1.0,\"#f0f921\"]]}],\"choropleth\":[{\"type\":\"choropleth\",\"colorbar\":{\"outlinewidth\":0,\"ticks\":\"\"}}],\"histogram2d\":[{\"type\":\"histogram2d\",\"colorbar\":{\"outlinewidth\":0,\"ticks\":\"\"},\"colorscale\":[[0.0,\"#0d0887\"],[0.1111111111111111,\"#46039f\"],[0.2222222222222222,\"#7201a8\"],[0.3333333333333333,\"#9c179e\"],[0.4444444444444444,\"#bd3786\"],[0.5555555555555556,\"#d8576b\"],[0.6666666666666666,\"#ed7953\"],[0.7777777777777778,\"#fb9f3a\"],[0.8888888888888888,\"#fdca26\"],[1.0,\"#f0f921\"]]}],\"heatmap\":[{\"type\":\"heatmap\",\"colorbar\":{\"outlinewidth\":0,\"ticks\":\"\"},\"colorscale\":[[0.0,\"#0d0887\"],[0.1111111111111111,\"#46039f\"],[0.2222222222222222,\"#7201a8\"],[0.3333333333333333,\"#9c179e\"],[0.4444444444444444,\"#bd3786\"],[0.5555555555555556,\"#d8576b\"],[0.6666666666666666,\"#ed7953\"],[0.7777777777777778,\"#fb9f3a\"],[0.8888888888888888,\"#fdca26\"],[1.0,\"#f0f921\"]]}],\"heatmapgl\":[{\"type\":\"heatmapgl\",\"colorbar\":{\"outlinewidth\":0,\"ticks\":\"\"},\"colorscale\":[[0.0,\"#0d0887\"],[0.1111111111111111,\"#46039f\"],[0.2222222222222222,\"#7201a8\"],[0.3333333333333333,\"#9c179e\"],[0.4444444444444444,\"#bd3786\"],[0.5555555555555556,\"#d8576b\"],[0.6666666666666666,\"#ed7953\"],[0.7777777777777778,\"#fb9f3a\"],[0.8888888888888888,\"#fdca26\"],[1.0,\"#f0f921\"]]}],\"contourcarpet\":[{\"type\":\"contourcarpet\",\"colorbar\":{\"outlinewidth\":0,\"ticks\":\"\"}}],\"contour\":[{\"type\":\"contour\",\"colorbar\":{\"outlinewidth\":0,\"ticks\":\"\"},\"colorscale\":[[0.0,\"#0d0887\"],[0.1111111111111111,\"#46039f\"],[0.2222222222222222,\"#7201a8\"],[0.3333333333333333,\"#9c179e\"],[0.4444444444444444,\"#bd3786\"],[0.5555555555555556,\"#d8576b\"],[0.6666666666666666,\"#ed7953\"],[0.7777777777777778,\"#fb9f3a\"],[0.8888888888888888,\"#fdca26\"],[1.0,\"#f0f921\"]]}],\"surface\":[{\"type\":\"surface\",\"colorbar\":{\"outlinewidth\":0,\"ticks\":\"\"},\"colorscale\":[[0.0,\"#0d0887\"],[0.1111111111111111,\"#46039f\"],[0.2222222222222222,\"#7201a8\"],[0.3333333333333333,\"#9c179e\"],[0.4444444444444444,\"#bd3786\"],[0.5555555555555556,\"#d8576b\"],[0.6666666666666666,\"#ed7953\"],[0.7777777777777778,\"#fb9f3a\"],[0.8888888888888888,\"#fdca26\"],[1.0,\"#f0f921\"]]}],\"mesh3d\":[{\"type\":\"mesh3d\",\"colorbar\":{\"outlinewidth\":0,\"ticks\":\"\"}}],\"scatter\":[{\"fillpattern\":{\"fillmode\":\"overlay\",\"size\":10,\"solidity\":0.2},\"type\":\"scatter\"}],\"parcoords\":[{\"type\":\"parcoords\",\"line\":{\"colorbar\":{\"outlinewidth\":0,\"ticks\":\"\"}}}],\"scatterpolargl\":[{\"type\":\"scatterpolargl\",\"marker\":{\"colorbar\":{\"outlinewidth\":0,\"ticks\":\"\"}}}],\"bar\":[{\"error_x\":{\"color\":\"#2a3f5f\"},\"error_y\":{\"color\":\"#2a3f5f\"},\"marker\":{\"line\":{\"color\":\"#E5ECF6\",\"width\":0.5},\"pattern\":{\"fillmode\":\"overlay\",\"size\":10,\"solidity\":0.2}},\"type\":\"bar\"}],\"scattergeo\":[{\"type\":\"scattergeo\",\"marker\":{\"colorbar\":{\"outlinewidth\":0,\"ticks\":\"\"}}}],\"scatterpolar\":[{\"type\":\"scatterpolar\",\"marker\":{\"colorbar\":{\"outlinewidth\":0,\"ticks\":\"\"}}}],\"histogram\":[{\"marker\":{\"pattern\":{\"fillmode\":\"overlay\",\"size\":10,\"solidity\":0.2}},\"type\":\"histogram\"}],\"scattergl\":[{\"type\":\"scattergl\",\"marker\":{\"colorbar\":{\"outlinewidth\":0,\"ticks\":\"\"}}}],\"scatter3d\":[{\"type\":\"scatter3d\",\"line\":{\"colorbar\":{\"outlinewidth\":0,\"ticks\":\"\"}},\"marker\":{\"colorbar\":{\"outlinewidth\":0,\"ticks\":\"\"}}}],\"scattermapbox\":[{\"type\":\"scattermapbox\",\"marker\":{\"colorbar\":{\"outlinewidth\":0,\"ticks\":\"\"}}}],\"scatterternary\":[{\"type\":\"scatterternary\",\"marker\":{\"colorbar\":{\"outlinewidth\":0,\"ticks\":\"\"}}}],\"scattercarpet\":[{\"type\":\"scattercarpet\",\"marker\":{\"colorbar\":{\"outlinewidth\":0,\"ticks\":\"\"}}}],\"carpet\":[{\"aaxis\":{\"endlinecolor\":\"#2a3f5f\",\"gridcolor\":\"white\",\"linecolor\":\"white\",\"minorgridcolor\":\"white\",\"startlinecolor\":\"#2a3f5f\"},\"baxis\":{\"endlinecolor\":\"#2a3f5f\",\"gridcolor\":\"white\",\"linecolor\":\"white\",\"minorgridcolor\":\"white\",\"startlinecolor\":\"#2a3f5f\"},\"type\":\"carpet\"}],\"table\":[{\"cells\":{\"fill\":{\"color\":\"#EBF0F8\"},\"line\":{\"color\":\"white\"}},\"header\":{\"fill\":{\"color\":\"#C8D4E3\"},\"line\":{\"color\":\"white\"}},\"type\":\"table\"}],\"barpolar\":[{\"marker\":{\"line\":{\"color\":\"#E5ECF6\",\"width\":0.5},\"pattern\":{\"fillmode\":\"overlay\",\"size\":10,\"solidity\":0.2}},\"type\":\"barpolar\"}],\"pie\":[{\"automargin\":true,\"type\":\"pie\"}]},\"layout\":{\"autotypenumbers\":\"strict\",\"colorway\":[\"#636efa\",\"#EF553B\",\"#00cc96\",\"#ab63fa\",\"#FFA15A\",\"#19d3f3\",\"#FF6692\",\"#B6E880\",\"#FF97FF\",\"#FECB52\"],\"font\":{\"color\":\"#2a3f5f\"},\"hovermode\":\"closest\",\"hoverlabel\":{\"align\":\"left\"},\"paper_bgcolor\":\"white\",\"plot_bgcolor\":\"#E5ECF6\",\"polar\":{\"bgcolor\":\"#E5ECF6\",\"angularaxis\":{\"gridcolor\":\"white\",\"linecolor\":\"white\",\"ticks\":\"\"},\"radialaxis\":{\"gridcolor\":\"white\",\"linecolor\":\"white\",\"ticks\":\"\"}},\"ternary\":{\"bgcolor\":\"#E5ECF6\",\"aaxis\":{\"gridcolor\":\"white\",\"linecolor\":\"white\",\"ticks\":\"\"},\"baxis\":{\"gridcolor\":\"white\",\"linecolor\":\"white\",\"ticks\":\"\"},\"caxis\":{\"gridcolor\":\"white\",\"linecolor\":\"white\",\"ticks\":\"\"}},\"coloraxis\":{\"colorbar\":{\"outlinewidth\":0,\"ticks\":\"\"}},\"colorscale\":{\"sequential\":[[0.0,\"#0d0887\"],[0.1111111111111111,\"#46039f\"],[0.2222222222222222,\"#7201a8\"],[0.3333333333333333,\"#9c179e\"],[0.4444444444444444,\"#bd3786\"],[0.5555555555555556,\"#d8576b\"],[0.6666666666666666,\"#ed7953\"],[0.7777777777777778,\"#fb9f3a\"],[0.8888888888888888,\"#fdca26\"],[1.0,\"#f0f921\"]],\"sequentialminus\":[[0.0,\"#0d0887\"],[0.1111111111111111,\"#46039f\"],[0.2222222222222222,\"#7201a8\"],[0.3333333333333333,\"#9c179e\"],[0.4444444444444444,\"#bd3786\"],[0.5555555555555556,\"#d8576b\"],[0.6666666666666666,\"#ed7953\"],[0.7777777777777778,\"#fb9f3a\"],[0.8888888888888888,\"#fdca26\"],[1.0,\"#f0f921\"]],\"diverging\":[[0,\"#8e0152\"],[0.1,\"#c51b7d\"],[0.2,\"#de77ae\"],[0.3,\"#f1b6da\"],[0.4,\"#fde0ef\"],[0.5,\"#f7f7f7\"],[0.6,\"#e6f5d0\"],[0.7,\"#b8e186\"],[0.8,\"#7fbc41\"],[0.9,\"#4d9221\"],[1,\"#276419\"]]},\"xaxis\":{\"gridcolor\":\"white\",\"linecolor\":\"white\",\"ticks\":\"\",\"title\":{\"standoff\":15},\"zerolinecolor\":\"white\",\"automargin\":true,\"zerolinewidth\":2},\"yaxis\":{\"gridcolor\":\"white\",\"linecolor\":\"white\",\"ticks\":\"\",\"title\":{\"standoff\":15},\"zerolinecolor\":\"white\",\"automargin\":true,\"zerolinewidth\":2},\"scene\":{\"xaxis\":{\"backgroundcolor\":\"#E5ECF6\",\"gridcolor\":\"white\",\"linecolor\":\"white\",\"showbackground\":true,\"ticks\":\"\",\"zerolinecolor\":\"white\",\"gridwidth\":2},\"yaxis\":{\"backgroundcolor\":\"#E5ECF6\",\"gridcolor\":\"white\",\"linecolor\":\"white\",\"showbackground\":true,\"ticks\":\"\",\"zerolinecolor\":\"white\",\"gridwidth\":2},\"zaxis\":{\"backgroundcolor\":\"#E5ECF6\",\"gridcolor\":\"white\",\"linecolor\":\"white\",\"showbackground\":true,\"ticks\":\"\",\"zerolinecolor\":\"white\",\"gridwidth\":2}},\"shapedefaults\":{\"line\":{\"color\":\"#2a3f5f\"}},\"annotationdefaults\":{\"arrowcolor\":\"#2a3f5f\",\"arrowhead\":0,\"arrowwidth\":1},\"geo\":{\"bgcolor\":\"white\",\"landcolor\":\"#E5ECF6\",\"subunitcolor\":\"white\",\"showland\":true,\"showlakes\":true,\"lakecolor\":\"white\"},\"title\":{\"x\":0.05},\"mapbox\":{\"style\":\"light\"}}},\"annotations\":[{\"font\":{\"size\":16},\"showarrow\":false,\"text\":\"\\u041d\\u0430\\u043b\\u0438\\u0447\\u0438\\u0435 \\u0440\\u0435\\u043b\\u0435\\u0432\\u0430\\u043d\\u0442\\u043d\\u043e\\u0433\\u043e \\u043e\\u043f\\u044b\\u0442\\u0430\",\"x\":0.225,\"xanchor\":\"center\",\"xref\":\"paper\",\"y\":1.0,\"yanchor\":\"bottom\",\"yref\":\"paper\"},{\"font\":{\"size\":16},\"showarrow\":false,\"text\":\"\\u0424\\u0438\\u043d\\u0430\\u043d\\u0441\\u0438\\u0440\\u0443\\u0435\\u043c\\u044b\\u0435 \\u0438 \\u043d\\u0430\\u0447\\u0438\\u043d\\u0430\\u044e\\u0449\\u0438\\u0435 \\u0441\\u0442\\u0430\\u0440\\u0442\\u0430\\u043f\\u044b\",\"x\":0.775,\"xanchor\":\"center\",\"xref\":\"paper\",\"y\":1.0,\"yanchor\":\"bottom\",\"yref\":\"paper\"}],\"title\":{\"text\":\"\\u041f\\u0440\\u043e\\u0444\\u0435\\u0441\\u0441\\u0438\\u043e\\u043d\\u0430\\u043b\\u044c\\u043d\\u044b\\u0439 \\u0443\\u0441\\u043f\\u0435\\u0445 \\u0432\\u044b\\u043f\\u0443\\u0441\\u043a\\u043d\\u0438\\u043a\\u043e\\u0432\"},\"height\":550,\"width\":1000},                        {\"responsive\": true}                    ).then(function(){\n",
              "                            \n",
              "var gd = document.getElementById('4945fd16-dcb4-44ab-b30d-cf172b18b86a');\n",
              "var x = new MutationObserver(function (mutations, observer) {{\n",
              "        var display = window.getComputedStyle(gd).display;\n",
              "        if (!display || display === 'none') {{\n",
              "            console.log([gd, 'removed!']);\n",
              "            Plotly.purge(gd);\n",
              "            observer.disconnect();\n",
              "        }}\n",
              "}});\n",
              "\n",
              "// Listen for the removal of the full notebook cells\n",
              "var notebookContainer = gd.closest('#notebook-container');\n",
              "if (notebookContainer) {{\n",
              "    x.observe(notebookContainer, {childList: true});\n",
              "}}\n",
              "\n",
              "// Listen for the clearing of the current output cell\n",
              "var outputEl = gd.closest('.output');\n",
              "if (outputEl) {{\n",
              "    x.observe(outputEl, {childList: true});\n",
              "}}\n",
              "\n",
              "                        })                };                            </script>        </div>\n",
              "</body>\n",
              "</html>"
            ]
          },
          "metadata": {}
        }
      ]
    },
    {
      "cell_type": "markdown",
      "source": [
        "**Вывод:**\n",
        "\n",
        "- 72% выпускников имеют релевантный опыт (как мы предполагаем, опыт, связанный с полученным образованием);\n",
        "\n",
        "- более 62% выпускников, трудоустроенных в стартапах, работают в успешных предприятиях, получающих финансирование."
      ],
      "metadata": {
        "id": "QtLWs5ETQVP2"
      }
    },
    {
      "cell_type": "markdown",
      "source": [
        "###Задача 5. Построить модель для предсказания столбца target"
      ],
      "metadata": {
        "id": "Y-oNw7ODjudU"
      }
    },
    {
      "cell_type": "markdown",
      "source": [
        "Поскольку для обучения модели все данные должны быть обращены в числовые, мы преобразуем их на этом этапе"
      ],
      "metadata": {
        "id": "6EM1CFsoBdbW"
      }
    },
    {
      "cell_type": "code",
      "source": [
        "data_no_nan = data.dropna() #убираем все строки, где есть хотя бы одно пустое значение\n",
        "data_no_nan.info()"
      ],
      "metadata": {
        "colab": {
          "base_uri": "https://localhost:8080/"
        },
        "id": "cE_BIbqzCoHs",
        "outputId": "d5e28d8f-63e1-4bb7-88c7-3d738cca0bde"
      },
      "execution_count": null,
      "outputs": [
        {
          "output_type": "stream",
          "name": "stdout",
          "text": [
            "<class 'pandas.core.frame.DataFrame'>\n",
            "Int64Index: 8955 entries, 1 to 19155\n",
            "Data columns (total 14 columns):\n",
            " #   Column                  Non-Null Count  Dtype  \n",
            "---  ------                  --------------  -----  \n",
            " 0   enrollee_id             8955 non-null   int64  \n",
            " 1   city                    8955 non-null   int64  \n",
            " 2   city_development_index  8955 non-null   float64\n",
            " 3   gender                  8955 non-null   object \n",
            " 4   relevent_experience     8955 non-null   object \n",
            " 5   enrolled_university     8955 non-null   object \n",
            " 6   education_level         8955 non-null   object \n",
            " 7   major_discipline        8955 non-null   object \n",
            " 8   experience              8955 non-null   float64\n",
            " 9   company_size            8955 non-null   Int64  \n",
            " 10  company_type            8955 non-null   object \n",
            " 11  last_new_job            8955 non-null   object \n",
            " 12  training_hours          8955 non-null   int64  \n",
            " 13  target                  8955 non-null   float64\n",
            "dtypes: Int64(1), float64(3), int64(3), object(7)\n",
            "memory usage: 1.0+ MB\n"
          ]
        }
      ]
    },
    {
      "cell_type": "code",
      "source": [
        "data_train = data_no_nan.loc[:, :'training_hours'] #разделяем данные на черты и столбец с целевой переменной\n",
        "data_target = data_no_nan['target']"
      ],
      "metadata": {
        "id": "0ODCQxAD9i8Z"
      },
      "execution_count": null,
      "outputs": []
    },
    {
      "cell_type": "code",
      "source": [
        "data_train.gender[data_train['gender'] == 'Male'] = 0 #преобразуем пол в числа: мужской - 0, женский - 1, другой - 2\n",
        "data_train.gender[data_train['gender'] == 'Female'] = 1\n",
        "data_train.gender[data_train['gender'] == 'Other'] = 2\n",
        "\n",
        "data_train.relevent_experience[data_train['relevent_experience'] == 'No relevent experience'] = 0 #отсутствие релевантного опыта - 0, наличие - 1\n",
        "data_train.relevent_experience[data_train['relevent_experience'] == 'Has relevent experience'] = 1\n",
        "\n",
        "data_train.enrolled_university[data_train['enrolled_university'] == 'no_enrollment'] = 0 #нет зачиления - 0, курс на неполнвй день - 1, на полный - 2\n",
        "data_train.enrolled_university[data_train['enrolled_university'] == 'Part time course'] = 1\n",
        "data_train.enrolled_university[data_train['enrolled_university'] == 'Full time course'] = 2\n",
        "\n",
        "data_train.education_level[data_train['education_level'] == 'Primary School'] = 1 #уровни образования переведены в цифры\n",
        "data_train.education_level[data_train['education_level'] == 'High School'] = 2\n",
        "data_train.education_level[data_train['education_level'] == 'Graduate'] = 3\n",
        "data_train.education_level[data_train['education_level'] == 'Masters'] = 4\n",
        "data_train.education_level[data_train['education_level'] == 'Phd'] = 5\n",
        "\n",
        "data_train.major_discipline[data_train['major_discipline'] == 'STEM'] = 1 #названия предметов переведены в цифры\n",
        "data_train.major_discipline[data_train['major_discipline'] == 'Humanities'] = 2\n",
        "data_train.major_discipline[data_train['major_discipline'] == 'Arts'] = 3\n",
        "data_train.major_discipline[data_train['major_discipline'] == 'Business Degree'] = 4\n",
        "data_train.major_discipline[data_train['major_discipline'] == 'No Major'] = 5\n",
        "data_train.major_discipline[data_train['major_discipline'] == 'Other'] = 6\n",
        "\n",
        "data_train.company_type[data_train['company_type'] == 'Other'] = 0 #типы компаний переведены в цифры\n",
        "data_train.company_type[data_train['company_type'] == 'Early Stage Startup'] = 1\n",
        "data_train.company_type[data_train['company_type'] == 'Funded Startup'] = 2\n",
        "data_train.company_type[data_train['company_type'] == 'Public Sector'] = 3\n",
        "data_train.company_type[data_train['company_type'] == 'NGO'] = 4\n",
        "data_train.company_type[data_train['company_type'] == 'Pvt Ltd'] = 5\n",
        "\n",
        "data_train.last_new_job[data_train['last_new_job'] == '>4'] = 5 #если последний раз выпускник сменял работу больше 4 лет назад, он будет обозначен условной цифрой 5"
      ],
      "metadata": {
        "colab": {
          "base_uri": "https://localhost:8080/"
        },
        "id": "kquEIVBBB4QN",
        "outputId": "f73be1df-326e-4a23-d7d7-cf3dce67b576"
      },
      "execution_count": null,
      "outputs": [
        {
          "output_type": "stream",
          "name": "stderr",
          "text": [
            "<ipython-input-52-a53133132478>:1: SettingWithCopyWarning:\n",
            "\n",
            "\n",
            "A value is trying to be set on a copy of a slice from a DataFrame\n",
            "\n",
            "See the caveats in the documentation: https://pandas.pydata.org/pandas-docs/stable/user_guide/indexing.html#returning-a-view-versus-a-copy\n",
            "\n",
            "<ipython-input-52-a53133132478>:2: SettingWithCopyWarning:\n",
            "\n",
            "\n",
            "A value is trying to be set on a copy of a slice from a DataFrame\n",
            "\n",
            "See the caveats in the documentation: https://pandas.pydata.org/pandas-docs/stable/user_guide/indexing.html#returning-a-view-versus-a-copy\n",
            "\n",
            "<ipython-input-52-a53133132478>:3: SettingWithCopyWarning:\n",
            "\n",
            "\n",
            "A value is trying to be set on a copy of a slice from a DataFrame\n",
            "\n",
            "See the caveats in the documentation: https://pandas.pydata.org/pandas-docs/stable/user_guide/indexing.html#returning-a-view-versus-a-copy\n",
            "\n",
            "<ipython-input-52-a53133132478>:5: SettingWithCopyWarning:\n",
            "\n",
            "\n",
            "A value is trying to be set on a copy of a slice from a DataFrame\n",
            "\n",
            "See the caveats in the documentation: https://pandas.pydata.org/pandas-docs/stable/user_guide/indexing.html#returning-a-view-versus-a-copy\n",
            "\n",
            "<ipython-input-52-a53133132478>:6: SettingWithCopyWarning:\n",
            "\n",
            "\n",
            "A value is trying to be set on a copy of a slice from a DataFrame\n",
            "\n",
            "See the caveats in the documentation: https://pandas.pydata.org/pandas-docs/stable/user_guide/indexing.html#returning-a-view-versus-a-copy\n",
            "\n",
            "<ipython-input-52-a53133132478>:8: SettingWithCopyWarning:\n",
            "\n",
            "\n",
            "A value is trying to be set on a copy of a slice from a DataFrame\n",
            "\n",
            "See the caveats in the documentation: https://pandas.pydata.org/pandas-docs/stable/user_guide/indexing.html#returning-a-view-versus-a-copy\n",
            "\n",
            "<ipython-input-52-a53133132478>:9: SettingWithCopyWarning:\n",
            "\n",
            "\n",
            "A value is trying to be set on a copy of a slice from a DataFrame\n",
            "\n",
            "See the caveats in the documentation: https://pandas.pydata.org/pandas-docs/stable/user_guide/indexing.html#returning-a-view-versus-a-copy\n",
            "\n",
            "<ipython-input-52-a53133132478>:10: SettingWithCopyWarning:\n",
            "\n",
            "\n",
            "A value is trying to be set on a copy of a slice from a DataFrame\n",
            "\n",
            "See the caveats in the documentation: https://pandas.pydata.org/pandas-docs/stable/user_guide/indexing.html#returning-a-view-versus-a-copy\n",
            "\n",
            "<ipython-input-52-a53133132478>:12: SettingWithCopyWarning:\n",
            "\n",
            "\n",
            "A value is trying to be set on a copy of a slice from a DataFrame\n",
            "\n",
            "See the caveats in the documentation: https://pandas.pydata.org/pandas-docs/stable/user_guide/indexing.html#returning-a-view-versus-a-copy\n",
            "\n",
            "<ipython-input-52-a53133132478>:13: SettingWithCopyWarning:\n",
            "\n",
            "\n",
            "A value is trying to be set on a copy of a slice from a DataFrame\n",
            "\n",
            "See the caveats in the documentation: https://pandas.pydata.org/pandas-docs/stable/user_guide/indexing.html#returning-a-view-versus-a-copy\n",
            "\n",
            "<ipython-input-52-a53133132478>:14: SettingWithCopyWarning:\n",
            "\n",
            "\n",
            "A value is trying to be set on a copy of a slice from a DataFrame\n",
            "\n",
            "See the caveats in the documentation: https://pandas.pydata.org/pandas-docs/stable/user_guide/indexing.html#returning-a-view-versus-a-copy\n",
            "\n",
            "<ipython-input-52-a53133132478>:15: SettingWithCopyWarning:\n",
            "\n",
            "\n",
            "A value is trying to be set on a copy of a slice from a DataFrame\n",
            "\n",
            "See the caveats in the documentation: https://pandas.pydata.org/pandas-docs/stable/user_guide/indexing.html#returning-a-view-versus-a-copy\n",
            "\n",
            "<ipython-input-52-a53133132478>:16: SettingWithCopyWarning:\n",
            "\n",
            "\n",
            "A value is trying to be set on a copy of a slice from a DataFrame\n",
            "\n",
            "See the caveats in the documentation: https://pandas.pydata.org/pandas-docs/stable/user_guide/indexing.html#returning-a-view-versus-a-copy\n",
            "\n",
            "<ipython-input-52-a53133132478>:18: SettingWithCopyWarning:\n",
            "\n",
            "\n",
            "A value is trying to be set on a copy of a slice from a DataFrame\n",
            "\n",
            "See the caveats in the documentation: https://pandas.pydata.org/pandas-docs/stable/user_guide/indexing.html#returning-a-view-versus-a-copy\n",
            "\n",
            "<ipython-input-52-a53133132478>:19: SettingWithCopyWarning:\n",
            "\n",
            "\n",
            "A value is trying to be set on a copy of a slice from a DataFrame\n",
            "\n",
            "See the caveats in the documentation: https://pandas.pydata.org/pandas-docs/stable/user_guide/indexing.html#returning-a-view-versus-a-copy\n",
            "\n",
            "<ipython-input-52-a53133132478>:20: SettingWithCopyWarning:\n",
            "\n",
            "\n",
            "A value is trying to be set on a copy of a slice from a DataFrame\n",
            "\n",
            "See the caveats in the documentation: https://pandas.pydata.org/pandas-docs/stable/user_guide/indexing.html#returning-a-view-versus-a-copy\n",
            "\n",
            "<ipython-input-52-a53133132478>:21: SettingWithCopyWarning:\n",
            "\n",
            "\n",
            "A value is trying to be set on a copy of a slice from a DataFrame\n",
            "\n",
            "See the caveats in the documentation: https://pandas.pydata.org/pandas-docs/stable/user_guide/indexing.html#returning-a-view-versus-a-copy\n",
            "\n",
            "<ipython-input-52-a53133132478>:22: SettingWithCopyWarning:\n",
            "\n",
            "\n",
            "A value is trying to be set on a copy of a slice from a DataFrame\n",
            "\n",
            "See the caveats in the documentation: https://pandas.pydata.org/pandas-docs/stable/user_guide/indexing.html#returning-a-view-versus-a-copy\n",
            "\n",
            "<ipython-input-52-a53133132478>:23: SettingWithCopyWarning:\n",
            "\n",
            "\n",
            "A value is trying to be set on a copy of a slice from a DataFrame\n",
            "\n",
            "See the caveats in the documentation: https://pandas.pydata.org/pandas-docs/stable/user_guide/indexing.html#returning-a-view-versus-a-copy\n",
            "\n",
            "<ipython-input-52-a53133132478>:25: SettingWithCopyWarning:\n",
            "\n",
            "\n",
            "A value is trying to be set on a copy of a slice from a DataFrame\n",
            "\n",
            "See the caveats in the documentation: https://pandas.pydata.org/pandas-docs/stable/user_guide/indexing.html#returning-a-view-versus-a-copy\n",
            "\n",
            "<ipython-input-52-a53133132478>:26: SettingWithCopyWarning:\n",
            "\n",
            "\n",
            "A value is trying to be set on a copy of a slice from a DataFrame\n",
            "\n",
            "See the caveats in the documentation: https://pandas.pydata.org/pandas-docs/stable/user_guide/indexing.html#returning-a-view-versus-a-copy\n",
            "\n",
            "<ipython-input-52-a53133132478>:27: SettingWithCopyWarning:\n",
            "\n",
            "\n",
            "A value is trying to be set on a copy of a slice from a DataFrame\n",
            "\n",
            "See the caveats in the documentation: https://pandas.pydata.org/pandas-docs/stable/user_guide/indexing.html#returning-a-view-versus-a-copy\n",
            "\n",
            "<ipython-input-52-a53133132478>:28: SettingWithCopyWarning:\n",
            "\n",
            "\n",
            "A value is trying to be set on a copy of a slice from a DataFrame\n",
            "\n",
            "See the caveats in the documentation: https://pandas.pydata.org/pandas-docs/stable/user_guide/indexing.html#returning-a-view-versus-a-copy\n",
            "\n",
            "<ipython-input-52-a53133132478>:29: SettingWithCopyWarning:\n",
            "\n",
            "\n",
            "A value is trying to be set on a copy of a slice from a DataFrame\n",
            "\n",
            "See the caveats in the documentation: https://pandas.pydata.org/pandas-docs/stable/user_guide/indexing.html#returning-a-view-versus-a-copy\n",
            "\n",
            "<ipython-input-52-a53133132478>:30: SettingWithCopyWarning:\n",
            "\n",
            "\n",
            "A value is trying to be set on a copy of a slice from a DataFrame\n",
            "\n",
            "See the caveats in the documentation: https://pandas.pydata.org/pandas-docs/stable/user_guide/indexing.html#returning-a-view-versus-a-copy\n",
            "\n",
            "<ipython-input-52-a53133132478>:32: SettingWithCopyWarning:\n",
            "\n",
            "\n",
            "A value is trying to be set on a copy of a slice from a DataFrame\n",
            "\n",
            "See the caveats in the documentation: https://pandas.pydata.org/pandas-docs/stable/user_guide/indexing.html#returning-a-view-versus-a-copy\n",
            "\n"
          ]
        }
      ]
    },
    {
      "cell_type": "code",
      "source": [
        "data_train = sklearn.preprocessing.scale(data_train) #предобработка данных"
      ],
      "metadata": {
        "id": "iy5CjytgBtqF"
      },
      "execution_count": null,
      "outputs": []
    },
    {
      "cell_type": "code",
      "source": [
        "break_gener = sklearn.model_selection.KFold(shuffle=True, n_splits=5, random_state=42) #разбиваем обучающую выборку на 5 частей для кросс-валидации"
      ],
      "metadata": {
        "id": "2GkRMAGoAtV-"
      },
      "execution_count": null,
      "outputs": []
    },
    {
      "cell_type": "code",
      "source": [
        "k = 0 #выясняем на скольких соседях будут показаны лучшие результаты\n",
        "max_res = 0\n",
        "\n",
        "for i in range(1, 51): #рассматриваем варианты от 1 соседа до 50\n",
        "    classif = sklearn.neighbors.KNeighborsClassifier(n_neighbors=i)\n",
        "    res = sklearn.model_selection.cross_val_score(classif, data_train, y=data_target, cv=break_gener, scoring='accuracy').mean()\n",
        "    if res > max_res:\n",
        "      k = i\n",
        "      max_res = res"
      ],
      "metadata": {
        "id": "ANHf4FK8BAIW"
      },
      "execution_count": null,
      "outputs": []
    },
    {
      "cell_type": "code",
      "source": [
        "print(k, max_res) #на 23 соседях модель обучается успешнее всего; самая высокая точность - 85%"
      ],
      "metadata": {
        "colab": {
          "base_uri": "https://localhost:8080/"
        },
        "id": "vl0v0cjGJ696",
        "outputId": "ccd247d6-60c4-41cc-c945-28b42f41a03e"
      },
      "execution_count": null,
      "outputs": [
        {
          "output_type": "stream",
          "name": "stdout",
          "text": [
            "23 0.8499162479061976\n"
          ]
        }
      ]
    },
    {
      "cell_type": "code",
      "source": [
        "classif = sklearn.neighbors.KNeighborsClassifier(n_neighbors=23).fit(data_train, data_target) #классификатор, который можно использовать для предсказания столбца target на новых данных"
      ],
      "metadata": {
        "id": "3_fdb8jvK5MR"
      },
      "execution_count": null,
      "outputs": []
    },
    {
      "cell_type": "markdown",
      "source": [
        "### Вывод\n",
        "1. **Как часто выпускники меняют работу?**\n",
        "- значительная часть рассмотренной группы людей сменила работу около года назад;\n",
        "- предположительно, проанализированные выпускники склонны задерживаться на одном рабочем месте надолго (более 4 лет) или сменять неподходящее место после первого года работы (а не после 2 или 3).\n",
        "2. **Как соотносятся пол и выбор ведущего предмета?**\n",
        "- подавляющее большинство изученных выпускников (больше 80%) выбирают STEM в качестве ведущей дисциплины. Вероятно, представленные данные - это информация о тех, кто учился в университете, подавал в него документы или обучался в школе при университете (поскольку у некоторых уровень образования - средняя школа);\n",
        "- некоторые гендерные различия всё же наблюдаются: женщины выбирают гуманитарные науки чаще (10.2% по сравнению с 3.77% у мужчин);\n",
        "- прочие предметы (бизнес, искусства и др.) не популярны у все полов (меньше 5% выпускников выбирают каждую дисциплину);\n",
        "- на 90.2% датасет состоит из информации о мужчинах, то есть намного большей популярностью описываемый университет пользуется у мужчин.\n",
        "3. **Какие города самые \"образованные\"? Как уровень развития города соотносится с уровнем образования?**\n",
        "- в датасете города представлены в разной мере: города с номерами 16, 21, 103, 260 встречаются в десятки раз чаще других. Поэтому выбирать самые \"образованные\" города невозможно, так как о многих из них мы имеем недостаточно данных;\n",
        "- существует связь между индексом развития города и количеством людей, получивших образование: в городах с индексом выше 0.65 проживает в разы больше образованных людей;\n",
        "- полученные данные однако ничего не говорят о причинно-следственных связях.\n",
        "4. **Насколько профессионально успешны выпускники?**\n",
        "- 72% выпускников имеют релевантный опыт;\n",
        "- более 62% выпускников, занятых в стартапах, работают в финансируемых компаниях.\n",
        "5. **Обучить модель для предсказания целевой переменной (столбец target)**\n",
        "- модель обучена с помощью метода ближайших соседей и с использованием кросс-валидации;\n",
        "- точность предсказаний на тестовой выборке - 85%."
      ],
      "metadata": {
        "id": "S5LXK2aHMaJ6"
      }
    },
    {
      "cell_type": "markdown",
      "metadata": {
        "id": "g5rXGRmaSbX2"
      },
      "source": [
        "### 4. Общий вывод"
      ]
    },
    {
      "cell_type": "markdown",
      "metadata": {
        "id": "gCzi1GZeSbX3"
      },
      "source": [
        "Датасет предоставляет информацию о выпускниках одного университета.\n",
        "\n",
        "По круговым диаграммам мы увидели, что 90.2% поступивших или подавших заявление в университет - мужчины. При этом среди всех выпускников независимо от пола самый популярный ведущий предмет - STEM. Из этого очевидно, что в данном университете особым уважением пользуются технические/естественнонаучные дисциплины, и ради них студенты поступают.\n",
        "\n",
        "Среди выпускников есть люди с разным опытом работы (в том числе больше 20 лет) и сотрудники компаний разных типов и размеров.\n",
        "\n",
        "Судя по распределению выпускников по городам, университет базируется в каком-то месте (предположительно, в городе 103), а не является онлайн-университетом, но привлекает студентов из разных населенных пунктов (всего 123 города с разными индексами развития).\n",
        "\n"
      ]
    },
    {
      "cell_type": "markdown",
      "source": [
        "Также была обучена модель для прогнозирования значений в столбце target (target может означать успешное или неуспешное окончание университета, способность найти работу за определённый срок после выпуска, согласие участвовать в мероприятиях университета после получения диплома - без дополнительного объяснения нельзя точно определить).\n",
        "****\n",
        "**Поведение выпускников на рынке труда:**\n",
        "\n",
        "Выпускники склонны после первого года менять место работы, если оно им не подходит по каким-то причинам, или оставаться более, чем на 4 года. Период, когда \"опасность\" потерять сотрудника выше всего - промежуток между 1 и 2 годом работы.\n",
        "****\n",
        "**Целевая аудитория для рекламы университета:**\n",
        "\n",
        "*Безопасная стратегия:*\n",
        "\n",
        "  1) продвигать университет среди групп, похожих на тех, кто уже выбирал это учреждение, - среди мужчин из городов 16, 21, 103, 160;\n",
        "\n",
        "  2) использовать самое популярное направление как флагманский продукт - STEM.\n",
        "\n",
        "*Рискованная стратегия (если университет хочет расширить аудиторию):*\n",
        "\n",
        "  1) **рекламировать университет среди женщин.** Это оправданный шаг, так как женщины в среднем получают высшее образование даже чаще мужчин (по данным Statista, в 2020 году по всему миру 41% женщин и 36% мужчин имели высшее образование). То есть, среди выпускников мало женщин не потому, что они не заинтересованы в учебе в университете, а по другим причинам (возможно, потому что они реже выбирают STEM как ведущую дисциплину, которая так популярна в рассмотренном университете: согласно исследованию Elsevier только 25% исследований по физике было опубликовано учеными-женщинами, но это число растёт в 9 из 14 изученных стран). Университет мог бы использовать эту глобальную тенденцию и расширить свою аудиторию;\n",
        "\n",
        "  2) **развивать другие направления** (гуманитарные науки, искусства, бизнес). Предыдущее предложение кажется более оправданным и надежным по сравнению с этим. Развитие других направлений потребует ресурсов, которые придётся отнять у уже налаженного STEM. Другие направления, конечно, привлекут новых студентов, но только в случае, если их развитие будет успешным.\n",
        "****\n",
        "  **Данные об успехе выпускников для рекламы:**\n",
        "  \n",
        "  1) среди исследованных выпускников 72% имеют релевантный опыт, а значит, их шансы получить работу после обучения в университете высоки;\n",
        "\n",
        "  2) среди выпускников, занятых в стартапах, более 62% работают в успешных организациях, уже получающих финансирование."
      ],
      "metadata": {
        "id": "gDSb-Ld3Lv85"
      }
    }
  ],
  "metadata": {
    "kernelspec": {
      "display_name": "Python 3",
      "language": "python",
      "name": "python3"
    },
    "language_info": {
      "codemirror_mode": {
        "name": "ipython",
        "version": 3
      },
      "file_extension": ".py",
      "mimetype": "text/x-python",
      "name": "python",
      "nbconvert_exporter": "python",
      "pygments_lexer": "ipython3",
      "version": "3.8.5"
    },
    "toc": {
      "base_numbering": 1,
      "nav_menu": {},
      "number_sections": true,
      "sideBar": true,
      "skip_h1_title": false,
      "title_cell": "Table of Contents",
      "title_sidebar": "Contents",
      "toc_cell": false,
      "toc_position": {},
      "toc_section_display": true,
      "toc_window_display": false
    },
    "colab": {
      "provenance": []
    }
  },
  "nbformat": 4,
  "nbformat_minor": 0
}